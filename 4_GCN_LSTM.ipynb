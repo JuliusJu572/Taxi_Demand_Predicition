{
 "cells": [
  {
   "cell_type": "code",
   "execution_count": 1,
   "id": "d4768b96",
   "metadata": {},
   "outputs": [],
   "source": [
    "# 首先导入包\n",
    "import torch\n",
    "import torch.nn as nn\n",
    "import pandas as pd\n",
    "import numpy as np\n",
    "from torch.utils.data import Dataset, DataLoader, random_split\n",
    "from torchvision import transforms\n",
    "from PIL import Image\n",
    "import os\n",
    "import matplotlib.pyplot as plt\n",
    "import torchvision.models as models\n",
    "# This is for the progress bar.\n",
    "from tqdm import tqdm\n",
    "import seaborn as sns\n",
    "# For plotting learning curve\n",
    "from torch.utils.tensorboard import SummaryWriter\n",
    "import math\n",
    "from torch.nn import functional as F\n",
    "from sklearn.preprocessing import MinMaxScaler\n",
    "from torch_geometric.nn import GCNConv"
   ]
  },
  {
   "cell_type": "code",
   "execution_count": 2,
   "id": "b012d8eb",
   "metadata": {},
   "outputs": [
    {
     "data": {
      "text/html": [
       "<div>\n",
       "<style scoped>\n",
       "    .dataframe tbody tr th:only-of-type {\n",
       "        vertical-align: middle;\n",
       "    }\n",
       "\n",
       "    .dataframe tbody tr th {\n",
       "        vertical-align: top;\n",
       "    }\n",
       "\n",
       "    .dataframe thead th {\n",
       "        text-align: right;\n",
       "    }\n",
       "</style>\n",
       "<table border=\"1\" class=\"dataframe\">\n",
       "  <thead>\n",
       "    <tr style=\"text-align: right;\">\n",
       "      <th></th>\n",
       "      <th>lpep_pickup_datetime</th>\n",
       "      <th>Lpep_dropoff_datetime</th>\n",
       "      <th>Passenger_count</th>\n",
       "      <th>Trip_distance</th>\n",
       "      <th>Pickup_longitude</th>\n",
       "      <th>Pickup_latitude</th>\n",
       "      <th>Dropoff_longitude</th>\n",
       "      <th>Dropoff_latitude</th>\n",
       "      <th>Total_amount</th>\n",
       "      <th>Trip_duration</th>\n",
       "      <th>Pickup_time</th>\n",
       "      <th>Speed</th>\n",
       "      <th>Pickup_cluster</th>\n",
       "      <th>Dropoff_cluster</th>\n",
       "      <th>year</th>\n",
       "      <th>month</th>\n",
       "      <th>day</th>\n",
       "      <th>time_span</th>\n",
       "    </tr>\n",
       "  </thead>\n",
       "  <tbody>\n",
       "    <tr>\n",
       "      <th>0</th>\n",
       "      <td>2015-04-01 00:00:00</td>\n",
       "      <td>2015/4/1 0:08</td>\n",
       "      <td>1</td>\n",
       "      <td>3.08</td>\n",
       "      <td>-73.958817</td>\n",
       "      <td>40.716824</td>\n",
       "      <td>-73.982971</td>\n",
       "      <td>40.696007</td>\n",
       "      <td>14.76</td>\n",
       "      <td>8.0</td>\n",
       "      <td>1.427818e+09</td>\n",
       "      <td>23.100000</td>\n",
       "      <td>7</td>\n",
       "      <td>25</td>\n",
       "      <td>2015</td>\n",
       "      <td>4</td>\n",
       "      <td>1</td>\n",
       "      <td>0</td>\n",
       "    </tr>\n",
       "    <tr>\n",
       "      <th>1</th>\n",
       "      <td>2015-04-01 00:00:00</td>\n",
       "      <td>2015/4/1 0:07</td>\n",
       "      <td>1</td>\n",
       "      <td>1.21</td>\n",
       "      <td>-73.937531</td>\n",
       "      <td>40.804501</td>\n",
       "      <td>-73.946800</td>\n",
       "      <td>40.815998</td>\n",
       "      <td>8.30</td>\n",
       "      <td>7.0</td>\n",
       "      <td>1.427818e+09</td>\n",
       "      <td>10.371429</td>\n",
       "      <td>11</td>\n",
       "      <td>11</td>\n",
       "      <td>2015</td>\n",
       "      <td>4</td>\n",
       "      <td>1</td>\n",
       "      <td>0</td>\n",
       "    </tr>\n",
       "    <tr>\n",
       "      <th>2</th>\n",
       "      <td>2015-04-01 00:00:00</td>\n",
       "      <td>2015/4/1 0:02</td>\n",
       "      <td>1</td>\n",
       "      <td>0.64</td>\n",
       "      <td>-73.955818</td>\n",
       "      <td>40.681152</td>\n",
       "      <td>-73.955406</td>\n",
       "      <td>40.687145</td>\n",
       "      <td>6.00</td>\n",
       "      <td>2.0</td>\n",
       "      <td>1.427818e+09</td>\n",
       "      <td>19.200000</td>\n",
       "      <td>0</td>\n",
       "      <td>18</td>\n",
       "      <td>2015</td>\n",
       "      <td>4</td>\n",
       "      <td>1</td>\n",
       "      <td>0</td>\n",
       "    </tr>\n",
       "    <tr>\n",
       "      <th>3</th>\n",
       "      <td>2015-04-01 00:00:00</td>\n",
       "      <td>2015/4/1 0:05</td>\n",
       "      <td>1</td>\n",
       "      <td>1.34</td>\n",
       "      <td>-73.830551</td>\n",
       "      <td>40.759460</td>\n",
       "      <td>-73.825363</td>\n",
       "      <td>40.741589</td>\n",
       "      <td>7.80</td>\n",
       "      <td>5.0</td>\n",
       "      <td>1.427818e+09</td>\n",
       "      <td>16.080000</td>\n",
       "      <td>20</td>\n",
       "      <td>20</td>\n",
       "      <td>2015</td>\n",
       "      <td>4</td>\n",
       "      <td>1</td>\n",
       "      <td>0</td>\n",
       "    </tr>\n",
       "    <tr>\n",
       "      <th>4</th>\n",
       "      <td>2015-04-01 00:00:00</td>\n",
       "      <td>2015/4/1 0:05</td>\n",
       "      <td>1</td>\n",
       "      <td>0.98</td>\n",
       "      <td>-73.912086</td>\n",
       "      <td>40.775356</td>\n",
       "      <td>-73.915474</td>\n",
       "      <td>40.764091</td>\n",
       "      <td>7.30</td>\n",
       "      <td>5.0</td>\n",
       "      <td>1.427818e+09</td>\n",
       "      <td>11.760000</td>\n",
       "      <td>17</td>\n",
       "      <td>19</td>\n",
       "      <td>2015</td>\n",
       "      <td>4</td>\n",
       "      <td>1</td>\n",
       "      <td>0</td>\n",
       "    </tr>\n",
       "  </tbody>\n",
       "</table>\n",
       "</div>"
      ],
      "text/plain": [
       "  lpep_pickup_datetime Lpep_dropoff_datetime  Passenger_count  Trip_distance  \\\n",
       "0  2015-04-01 00:00:00         2015/4/1 0:08                1           3.08   \n",
       "1  2015-04-01 00:00:00         2015/4/1 0:07                1           1.21   \n",
       "2  2015-04-01 00:00:00         2015/4/1 0:02                1           0.64   \n",
       "3  2015-04-01 00:00:00         2015/4/1 0:05                1           1.34   \n",
       "4  2015-04-01 00:00:00         2015/4/1 0:05                1           0.98   \n",
       "\n",
       "   Pickup_longitude  Pickup_latitude  Dropoff_longitude  Dropoff_latitude  \\\n",
       "0        -73.958817        40.716824         -73.982971         40.696007   \n",
       "1        -73.937531        40.804501         -73.946800         40.815998   \n",
       "2        -73.955818        40.681152         -73.955406         40.687145   \n",
       "3        -73.830551        40.759460         -73.825363         40.741589   \n",
       "4        -73.912086        40.775356         -73.915474         40.764091   \n",
       "\n",
       "   Total_amount  Trip_duration   Pickup_time      Speed  Pickup_cluster  \\\n",
       "0         14.76            8.0  1.427818e+09  23.100000               7   \n",
       "1          8.30            7.0  1.427818e+09  10.371429              11   \n",
       "2          6.00            2.0  1.427818e+09  19.200000               0   \n",
       "3          7.80            5.0  1.427818e+09  16.080000              20   \n",
       "4          7.30            5.0  1.427818e+09  11.760000              17   \n",
       "\n",
       "   Dropoff_cluster  year  month  day  time_span  \n",
       "0               25  2015      4    1          0  \n",
       "1               11  2015      4    1          0  \n",
       "2               18  2015      4    1          0  \n",
       "3               20  2015      4    1          0  \n",
       "4               19  2015      4    1          0  "
      ]
     },
     "execution_count": 2,
     "metadata": {},
     "output_type": "execute_result"
    }
   ],
   "source": [
    "data = pd.read_csv(\"TripData_cleaned.csv\")\n",
    "data = data.drop('Unnamed: 0', axis=1)\n",
    "\n",
    "data.head()"
   ]
  },
  {
   "cell_type": "code",
   "execution_count": 3,
   "id": "609858d3",
   "metadata": {},
   "outputs": [
    {
     "data": {
      "text/html": [
       "<div>\n",
       "<style scoped>\n",
       "    .dataframe tbody tr th:only-of-type {\n",
       "        vertical-align: middle;\n",
       "    }\n",
       "\n",
       "    .dataframe tbody tr th {\n",
       "        vertical-align: top;\n",
       "    }\n",
       "\n",
       "    .dataframe thead th {\n",
       "        text-align: right;\n",
       "    }\n",
       "</style>\n",
       "<table border=\"1\" class=\"dataframe\">\n",
       "  <thead>\n",
       "    <tr style=\"text-align: right;\">\n",
       "      <th></th>\n",
       "      <th>year</th>\n",
       "      <th>month</th>\n",
       "      <th>day</th>\n",
       "      <th>hour</th>\n",
       "      <th>Pickup_cluster</th>\n",
       "      <th>Dropoff_cluster</th>\n",
       "      <th>Passenger_count</th>\n",
       "    </tr>\n",
       "  </thead>\n",
       "  <tbody>\n",
       "    <tr>\n",
       "      <th>0</th>\n",
       "      <td>2015</td>\n",
       "      <td>4</td>\n",
       "      <td>1</td>\n",
       "      <td>0</td>\n",
       "      <td>0</td>\n",
       "      <td>0</td>\n",
       "      <td>0.028261</td>\n",
       "    </tr>\n",
       "    <tr>\n",
       "      <th>1</th>\n",
       "      <td>2015</td>\n",
       "      <td>4</td>\n",
       "      <td>1</td>\n",
       "      <td>0</td>\n",
       "      <td>0</td>\n",
       "      <td>7</td>\n",
       "      <td>0.010870</td>\n",
       "    </tr>\n",
       "    <tr>\n",
       "      <th>2</th>\n",
       "      <td>2015</td>\n",
       "      <td>4</td>\n",
       "      <td>1</td>\n",
       "      <td>0</td>\n",
       "      <td>0</td>\n",
       "      <td>10</td>\n",
       "      <td>0.015217</td>\n",
       "    </tr>\n",
       "    <tr>\n",
       "      <th>3</th>\n",
       "      <td>2015</td>\n",
       "      <td>4</td>\n",
       "      <td>1</td>\n",
       "      <td>0</td>\n",
       "      <td>0</td>\n",
       "      <td>11</td>\n",
       "      <td>0.002174</td>\n",
       "    </tr>\n",
       "    <tr>\n",
       "      <th>4</th>\n",
       "      <td>2015</td>\n",
       "      <td>4</td>\n",
       "      <td>1</td>\n",
       "      <td>0</td>\n",
       "      <td>0</td>\n",
       "      <td>12</td>\n",
       "      <td>0.019565</td>\n",
       "    </tr>\n",
       "  </tbody>\n",
       "</table>\n",
       "</div>"
      ],
      "text/plain": [
       "   year  month  day  hour  Pickup_cluster  Dropoff_cluster  Passenger_count\n",
       "0  2015      4    1     0               0                0         0.028261\n",
       "1  2015      4    1     0               0                7         0.010870\n",
       "2  2015      4    1     0               0               10         0.015217\n",
       "3  2015      4    1     0               0               11         0.002174\n",
       "4  2015      4    1     0               0               12         0.019565"
      ]
     },
     "execution_count": 3,
     "metadata": {},
     "output_type": "execute_result"
    }
   ],
   "source": [
    "# 根据指定的列进行分组，并对Passenger_count进行求和\n",
    "grouped_data = data.groupby(['year', 'month', 'day', 'time_span', 'Pickup_cluster','Dropoff_cluster']).agg(\n",
    "    {'Passenger_count': 'sum'}).reset_index()\n",
    "# 将列名 'time_span' 修改为 'hour'\n",
    "grouped_data = grouped_data.rename(columns={'time_span': 'hour'})\n",
    "\n",
    "# 初始化 MinMaxScaler\n",
    "scaler = MinMaxScaler()\n",
    "\n",
    "# 因此我们使用 .values.reshape(-1, 1) 转换 Pickup_cluster 列\n",
    "grouped_data['Passenger_count'] = scaler.fit_transform(grouped_data[['Passenger_count']])\n",
    "\n",
    "grouped_data.head()"
   ]
  },
  {
   "cell_type": "code",
   "execution_count": 4,
   "id": "6ef783b7",
   "metadata": {},
   "outputs": [],
   "source": [
    "# 获取所有独特的cluster\n",
    "all_clusters = np.union1d(grouped_data['Pickup_cluster'].unique(), grouped_data['Dropoff_cluster'].unique())\n",
    "\n",
    "# 初始化存储所有图的字典\n",
    "graphs = []\n",
    "features = []\n",
    "\n",
    "# 遍历每个独特的年月日小时组合\n",
    "for (year, month, day, hour), group in grouped_data.groupby(['year', 'month', 'day', 'hour']):\n",
    "    # 初始化图矩阵\n",
    "    graph_matrix = np.zeros((len(all_clusters), len(all_clusters)))\n",
    "\n",
    "    # 填充图矩阵\n",
    "    for _, row in group.iterrows():\n",
    "        pickup_idx = np.where(all_clusters == row['Pickup_cluster'])[0][0]\n",
    "        dropoff_idx = np.where(all_clusters == row['Dropoff_cluster'])[0][0]\n",
    "        graph_matrix[pickup_idx, dropoff_idx] = row['Passenger_count']\n",
    "\n",
    "    features_list = []\n",
    "    for i in range(len(graph_matrix)):\n",
    "        temp_features = []\n",
    "        temp_features.append(year)\n",
    "        temp_features.append(month)\n",
    "        temp_features.append(day)\n",
    "        temp_features.append(hour)\n",
    "        temp_features.append(graph_matrix[i].sum())\n",
    "        features_list.append(temp_features)\n",
    "    features.append(features_list)\n",
    "    # 将图矩阵添加到字典\n",
    "    graphs.append(graph_matrix)"
   ]
  },
  {
   "cell_type": "code",
   "execution_count": 5,
   "id": "dda332b0",
   "metadata": {},
   "outputs": [],
   "source": [
    "graphs = np.array(graphs)\n",
    "features = np.array(features)"
   ]
  },
  {
   "cell_type": "code",
   "execution_count": 6,
   "id": "6912a199",
   "metadata": {},
   "outputs": [
    {
     "data": {
      "text/plain": [
       "(449, 30, 30)"
      ]
     },
     "execution_count": 6,
     "metadata": {},
     "output_type": "execute_result"
    }
   ],
   "source": [
    "graphs.shape"
   ]
  },
  {
   "cell_type": "code",
   "execution_count": 7,
   "id": "f1bb7bda",
   "metadata": {},
   "outputs": [
    {
     "data": {
      "text/plain": [
       "array([[[0.02826087, 0.        , 0.        , ..., 0.        ,\n",
       "         0.        , 0.00217391],\n",
       "        [0.        , 0.05434783, 0.00217391, ..., 0.        ,\n",
       "         0.        , 0.        ],\n",
       "        [0.        , 0.        , 0.17826087, ..., 0.        ,\n",
       "         0.        , 0.        ],\n",
       "        ...,\n",
       "        [0.        , 0.        , 0.        , ..., 0.01304348,\n",
       "         0.        , 0.        ],\n",
       "        [0.        , 0.00217391, 0.        , ..., 0.        ,\n",
       "         0.        , 0.        ],\n",
       "        [0.00217391, 0.        , 0.        , ..., 0.00217391,\n",
       "         0.        , 0.00434783]],\n",
       "\n",
       "       [[0.02608696, 0.        , 0.        , ..., 0.00652174,\n",
       "         0.        , 0.00217391],\n",
       "        [0.        , 0.02608696, 0.        , ..., 0.        ,\n",
       "         0.        , 0.        ],\n",
       "        [0.        , 0.00217391, 0.12826087, ..., 0.        ,\n",
       "         0.        , 0.        ],\n",
       "        ...,\n",
       "        [0.        , 0.        , 0.        , ..., 0.00434783,\n",
       "         0.        , 0.        ],\n",
       "        [0.        , 0.        , 0.        , ..., 0.        ,\n",
       "         0.00434783, 0.        ],\n",
       "        [0.        , 0.        , 0.        , ..., 0.        ,\n",
       "         0.        , 0.00434783]],\n",
       "\n",
       "       [[0.0173913 , 0.        , 0.        , ..., 0.        ,\n",
       "         0.        , 0.        ],\n",
       "        [0.        , 0.01521739, 0.        , ..., 0.        ,\n",
       "         0.        , 0.        ],\n",
       "        [0.        , 0.00217391, 0.07608696, ..., 0.        ,\n",
       "         0.        , 0.        ],\n",
       "        ...,\n",
       "        [0.        , 0.        , 0.        , ..., 0.00434783,\n",
       "         0.        , 0.        ],\n",
       "        [0.        , 0.        , 0.        , ..., 0.        ,\n",
       "         0.        , 0.        ],\n",
       "        [0.        , 0.        , 0.        , ..., 0.        ,\n",
       "         0.        , 0.00434783]],\n",
       "\n",
       "       ...,\n",
       "\n",
       "       [[0.03478261, 0.        , 0.00434783, ..., 0.        ,\n",
       "         0.        , 0.        ],\n",
       "        [0.        , 0.19130435, 0.00652174, ..., 0.        ,\n",
       "         0.00217391, 0.00434783],\n",
       "        [0.        , 0.        , 0.12608696, ..., 0.        ,\n",
       "         0.        , 0.        ],\n",
       "        ...,\n",
       "        [0.        , 0.        , 0.        , ..., 0.01521739,\n",
       "         0.        , 0.00434783],\n",
       "        [0.        , 0.        , 0.        , ..., 0.        ,\n",
       "         0.02173913, 0.        ],\n",
       "        [0.00434783, 0.        , 0.        , ..., 0.        ,\n",
       "         0.        , 0.01086957]],\n",
       "\n",
       "       [[0.0673913 , 0.00217391, 0.00652174, ..., 0.        ,\n",
       "         0.        , 0.00434783],\n",
       "        [0.        , 0.18043478, 0.00434783, ..., 0.        ,\n",
       "         0.00434783, 0.        ],\n",
       "        [0.        , 0.        , 0.07608696, ..., 0.        ,\n",
       "         0.        , 0.        ],\n",
       "        ...,\n",
       "        [0.        , 0.        , 0.        , ..., 0.0173913 ,\n",
       "         0.        , 0.        ],\n",
       "        [0.        , 0.        , 0.        , ..., 0.        ,\n",
       "         0.00869565, 0.        ],\n",
       "        [0.00217391, 0.        , 0.        , ..., 0.00434783,\n",
       "         0.        , 0.00434783]],\n",
       "\n",
       "       [[0.03478261, 0.        , 0.        , ..., 0.        ,\n",
       "         0.        , 0.        ],\n",
       "        [0.        , 0.12391304, 0.00217391, ..., 0.        ,\n",
       "         0.00217391, 0.        ],\n",
       "        [0.        , 0.        , 0.07826087, ..., 0.        ,\n",
       "         0.        , 0.        ],\n",
       "        ...,\n",
       "        [0.        , 0.        , 0.        , ..., 0.01086957,\n",
       "         0.        , 0.00217391],\n",
       "        [0.        , 0.        , 0.        , ..., 0.        ,\n",
       "         0.00869565, 0.        ],\n",
       "        [0.        , 0.        , 0.        , ..., 0.        ,\n",
       "         0.        , 0.00434783]]])"
      ]
     },
     "execution_count": 7,
     "metadata": {},
     "output_type": "execute_result"
    }
   ],
   "source": [
    "graphs"
   ]
  },
  {
   "cell_type": "code",
   "execution_count": 8,
   "id": "9598a37f",
   "metadata": {},
   "outputs": [],
   "source": [
    "class TripData(Dataset):\n",
    "    def __init__(self, x, y=None):\n",
    "        if y is None:\n",
    "            self.y = y\n",
    "        else:\n",
    "            self.y = torch.FloatTensor(y)\n",
    "        self.x = torch.FloatTensor(x)\n",
    "\n",
    "    def __getitem__(self, idx):\n",
    "        if self.y is None:\n",
    "            return self.x[idx]\n",
    "        else:\n",
    "            return self.x[idx], self.y[idx]\n",
    "\n",
    "    def __len__(self):\n",
    "        return len(self.x)"
   ]
  },
  {
   "cell_type": "code",
   "execution_count": 9,
   "id": "a09f7654",
   "metadata": {},
   "outputs": [],
   "source": [
    "def select_feat(train_data, valid_data, test_data, select_all=True):\n",
    "    '''Selects useful features to perform regression'''\n",
    "    y_train, y_valid = train_data[:,-1], valid_data[:,-1]\n",
    "    raw_x_train, raw_x_valid, raw_x_test = train_data[:,:-1], valid_data[:,:-1], test_data\n",
    "\n",
    "    if select_all:\n",
    "        feat_idx = list(range(raw_x_train.shape[1]))\n",
    "    else:\n",
    "        feat_idx = [0,1,2,3,4] # TODO: Select suitable feature columns.\n",
    "        \n",
    "    return raw_x_train[:,feat_idx], raw_x_valid[:,feat_idx], raw_x_test[:,feat_idx], y_train, y_valid"
   ]
  },
  {
   "cell_type": "code",
   "execution_count": 10,
   "id": "82aab3f5",
   "metadata": {},
   "outputs": [],
   "source": [
    "def trainer(train_loader, valid_loader, model, config, device):\n",
    "\n",
    "    criterion = nn.MSELoss() # Define your loss function, do not modify this.\n",
    "\n",
    "    # Define your optimization algorithm. \n",
    "    optimizer=torch.optim.Adam(model.parameters(),lr=config['learning_rate'],betas=(0.5,0.999))\n",
    "\n",
    "    writer = SummaryWriter() # Writer of tensoboard.\n",
    "\n",
    "    if not os.path.isdir('./models'):\n",
    "        os.mkdir('./models') # Create directory of saving models.\n",
    "\n",
    "    n_epochs, best_loss, step, early_stop_count = config['n_epochs'], math.inf, 0, 0\n",
    "\n",
    "    for epoch in range(n_epochs):\n",
    "        model.train() # Set your model to train mode.\n",
    "        loss_record = []\n",
    "\n",
    "        # tqdm is a package to visualize your training progress.\n",
    "        train_pbar = tqdm(train_loader, position=0, leave=True)\n",
    "\n",
    "        for x, y in train_pbar:\n",
    "            optimizer.zero_grad()               # Set gradient to zero.\n",
    "            x, y = x.to(device), y.to(device)   # Move your data to device. \n",
    "            pred = model(x)           \n",
    "            loss = criterion(pred, y)\n",
    "            loss.backward()                     # Compute gradient(backpropagation).\n",
    "            optimizer.step()                    # Update parameters.\n",
    "            step += 1\n",
    "            loss_record.append(loss.detach().item())\n",
    "            \n",
    "            # Display current epoch number and loss on tqdm progress bar.\n",
    "            train_pbar.set_description(f'Epoch [{epoch+1}/{n_epochs}]')\n",
    "            train_pbar.set_postfix({'loss': loss.detach().item()})\n",
    "\n",
    "        mean_train_loss = sum(loss_record)/len(loss_record)\n",
    "        writer.add_scalar('Loss/train', mean_train_loss, step)\n",
    "\n",
    "        model.eval() # Set your model to evaluation mode.\n",
    "        loss_record = []\n",
    "        for x, y in valid_loader:\n",
    "            x, y = x.to(device), y.to(device)\n",
    "            with torch.no_grad():\n",
    "                pred = model(x)\n",
    "                loss = criterion(pred, y)\n",
    "\n",
    "            loss_record.append(loss.item())\n",
    "            \n",
    "        mean_valid_loss = sum(loss_record)/len(loss_record)\n",
    "        print(f'Epoch [{epoch+1}/{n_epochs}]: Train loss: {mean_train_loss:.4f}, Test loss: {mean_valid_loss:.4f}')\n",
    "        writer.add_scalar('Loss/Test', mean_valid_loss, step)\n",
    "\n",
    "        if mean_valid_loss < best_loss:\n",
    "            best_loss = mean_valid_loss\n",
    "            torch.save(model.state_dict(), config['save_path']) # Save your best model\n",
    "            print('Saving model with loss {:.3f}...'.format(best_loss))\n",
    "            early_stop_count = 0\n",
    "        else: \n",
    "            early_stop_count += 1\n",
    "\n",
    "        if early_stop_count >= config['early_stop']:\n",
    "            print('\\nModel is not improving, so we halt the training session.')\n",
    "            return"
   ]
  },
  {
   "cell_type": "code",
   "execution_count": 11,
   "id": "3f3e362b",
   "metadata": {},
   "outputs": [],
   "source": [
    "device = 'cuda' if torch.cuda.is_available() else 'cpu'\n",
    "config = {\n",
    "    'seed': 20010106,      # Your seed number, you can pick your lucky number. :)\n",
    "    'select_all': True,   # Whether to use all features.\n",
    "    'test_ratio': 0.2,   # validation_size = train_size * valid_ratio\n",
    "    'n_epochs': 500,     # Number of epochs.            \n",
    "    'batch_size': 16, \n",
    "    'learning_rate': 5e-5,              \n",
    "    'early_stop': 50,    # If model has not improved for this many consecutive epochs, stop training.     \n",
    "    'save_path': './models/GCNLSTM.ckpt'  # Your model will be saved here.\n",
    "}"
   ]
  },
  {
   "cell_type": "code",
   "execution_count": 12,
   "id": "065b21dc",
   "metadata": {},
   "outputs": [
    {
     "name": "stdout",
     "output_type": "stream",
     "text": [
      "len(graphs):449\n"
     ]
    }
   ],
   "source": [
    "print(f\"len(graphs):{len(graphs)}\")"
   ]
  },
  {
   "cell_type": "code",
   "execution_count": 13,
   "id": "7ab881bf",
   "metadata": {},
   "outputs": [],
   "source": [
    "def split_data(data,time_step=24):\n",
    "    dataX=[]\n",
    "    datay=[]\n",
    "    dataNew = []\n",
    "    for i in range(len(data)-time_step):\n",
    "        dataX.append(data[i:i+time_step])\n",
    "        datay.append(data[i+time_step])\n",
    "        dataNew.append(data[i:i+time_step+1])\n",
    "    dataX=np.array(dataX).reshape(len(dataX),time_step,-1)\n",
    "    datay=np.array(datay)\n",
    "    dataNew=np.array(dataNew).reshape(len(dataNew),time_step+1,-1)\n",
    "    return dataX,datay,dataNew"
   ]
  },
  {
   "cell_type": "code",
   "execution_count": 14,
   "id": "eabc50e1",
   "metadata": {},
   "outputs": [
    {
     "name": "stdout",
     "output_type": "stream",
     "text": [
      "dataX.shape:(425, 24, 900),datay.shape:(425, 30, 30),dataNew.shape:(425, 25, 900)\n"
     ]
    }
   ],
   "source": [
    "dataX,datay, dataNew=split_data(graphs)\n",
    "print(f\"dataX.shape:{dataX.shape},datay.shape:{datay.shape},dataNew.shape:{dataNew.shape}\")"
   ]
  },
  {
   "cell_type": "code",
   "execution_count": 15,
   "id": "4ab7ea7f",
   "metadata": {},
   "outputs": [],
   "source": [
    "# 计算验证集的大小（后10%的数据）\n",
    "valid_size = int(len(dataNew) * 0.1)\n",
    "\n",
    "# 从数据集的末尾取后10%作为验证集\n",
    "valid_data = dataNew[-valid_size:]"
   ]
  },
  {
   "cell_type": "code",
   "execution_count": 16,
   "id": "66bd888a",
   "metadata": {},
   "outputs": [],
   "source": [
    "def same_seed(seed): \n",
    "    '''Fixes random number generator seeds for reproducibility.'''\n",
    "    torch.backends.cudnn.deterministic = True\n",
    "    torch.backends.cudnn.benchmark = False\n",
    "    np.random.seed(seed)\n",
    "    torch.manual_seed(seed)\n",
    "    if torch.cuda.is_available():\n",
    "        torch.cuda.manual_seed_all(seed)\n",
    "\n",
    "def train_test_split(data_set, test_ratio, seed):\n",
    "    '''Split provided training data into training set and validation set'''\n",
    "    valid_set_size = int(test_ratio * len(data_set)) \n",
    "    train_set_size = len(data_set) - valid_set_size\n",
    "    train_set, valid_set = random_split(data_set, [train_set_size, valid_set_size], generator=torch.Generator().manual_seed(seed))\n",
    "    return np.array(train_set), np.array(valid_set)\n",
    "\n",
    "def predict(test_loader, model, device):\n",
    "    model.eval() # Set your model to evaluation mode.\n",
    "    preds = []\n",
    "    for x in tqdm(test_loader):\n",
    "        x = x.to(device)                        \n",
    "        with torch.no_grad():                   \n",
    "            pred = model(x)                     \n",
    "            preds.append(pred.detach().cpu())   \n",
    "    preds = torch.cat(preds, dim=0).numpy()  \n",
    "    return preds"
   ]
  },
  {
   "cell_type": "code",
   "execution_count": 17,
   "id": "10bcc9fa",
   "metadata": {},
   "outputs": [
    {
     "name": "stdout",
     "output_type": "stream",
     "text": [
      "number of features: 24\n"
     ]
    },
    {
     "data": {
      "text/plain": [
       "340"
      ]
     },
     "execution_count": 17,
     "metadata": {},
     "output_type": "execute_result"
    }
   ],
   "source": [
    "train_data, test_data = train_test_split(dataNew, config['test_ratio'], config['seed'])\n",
    "\n",
    "# Select features\n",
    "x_train, x_test, y_train, y_test = train_data[:,:-1], test_data[:,:-1], train_data[:,-1], test_data[:,-1],\n",
    "\n",
    "# Print out the number of features.\n",
    "print(f'number of features: {x_train.shape[1]}')\n",
    "\n",
    "len(train_data)"
   ]
  },
  {
   "cell_type": "code",
   "execution_count": 18,
   "id": "615445af",
   "metadata": {},
   "outputs": [],
   "source": [
    "train_dataset, valid_dataset = TripData(x_train, y=y_train), TripData(x_test, y=y_test),\n",
    "\n",
    "# Pytorch data loader loads pytorch dataset into batches.\n",
    "train_loader = DataLoader(train_dataset, batch_size=config['batch_size'], shuffle=True, pin_memory=True)\n",
    "valid_loader = DataLoader(valid_dataset, batch_size=config['batch_size'], shuffle=True, pin_memory=True)"
   ]
  },
  {
   "cell_type": "code",
   "execution_count": 19,
   "id": "4848305b",
   "metadata": {},
   "outputs": [],
   "source": [
    "# 定义输入、隐藏状态和输出维度\n",
    "input_size = dataNew.shape[2]  # 输入特征维度\n",
    "hidden_size = 256  # LSTM隐藏状态维度\n",
    "num_layers = 8  # LSTM层数\n",
    "output_size = dataNew.shape[2]  # 输出维度（预测目标维度）"
   ]
  },
  {
   "cell_type": "code",
   "execution_count": 20,
   "id": "1401f5c9",
   "metadata": {},
   "outputs": [],
   "source": [
    "def compute_laplacian_and_add(A):\n",
    "    # 计算邻接矩阵\n",
    "    adjacency_matrix = (A > 0).float()\n",
    "\n",
    "    # 计算度矩阵\n",
    "    degree = torch.sum(adjacency_matrix, dim=1)\n",
    "    D = torch.diag(degree)\n",
    "\n",
    "    # 计算拉普拉斯矩阵\n",
    "    L = D - adjacency_matrix\n",
    "\n",
    "    # 计算标准化对称拉普拉斯矩阵\n",
    "    D_inv_sqrt = torch.pow(D, -0.5)\n",
    "    D_inv_sqrt[D_inv_sqrt == float('inf')] = 0\n",
    "    L_sym = torch.matmul(D_inv_sqrt, torch.matmul(L, D_inv_sqrt))\n",
    "\n",
    "    # 将 L_sym 与 A 相加\n",
    "    result = L_sym + A\n",
    "    \n",
    "    return result"
   ]
  },
  {
   "cell_type": "code",
   "execution_count": 21,
   "id": "f7fe6b0e",
   "metadata": {},
   "outputs": [],
   "source": [
    "class GCN_LSTM_model(nn.Module):\n",
    "    def __init__(self, input_size, hidden_size, num_layers, output_size):\n",
    "        super(GCN_LSTM_model, self).__init__()\n",
    "        self.hidden_size = hidden_size\n",
    "        self.num_layers = num_layers\n",
    "        self.lstm = nn.LSTM(input_size, hidden_size, num_layers, batch_first=True)\n",
    "        self.fc = nn.Linear(hidden_size, output_size)\n",
    "        \n",
    "    def forward(self, x):\n",
    "        x = x.to(device)\n",
    "        M, N, _ = x.size()\n",
    "        x = x.reshape(M, N, 30, 30)\n",
    "        x_sym = torch.zeros_like(x).to(x.device)\n",
    "\n",
    "        for j in range(M):\n",
    "            for i in range(N):\n",
    "                A = x[j][i]\n",
    "                x_sym[j][i] = compute_laplacian_and_add(A)\n",
    "        \n",
    "        x = x_sym.reshape(M, N, 900)\n",
    "        \n",
    "        h0 = torch.zeros(self.num_layers, x.size(0), self.hidden_size).to(device)\n",
    "        c0 = torch.zeros(self.num_layers, x.size(0), self.hidden_size).to(device)\n",
    "        out, _ = self.lstm(x, (h0, c0))\n",
    "        out = self.fc(out[:, -1, :])\n",
    "        return out"
   ]
  },
  {
   "cell_type": "code",
   "execution_count": 22,
   "id": "af7f7473",
   "metadata": {},
   "outputs": [
    {
     "name": "stderr",
     "output_type": "stream",
     "text": [
      "Epoch [1/500]: 100%|██████████████████████████████████████████████████████| 22/22 [00:03<00:00,  5.87it/s, loss=0.0016]\n"
     ]
    },
    {
     "name": "stdout",
     "output_type": "stream",
     "text": [
      "Epoch [1/500]: Train loss: 0.0019, Test loss: 0.0016\n",
      "Saving model with loss 0.002...\n"
     ]
    },
    {
     "name": "stderr",
     "output_type": "stream",
     "text": [
      "Epoch [2/500]: 100%|████████████████████████████████████████████████████| 22/22 [00:03<00:00,  6.38it/s, loss=0.000884]\n"
     ]
    },
    {
     "name": "stdout",
     "output_type": "stream",
     "text": [
      "Epoch [2/500]: Train loss: 0.0012, Test loss: 0.0007\n",
      "Saving model with loss 0.001...\n"
     ]
    },
    {
     "name": "stderr",
     "output_type": "stream",
     "text": [
      "Epoch [3/500]: 100%|████████████████████████████████████████████████████| 22/22 [00:03<00:00,  6.17it/s, loss=0.000267]\n"
     ]
    },
    {
     "name": "stdout",
     "output_type": "stream",
     "text": [
      "Epoch [3/500]: Train loss: 0.0005, Test loss: 0.0003\n",
      "Saving model with loss 0.000...\n"
     ]
    },
    {
     "name": "stderr",
     "output_type": "stream",
     "text": [
      "Epoch [4/500]: 100%|████████████████████████████████████████████████████| 22/22 [00:03<00:00,  6.69it/s, loss=0.000437]\n"
     ]
    },
    {
     "name": "stdout",
     "output_type": "stream",
     "text": [
      "Epoch [4/500]: Train loss: 0.0003, Test loss: 0.0003\n",
      "Saving model with loss 0.000...\n"
     ]
    },
    {
     "name": "stderr",
     "output_type": "stream",
     "text": [
      "Epoch [5/500]: 100%|█████████████████████████████████████████████████████| 22/22 [00:03<00:00,  5.67it/s, loss=0.00019]\n"
     ]
    },
    {
     "name": "stdout",
     "output_type": "stream",
     "text": [
      "Epoch [5/500]: Train loss: 0.0003, Test loss: 0.0003\n",
      "Saving model with loss 0.000...\n"
     ]
    },
    {
     "name": "stderr",
     "output_type": "stream",
     "text": [
      "Epoch [6/500]: 100%|████████████████████████████████████████████████████| 22/22 [00:03<00:00,  6.03it/s, loss=0.000213]\n"
     ]
    },
    {
     "name": "stdout",
     "output_type": "stream",
     "text": [
      "Epoch [6/500]: Train loss: 0.0003, Test loss: 0.0003\n"
     ]
    },
    {
     "name": "stderr",
     "output_type": "stream",
     "text": [
      "Epoch [7/500]: 100%|████████████████████████████████████████████████████| 22/22 [00:03<00:00,  6.05it/s, loss=0.000233]\n"
     ]
    },
    {
     "name": "stdout",
     "output_type": "stream",
     "text": [
      "Epoch [7/500]: Train loss: 0.0003, Test loss: 0.0003\n"
     ]
    },
    {
     "name": "stderr",
     "output_type": "stream",
     "text": [
      "Epoch [8/500]: 100%|████████████████████████████████████████████████████| 22/22 [00:03<00:00,  5.53it/s, loss=0.000329]\n"
     ]
    },
    {
     "name": "stdout",
     "output_type": "stream",
     "text": [
      "Epoch [8/500]: Train loss: 0.0003, Test loss: 0.0003\n"
     ]
    },
    {
     "name": "stderr",
     "output_type": "stream",
     "text": [
      "Epoch [9/500]: 100%|████████████████████████████████████████████████████| 22/22 [00:03<00:00,  5.59it/s, loss=0.000175]\n"
     ]
    },
    {
     "name": "stdout",
     "output_type": "stream",
     "text": [
      "Epoch [9/500]: Train loss: 0.0003, Test loss: 0.0003\n"
     ]
    },
    {
     "name": "stderr",
     "output_type": "stream",
     "text": [
      "Epoch [10/500]: 100%|███████████████████████████████████████████████████| 22/22 [00:03<00:00,  5.69it/s, loss=0.000264]\n"
     ]
    },
    {
     "name": "stdout",
     "output_type": "stream",
     "text": [
      "Epoch [10/500]: Train loss: 0.0003, Test loss: 0.0003\n",
      "Saving model with loss 0.000...\n"
     ]
    },
    {
     "name": "stderr",
     "output_type": "stream",
     "text": [
      "Epoch [11/500]: 100%|███████████████████████████████████████████████████| 22/22 [00:04<00:00,  5.41it/s, loss=0.000476]\n"
     ]
    },
    {
     "name": "stdout",
     "output_type": "stream",
     "text": [
      "Epoch [11/500]: Train loss: 0.0003, Test loss: 0.0003\n",
      "Saving model with loss 0.000...\n"
     ]
    },
    {
     "name": "stderr",
     "output_type": "stream",
     "text": [
      "Epoch [12/500]: 100%|███████████████████████████████████████████████████| 22/22 [00:04<00:00,  5.43it/s, loss=0.000198]\n"
     ]
    },
    {
     "name": "stdout",
     "output_type": "stream",
     "text": [
      "Epoch [12/500]: Train loss: 0.0003, Test loss: 0.0003\n",
      "Saving model with loss 0.000...\n"
     ]
    },
    {
     "name": "stderr",
     "output_type": "stream",
     "text": [
      "Epoch [13/500]: 100%|████████████████████████████████████████████████████| 22/22 [00:03<00:00,  5.54it/s, loss=0.00025]\n"
     ]
    },
    {
     "name": "stdout",
     "output_type": "stream",
     "text": [
      "Epoch [13/500]: Train loss: 0.0003, Test loss: 0.0003\n"
     ]
    },
    {
     "name": "stderr",
     "output_type": "stream",
     "text": [
      "Epoch [14/500]: 100%|███████████████████████████████████████████████████| 22/22 [00:03<00:00,  5.61it/s, loss=0.000401]\n"
     ]
    },
    {
     "name": "stdout",
     "output_type": "stream",
     "text": [
      "Epoch [14/500]: Train loss: 0.0003, Test loss: 0.0003\n"
     ]
    },
    {
     "name": "stderr",
     "output_type": "stream",
     "text": [
      "Epoch [15/500]: 100%|███████████████████████████████████████████████████| 22/22 [00:03<00:00,  6.31it/s, loss=0.000498]\n"
     ]
    },
    {
     "name": "stdout",
     "output_type": "stream",
     "text": [
      "Epoch [15/500]: Train loss: 0.0003, Test loss: 0.0003\n"
     ]
    },
    {
     "name": "stderr",
     "output_type": "stream",
     "text": [
      "Epoch [16/500]: 100%|████████████████████████████████████████████████████| 22/22 [00:03<00:00,  5.85it/s, loss=0.00069]\n"
     ]
    },
    {
     "name": "stdout",
     "output_type": "stream",
     "text": [
      "Epoch [16/500]: Train loss: 0.0003, Test loss: 0.0003\n"
     ]
    },
    {
     "name": "stderr",
     "output_type": "stream",
     "text": [
      "Epoch [17/500]: 100%|████████████████████████████████████████████████████| 22/22 [00:03<00:00,  5.72it/s, loss=0.00018]\n"
     ]
    },
    {
     "name": "stdout",
     "output_type": "stream",
     "text": [
      "Epoch [17/500]: Train loss: 0.0003, Test loss: 0.0003\n"
     ]
    },
    {
     "name": "stderr",
     "output_type": "stream",
     "text": [
      "Epoch [18/500]: 100%|███████████████████████████████████████████████████| 22/22 [00:03<00:00,  5.85it/s, loss=0.000205]\n"
     ]
    },
    {
     "name": "stdout",
     "output_type": "stream",
     "text": [
      "Epoch [18/500]: Train loss: 0.0003, Test loss: 0.0003\n"
     ]
    },
    {
     "name": "stderr",
     "output_type": "stream",
     "text": [
      "Epoch [19/500]: 100%|████████████████████████████████████████████████████| 22/22 [00:04<00:00,  5.48it/s, loss=0.00017]\n"
     ]
    },
    {
     "name": "stdout",
     "output_type": "stream",
     "text": [
      "Epoch [19/500]: Train loss: 0.0003, Test loss: 0.0003\n"
     ]
    },
    {
     "name": "stderr",
     "output_type": "stream",
     "text": [
      "Epoch [20/500]: 100%|███████████████████████████████████████████████████| 22/22 [00:04<00:00,  5.35it/s, loss=0.000299]\n"
     ]
    },
    {
     "name": "stdout",
     "output_type": "stream",
     "text": [
      "Epoch [20/500]: Train loss: 0.0003, Test loss: 0.0003\n"
     ]
    },
    {
     "name": "stderr",
     "output_type": "stream",
     "text": [
      "Epoch [21/500]: 100%|███████████████████████████████████████████████████| 22/22 [00:03<00:00,  5.92it/s, loss=0.000226]\n"
     ]
    },
    {
     "name": "stdout",
     "output_type": "stream",
     "text": [
      "Epoch [21/500]: Train loss: 0.0003, Test loss: 0.0003\n"
     ]
    },
    {
     "name": "stderr",
     "output_type": "stream",
     "text": [
      "Epoch [22/500]: 100%|███████████████████████████████████████████████████| 22/22 [00:03<00:00,  5.66it/s, loss=0.000547]\n"
     ]
    },
    {
     "name": "stdout",
     "output_type": "stream",
     "text": [
      "Epoch [22/500]: Train loss: 0.0003, Test loss: 0.0003\n"
     ]
    },
    {
     "name": "stderr",
     "output_type": "stream",
     "text": [
      "Epoch [23/500]: 100%|████████████████████████████████████████████████████| 22/22 [00:03<00:00,  6.05it/s, loss=0.00017]\n"
     ]
    },
    {
     "name": "stdout",
     "output_type": "stream",
     "text": [
      "Epoch [23/500]: Train loss: 0.0003, Test loss: 0.0003\n",
      "Saving model with loss 0.000...\n"
     ]
    },
    {
     "name": "stderr",
     "output_type": "stream",
     "text": [
      "Epoch [24/500]: 100%|████████████████████████████████████████████████████| 22/22 [00:03<00:00,  5.86it/s, loss=0.00026]\n"
     ]
    },
    {
     "name": "stdout",
     "output_type": "stream",
     "text": [
      "Epoch [24/500]: Train loss: 0.0003, Test loss: 0.0003\n"
     ]
    },
    {
     "name": "stderr",
     "output_type": "stream",
     "text": [
      "Epoch [25/500]: 100%|███████████████████████████████████████████████████| 22/22 [00:03<00:00,  6.48it/s, loss=0.000147]\n"
     ]
    },
    {
     "name": "stdout",
     "output_type": "stream",
     "text": [
      "Epoch [25/500]: Train loss: 0.0003, Test loss: 0.0003\n",
      "Saving model with loss 0.000...\n"
     ]
    },
    {
     "name": "stderr",
     "output_type": "stream",
     "text": [
      "Epoch [26/500]: 100%|███████████████████████████████████████████████████| 22/22 [00:03<00:00,  6.11it/s, loss=0.000291]\n"
     ]
    },
    {
     "name": "stdout",
     "output_type": "stream",
     "text": [
      "Epoch [26/500]: Train loss: 0.0003, Test loss: 0.0003\n"
     ]
    },
    {
     "name": "stderr",
     "output_type": "stream",
     "text": [
      "Epoch [27/500]: 100%|███████████████████████████████████████████████████| 22/22 [00:03<00:00,  6.15it/s, loss=0.000202]\n"
     ]
    },
    {
     "name": "stdout",
     "output_type": "stream",
     "text": [
      "Epoch [27/500]: Train loss: 0.0002, Test loss: 0.0003\n",
      "Saving model with loss 0.000...\n"
     ]
    },
    {
     "name": "stderr",
     "output_type": "stream",
     "text": [
      "Epoch [28/500]: 100%|███████████████████████████████████████████████████| 22/22 [00:03<00:00,  6.17it/s, loss=0.000607]\n"
     ]
    },
    {
     "name": "stdout",
     "output_type": "stream",
     "text": [
      "Epoch [28/500]: Train loss: 0.0003, Test loss: 0.0003\n"
     ]
    },
    {
     "name": "stderr",
     "output_type": "stream",
     "text": [
      "Epoch [29/500]: 100%|███████████████████████████████████████████████████| 22/22 [00:04<00:00,  5.46it/s, loss=0.000186]\n"
     ]
    },
    {
     "name": "stdout",
     "output_type": "stream",
     "text": [
      "Epoch [29/500]: Train loss: 0.0002, Test loss: 0.0003\n",
      "Saving model with loss 0.000...\n"
     ]
    },
    {
     "name": "stderr",
     "output_type": "stream",
     "text": [
      "Epoch [30/500]: 100%|███████████████████████████████████████████████████| 22/22 [00:04<00:00,  5.28it/s, loss=0.000206]\n"
     ]
    },
    {
     "name": "stdout",
     "output_type": "stream",
     "text": [
      "Epoch [30/500]: Train loss: 0.0002, Test loss: 0.0002\n",
      "Saving model with loss 0.000...\n"
     ]
    },
    {
     "name": "stderr",
     "output_type": "stream",
     "text": [
      "Epoch [31/500]: 100%|███████████████████████████████████████████████████| 22/22 [00:03<00:00,  5.91it/s, loss=0.000169]\n"
     ]
    },
    {
     "name": "stdout",
     "output_type": "stream",
     "text": [
      "Epoch [31/500]: Train loss: 0.0002, Test loss: 0.0002\n",
      "Saving model with loss 0.000...\n"
     ]
    },
    {
     "name": "stderr",
     "output_type": "stream",
     "text": [
      "Epoch [32/500]: 100%|███████████████████████████████████████████████████| 22/22 [00:03<00:00,  6.01it/s, loss=0.000154]\n"
     ]
    },
    {
     "name": "stdout",
     "output_type": "stream",
     "text": [
      "Epoch [32/500]: Train loss: 0.0002, Test loss: 0.0002\n"
     ]
    },
    {
     "name": "stderr",
     "output_type": "stream",
     "text": [
      "Epoch [33/500]: 100%|███████████████████████████████████████████████████| 22/22 [00:03<00:00,  5.60it/s, loss=0.000139]\n"
     ]
    },
    {
     "name": "stdout",
     "output_type": "stream",
     "text": [
      "Epoch [33/500]: Train loss: 0.0002, Test loss: 0.0002\n",
      "Saving model with loss 0.000...\n"
     ]
    },
    {
     "name": "stderr",
     "output_type": "stream",
     "text": [
      "Epoch [34/500]: 100%|████████████████████████████████████████████████████| 22/22 [00:03<00:00,  6.24it/s, loss=0.00017]\n"
     ]
    },
    {
     "name": "stdout",
     "output_type": "stream",
     "text": [
      "Epoch [34/500]: Train loss: 0.0002, Test loss: 0.0002\n"
     ]
    },
    {
     "name": "stderr",
     "output_type": "stream",
     "text": [
      "Epoch [35/500]: 100%|████████████████████████████████████████████████████| 22/22 [00:03<00:00,  6.12it/s, loss=0.00018]\n"
     ]
    },
    {
     "name": "stdout",
     "output_type": "stream",
     "text": [
      "Epoch [35/500]: Train loss: 0.0002, Test loss: 0.0002\n",
      "Saving model with loss 0.000...\n"
     ]
    },
    {
     "name": "stderr",
     "output_type": "stream",
     "text": [
      "Epoch [36/500]: 100%|████████████████████████████████████████████████████| 22/22 [00:03<00:00,  6.10it/s, loss=0.00037]\n"
     ]
    },
    {
     "name": "stdout",
     "output_type": "stream",
     "text": [
      "Epoch [36/500]: Train loss: 0.0002, Test loss: 0.0002\n"
     ]
    },
    {
     "name": "stderr",
     "output_type": "stream",
     "text": [
      "Epoch [37/500]: 100%|████████████████████████████████████████████████████| 22/22 [00:03<00:00,  6.01it/s, loss=8.76e-5]\n"
     ]
    },
    {
     "name": "stdout",
     "output_type": "stream",
     "text": [
      "Epoch [37/500]: Train loss: 0.0002, Test loss: 0.0002\n",
      "Saving model with loss 0.000...\n"
     ]
    },
    {
     "name": "stderr",
     "output_type": "stream",
     "text": [
      "Epoch [38/500]: 100%|███████████████████████████████████████████████████| 22/22 [00:03<00:00,  5.92it/s, loss=0.000165]\n"
     ]
    },
    {
     "name": "stdout",
     "output_type": "stream",
     "text": [
      "Epoch [38/500]: Train loss: 0.0002, Test loss: 0.0002\n",
      "Saving model with loss 0.000...\n"
     ]
    },
    {
     "name": "stderr",
     "output_type": "stream",
     "text": [
      "Epoch [39/500]: 100%|███████████████████████████████████████████████████| 22/22 [00:03<00:00,  6.48it/s, loss=0.000137]\n"
     ]
    },
    {
     "name": "stdout",
     "output_type": "stream",
     "text": [
      "Epoch [39/500]: Train loss: 0.0002, Test loss: 0.0002\n"
     ]
    },
    {
     "name": "stderr",
     "output_type": "stream",
     "text": [
      "Epoch [40/500]: 100%|███████████████████████████████████████████████████| 22/22 [00:04<00:00,  5.40it/s, loss=0.000156]\n"
     ]
    },
    {
     "name": "stdout",
     "output_type": "stream",
     "text": [
      "Epoch [40/500]: Train loss: 0.0002, Test loss: 0.0002\n",
      "Saving model with loss 0.000...\n"
     ]
    },
    {
     "name": "stderr",
     "output_type": "stream",
     "text": [
      "Epoch [41/500]: 100%|████████████████████████████████████████████████████| 22/22 [00:03<00:00,  6.96it/s, loss=0.00018]\n"
     ]
    },
    {
     "name": "stdout",
     "output_type": "stream",
     "text": [
      "Epoch [41/500]: Train loss: 0.0002, Test loss: 0.0002\n"
     ]
    },
    {
     "name": "stderr",
     "output_type": "stream",
     "text": [
      "Epoch [42/500]: 100%|███████████████████████████████████████████████████| 22/22 [00:03<00:00,  6.39it/s, loss=0.000163]\n"
     ]
    },
    {
     "name": "stdout",
     "output_type": "stream",
     "text": [
      "Epoch [42/500]: Train loss: 0.0002, Test loss: 0.0002\n",
      "Saving model with loss 0.000...\n"
     ]
    },
    {
     "name": "stderr",
     "output_type": "stream",
     "text": [
      "Epoch [43/500]: 100%|███████████████████████████████████████████████████| 22/22 [00:03<00:00,  6.66it/s, loss=0.000152]\n"
     ]
    },
    {
     "name": "stdout",
     "output_type": "stream",
     "text": [
      "Epoch [43/500]: Train loss: 0.0001, Test loss: 0.0002\n",
      "Saving model with loss 0.000...\n"
     ]
    },
    {
     "name": "stderr",
     "output_type": "stream",
     "text": [
      "Epoch [44/500]: 100%|████████████████████████████████████████████████████| 22/22 [00:03<00:00,  6.18it/s, loss=9.01e-5]\n"
     ]
    },
    {
     "name": "stdout",
     "output_type": "stream",
     "text": [
      "Epoch [44/500]: Train loss: 0.0001, Test loss: 0.0002\n"
     ]
    },
    {
     "name": "stderr",
     "output_type": "stream",
     "text": [
      "Epoch [45/500]: 100%|███████████████████████████████████████████████████| 22/22 [00:03<00:00,  5.65it/s, loss=0.000144]\n"
     ]
    },
    {
     "name": "stdout",
     "output_type": "stream",
     "text": [
      "Epoch [45/500]: Train loss: 0.0001, Test loss: 0.0002\n"
     ]
    },
    {
     "name": "stderr",
     "output_type": "stream",
     "text": [
      "Epoch [46/500]: 100%|███████████████████████████████████████████████████| 22/22 [00:03<00:00,  6.29it/s, loss=0.000111]\n"
     ]
    },
    {
     "name": "stdout",
     "output_type": "stream",
     "text": [
      "Epoch [46/500]: Train loss: 0.0001, Test loss: 0.0001\n",
      "Saving model with loss 0.000...\n"
     ]
    },
    {
     "name": "stderr",
     "output_type": "stream",
     "text": [
      "Epoch [47/500]: 100%|███████████████████████████████████████████████████| 22/22 [00:03<00:00,  5.70it/s, loss=0.000187]\n"
     ]
    },
    {
     "name": "stdout",
     "output_type": "stream",
     "text": [
      "Epoch [47/500]: Train loss: 0.0001, Test loss: 0.0002\n"
     ]
    },
    {
     "name": "stderr",
     "output_type": "stream",
     "text": [
      "Epoch [48/500]: 100%|████████████████████████████████████████████████████| 22/22 [00:04<00:00,  5.34it/s, loss=0.00019]\n"
     ]
    },
    {
     "name": "stdout",
     "output_type": "stream",
     "text": [
      "Epoch [48/500]: Train loss: 0.0001, Test loss: 0.0002\n"
     ]
    },
    {
     "name": "stderr",
     "output_type": "stream",
     "text": [
      "Epoch [49/500]: 100%|███████████████████████████████████████████████████| 22/22 [00:03<00:00,  6.32it/s, loss=0.000153]\n"
     ]
    },
    {
     "name": "stdout",
     "output_type": "stream",
     "text": [
      "Epoch [49/500]: Train loss: 0.0001, Test loss: 0.0001\n",
      "Saving model with loss 0.000...\n"
     ]
    },
    {
     "name": "stderr",
     "output_type": "stream",
     "text": [
      "Epoch [50/500]: 100%|████████████████████████████████████████████████████| 22/22 [00:03<00:00,  6.59it/s, loss=7.05e-5]\n"
     ]
    },
    {
     "name": "stdout",
     "output_type": "stream",
     "text": [
      "Epoch [50/500]: Train loss: 0.0001, Test loss: 0.0001\n",
      "Saving model with loss 0.000...\n"
     ]
    },
    {
     "name": "stderr",
     "output_type": "stream",
     "text": [
      "Epoch [51/500]: 100%|███████████████████████████████████████████████████| 22/22 [00:03<00:00,  6.04it/s, loss=0.000121]\n"
     ]
    },
    {
     "name": "stdout",
     "output_type": "stream",
     "text": [
      "Epoch [51/500]: Train loss: 0.0001, Test loss: 0.0001\n"
     ]
    },
    {
     "name": "stderr",
     "output_type": "stream",
     "text": [
      "Epoch [52/500]: 100%|████████████████████████████████████████████████████| 22/22 [00:04<00:00,  5.43it/s, loss=7.29e-5]\n"
     ]
    },
    {
     "name": "stdout",
     "output_type": "stream",
     "text": [
      "Epoch [52/500]: Train loss: 0.0001, Test loss: 0.0001\n",
      "Saving model with loss 0.000...\n"
     ]
    },
    {
     "name": "stderr",
     "output_type": "stream",
     "text": [
      "Epoch [53/500]: 100%|████████████████████████████████████████████████████| 22/22 [00:03<00:00,  5.82it/s, loss=7.52e-5]\n"
     ]
    },
    {
     "name": "stdout",
     "output_type": "stream",
     "text": [
      "Epoch [53/500]: Train loss: 0.0001, Test loss: 0.0001\n",
      "Saving model with loss 0.000...\n"
     ]
    },
    {
     "name": "stderr",
     "output_type": "stream",
     "text": [
      "Epoch [54/500]: 100%|████████████████████████████████████████████████████| 22/22 [00:03<00:00,  6.27it/s, loss=9.56e-5]\n"
     ]
    },
    {
     "name": "stdout",
     "output_type": "stream",
     "text": [
      "Epoch [54/500]: Train loss: 0.0001, Test loss: 0.0001\n",
      "Saving model with loss 0.000...\n"
     ]
    },
    {
     "name": "stderr",
     "output_type": "stream",
     "text": [
      "Epoch [55/500]: 100%|████████████████████████████████████████████████████| 22/22 [00:04<00:00,  5.47it/s, loss=7.26e-5]\n"
     ]
    },
    {
     "name": "stdout",
     "output_type": "stream",
     "text": [
      "Epoch [55/500]: Train loss: 0.0001, Test loss: 0.0001\n"
     ]
    },
    {
     "name": "stderr",
     "output_type": "stream",
     "text": [
      "Epoch [56/500]: 100%|███████████████████████████████████████████████████| 22/22 [00:03<00:00,  6.07it/s, loss=0.000114]\n"
     ]
    },
    {
     "name": "stdout",
     "output_type": "stream",
     "text": [
      "Epoch [56/500]: Train loss: 0.0001, Test loss: 0.0001\n"
     ]
    },
    {
     "name": "stderr",
     "output_type": "stream",
     "text": [
      "Epoch [57/500]: 100%|███████████████████████████████████████████████████| 22/22 [00:03<00:00,  5.99it/s, loss=0.000153]\n"
     ]
    },
    {
     "name": "stdout",
     "output_type": "stream",
     "text": [
      "Epoch [57/500]: Train loss: 0.0001, Test loss: 0.0001\n",
      "Saving model with loss 0.000...\n"
     ]
    },
    {
     "name": "stderr",
     "output_type": "stream",
     "text": [
      "Epoch [58/500]: 100%|███████████████████████████████████████████████████| 22/22 [00:03<00:00,  6.64it/s, loss=0.000118]\n"
     ]
    },
    {
     "name": "stdout",
     "output_type": "stream",
     "text": [
      "Epoch [58/500]: Train loss: 0.0001, Test loss: 0.0001\n",
      "Saving model with loss 0.000...\n"
     ]
    },
    {
     "name": "stderr",
     "output_type": "stream",
     "text": [
      "Epoch [59/500]: 100%|███████████████████████████████████████████████████| 22/22 [00:03<00:00,  5.90it/s, loss=0.000136]\n"
     ]
    },
    {
     "name": "stdout",
     "output_type": "stream",
     "text": [
      "Epoch [59/500]: Train loss: 0.0001, Test loss: 0.0001\n"
     ]
    },
    {
     "name": "stderr",
     "output_type": "stream",
     "text": [
      "Epoch [60/500]: 100%|████████████████████████████████████████████████████| 22/22 [00:03<00:00,  6.57it/s, loss=8.21e-5]\n"
     ]
    },
    {
     "name": "stdout",
     "output_type": "stream",
     "text": [
      "Epoch [60/500]: Train loss: 0.0001, Test loss: 0.0001\n"
     ]
    },
    {
     "name": "stderr",
     "output_type": "stream",
     "text": [
      "Epoch [61/500]: 100%|█████████████████████████████████████████████████████| 22/22 [00:03<00:00,  6.04it/s, loss=8.7e-5]\n"
     ]
    },
    {
     "name": "stdout",
     "output_type": "stream",
     "text": [
      "Epoch [61/500]: Train loss: 0.0001, Test loss: 0.0001\n"
     ]
    },
    {
     "name": "stderr",
     "output_type": "stream",
     "text": [
      "Epoch [62/500]: 100%|████████████████████████████████████████████████████| 22/22 [00:03<00:00,  5.62it/s, loss=6.25e-5]\n"
     ]
    },
    {
     "name": "stdout",
     "output_type": "stream",
     "text": [
      "Epoch [62/500]: Train loss: 0.0001, Test loss: 0.0001\n",
      "Saving model with loss 0.000...\n"
     ]
    },
    {
     "name": "stderr",
     "output_type": "stream",
     "text": [
      "Epoch [63/500]: 100%|███████████████████████████████████████████████████| 22/22 [00:03<00:00,  5.82it/s, loss=0.000103]\n"
     ]
    },
    {
     "name": "stdout",
     "output_type": "stream",
     "text": [
      "Epoch [63/500]: Train loss: 0.0001, Test loss: 0.0001\n"
     ]
    },
    {
     "name": "stderr",
     "output_type": "stream",
     "text": [
      "Epoch [64/500]: 100%|████████████████████████████████████████████████████| 22/22 [00:03<00:00,  5.53it/s, loss=6.38e-5]\n"
     ]
    },
    {
     "name": "stdout",
     "output_type": "stream",
     "text": [
      "Epoch [64/500]: Train loss: 0.0001, Test loss: 0.0001\n"
     ]
    },
    {
     "name": "stderr",
     "output_type": "stream",
     "text": [
      "Epoch [65/500]: 100%|████████████████████████████████████████████████████| 22/22 [00:03<00:00,  5.80it/s, loss=9.06e-5]\n"
     ]
    },
    {
     "name": "stdout",
     "output_type": "stream",
     "text": [
      "Epoch [65/500]: Train loss: 0.0001, Test loss: 0.0001\n",
      "Saving model with loss 0.000...\n"
     ]
    },
    {
     "name": "stderr",
     "output_type": "stream",
     "text": [
      "Epoch [66/500]: 100%|███████████████████████████████████████████████████| 22/22 [00:04<00:00,  5.46it/s, loss=0.000114]\n"
     ]
    },
    {
     "name": "stdout",
     "output_type": "stream",
     "text": [
      "Epoch [66/500]: Train loss: 0.0001, Test loss: 0.0001\n"
     ]
    },
    {
     "name": "stderr",
     "output_type": "stream",
     "text": [
      "Epoch [67/500]: 100%|███████████████████████████████████████████████████| 22/22 [00:03<00:00,  5.64it/s, loss=0.000121]\n"
     ]
    },
    {
     "name": "stdout",
     "output_type": "stream",
     "text": [
      "Epoch [67/500]: Train loss: 0.0001, Test loss: 0.0001\n"
     ]
    },
    {
     "name": "stderr",
     "output_type": "stream",
     "text": [
      "Epoch [68/500]: 100%|███████████████████████████████████████████████████| 22/22 [00:03<00:00,  6.20it/s, loss=0.000115]\n"
     ]
    },
    {
     "name": "stdout",
     "output_type": "stream",
     "text": [
      "Epoch [68/500]: Train loss: 0.0001, Test loss: 0.0001\n"
     ]
    },
    {
     "name": "stderr",
     "output_type": "stream",
     "text": [
      "Epoch [69/500]: 100%|████████████████████████████████████████████████████| 22/22 [00:03<00:00,  6.07it/s, loss=9.23e-5]\n"
     ]
    },
    {
     "name": "stdout",
     "output_type": "stream",
     "text": [
      "Epoch [69/500]: Train loss: 0.0001, Test loss: 0.0001\n"
     ]
    },
    {
     "name": "stderr",
     "output_type": "stream",
     "text": [
      "Epoch [70/500]: 100%|███████████████████████████████████████████████████| 22/22 [00:03<00:00,  5.87it/s, loss=0.000104]\n"
     ]
    },
    {
     "name": "stdout",
     "output_type": "stream",
     "text": [
      "Epoch [70/500]: Train loss: 0.0001, Test loss: 0.0001\n"
     ]
    },
    {
     "name": "stderr",
     "output_type": "stream",
     "text": [
      "Epoch [71/500]: 100%|███████████████████████████████████████████████████| 22/22 [00:04<00:00,  5.21it/s, loss=0.000109]\n"
     ]
    },
    {
     "name": "stdout",
     "output_type": "stream",
     "text": [
      "Epoch [71/500]: Train loss: 0.0001, Test loss: 0.0001\n"
     ]
    },
    {
     "name": "stderr",
     "output_type": "stream",
     "text": [
      "Epoch [72/500]: 100%|████████████████████████████████████████████████████| 22/22 [00:03<00:00,  6.25it/s, loss=7.78e-5]\n"
     ]
    },
    {
     "name": "stdout",
     "output_type": "stream",
     "text": [
      "Epoch [72/500]: Train loss: 0.0001, Test loss: 0.0001\n"
     ]
    },
    {
     "name": "stderr",
     "output_type": "stream",
     "text": [
      "Epoch [73/500]: 100%|█████████████████████████████████████████████████████| 22/22 [00:03<00:00,  6.13it/s, loss=6.9e-5]\n"
     ]
    },
    {
     "name": "stdout",
     "output_type": "stream",
     "text": [
      "Epoch [73/500]: Train loss: 0.0001, Test loss: 0.0001\n"
     ]
    },
    {
     "name": "stderr",
     "output_type": "stream",
     "text": [
      "Epoch [74/500]: 100%|████████████████████████████████████████████████████| 22/22 [00:03<00:00,  6.26it/s, loss=7.69e-5]\n"
     ]
    },
    {
     "name": "stdout",
     "output_type": "stream",
     "text": [
      "Epoch [74/500]: Train loss: 0.0001, Test loss: 0.0001\n"
     ]
    },
    {
     "name": "stderr",
     "output_type": "stream",
     "text": [
      "Epoch [75/500]: 100%|████████████████████████████████████████████████████| 22/22 [00:03<00:00,  6.15it/s, loss=9.32e-5]\n"
     ]
    },
    {
     "name": "stdout",
     "output_type": "stream",
     "text": [
      "Epoch [75/500]: Train loss: 0.0001, Test loss: 0.0001\n",
      "Saving model with loss 0.000...\n"
     ]
    },
    {
     "name": "stderr",
     "output_type": "stream",
     "text": [
      "Epoch [76/500]: 100%|████████████████████████████████████████████████████| 22/22 [00:03<00:00,  5.69it/s, loss=7.72e-5]\n"
     ]
    },
    {
     "name": "stdout",
     "output_type": "stream",
     "text": [
      "Epoch [76/500]: Train loss: 0.0001, Test loss: 0.0001\n"
     ]
    },
    {
     "name": "stderr",
     "output_type": "stream",
     "text": [
      "Epoch [77/500]: 100%|████████████████████████████████████████████████████| 22/22 [00:03<00:00,  6.09it/s, loss=4.13e-5]\n"
     ]
    },
    {
     "name": "stdout",
     "output_type": "stream",
     "text": [
      "Epoch [77/500]: Train loss: 0.0001, Test loss: 0.0001\n"
     ]
    },
    {
     "name": "stderr",
     "output_type": "stream",
     "text": [
      "Epoch [78/500]: 100%|████████████████████████████████████████████████████| 22/22 [00:03<00:00,  6.09it/s, loss=5.15e-5]\n"
     ]
    },
    {
     "name": "stdout",
     "output_type": "stream",
     "text": [
      "Epoch [78/500]: Train loss: 0.0001, Test loss: 0.0001\n"
     ]
    },
    {
     "name": "stderr",
     "output_type": "stream",
     "text": [
      "Epoch [79/500]: 100%|████████████████████████████████████████████████████| 22/22 [00:04<00:00,  5.32it/s, loss=6.98e-5]\n"
     ]
    },
    {
     "name": "stdout",
     "output_type": "stream",
     "text": [
      "Epoch [79/500]: Train loss: 0.0001, Test loss: 0.0001\n",
      "Saving model with loss 0.000...\n"
     ]
    },
    {
     "name": "stderr",
     "output_type": "stream",
     "text": [
      "Epoch [80/500]: 100%|████████████████████████████████████████████████████| 22/22 [00:03<00:00,  6.46it/s, loss=4.57e-5]\n"
     ]
    },
    {
     "name": "stdout",
     "output_type": "stream",
     "text": [
      "Epoch [80/500]: Train loss: 0.0001, Test loss: 0.0001\n"
     ]
    },
    {
     "name": "stderr",
     "output_type": "stream",
     "text": [
      "Epoch [81/500]: 100%|████████████████████████████████████████████████████| 22/22 [00:04<00:00,  5.49it/s, loss=9.92e-5]\n"
     ]
    },
    {
     "name": "stdout",
     "output_type": "stream",
     "text": [
      "Epoch [81/500]: Train loss: 0.0001, Test loss: 0.0001\n"
     ]
    },
    {
     "name": "stderr",
     "output_type": "stream",
     "text": [
      "Epoch [82/500]: 100%|████████████████████████████████████████████████████| 22/22 [00:03<00:00,  5.91it/s, loss=4.65e-5]\n"
     ]
    },
    {
     "name": "stdout",
     "output_type": "stream",
     "text": [
      "Epoch [82/500]: Train loss: 0.0001, Test loss: 0.0001\n"
     ]
    },
    {
     "name": "stderr",
     "output_type": "stream",
     "text": [
      "Epoch [83/500]: 100%|████████████████████████████████████████████████████| 22/22 [00:03<00:00,  6.76it/s, loss=7.33e-5]\n"
     ]
    },
    {
     "name": "stdout",
     "output_type": "stream",
     "text": [
      "Epoch [83/500]: Train loss: 0.0001, Test loss: 0.0001\n"
     ]
    },
    {
     "name": "stderr",
     "output_type": "stream",
     "text": [
      "Epoch [84/500]: 100%|███████████████████████████████████████████████████| 22/22 [00:03<00:00,  6.77it/s, loss=0.000102]\n"
     ]
    },
    {
     "name": "stdout",
     "output_type": "stream",
     "text": [
      "Epoch [84/500]: Train loss: 0.0001, Test loss: 0.0001\n"
     ]
    },
    {
     "name": "stderr",
     "output_type": "stream",
     "text": [
      "Epoch [85/500]: 100%|█████████████████████████████████████████████████████| 22/22 [00:03<00:00,  5.89it/s, loss=7.1e-5]\n"
     ]
    },
    {
     "name": "stdout",
     "output_type": "stream",
     "text": [
      "Epoch [85/500]: Train loss: 0.0001, Test loss: 0.0001\n"
     ]
    },
    {
     "name": "stderr",
     "output_type": "stream",
     "text": [
      "Epoch [86/500]: 100%|████████████████████████████████████████████████████| 22/22 [00:03<00:00,  6.53it/s, loss=6.37e-5]\n"
     ]
    },
    {
     "name": "stdout",
     "output_type": "stream",
     "text": [
      "Epoch [86/500]: Train loss: 0.0001, Test loss: 0.0001\n"
     ]
    },
    {
     "name": "stderr",
     "output_type": "stream",
     "text": [
      "Epoch [87/500]: 100%|████████████████████████████████████████████████████| 22/22 [00:03<00:00,  5.65it/s, loss=6.88e-5]\n"
     ]
    },
    {
     "name": "stdout",
     "output_type": "stream",
     "text": [
      "Epoch [87/500]: Train loss: 0.0001, Test loss: 0.0001\n"
     ]
    },
    {
     "name": "stderr",
     "output_type": "stream",
     "text": [
      "Epoch [88/500]: 100%|████████████████████████████████████████████████████| 22/22 [00:03<00:00,  5.91it/s, loss=8.67e-5]\n"
     ]
    },
    {
     "name": "stdout",
     "output_type": "stream",
     "text": [
      "Epoch [88/500]: Train loss: 0.0001, Test loss: 0.0001\n"
     ]
    },
    {
     "name": "stderr",
     "output_type": "stream",
     "text": [
      "Epoch [89/500]: 100%|████████████████████████████████████████████████████| 22/22 [00:03<00:00,  6.75it/s, loss=6.28e-5]\n"
     ]
    },
    {
     "name": "stdout",
     "output_type": "stream",
     "text": [
      "Epoch [89/500]: Train loss: 0.0001, Test loss: 0.0001\n"
     ]
    },
    {
     "name": "stderr",
     "output_type": "stream",
     "text": [
      "Epoch [90/500]: 100%|███████████████████████████████████████████████████| 22/22 [00:04<00:00,  5.15it/s, loss=0.000138]\n"
     ]
    },
    {
     "name": "stdout",
     "output_type": "stream",
     "text": [
      "Epoch [90/500]: Train loss: 0.0001, Test loss: 0.0001\n"
     ]
    },
    {
     "name": "stderr",
     "output_type": "stream",
     "text": [
      "Epoch [91/500]: 100%|████████████████████████████████████████████████████| 22/22 [00:03<00:00,  6.84it/s, loss=7.38e-5]\n"
     ]
    },
    {
     "name": "stdout",
     "output_type": "stream",
     "text": [
      "Epoch [91/500]: Train loss: 0.0001, Test loss: 0.0001\n",
      "Saving model with loss 0.000...\n"
     ]
    },
    {
     "name": "stderr",
     "output_type": "stream",
     "text": [
      "Epoch [92/500]: 100%|████████████████████████████████████████████████████| 22/22 [00:03<00:00,  5.68it/s, loss=3.28e-5]\n"
     ]
    },
    {
     "name": "stdout",
     "output_type": "stream",
     "text": [
      "Epoch [92/500]: Train loss: 0.0001, Test loss: 0.0001\n"
     ]
    },
    {
     "name": "stderr",
     "output_type": "stream",
     "text": [
      "Epoch [93/500]: 100%|█████████████████████████████████████████████████████| 22/22 [00:03<00:00,  5.91it/s, loss=7.3e-5]\n"
     ]
    },
    {
     "name": "stdout",
     "output_type": "stream",
     "text": [
      "Epoch [93/500]: Train loss: 0.0001, Test loss: 0.0001\n"
     ]
    },
    {
     "name": "stderr",
     "output_type": "stream",
     "text": [
      "Epoch [94/500]: 100%|████████████████████████████████████████████████████| 22/22 [00:03<00:00,  6.08it/s, loss=8.47e-5]\n"
     ]
    },
    {
     "name": "stdout",
     "output_type": "stream",
     "text": [
      "Epoch [94/500]: Train loss: 0.0001, Test loss: 0.0001\n"
     ]
    },
    {
     "name": "stderr",
     "output_type": "stream",
     "text": [
      "Epoch [95/500]: 100%|█████████████████████████████████████████████████████| 22/22 [00:03<00:00,  6.07it/s, loss=9.9e-5]\n"
     ]
    },
    {
     "name": "stdout",
     "output_type": "stream",
     "text": [
      "Epoch [95/500]: Train loss: 0.0001, Test loss: 0.0001\n"
     ]
    },
    {
     "name": "stderr",
     "output_type": "stream",
     "text": [
      "Epoch [96/500]: 100%|████████████████████████████████████████████████████| 22/22 [00:03<00:00,  6.26it/s, loss=9.34e-5]\n"
     ]
    },
    {
     "name": "stdout",
     "output_type": "stream",
     "text": [
      "Epoch [96/500]: Train loss: 0.0001, Test loss: 0.0001\n"
     ]
    },
    {
     "name": "stderr",
     "output_type": "stream",
     "text": [
      "Epoch [97/500]: 100%|████████████████████████████████████████████████████| 22/22 [00:03<00:00,  5.91it/s, loss=4.93e-5]\n"
     ]
    },
    {
     "name": "stdout",
     "output_type": "stream",
     "text": [
      "Epoch [97/500]: Train loss: 0.0001, Test loss: 0.0001\n"
     ]
    },
    {
     "name": "stderr",
     "output_type": "stream",
     "text": [
      "Epoch [98/500]: 100%|████████████████████████████████████████████████████| 22/22 [00:03<00:00,  5.81it/s, loss=9.44e-5]\n"
     ]
    },
    {
     "name": "stdout",
     "output_type": "stream",
     "text": [
      "Epoch [98/500]: Train loss: 0.0001, Test loss: 0.0001\n"
     ]
    },
    {
     "name": "stderr",
     "output_type": "stream",
     "text": [
      "Epoch [99/500]: 100%|████████████████████████████████████████████████████| 22/22 [00:03<00:00,  5.51it/s, loss=5.07e-5]\n"
     ]
    },
    {
     "name": "stdout",
     "output_type": "stream",
     "text": [
      "Epoch [99/500]: Train loss: 0.0001, Test loss: 0.0001\n"
     ]
    },
    {
     "name": "stderr",
     "output_type": "stream",
     "text": [
      "Epoch [100/500]: 100%|███████████████████████████████████████████████████| 22/22 [00:04<00:00,  5.13it/s, loss=6.53e-5]\n"
     ]
    },
    {
     "name": "stdout",
     "output_type": "stream",
     "text": [
      "Epoch [100/500]: Train loss: 0.0001, Test loss: 0.0001\n"
     ]
    },
    {
     "name": "stderr",
     "output_type": "stream",
     "text": [
      "Epoch [101/500]: 100%|██████████████████████████████████████████████████| 22/22 [00:03<00:00,  6.13it/s, loss=0.000106]\n"
     ]
    },
    {
     "name": "stdout",
     "output_type": "stream",
     "text": [
      "Epoch [101/500]: Train loss: 0.0001, Test loss: 0.0001\n"
     ]
    },
    {
     "name": "stderr",
     "output_type": "stream",
     "text": [
      "Epoch [102/500]: 100%|███████████████████████████████████████████████████| 22/22 [00:03<00:00,  6.15it/s, loss=4.38e-5]\n"
     ]
    },
    {
     "name": "stdout",
     "output_type": "stream",
     "text": [
      "Epoch [102/500]: Train loss: 0.0001, Test loss: 0.0001\n"
     ]
    },
    {
     "name": "stderr",
     "output_type": "stream",
     "text": [
      "Epoch [103/500]: 100%|███████████████████████████████████████████████████| 22/22 [00:03<00:00,  6.05it/s, loss=0.00011]\n"
     ]
    },
    {
     "name": "stdout",
     "output_type": "stream",
     "text": [
      "Epoch [103/500]: Train loss: 0.0001, Test loss: 0.0001\n"
     ]
    },
    {
     "name": "stderr",
     "output_type": "stream",
     "text": [
      "Epoch [104/500]: 100%|███████████████████████████████████████████████████| 22/22 [00:04<00:00,  5.47it/s, loss=5.36e-5]\n"
     ]
    },
    {
     "name": "stdout",
     "output_type": "stream",
     "text": [
      "Epoch [104/500]: Train loss: 0.0001, Test loss: 0.0001\n"
     ]
    },
    {
     "name": "stderr",
     "output_type": "stream",
     "text": [
      "Epoch [105/500]: 100%|██████████████████████████████████████████████████| 22/22 [00:03<00:00,  6.84it/s, loss=0.000105]\n"
     ]
    },
    {
     "name": "stdout",
     "output_type": "stream",
     "text": [
      "Epoch [105/500]: Train loss: 0.0001, Test loss: 0.0001\n"
     ]
    },
    {
     "name": "stderr",
     "output_type": "stream",
     "text": [
      "Epoch [106/500]: 100%|███████████████████████████████████████████████████| 22/22 [00:03<00:00,  6.02it/s, loss=2.48e-5]\n"
     ]
    },
    {
     "name": "stdout",
     "output_type": "stream",
     "text": [
      "Epoch [106/500]: Train loss: 0.0001, Test loss: 0.0001\n"
     ]
    },
    {
     "name": "stderr",
     "output_type": "stream",
     "text": [
      "Epoch [107/500]: 100%|███████████████████████████████████████████████████| 22/22 [00:03<00:00,  5.73it/s, loss=6.07e-5]\n"
     ]
    },
    {
     "name": "stdout",
     "output_type": "stream",
     "text": [
      "Epoch [107/500]: Train loss: 0.0001, Test loss: 0.0001\n",
      "Saving model with loss 0.000...\n"
     ]
    },
    {
     "name": "stderr",
     "output_type": "stream",
     "text": [
      "Epoch [108/500]: 100%|███████████████████████████████████████████████████| 22/22 [00:03<00:00,  5.84it/s, loss=7.43e-5]\n"
     ]
    },
    {
     "name": "stdout",
     "output_type": "stream",
     "text": [
      "Epoch [108/500]: Train loss: 0.0001, Test loss: 0.0001\n"
     ]
    },
    {
     "name": "stderr",
     "output_type": "stream",
     "text": [
      "Epoch [109/500]: 100%|████████████████████████████████████████████████████| 22/22 [00:03<00:00,  6.26it/s, loss=3.5e-5]\n"
     ]
    },
    {
     "name": "stdout",
     "output_type": "stream",
     "text": [
      "Epoch [109/500]: Train loss: 0.0001, Test loss: 0.0001\n"
     ]
    },
    {
     "name": "stderr",
     "output_type": "stream",
     "text": [
      "Epoch [110/500]: 100%|███████████████████████████████████████████████████| 22/22 [00:03<00:00,  5.87it/s, loss=7.51e-5]\n"
     ]
    },
    {
     "name": "stdout",
     "output_type": "stream",
     "text": [
      "Epoch [110/500]: Train loss: 0.0001, Test loss: 0.0001\n"
     ]
    },
    {
     "name": "stderr",
     "output_type": "stream",
     "text": [
      "Epoch [111/500]: 100%|███████████████████████████████████████████████████| 22/22 [00:03<00:00,  6.19it/s, loss=5.75e-5]\n"
     ]
    },
    {
     "name": "stdout",
     "output_type": "stream",
     "text": [
      "Epoch [111/500]: Train loss: 0.0001, Test loss: 0.0001\n"
     ]
    },
    {
     "name": "stderr",
     "output_type": "stream",
     "text": [
      "Epoch [112/500]: 100%|███████████████████████████████████████████████████| 22/22 [00:03<00:00,  6.61it/s, loss=6.08e-5]\n"
     ]
    },
    {
     "name": "stdout",
     "output_type": "stream",
     "text": [
      "Epoch [112/500]: Train loss: 0.0001, Test loss: 0.0001\n"
     ]
    },
    {
     "name": "stderr",
     "output_type": "stream",
     "text": [
      "Epoch [113/500]: 100%|███████████████████████████████████████████████████| 22/22 [00:03<00:00,  5.59it/s, loss=7.51e-5]\n"
     ]
    },
    {
     "name": "stdout",
     "output_type": "stream",
     "text": [
      "Epoch [113/500]: Train loss: 0.0001, Test loss: 0.0001\n"
     ]
    },
    {
     "name": "stderr",
     "output_type": "stream",
     "text": [
      "Epoch [114/500]: 100%|███████████████████████████████████████████████████| 22/22 [00:03<00:00,  5.61it/s, loss=9.85e-5]\n"
     ]
    },
    {
     "name": "stdout",
     "output_type": "stream",
     "text": [
      "Epoch [114/500]: Train loss: 0.0001, Test loss: 0.0001\n"
     ]
    },
    {
     "name": "stderr",
     "output_type": "stream",
     "text": [
      "Epoch [115/500]: 100%|███████████████████████████████████████████████████| 22/22 [00:04<00:00,  5.25it/s, loss=5.64e-5]\n"
     ]
    },
    {
     "name": "stdout",
     "output_type": "stream",
     "text": [
      "Epoch [115/500]: Train loss: 0.0001, Test loss: 0.0001\n"
     ]
    },
    {
     "name": "stderr",
     "output_type": "stream",
     "text": [
      "Epoch [116/500]: 100%|███████████████████████████████████████████████████| 22/22 [00:03<00:00,  6.49it/s, loss=5.12e-5]\n"
     ]
    },
    {
     "name": "stdout",
     "output_type": "stream",
     "text": [
      "Epoch [116/500]: Train loss: 0.0001, Test loss: 0.0001\n"
     ]
    },
    {
     "name": "stderr",
     "output_type": "stream",
     "text": [
      "Epoch [117/500]: 100%|███████████████████████████████████████████████████| 22/22 [00:03<00:00,  7.07it/s, loss=7.03e-5]\n"
     ]
    },
    {
     "name": "stdout",
     "output_type": "stream",
     "text": [
      "Epoch [117/500]: Train loss: 0.0001, Test loss: 0.0001\n"
     ]
    },
    {
     "name": "stderr",
     "output_type": "stream",
     "text": [
      "Epoch [118/500]: 100%|███████████████████████████████████████████████████| 22/22 [00:03<00:00,  6.57it/s, loss=5.21e-5]\n"
     ]
    },
    {
     "name": "stdout",
     "output_type": "stream",
     "text": [
      "Epoch [118/500]: Train loss: 0.0001, Test loss: 0.0001\n"
     ]
    },
    {
     "name": "stderr",
     "output_type": "stream",
     "text": [
      "Epoch [119/500]: 100%|███████████████████████████████████████████████████| 22/22 [00:03<00:00,  6.11it/s, loss=6.86e-5]\n"
     ]
    },
    {
     "name": "stdout",
     "output_type": "stream",
     "text": [
      "Epoch [119/500]: Train loss: 0.0001, Test loss: 0.0001\n"
     ]
    },
    {
     "name": "stderr",
     "output_type": "stream",
     "text": [
      "Epoch [120/500]: 100%|███████████████████████████████████████████████████| 22/22 [00:03<00:00,  5.55it/s, loss=8.79e-5]\n"
     ]
    },
    {
     "name": "stdout",
     "output_type": "stream",
     "text": [
      "Epoch [120/500]: Train loss: 0.0001, Test loss: 0.0001\n"
     ]
    },
    {
     "name": "stderr",
     "output_type": "stream",
     "text": [
      "Epoch [121/500]: 100%|███████████████████████████████████████████████████| 22/22 [00:03<00:00,  5.79it/s, loss=7.07e-5]\n"
     ]
    },
    {
     "name": "stdout",
     "output_type": "stream",
     "text": [
      "Epoch [121/500]: Train loss: 0.0001, Test loss: 0.0001\n"
     ]
    },
    {
     "name": "stderr",
     "output_type": "stream",
     "text": [
      "Epoch [122/500]: 100%|████████████████████████████████████████████████████| 22/22 [00:03<00:00,  6.55it/s, loss=4.1e-5]\n"
     ]
    },
    {
     "name": "stdout",
     "output_type": "stream",
     "text": [
      "Epoch [122/500]: Train loss: 0.0001, Test loss: 0.0001\n"
     ]
    },
    {
     "name": "stderr",
     "output_type": "stream",
     "text": [
      "Epoch [123/500]: 100%|███████████████████████████████████████████████████| 22/22 [00:03<00:00,  5.86it/s, loss=4.65e-5]\n"
     ]
    },
    {
     "name": "stdout",
     "output_type": "stream",
     "text": [
      "Epoch [123/500]: Train loss: 0.0001, Test loss: 0.0001\n",
      "Saving model with loss 0.000...\n"
     ]
    },
    {
     "name": "stderr",
     "output_type": "stream",
     "text": [
      "Epoch [124/500]: 100%|███████████████████████████████████████████████████| 22/22 [00:03<00:00,  5.85it/s, loss=6.07e-5]\n"
     ]
    },
    {
     "name": "stdout",
     "output_type": "stream",
     "text": [
      "Epoch [124/500]: Train loss: 0.0001, Test loss: 0.0001\n"
     ]
    },
    {
     "name": "stderr",
     "output_type": "stream",
     "text": [
      "Epoch [125/500]: 100%|███████████████████████████████████████████████████| 22/22 [00:04<00:00,  5.46it/s, loss=8.41e-5]\n"
     ]
    },
    {
     "name": "stdout",
     "output_type": "stream",
     "text": [
      "Epoch [125/500]: Train loss: 0.0001, Test loss: 0.0001\n"
     ]
    },
    {
     "name": "stderr",
     "output_type": "stream",
     "text": [
      "Epoch [126/500]: 100%|███████████████████████████████████████████████████| 22/22 [00:03<00:00,  6.08it/s, loss=5.07e-5]\n"
     ]
    },
    {
     "name": "stdout",
     "output_type": "stream",
     "text": [
      "Epoch [126/500]: Train loss: 0.0001, Test loss: 0.0001\n"
     ]
    },
    {
     "name": "stderr",
     "output_type": "stream",
     "text": [
      "Epoch [127/500]: 100%|███████████████████████████████████████████████████| 22/22 [00:04<00:00,  5.40it/s, loss=5.05e-5]\n"
     ]
    },
    {
     "name": "stdout",
     "output_type": "stream",
     "text": [
      "Epoch [127/500]: Train loss: 0.0001, Test loss: 0.0001\n"
     ]
    },
    {
     "name": "stderr",
     "output_type": "stream",
     "text": [
      "Epoch [128/500]: 100%|███████████████████████████████████████████████████| 22/22 [00:03<00:00,  6.09it/s, loss=4.51e-5]\n"
     ]
    },
    {
     "name": "stdout",
     "output_type": "stream",
     "text": [
      "Epoch [128/500]: Train loss: 0.0001, Test loss: 0.0001\n"
     ]
    },
    {
     "name": "stderr",
     "output_type": "stream",
     "text": [
      "Epoch [129/500]: 100%|███████████████████████████████████████████████████| 22/22 [00:03<00:00,  6.13it/s, loss=3.93e-5]\n"
     ]
    },
    {
     "name": "stdout",
     "output_type": "stream",
     "text": [
      "Epoch [129/500]: Train loss: 0.0001, Test loss: 0.0001\n"
     ]
    },
    {
     "name": "stderr",
     "output_type": "stream",
     "text": [
      "Epoch [130/500]: 100%|███████████████████████████████████████████████████| 22/22 [00:03<00:00,  5.62it/s, loss=5.55e-5]\n"
     ]
    },
    {
     "name": "stdout",
     "output_type": "stream",
     "text": [
      "Epoch [130/500]: Train loss: 0.0001, Test loss: 0.0001\n"
     ]
    },
    {
     "name": "stderr",
     "output_type": "stream",
     "text": [
      "Epoch [131/500]: 100%|███████████████████████████████████████████████████| 22/22 [00:03<00:00,  6.11it/s, loss=6.03e-5]\n"
     ]
    },
    {
     "name": "stdout",
     "output_type": "stream",
     "text": [
      "Epoch [131/500]: Train loss: 0.0001, Test loss: 0.0001\n"
     ]
    },
    {
     "name": "stderr",
     "output_type": "stream",
     "text": [
      "Epoch [132/500]: 100%|███████████████████████████████████████████████████| 22/22 [00:03<00:00,  6.24it/s, loss=9.04e-5]\n"
     ]
    },
    {
     "name": "stdout",
     "output_type": "stream",
     "text": [
      "Epoch [132/500]: Train loss: 0.0001, Test loss: 0.0001\n"
     ]
    },
    {
     "name": "stderr",
     "output_type": "stream",
     "text": [
      "Epoch [133/500]: 100%|███████████████████████████████████████████████████| 22/22 [00:03<00:00,  6.24it/s, loss=5.58e-5]\n"
     ]
    },
    {
     "name": "stdout",
     "output_type": "stream",
     "text": [
      "Epoch [133/500]: Train loss: 0.0001, Test loss: 0.0001\n"
     ]
    },
    {
     "name": "stderr",
     "output_type": "stream",
     "text": [
      "Epoch [134/500]: 100%|███████████████████████████████████████████████████| 22/22 [00:03<00:00,  6.16it/s, loss=5.85e-5]\n"
     ]
    },
    {
     "name": "stdout",
     "output_type": "stream",
     "text": [
      "Epoch [134/500]: Train loss: 0.0001, Test loss: 0.0001\n"
     ]
    },
    {
     "name": "stderr",
     "output_type": "stream",
     "text": [
      "Epoch [135/500]: 100%|███████████████████████████████████████████████████| 22/22 [00:03<00:00,  6.13it/s, loss=5.65e-5]\n"
     ]
    },
    {
     "name": "stdout",
     "output_type": "stream",
     "text": [
      "Epoch [135/500]: Train loss: 0.0001, Test loss: 0.0001\n"
     ]
    },
    {
     "name": "stderr",
     "output_type": "stream",
     "text": [
      "Epoch [136/500]: 100%|███████████████████████████████████████████████████| 22/22 [00:03<00:00,  5.88it/s, loss=7.89e-5]\n"
     ]
    },
    {
     "name": "stdout",
     "output_type": "stream",
     "text": [
      "Epoch [136/500]: Train loss: 0.0001, Test loss: 0.0001\n"
     ]
    },
    {
     "name": "stderr",
     "output_type": "stream",
     "text": [
      "Epoch [137/500]: 100%|███████████████████████████████████████████████████| 22/22 [00:04<00:00,  5.13it/s, loss=8.61e-5]\n"
     ]
    },
    {
     "name": "stdout",
     "output_type": "stream",
     "text": [
      "Epoch [137/500]: Train loss: 0.0001, Test loss: 0.0001\n"
     ]
    },
    {
     "name": "stderr",
     "output_type": "stream",
     "text": [
      "Epoch [138/500]: 100%|███████████████████████████████████████████████████| 22/22 [00:03<00:00,  5.92it/s, loss=4.12e-5]\n"
     ]
    },
    {
     "name": "stdout",
     "output_type": "stream",
     "text": [
      "Epoch [138/500]: Train loss: 0.0001, Test loss: 0.0001\n"
     ]
    },
    {
     "name": "stderr",
     "output_type": "stream",
     "text": [
      "Epoch [139/500]: 100%|███████████████████████████████████████████████████| 22/22 [00:03<00:00,  5.69it/s, loss=3.92e-5]\n"
     ]
    },
    {
     "name": "stdout",
     "output_type": "stream",
     "text": [
      "Epoch [139/500]: Train loss: 0.0001, Test loss: 0.0001\n",
      "Saving model with loss 0.000...\n"
     ]
    },
    {
     "name": "stderr",
     "output_type": "stream",
     "text": [
      "Epoch [140/500]: 100%|████████████████████████████████████████████████████| 22/22 [00:03<00:00,  6.18it/s, loss=7.1e-5]\n"
     ]
    },
    {
     "name": "stdout",
     "output_type": "stream",
     "text": [
      "Epoch [140/500]: Train loss: 0.0001, Test loss: 0.0001\n"
     ]
    },
    {
     "name": "stderr",
     "output_type": "stream",
     "text": [
      "Epoch [141/500]: 100%|███████████████████████████████████████████████████| 22/22 [00:03<00:00,  5.82it/s, loss=4.98e-5]\n"
     ]
    },
    {
     "name": "stdout",
     "output_type": "stream",
     "text": [
      "Epoch [141/500]: Train loss: 0.0001, Test loss: 0.0001\n"
     ]
    },
    {
     "name": "stderr",
     "output_type": "stream",
     "text": [
      "Epoch [142/500]: 100%|███████████████████████████████████████████████████| 22/22 [00:03<00:00,  6.66it/s, loss=6.22e-5]\n"
     ]
    },
    {
     "name": "stdout",
     "output_type": "stream",
     "text": [
      "Epoch [142/500]: Train loss: 0.0001, Test loss: 0.0001\n"
     ]
    },
    {
     "name": "stderr",
     "output_type": "stream",
     "text": [
      "Epoch [143/500]: 100%|███████████████████████████████████████████████████| 22/22 [00:03<00:00,  6.10it/s, loss=3.81e-5]\n"
     ]
    },
    {
     "name": "stdout",
     "output_type": "stream",
     "text": [
      "Epoch [143/500]: Train loss: 0.0001, Test loss: 0.0001\n"
     ]
    },
    {
     "name": "stderr",
     "output_type": "stream",
     "text": [
      "Epoch [144/500]: 100%|███████████████████████████████████████████████████| 22/22 [00:03<00:00,  5.87it/s, loss=8.51e-5]\n"
     ]
    },
    {
     "name": "stdout",
     "output_type": "stream",
     "text": [
      "Epoch [144/500]: Train loss: 0.0001, Test loss: 0.0001\n"
     ]
    },
    {
     "name": "stderr",
     "output_type": "stream",
     "text": [
      "Epoch [145/500]: 100%|███████████████████████████████████████████████████| 22/22 [00:03<00:00,  6.03it/s, loss=7.82e-5]\n"
     ]
    },
    {
     "name": "stdout",
     "output_type": "stream",
     "text": [
      "Epoch [145/500]: Train loss: 0.0001, Test loss: 0.0001\n"
     ]
    },
    {
     "name": "stderr",
     "output_type": "stream",
     "text": [
      "Epoch [146/500]: 100%|███████████████████████████████████████████████████| 22/22 [00:03<00:00,  6.04it/s, loss=4.35e-5]\n"
     ]
    },
    {
     "name": "stdout",
     "output_type": "stream",
     "text": [
      "Epoch [146/500]: Train loss: 0.0001, Test loss: 0.0001\n"
     ]
    },
    {
     "name": "stderr",
     "output_type": "stream",
     "text": [
      "Epoch [147/500]: 100%|███████████████████████████████████████████████████| 22/22 [00:03<00:00,  6.62it/s, loss=3.96e-5]\n"
     ]
    },
    {
     "name": "stdout",
     "output_type": "stream",
     "text": [
      "Epoch [147/500]: Train loss: 0.0001, Test loss: 0.0001\n"
     ]
    },
    {
     "name": "stderr",
     "output_type": "stream",
     "text": [
      "Epoch [148/500]: 100%|███████████████████████████████████████████████████| 22/22 [00:03<00:00,  6.34it/s, loss=5.07e-5]\n"
     ]
    },
    {
     "name": "stdout",
     "output_type": "stream",
     "text": [
      "Epoch [148/500]: Train loss: 0.0001, Test loss: 0.0001\n",
      "Saving model with loss 0.000...\n"
     ]
    },
    {
     "name": "stderr",
     "output_type": "stream",
     "text": [
      "Epoch [149/500]: 100%|████████████████████████████████████████████████████| 22/22 [00:03<00:00,  6.34it/s, loss=8.2e-5]\n"
     ]
    },
    {
     "name": "stdout",
     "output_type": "stream",
     "text": [
      "Epoch [149/500]: Train loss: 0.0001, Test loss: 0.0001\n"
     ]
    },
    {
     "name": "stderr",
     "output_type": "stream",
     "text": [
      "Epoch [150/500]: 100%|███████████████████████████████████████████████████| 22/22 [00:03<00:00,  6.39it/s, loss=2.65e-5]\n"
     ]
    },
    {
     "name": "stdout",
     "output_type": "stream",
     "text": [
      "Epoch [150/500]: Train loss: 0.0001, Test loss: 0.0001\n"
     ]
    },
    {
     "name": "stderr",
     "output_type": "stream",
     "text": [
      "Epoch [151/500]: 100%|███████████████████████████████████████████████████| 22/22 [00:03<00:00,  6.13it/s, loss=6.07e-5]\n"
     ]
    },
    {
     "name": "stdout",
     "output_type": "stream",
     "text": [
      "Epoch [151/500]: Train loss: 0.0001, Test loss: 0.0001\n"
     ]
    },
    {
     "name": "stderr",
     "output_type": "stream",
     "text": [
      "Epoch [152/500]: 100%|███████████████████████████████████████████████████| 22/22 [00:04<00:00,  5.30it/s, loss=9.47e-5]\n"
     ]
    },
    {
     "name": "stdout",
     "output_type": "stream",
     "text": [
      "Epoch [152/500]: Train loss: 0.0001, Test loss: 0.0001\n"
     ]
    },
    {
     "name": "stderr",
     "output_type": "stream",
     "text": [
      "Epoch [153/500]: 100%|███████████████████████████████████████████████████| 22/22 [00:03<00:00,  5.82it/s, loss=7.11e-5]\n"
     ]
    },
    {
     "name": "stdout",
     "output_type": "stream",
     "text": [
      "Epoch [153/500]: Train loss: 0.0001, Test loss: 0.0001\n"
     ]
    },
    {
     "name": "stderr",
     "output_type": "stream",
     "text": [
      "Epoch [154/500]: 100%|███████████████████████████████████████████████████| 22/22 [00:03<00:00,  5.98it/s, loss=7.51e-5]\n"
     ]
    },
    {
     "name": "stdout",
     "output_type": "stream",
     "text": [
      "Epoch [154/500]: Train loss: 0.0001, Test loss: 0.0001\n"
     ]
    },
    {
     "name": "stderr",
     "output_type": "stream",
     "text": [
      "Epoch [155/500]: 100%|███████████████████████████████████████████████████| 22/22 [00:03<00:00,  5.57it/s, loss=5.96e-5]\n"
     ]
    },
    {
     "name": "stdout",
     "output_type": "stream",
     "text": [
      "Epoch [155/500]: Train loss: 0.0001, Test loss: 0.0001\n"
     ]
    },
    {
     "name": "stderr",
     "output_type": "stream",
     "text": [
      "Epoch [156/500]: 100%|███████████████████████████████████████████████████| 22/22 [00:03<00:00,  6.17it/s, loss=7.55e-5]\n"
     ]
    },
    {
     "name": "stdout",
     "output_type": "stream",
     "text": [
      "Epoch [156/500]: Train loss: 0.0001, Test loss: 0.0001\n"
     ]
    },
    {
     "name": "stderr",
     "output_type": "stream",
     "text": [
      "Epoch [157/500]: 100%|███████████████████████████████████████████████████| 22/22 [00:03<00:00,  6.28it/s, loss=6.99e-5]\n"
     ]
    },
    {
     "name": "stdout",
     "output_type": "stream",
     "text": [
      "Epoch [157/500]: Train loss: 0.0001, Test loss: 0.0001\n"
     ]
    },
    {
     "name": "stderr",
     "output_type": "stream",
     "text": [
      "Epoch [158/500]: 100%|████████████████████████████████████████████████████| 22/22 [00:03<00:00,  6.02it/s, loss=5.3e-5]\n"
     ]
    },
    {
     "name": "stdout",
     "output_type": "stream",
     "text": [
      "Epoch [158/500]: Train loss: 0.0001, Test loss: 0.0001\n"
     ]
    },
    {
     "name": "stderr",
     "output_type": "stream",
     "text": [
      "Epoch [159/500]: 100%|███████████████████████████████████████████████████| 22/22 [00:03<00:00,  5.88it/s, loss=6.95e-5]\n"
     ]
    },
    {
     "name": "stdout",
     "output_type": "stream",
     "text": [
      "Epoch [159/500]: Train loss: 0.0001, Test loss: 0.0001\n"
     ]
    },
    {
     "name": "stderr",
     "output_type": "stream",
     "text": [
      "Epoch [160/500]: 100%|███████████████████████████████████████████████████| 22/22 [00:03<00:00,  5.72it/s, loss=4.06e-5]\n"
     ]
    },
    {
     "name": "stdout",
     "output_type": "stream",
     "text": [
      "Epoch [160/500]: Train loss: 0.0001, Test loss: 0.0001\n"
     ]
    },
    {
     "name": "stderr",
     "output_type": "stream",
     "text": [
      "Epoch [161/500]: 100%|███████████████████████████████████████████████████| 22/22 [00:03<00:00,  5.62it/s, loss=8.52e-5]\n"
     ]
    },
    {
     "name": "stdout",
     "output_type": "stream",
     "text": [
      "Epoch [161/500]: Train loss: 0.0001, Test loss: 0.0001\n"
     ]
    },
    {
     "name": "stderr",
     "output_type": "stream",
     "text": [
      "Epoch [162/500]: 100%|███████████████████████████████████████████████████| 22/22 [00:03<00:00,  5.82it/s, loss=7.24e-5]\n"
     ]
    },
    {
     "name": "stdout",
     "output_type": "stream",
     "text": [
      "Epoch [162/500]: Train loss: 0.0001, Test loss: 0.0001\n",
      "Saving model with loss 0.000...\n"
     ]
    },
    {
     "name": "stderr",
     "output_type": "stream",
     "text": [
      "Epoch [163/500]: 100%|███████████████████████████████████████████████████| 22/22 [00:03<00:00,  6.29it/s, loss=5.41e-5]\n"
     ]
    },
    {
     "name": "stdout",
     "output_type": "stream",
     "text": [
      "Epoch [163/500]: Train loss: 0.0001, Test loss: 0.0001\n"
     ]
    },
    {
     "name": "stderr",
     "output_type": "stream",
     "text": [
      "Epoch [164/500]: 100%|████████████████████████████████████████████████████| 22/22 [00:03<00:00,  6.15it/s, loss=0.0001]\n"
     ]
    },
    {
     "name": "stdout",
     "output_type": "stream",
     "text": [
      "Epoch [164/500]: Train loss: 0.0001, Test loss: 0.0001\n"
     ]
    },
    {
     "name": "stderr",
     "output_type": "stream",
     "text": [
      "Epoch [165/500]: 100%|███████████████████████████████████████████████████| 22/22 [00:03<00:00,  5.95it/s, loss=5.96e-5]\n"
     ]
    },
    {
     "name": "stdout",
     "output_type": "stream",
     "text": [
      "Epoch [165/500]: Train loss: 0.0001, Test loss: 0.0001\n"
     ]
    },
    {
     "name": "stderr",
     "output_type": "stream",
     "text": [
      "Epoch [166/500]: 100%|███████████████████████████████████████████████████| 22/22 [00:03<00:00,  5.73it/s, loss=3.29e-5]\n"
     ]
    },
    {
     "name": "stdout",
     "output_type": "stream",
     "text": [
      "Epoch [166/500]: Train loss: 0.0001, Test loss: 0.0001\n"
     ]
    },
    {
     "name": "stderr",
     "output_type": "stream",
     "text": [
      "Epoch [167/500]: 100%|███████████████████████████████████████████████████| 22/22 [00:04<00:00,  5.29it/s, loss=6.38e-5]\n"
     ]
    },
    {
     "name": "stdout",
     "output_type": "stream",
     "text": [
      "Epoch [167/500]: Train loss: 0.0001, Test loss: 0.0001\n"
     ]
    },
    {
     "name": "stderr",
     "output_type": "stream",
     "text": [
      "Epoch [168/500]: 100%|███████████████████████████████████████████████████| 22/22 [00:03<00:00,  6.13it/s, loss=5.97e-5]\n"
     ]
    },
    {
     "name": "stdout",
     "output_type": "stream",
     "text": [
      "Epoch [168/500]: Train loss: 0.0001, Test loss: 0.0001\n"
     ]
    },
    {
     "name": "stderr",
     "output_type": "stream",
     "text": [
      "Epoch [169/500]: 100%|███████████████████████████████████████████████████| 22/22 [00:04<00:00,  5.45it/s, loss=7.85e-5]\n"
     ]
    },
    {
     "name": "stdout",
     "output_type": "stream",
     "text": [
      "Epoch [169/500]: Train loss: 0.0001, Test loss: 0.0001\n"
     ]
    },
    {
     "name": "stderr",
     "output_type": "stream",
     "text": [
      "Epoch [170/500]: 100%|███████████████████████████████████████████████████| 22/22 [00:03<00:00,  6.19it/s, loss=7.32e-5]\n"
     ]
    },
    {
     "name": "stdout",
     "output_type": "stream",
     "text": [
      "Epoch [170/500]: Train loss: 0.0001, Test loss: 0.0001\n"
     ]
    },
    {
     "name": "stderr",
     "output_type": "stream",
     "text": [
      "Epoch [171/500]: 100%|███████████████████████████████████████████████████| 22/22 [00:03<00:00,  5.89it/s, loss=4.78e-5]\n"
     ]
    },
    {
     "name": "stdout",
     "output_type": "stream",
     "text": [
      "Epoch [171/500]: Train loss: 0.0001, Test loss: 0.0001\n"
     ]
    },
    {
     "name": "stderr",
     "output_type": "stream",
     "text": [
      "Epoch [172/500]: 100%|███████████████████████████████████████████████████| 22/22 [00:03<00:00,  6.11it/s, loss=5.02e-5]\n"
     ]
    },
    {
     "name": "stdout",
     "output_type": "stream",
     "text": [
      "Epoch [172/500]: Train loss: 0.0001, Test loss: 0.0001\n"
     ]
    },
    {
     "name": "stderr",
     "output_type": "stream",
     "text": [
      "Epoch [173/500]: 100%|████████████████████████████████████████████████████| 22/22 [00:03<00:00,  6.37it/s, loss=7.1e-5]\n"
     ]
    },
    {
     "name": "stdout",
     "output_type": "stream",
     "text": [
      "Epoch [173/500]: Train loss: 0.0001, Test loss: 0.0001\n"
     ]
    },
    {
     "name": "stderr",
     "output_type": "stream",
     "text": [
      "Epoch [174/500]: 100%|███████████████████████████████████████████████████| 22/22 [00:03<00:00,  5.93it/s, loss=6.94e-5]\n"
     ]
    },
    {
     "name": "stdout",
     "output_type": "stream",
     "text": [
      "Epoch [174/500]: Train loss: 0.0001, Test loss: 0.0001\n"
     ]
    },
    {
     "name": "stderr",
     "output_type": "stream",
     "text": [
      "Epoch [175/500]: 100%|███████████████████████████████████████████████████| 22/22 [00:03<00:00,  5.92it/s, loss=5.96e-5]\n"
     ]
    },
    {
     "name": "stdout",
     "output_type": "stream",
     "text": [
      "Epoch [175/500]: Train loss: 0.0001, Test loss: 0.0001\n"
     ]
    },
    {
     "name": "stderr",
     "output_type": "stream",
     "text": [
      "Epoch [176/500]: 100%|███████████████████████████████████████████████████| 22/22 [00:03<00:00,  6.29it/s, loss=4.54e-5]\n"
     ]
    },
    {
     "name": "stdout",
     "output_type": "stream",
     "text": [
      "Epoch [176/500]: Train loss: 0.0001, Test loss: 0.0001\n"
     ]
    },
    {
     "name": "stderr",
     "output_type": "stream",
     "text": [
      "Epoch [177/500]: 100%|███████████████████████████████████████████████████| 22/22 [00:03<00:00,  6.22it/s, loss=3.22e-5]\n"
     ]
    },
    {
     "name": "stdout",
     "output_type": "stream",
     "text": [
      "Epoch [177/500]: Train loss: 0.0001, Test loss: 0.0001\n"
     ]
    },
    {
     "name": "stderr",
     "output_type": "stream",
     "text": [
      "Epoch [178/500]: 100%|███████████████████████████████████████████████████| 22/22 [00:03<00:00,  6.04it/s, loss=5.25e-5]\n"
     ]
    },
    {
     "name": "stdout",
     "output_type": "stream",
     "text": [
      "Epoch [178/500]: Train loss: 0.0001, Test loss: 0.0001\n"
     ]
    },
    {
     "name": "stderr",
     "output_type": "stream",
     "text": [
      "Epoch [179/500]: 100%|███████████████████████████████████████████████████| 22/22 [00:03<00:00,  6.25it/s, loss=8.04e-5]\n"
     ]
    },
    {
     "name": "stdout",
     "output_type": "stream",
     "text": [
      "Epoch [179/500]: Train loss: 0.0001, Test loss: 0.0001\n"
     ]
    },
    {
     "name": "stderr",
     "output_type": "stream",
     "text": [
      "Epoch [180/500]: 100%|███████████████████████████████████████████████████| 22/22 [00:04<00:00,  5.07it/s, loss=8.43e-5]\n"
     ]
    },
    {
     "name": "stdout",
     "output_type": "stream",
     "text": [
      "Epoch [180/500]: Train loss: 0.0001, Test loss: 0.0001\n"
     ]
    },
    {
     "name": "stderr",
     "output_type": "stream",
     "text": [
      "Epoch [181/500]: 100%|███████████████████████████████████████████████████| 22/22 [00:03<00:00,  5.97it/s, loss=6.81e-5]\n"
     ]
    },
    {
     "name": "stdout",
     "output_type": "stream",
     "text": [
      "Epoch [181/500]: Train loss: 0.0001, Test loss: 0.0001\n"
     ]
    },
    {
     "name": "stderr",
     "output_type": "stream",
     "text": [
      "Epoch [182/500]: 100%|███████████████████████████████████████████████████| 22/22 [00:04<00:00,  5.26it/s, loss=7.35e-5]\n"
     ]
    },
    {
     "name": "stdout",
     "output_type": "stream",
     "text": [
      "Epoch [182/500]: Train loss: 0.0001, Test loss: 0.0001\n"
     ]
    },
    {
     "name": "stderr",
     "output_type": "stream",
     "text": [
      "Epoch [183/500]: 100%|███████████████████████████████████████████████████| 22/22 [00:03<00:00,  6.15it/s, loss=6.28e-5]\n"
     ]
    },
    {
     "name": "stdout",
     "output_type": "stream",
     "text": [
      "Epoch [183/500]: Train loss: 0.0001, Test loss: 0.0001\n"
     ]
    },
    {
     "name": "stderr",
     "output_type": "stream",
     "text": [
      "Epoch [184/500]: 100%|████████████████████████████████████████████████████| 22/22 [00:03<00:00,  5.67it/s, loss=2.4e-5]\n"
     ]
    },
    {
     "name": "stdout",
     "output_type": "stream",
     "text": [
      "Epoch [184/500]: Train loss: 0.0001, Test loss: 0.0001\n"
     ]
    },
    {
     "name": "stderr",
     "output_type": "stream",
     "text": [
      "Epoch [185/500]: 100%|████████████████████████████████████████████████████| 22/22 [00:03<00:00,  5.96it/s, loss=1.4e-5]\n"
     ]
    },
    {
     "name": "stdout",
     "output_type": "stream",
     "text": [
      "Epoch [185/500]: Train loss: 0.0001, Test loss: 0.0001\n"
     ]
    },
    {
     "name": "stderr",
     "output_type": "stream",
     "text": [
      "Epoch [186/500]: 100%|███████████████████████████████████████████████████| 22/22 [00:03<00:00,  5.75it/s, loss=6.84e-5]\n"
     ]
    },
    {
     "name": "stdout",
     "output_type": "stream",
     "text": [
      "Epoch [186/500]: Train loss: 0.0001, Test loss: 0.0001\n"
     ]
    },
    {
     "name": "stderr",
     "output_type": "stream",
     "text": [
      "Epoch [187/500]: 100%|███████████████████████████████████████████████████| 22/22 [00:03<00:00,  6.45it/s, loss=6.01e-5]\n"
     ]
    },
    {
     "name": "stdout",
     "output_type": "stream",
     "text": [
      "Epoch [187/500]: Train loss: 0.0001, Test loss: 0.0001\n"
     ]
    },
    {
     "name": "stderr",
     "output_type": "stream",
     "text": [
      "Epoch [188/500]: 100%|███████████████████████████████████████████████████| 22/22 [00:04<00:00,  5.26it/s, loss=4.09e-5]\n"
     ]
    },
    {
     "name": "stdout",
     "output_type": "stream",
     "text": [
      "Epoch [188/500]: Train loss: 0.0001, Test loss: 0.0001\n"
     ]
    },
    {
     "name": "stderr",
     "output_type": "stream",
     "text": [
      "Epoch [189/500]: 100%|███████████████████████████████████████████████████| 22/22 [00:03<00:00,  6.23it/s, loss=5.56e-5]\n"
     ]
    },
    {
     "name": "stdout",
     "output_type": "stream",
     "text": [
      "Epoch [189/500]: Train loss: 0.0001, Test loss: 0.0001\n"
     ]
    },
    {
     "name": "stderr",
     "output_type": "stream",
     "text": [
      "Epoch [190/500]: 100%|███████████████████████████████████████████████████| 22/22 [00:03<00:00,  7.17it/s, loss=5.03e-5]\n"
     ]
    },
    {
     "name": "stdout",
     "output_type": "stream",
     "text": [
      "Epoch [190/500]: Train loss: 0.0001, Test loss: 0.0001\n"
     ]
    },
    {
     "name": "stderr",
     "output_type": "stream",
     "text": [
      "Epoch [191/500]: 100%|███████████████████████████████████████████████████| 22/22 [00:03<00:00,  6.61it/s, loss=6.65e-5]\n"
     ]
    },
    {
     "name": "stdout",
     "output_type": "stream",
     "text": [
      "Epoch [191/500]: Train loss: 0.0001, Test loss: 0.0001\n"
     ]
    },
    {
     "name": "stderr",
     "output_type": "stream",
     "text": [
      "Epoch [192/500]: 100%|███████████████████████████████████████████████████| 22/22 [00:04<00:00,  5.42it/s, loss=6.71e-5]\n"
     ]
    },
    {
     "name": "stdout",
     "output_type": "stream",
     "text": [
      "Epoch [192/500]: Train loss: 0.0001, Test loss: 0.0001\n"
     ]
    },
    {
     "name": "stderr",
     "output_type": "stream",
     "text": [
      "Epoch [193/500]: 100%|███████████████████████████████████████████████████| 22/22 [00:03<00:00,  5.80it/s, loss=4.02e-5]\n"
     ]
    },
    {
     "name": "stdout",
     "output_type": "stream",
     "text": [
      "Epoch [193/500]: Train loss: 0.0001, Test loss: 0.0001\n"
     ]
    },
    {
     "name": "stderr",
     "output_type": "stream",
     "text": [
      "Epoch [194/500]: 100%|███████████████████████████████████████████████████| 22/22 [00:04<00:00,  5.48it/s, loss=6.52e-5]\n"
     ]
    },
    {
     "name": "stdout",
     "output_type": "stream",
     "text": [
      "Epoch [194/500]: Train loss: 0.0001, Test loss: 0.0001\n",
      "Saving model with loss 0.000...\n"
     ]
    },
    {
     "name": "stderr",
     "output_type": "stream",
     "text": [
      "Epoch [195/500]: 100%|███████████████████████████████████████████████████| 22/22 [00:03<00:00,  5.93it/s, loss=3.99e-5]\n"
     ]
    },
    {
     "name": "stdout",
     "output_type": "stream",
     "text": [
      "Epoch [195/500]: Train loss: 0.0001, Test loss: 0.0001\n"
     ]
    },
    {
     "name": "stderr",
     "output_type": "stream",
     "text": [
      "Epoch [196/500]: 100%|███████████████████████████████████████████████████| 22/22 [00:03<00:00,  6.19it/s, loss=3.79e-5]\n"
     ]
    },
    {
     "name": "stdout",
     "output_type": "stream",
     "text": [
      "Epoch [196/500]: Train loss: 0.0001, Test loss: 0.0001\n"
     ]
    },
    {
     "name": "stderr",
     "output_type": "stream",
     "text": [
      "Epoch [197/500]: 100%|███████████████████████████████████████████████████| 22/22 [00:03<00:00,  5.95it/s, loss=3.78e-5]\n"
     ]
    },
    {
     "name": "stdout",
     "output_type": "stream",
     "text": [
      "Epoch [197/500]: Train loss: 0.0001, Test loss: 0.0001\n"
     ]
    },
    {
     "name": "stderr",
     "output_type": "stream",
     "text": [
      "Epoch [198/500]: 100%|███████████████████████████████████████████████████| 22/22 [00:03<00:00,  6.06it/s, loss=3.87e-5]\n"
     ]
    },
    {
     "name": "stdout",
     "output_type": "stream",
     "text": [
      "Epoch [198/500]: Train loss: 0.0001, Test loss: 0.0001\n"
     ]
    },
    {
     "name": "stderr",
     "output_type": "stream",
     "text": [
      "Epoch [199/500]: 100%|███████████████████████████████████████████████████| 22/22 [00:03<00:00,  6.08it/s, loss=5.17e-5]\n"
     ]
    },
    {
     "name": "stdout",
     "output_type": "stream",
     "text": [
      "Epoch [199/500]: Train loss: 0.0001, Test loss: 0.0001\n"
     ]
    },
    {
     "name": "stderr",
     "output_type": "stream",
     "text": [
      "Epoch [200/500]: 100%|███████████████████████████████████████████████████| 22/22 [00:03<00:00,  6.36it/s, loss=3.51e-5]\n"
     ]
    },
    {
     "name": "stdout",
     "output_type": "stream",
     "text": [
      "Epoch [200/500]: Train loss: 0.0001, Test loss: 0.0001\n",
      "Saving model with loss 0.000...\n"
     ]
    },
    {
     "name": "stderr",
     "output_type": "stream",
     "text": [
      "Epoch [201/500]: 100%|███████████████████████████████████████████████████| 22/22 [00:03<00:00,  5.74it/s, loss=4.56e-5]\n"
     ]
    },
    {
     "name": "stdout",
     "output_type": "stream",
     "text": [
      "Epoch [201/500]: Train loss: 0.0001, Test loss: 0.0001\n"
     ]
    },
    {
     "name": "stderr",
     "output_type": "stream",
     "text": [
      "Epoch [202/500]: 100%|███████████████████████████████████████████████████| 22/22 [00:03<00:00,  5.87it/s, loss=2.25e-5]\n"
     ]
    },
    {
     "name": "stdout",
     "output_type": "stream",
     "text": [
      "Epoch [202/500]: Train loss: 0.0001, Test loss: 0.0001\n"
     ]
    },
    {
     "name": "stderr",
     "output_type": "stream",
     "text": [
      "Epoch [203/500]: 100%|███████████████████████████████████████████████████| 22/22 [00:03<00:00,  6.57it/s, loss=4.39e-5]\n"
     ]
    },
    {
     "name": "stdout",
     "output_type": "stream",
     "text": [
      "Epoch [203/500]: Train loss: 0.0001, Test loss: 0.0001\n"
     ]
    },
    {
     "name": "stderr",
     "output_type": "stream",
     "text": [
      "Epoch [204/500]: 100%|███████████████████████████████████████████████████| 22/22 [00:03<00:00,  6.15it/s, loss=5.11e-5]\n"
     ]
    },
    {
     "name": "stdout",
     "output_type": "stream",
     "text": [
      "Epoch [204/500]: Train loss: 0.0001, Test loss: 0.0001\n"
     ]
    },
    {
     "name": "stderr",
     "output_type": "stream",
     "text": [
      "Epoch [205/500]: 100%|███████████████████████████████████████████████████| 22/22 [00:03<00:00,  6.12it/s, loss=5.08e-5]\n"
     ]
    },
    {
     "name": "stdout",
     "output_type": "stream",
     "text": [
      "Epoch [205/500]: Train loss: 0.0001, Test loss: 0.0001\n",
      "Saving model with loss 0.000...\n"
     ]
    },
    {
     "name": "stderr",
     "output_type": "stream",
     "text": [
      "Epoch [206/500]: 100%|███████████████████████████████████████████████████| 22/22 [00:04<00:00,  5.45it/s, loss=8.04e-5]\n"
     ]
    },
    {
     "name": "stdout",
     "output_type": "stream",
     "text": [
      "Epoch [206/500]: Train loss: 0.0001, Test loss: 0.0001\n"
     ]
    },
    {
     "name": "stderr",
     "output_type": "stream",
     "text": [
      "Epoch [207/500]: 100%|███████████████████████████████████████████████████| 22/22 [00:03<00:00,  5.64it/s, loss=7.25e-5]\n"
     ]
    },
    {
     "name": "stdout",
     "output_type": "stream",
     "text": [
      "Epoch [207/500]: Train loss: 0.0001, Test loss: 0.0001\n"
     ]
    },
    {
     "name": "stderr",
     "output_type": "stream",
     "text": [
      "Epoch [208/500]: 100%|███████████████████████████████████████████████████| 22/22 [00:03<00:00,  6.45it/s, loss=6.11e-5]\n"
     ]
    },
    {
     "name": "stdout",
     "output_type": "stream",
     "text": [
      "Epoch [208/500]: Train loss: 0.0001, Test loss: 0.0001\n"
     ]
    },
    {
     "name": "stderr",
     "output_type": "stream",
     "text": [
      "Epoch [209/500]: 100%|███████████████████████████████████████████████████| 22/22 [00:03<00:00,  5.73it/s, loss=6.66e-5]\n"
     ]
    },
    {
     "name": "stdout",
     "output_type": "stream",
     "text": [
      "Epoch [209/500]: Train loss: 0.0001, Test loss: 0.0001\n"
     ]
    },
    {
     "name": "stderr",
     "output_type": "stream",
     "text": [
      "Epoch [210/500]: 100%|███████████████████████████████████████████████████| 22/22 [00:03<00:00,  5.78it/s, loss=6.82e-5]\n"
     ]
    },
    {
     "name": "stdout",
     "output_type": "stream",
     "text": [
      "Epoch [210/500]: Train loss: 0.0001, Test loss: 0.0001\n"
     ]
    },
    {
     "name": "stderr",
     "output_type": "stream",
     "text": [
      "Epoch [211/500]: 100%|████████████████████████████████████████████████████| 22/22 [00:03<00:00,  5.53it/s, loss=4.5e-5]\n"
     ]
    },
    {
     "name": "stdout",
     "output_type": "stream",
     "text": [
      "Epoch [211/500]: Train loss: 0.0001, Test loss: 0.0001\n"
     ]
    },
    {
     "name": "stderr",
     "output_type": "stream",
     "text": [
      "Epoch [212/500]: 100%|████████████████████████████████████████████████████| 22/22 [00:03<00:00,  6.44it/s, loss=8.4e-5]\n"
     ]
    },
    {
     "name": "stdout",
     "output_type": "stream",
     "text": [
      "Epoch [212/500]: Train loss: 0.0001, Test loss: 0.0001\n"
     ]
    },
    {
     "name": "stderr",
     "output_type": "stream",
     "text": [
      "Epoch [213/500]: 100%|███████████████████████████████████████████████████| 22/22 [00:04<00:00,  5.41it/s, loss=4.48e-5]\n"
     ]
    },
    {
     "name": "stdout",
     "output_type": "stream",
     "text": [
      "Epoch [213/500]: Train loss: 0.0001, Test loss: 0.0001\n"
     ]
    },
    {
     "name": "stderr",
     "output_type": "stream",
     "text": [
      "Epoch [214/500]: 100%|███████████████████████████████████████████████████| 22/22 [00:03<00:00,  5.68it/s, loss=5.49e-5]\n"
     ]
    },
    {
     "name": "stdout",
     "output_type": "stream",
     "text": [
      "Epoch [214/500]: Train loss: 0.0001, Test loss: 0.0001\n"
     ]
    },
    {
     "name": "stderr",
     "output_type": "stream",
     "text": [
      "Epoch [215/500]: 100%|███████████████████████████████████████████████████| 22/22 [00:03<00:00,  6.52it/s, loss=4.01e-5]\n"
     ]
    },
    {
     "name": "stdout",
     "output_type": "stream",
     "text": [
      "Epoch [215/500]: Train loss: 0.0001, Test loss: 0.0001\n"
     ]
    },
    {
     "name": "stderr",
     "output_type": "stream",
     "text": [
      "Epoch [216/500]: 100%|███████████████████████████████████████████████████| 22/22 [00:03<00:00,  5.68it/s, loss=5.52e-5]\n"
     ]
    },
    {
     "name": "stdout",
     "output_type": "stream",
     "text": [
      "Epoch [216/500]: Train loss: 0.0001, Test loss: 0.0001\n"
     ]
    },
    {
     "name": "stderr",
     "output_type": "stream",
     "text": [
      "Epoch [217/500]: 100%|███████████████████████████████████████████████████| 22/22 [00:03<00:00,  6.59it/s, loss=6.39e-5]\n"
     ]
    },
    {
     "name": "stdout",
     "output_type": "stream",
     "text": [
      "Epoch [217/500]: Train loss: 0.0001, Test loss: 0.0001\n"
     ]
    },
    {
     "name": "stderr",
     "output_type": "stream",
     "text": [
      "Epoch [218/500]: 100%|███████████████████████████████████████████████████| 22/22 [00:04<00:00,  5.42it/s, loss=4.83e-5]\n"
     ]
    },
    {
     "name": "stdout",
     "output_type": "stream",
     "text": [
      "Epoch [218/500]: Train loss: 0.0001, Test loss: 0.0001\n"
     ]
    },
    {
     "name": "stderr",
     "output_type": "stream",
     "text": [
      "Epoch [219/500]: 100%|███████████████████████████████████████████████████| 22/22 [00:03<00:00,  6.05it/s, loss=5.61e-5]\n"
     ]
    },
    {
     "name": "stdout",
     "output_type": "stream",
     "text": [
      "Epoch [219/500]: Train loss: 0.0001, Test loss: 0.0001\n"
     ]
    },
    {
     "name": "stderr",
     "output_type": "stream",
     "text": [
      "Epoch [220/500]: 100%|██████████████████████████████████████████████████| 22/22 [00:04<00:00,  5.40it/s, loss=0.000102]\n"
     ]
    },
    {
     "name": "stdout",
     "output_type": "stream",
     "text": [
      "Epoch [220/500]: Train loss: 0.0001, Test loss: 0.0001\n"
     ]
    },
    {
     "name": "stderr",
     "output_type": "stream",
     "text": [
      "Epoch [221/500]: 100%|███████████████████████████████████████████████████| 22/22 [00:03<00:00,  5.70it/s, loss=6.23e-5]\n"
     ]
    },
    {
     "name": "stdout",
     "output_type": "stream",
     "text": [
      "Epoch [221/500]: Train loss: 0.0001, Test loss: 0.0001\n"
     ]
    },
    {
     "name": "stderr",
     "output_type": "stream",
     "text": [
      "Epoch [222/500]: 100%|███████████████████████████████████████████████████| 22/22 [00:04<00:00,  5.29it/s, loss=5.14e-5]\n"
     ]
    },
    {
     "name": "stdout",
     "output_type": "stream",
     "text": [
      "Epoch [222/500]: Train loss: 0.0001, Test loss: 0.0001\n"
     ]
    },
    {
     "name": "stderr",
     "output_type": "stream",
     "text": [
      "Epoch [223/500]: 100%|████████████████████████████████████████████████████| 22/22 [00:03<00:00,  5.62it/s, loss=6.7e-5]\n"
     ]
    },
    {
     "name": "stdout",
     "output_type": "stream",
     "text": [
      "Epoch [223/500]: Train loss: 0.0001, Test loss: 0.0001\n"
     ]
    },
    {
     "name": "stderr",
     "output_type": "stream",
     "text": [
      "Epoch [224/500]: 100%|████████████████████████████████████████████████████| 22/22 [00:03<00:00,  5.67it/s, loss=5.1e-5]\n"
     ]
    },
    {
     "name": "stdout",
     "output_type": "stream",
     "text": [
      "Epoch [224/500]: Train loss: 0.0001, Test loss: 0.0001\n",
      "Saving model with loss 0.000...\n"
     ]
    },
    {
     "name": "stderr",
     "output_type": "stream",
     "text": [
      "Epoch [225/500]: 100%|███████████████████████████████████████████████████| 22/22 [00:03<00:00,  6.59it/s, loss=5.84e-5]\n"
     ]
    },
    {
     "name": "stdout",
     "output_type": "stream",
     "text": [
      "Epoch [225/500]: Train loss: 0.0001, Test loss: 0.0001\n"
     ]
    },
    {
     "name": "stderr",
     "output_type": "stream",
     "text": [
      "Epoch [226/500]: 100%|███████████████████████████████████████████████████| 22/22 [00:03<00:00,  6.16it/s, loss=4.52e-5]\n"
     ]
    },
    {
     "name": "stdout",
     "output_type": "stream",
     "text": [
      "Epoch [226/500]: Train loss: 0.0001, Test loss: 0.0001\n"
     ]
    },
    {
     "name": "stderr",
     "output_type": "stream",
     "text": [
      "Epoch [227/500]: 100%|███████████████████████████████████████████████████| 22/22 [00:04<00:00,  5.17it/s, loss=6.17e-5]\n"
     ]
    },
    {
     "name": "stdout",
     "output_type": "stream",
     "text": [
      "Epoch [227/500]: Train loss: 0.0001, Test loss: 0.0001\n"
     ]
    },
    {
     "name": "stderr",
     "output_type": "stream",
     "text": [
      "Epoch [228/500]: 100%|███████████████████████████████████████████████████| 22/22 [00:03<00:00,  6.20it/s, loss=5.58e-5]\n"
     ]
    },
    {
     "name": "stdout",
     "output_type": "stream",
     "text": [
      "Epoch [228/500]: Train loss: 0.0001, Test loss: 0.0001\n"
     ]
    },
    {
     "name": "stderr",
     "output_type": "stream",
     "text": [
      "Epoch [229/500]: 100%|███████████████████████████████████████████████████| 22/22 [00:03<00:00,  6.68it/s, loss=5.34e-5]\n"
     ]
    },
    {
     "name": "stdout",
     "output_type": "stream",
     "text": [
      "Epoch [229/500]: Train loss: 0.0001, Test loss: 0.0001\n"
     ]
    },
    {
     "name": "stderr",
     "output_type": "stream",
     "text": [
      "Epoch [230/500]: 100%|███████████████████████████████████████████████████| 22/22 [00:03<00:00,  5.69it/s, loss=6.37e-5]\n"
     ]
    },
    {
     "name": "stdout",
     "output_type": "stream",
     "text": [
      "Epoch [230/500]: Train loss: 0.0001, Test loss: 0.0001\n"
     ]
    },
    {
     "name": "stderr",
     "output_type": "stream",
     "text": [
      "Epoch [231/500]: 100%|███████████████████████████████████████████████████| 22/22 [00:03<00:00,  6.34it/s, loss=5.52e-5]\n"
     ]
    },
    {
     "name": "stdout",
     "output_type": "stream",
     "text": [
      "Epoch [231/500]: Train loss: 0.0001, Test loss: 0.0001\n"
     ]
    },
    {
     "name": "stderr",
     "output_type": "stream",
     "text": [
      "Epoch [232/500]: 100%|███████████████████████████████████████████████████| 22/22 [00:03<00:00,  5.75it/s, loss=6.07e-5]\n"
     ]
    },
    {
     "name": "stdout",
     "output_type": "stream",
     "text": [
      "Epoch [232/500]: Train loss: 0.0001, Test loss: 0.0001\n"
     ]
    },
    {
     "name": "stderr",
     "output_type": "stream",
     "text": [
      "Epoch [233/500]: 100%|███████████████████████████████████████████████████| 22/22 [00:03<00:00,  5.54it/s, loss=7.98e-5]\n"
     ]
    },
    {
     "name": "stdout",
     "output_type": "stream",
     "text": [
      "Epoch [233/500]: Train loss: 0.0001, Test loss: 0.0001\n"
     ]
    },
    {
     "name": "stderr",
     "output_type": "stream",
     "text": [
      "Epoch [234/500]: 100%|███████████████████████████████████████████████████| 22/22 [00:03<00:00,  5.82it/s, loss=4.38e-5]\n"
     ]
    },
    {
     "name": "stdout",
     "output_type": "stream",
     "text": [
      "Epoch [234/500]: Train loss: 0.0001, Test loss: 0.0001\n"
     ]
    },
    {
     "name": "stderr",
     "output_type": "stream",
     "text": [
      "Epoch [235/500]: 100%|███████████████████████████████████████████████████| 22/22 [00:03<00:00,  5.55it/s, loss=6.12e-5]\n"
     ]
    },
    {
     "name": "stdout",
     "output_type": "stream",
     "text": [
      "Epoch [235/500]: Train loss: 0.0001, Test loss: 0.0001\n"
     ]
    },
    {
     "name": "stderr",
     "output_type": "stream",
     "text": [
      "Epoch [236/500]: 100%|███████████████████████████████████████████████████| 22/22 [00:03<00:00,  5.80it/s, loss=4.81e-5]\n"
     ]
    },
    {
     "name": "stdout",
     "output_type": "stream",
     "text": [
      "Epoch [236/500]: Train loss: 0.0001, Test loss: 0.0001\n"
     ]
    },
    {
     "name": "stderr",
     "output_type": "stream",
     "text": [
      "Epoch [237/500]: 100%|████████████████████████████████████████████████████| 22/22 [00:03<00:00,  6.54it/s, loss=6.1e-5]\n"
     ]
    },
    {
     "name": "stdout",
     "output_type": "stream",
     "text": [
      "Epoch [237/500]: Train loss: 0.0001, Test loss: 0.0001\n"
     ]
    },
    {
     "name": "stderr",
     "output_type": "stream",
     "text": [
      "Epoch [238/500]: 100%|███████████████████████████████████████████████████| 22/22 [00:03<00:00,  6.10it/s, loss=5.38e-5]\n"
     ]
    },
    {
     "name": "stdout",
     "output_type": "stream",
     "text": [
      "Epoch [238/500]: Train loss: 0.0001, Test loss: 0.0001\n"
     ]
    },
    {
     "name": "stderr",
     "output_type": "stream",
     "text": [
      "Epoch [239/500]: 100%|███████████████████████████████████████████████████| 22/22 [00:03<00:00,  6.19it/s, loss=6.93e-5]\n"
     ]
    },
    {
     "name": "stdout",
     "output_type": "stream",
     "text": [
      "Epoch [239/500]: Train loss: 0.0001, Test loss: 0.0001\n"
     ]
    },
    {
     "name": "stderr",
     "output_type": "stream",
     "text": [
      "Epoch [240/500]: 100%|███████████████████████████████████████████████████| 22/22 [00:03<00:00,  5.99it/s, loss=3.92e-5]\n"
     ]
    },
    {
     "name": "stdout",
     "output_type": "stream",
     "text": [
      "Epoch [240/500]: Train loss: 0.0001, Test loss: 0.0001\n"
     ]
    },
    {
     "name": "stderr",
     "output_type": "stream",
     "text": [
      "Epoch [241/500]: 100%|███████████████████████████████████████████████████| 22/22 [00:03<00:00,  5.56it/s, loss=4.39e-5]\n"
     ]
    },
    {
     "name": "stdout",
     "output_type": "stream",
     "text": [
      "Epoch [241/500]: Train loss: 0.0001, Test loss: 0.0001\n"
     ]
    },
    {
     "name": "stderr",
     "output_type": "stream",
     "text": [
      "Epoch [242/500]: 100%|███████████████████████████████████████████████████| 22/22 [00:04<00:00,  5.31it/s, loss=4.49e-5]\n"
     ]
    },
    {
     "name": "stdout",
     "output_type": "stream",
     "text": [
      "Epoch [242/500]: Train loss: 0.0001, Test loss: 0.0001\n"
     ]
    },
    {
     "name": "stderr",
     "output_type": "stream",
     "text": [
      "Epoch [243/500]: 100%|███████████████████████████████████████████████████| 22/22 [00:03<00:00,  6.18it/s, loss=6.15e-5]\n"
     ]
    },
    {
     "name": "stdout",
     "output_type": "stream",
     "text": [
      "Epoch [243/500]: Train loss: 0.0001, Test loss: 0.0001\n"
     ]
    },
    {
     "name": "stderr",
     "output_type": "stream",
     "text": [
      "Epoch [244/500]: 100%|███████████████████████████████████████████████████| 22/22 [00:03<00:00,  5.65it/s, loss=7.99e-5]\n"
     ]
    },
    {
     "name": "stdout",
     "output_type": "stream",
     "text": [
      "Epoch [244/500]: Train loss: 0.0001, Test loss: 0.0001\n"
     ]
    },
    {
     "name": "stderr",
     "output_type": "stream",
     "text": [
      "Epoch [245/500]: 100%|███████████████████████████████████████████████████| 22/22 [00:04<00:00,  5.31it/s, loss=5.18e-5]\n"
     ]
    },
    {
     "name": "stdout",
     "output_type": "stream",
     "text": [
      "Epoch [245/500]: Train loss: 0.0001, Test loss: 0.0001\n"
     ]
    },
    {
     "name": "stderr",
     "output_type": "stream",
     "text": [
      "Epoch [246/500]: 100%|███████████████████████████████████████████████████| 22/22 [00:03<00:00,  6.57it/s, loss=2.87e-5]\n"
     ]
    },
    {
     "name": "stdout",
     "output_type": "stream",
     "text": [
      "Epoch [246/500]: Train loss: 0.0001, Test loss: 0.0001\n"
     ]
    },
    {
     "name": "stderr",
     "output_type": "stream",
     "text": [
      "Epoch [247/500]: 100%|███████████████████████████████████████████████████| 22/22 [00:03<00:00,  5.98it/s, loss=4.49e-5]\n"
     ]
    },
    {
     "name": "stdout",
     "output_type": "stream",
     "text": [
      "Epoch [247/500]: Train loss: 0.0001, Test loss: 0.0001\n"
     ]
    },
    {
     "name": "stderr",
     "output_type": "stream",
     "text": [
      "Epoch [248/500]: 100%|████████████████████████████████████████████████████| 22/22 [00:04<00:00,  5.24it/s, loss=5.4e-5]\n"
     ]
    },
    {
     "name": "stdout",
     "output_type": "stream",
     "text": [
      "Epoch [248/500]: Train loss: 0.0001, Test loss: 0.0001\n"
     ]
    },
    {
     "name": "stderr",
     "output_type": "stream",
     "text": [
      "Epoch [249/500]: 100%|███████████████████████████████████████████████████| 22/22 [00:03<00:00,  5.79it/s, loss=5.16e-5]\n"
     ]
    },
    {
     "name": "stdout",
     "output_type": "stream",
     "text": [
      "Epoch [249/500]: Train loss: 0.0001, Test loss: 0.0001\n"
     ]
    },
    {
     "name": "stderr",
     "output_type": "stream",
     "text": [
      "Epoch [250/500]: 100%|███████████████████████████████████████████████████| 22/22 [00:03<00:00,  5.83it/s, loss=7.04e-5]\n"
     ]
    },
    {
     "name": "stdout",
     "output_type": "stream",
     "text": [
      "Epoch [250/500]: Train loss: 0.0001, Test loss: 0.0001\n"
     ]
    },
    {
     "name": "stderr",
     "output_type": "stream",
     "text": [
      "Epoch [251/500]: 100%|███████████████████████████████████████████████████| 22/22 [00:03<00:00,  6.20it/s, loss=3.06e-5]\n"
     ]
    },
    {
     "name": "stdout",
     "output_type": "stream",
     "text": [
      "Epoch [251/500]: Train loss: 0.0001, Test loss: 0.0001\n"
     ]
    },
    {
     "name": "stderr",
     "output_type": "stream",
     "text": [
      "Epoch [252/500]: 100%|████████████████████████████████████████████████████| 22/22 [00:04<00:00,  5.45it/s, loss=3.2e-5]\n"
     ]
    },
    {
     "name": "stdout",
     "output_type": "stream",
     "text": [
      "Epoch [252/500]: Train loss: 0.0001, Test loss: 0.0001\n"
     ]
    },
    {
     "name": "stderr",
     "output_type": "stream",
     "text": [
      "Epoch [253/500]: 100%|███████████████████████████████████████████████████| 22/22 [00:03<00:00,  5.92it/s, loss=5.16e-5]\n"
     ]
    },
    {
     "name": "stdout",
     "output_type": "stream",
     "text": [
      "Epoch [253/500]: Train loss: 0.0001, Test loss: 0.0001\n"
     ]
    },
    {
     "name": "stderr",
     "output_type": "stream",
     "text": [
      "Epoch [254/500]: 100%|███████████████████████████████████████████████████| 22/22 [00:03<00:00,  5.93it/s, loss=6.07e-5]\n"
     ]
    },
    {
     "name": "stdout",
     "output_type": "stream",
     "text": [
      "Epoch [254/500]: Train loss: 0.0001, Test loss: 0.0001\n"
     ]
    },
    {
     "name": "stderr",
     "output_type": "stream",
     "text": [
      "Epoch [255/500]: 100%|████████████████████████████████████████████████████| 22/22 [00:04<00:00,  5.36it/s, loss=6.1e-5]\n"
     ]
    },
    {
     "name": "stdout",
     "output_type": "stream",
     "text": [
      "Epoch [255/500]: Train loss: 0.0001, Test loss: 0.0001\n"
     ]
    },
    {
     "name": "stderr",
     "output_type": "stream",
     "text": [
      "Epoch [256/500]: 100%|███████████████████████████████████████████████████| 22/22 [00:03<00:00,  5.56it/s, loss=4.34e-5]\n"
     ]
    },
    {
     "name": "stdout",
     "output_type": "stream",
     "text": [
      "Epoch [256/500]: Train loss: 0.0001, Test loss: 0.0001\n"
     ]
    },
    {
     "name": "stderr",
     "output_type": "stream",
     "text": [
      "Epoch [257/500]: 100%|███████████████████████████████████████████████████| 22/22 [00:03<00:00,  5.85it/s, loss=5.09e-5]\n"
     ]
    },
    {
     "name": "stdout",
     "output_type": "stream",
     "text": [
      "Epoch [257/500]: Train loss: 0.0001, Test loss: 0.0001\n"
     ]
    },
    {
     "name": "stderr",
     "output_type": "stream",
     "text": [
      "Epoch [258/500]: 100%|███████████████████████████████████████████████████| 22/22 [00:03<00:00,  6.57it/s, loss=4.71e-5]\n"
     ]
    },
    {
     "name": "stdout",
     "output_type": "stream",
     "text": [
      "Epoch [258/500]: Train loss: 0.0001, Test loss: 0.0001\n"
     ]
    },
    {
     "name": "stderr",
     "output_type": "stream",
     "text": [
      "Epoch [259/500]: 100%|███████████████████████████████████████████████████| 22/22 [00:04<00:00,  5.47it/s, loss=5.09e-5]\n"
     ]
    },
    {
     "name": "stdout",
     "output_type": "stream",
     "text": [
      "Epoch [259/500]: Train loss: 0.0001, Test loss: 0.0001\n"
     ]
    },
    {
     "name": "stderr",
     "output_type": "stream",
     "text": [
      "Epoch [260/500]: 100%|███████████████████████████████████████████████████| 22/22 [00:03<00:00,  6.33it/s, loss=5.43e-5]\n"
     ]
    },
    {
     "name": "stdout",
     "output_type": "stream",
     "text": [
      "Epoch [260/500]: Train loss: 0.0001, Test loss: 0.0001\n"
     ]
    },
    {
     "name": "stderr",
     "output_type": "stream",
     "text": [
      "Epoch [261/500]: 100%|███████████████████████████████████████████████████| 22/22 [00:03<00:00,  5.72it/s, loss=5.65e-5]\n"
     ]
    },
    {
     "name": "stdout",
     "output_type": "stream",
     "text": [
      "Epoch [261/500]: Train loss: 0.0001, Test loss: 0.0001\n"
     ]
    },
    {
     "name": "stderr",
     "output_type": "stream",
     "text": [
      "Epoch [262/500]: 100%|███████████████████████████████████████████████████| 22/22 [00:04<00:00,  5.40it/s, loss=5.56e-5]\n"
     ]
    },
    {
     "name": "stdout",
     "output_type": "stream",
     "text": [
      "Epoch [262/500]: Train loss: 0.0001, Test loss: 0.0001\n"
     ]
    },
    {
     "name": "stderr",
     "output_type": "stream",
     "text": [
      "Epoch [263/500]: 100%|███████████████████████████████████████████████████| 22/22 [00:03<00:00,  6.08it/s, loss=7.36e-5]\n"
     ]
    },
    {
     "name": "stdout",
     "output_type": "stream",
     "text": [
      "Epoch [263/500]: Train loss: 0.0001, Test loss: 0.0001\n"
     ]
    },
    {
     "name": "stderr",
     "output_type": "stream",
     "text": [
      "Epoch [264/500]: 100%|███████████████████████████████████████████████████| 22/22 [00:03<00:00,  6.12it/s, loss=5.34e-5]\n"
     ]
    },
    {
     "name": "stdout",
     "output_type": "stream",
     "text": [
      "Epoch [264/500]: Train loss: 0.0001, Test loss: 0.0001\n"
     ]
    },
    {
     "name": "stderr",
     "output_type": "stream",
     "text": [
      "Epoch [265/500]: 100%|███████████████████████████████████████████████████| 22/22 [00:03<00:00,  6.00it/s, loss=7.53e-5]\n"
     ]
    },
    {
     "name": "stdout",
     "output_type": "stream",
     "text": [
      "Epoch [265/500]: Train loss: 0.0001, Test loss: 0.0001\n"
     ]
    },
    {
     "name": "stderr",
     "output_type": "stream",
     "text": [
      "Epoch [266/500]: 100%|███████████████████████████████████████████████████| 22/22 [00:03<00:00,  6.21it/s, loss=7.19e-5]\n"
     ]
    },
    {
     "name": "stdout",
     "output_type": "stream",
     "text": [
      "Epoch [266/500]: Train loss: 0.0001, Test loss: 0.0001\n"
     ]
    },
    {
     "name": "stderr",
     "output_type": "stream",
     "text": [
      "Epoch [267/500]: 100%|████████████████████████████████████████████████████| 22/22 [00:03<00:00,  5.64it/s, loss=4.9e-5]\n"
     ]
    },
    {
     "name": "stdout",
     "output_type": "stream",
     "text": [
      "Epoch [267/500]: Train loss: 0.0001, Test loss: 0.0001\n"
     ]
    },
    {
     "name": "stderr",
     "output_type": "stream",
     "text": [
      "Epoch [268/500]: 100%|███████████████████████████████████████████████████| 22/22 [00:03<00:00,  6.42it/s, loss=3.91e-5]\n"
     ]
    },
    {
     "name": "stdout",
     "output_type": "stream",
     "text": [
      "Epoch [268/500]: Train loss: 0.0001, Test loss: 0.0001\n"
     ]
    },
    {
     "name": "stderr",
     "output_type": "stream",
     "text": [
      "Epoch [269/500]: 100%|███████████████████████████████████████████████████| 22/22 [00:04<00:00,  5.17it/s, loss=6.41e-5]\n"
     ]
    },
    {
     "name": "stdout",
     "output_type": "stream",
     "text": [
      "Epoch [269/500]: Train loss: 0.0001, Test loss: 0.0001\n"
     ]
    },
    {
     "name": "stderr",
     "output_type": "stream",
     "text": [
      "Epoch [270/500]: 100%|███████████████████████████████████████████████████| 22/22 [00:03<00:00,  5.96it/s, loss=4.75e-5]\n"
     ]
    },
    {
     "name": "stdout",
     "output_type": "stream",
     "text": [
      "Epoch [270/500]: Train loss: 0.0001, Test loss: 0.0001\n"
     ]
    },
    {
     "name": "stderr",
     "output_type": "stream",
     "text": [
      "Epoch [271/500]: 100%|████████████████████████████████████████████████████| 22/22 [00:03<00:00,  5.63it/s, loss=4.9e-5]\n"
     ]
    },
    {
     "name": "stdout",
     "output_type": "stream",
     "text": [
      "Epoch [271/500]: Train loss: 0.0001, Test loss: 0.0001\n"
     ]
    },
    {
     "name": "stderr",
     "output_type": "stream",
     "text": [
      "Epoch [272/500]: 100%|███████████████████████████████████████████████████| 22/22 [00:03<00:00,  6.87it/s, loss=5.83e-5]\n"
     ]
    },
    {
     "name": "stdout",
     "output_type": "stream",
     "text": [
      "Epoch [272/500]: Train loss: 0.0001, Test loss: 0.0001\n"
     ]
    },
    {
     "name": "stderr",
     "output_type": "stream",
     "text": [
      "Epoch [273/500]: 100%|███████████████████████████████████████████████████| 22/22 [00:03<00:00,  6.46it/s, loss=3.34e-5]\n"
     ]
    },
    {
     "name": "stdout",
     "output_type": "stream",
     "text": [
      "Epoch [273/500]: Train loss: 0.0000, Test loss: 0.0001\n"
     ]
    },
    {
     "name": "stderr",
     "output_type": "stream",
     "text": [
      "Epoch [274/500]: 100%|███████████████████████████████████████████████████| 22/22 [00:03<00:00,  5.78it/s, loss=6.19e-5]\n"
     ]
    },
    {
     "name": "stdout",
     "output_type": "stream",
     "text": [
      "Epoch [274/500]: Train loss: 0.0001, Test loss: 0.0001\n",
      "\n",
      "Model is not improving, so we halt the training session.\n"
     ]
    }
   ],
   "source": [
    "model = GCN_LSTM_model(input_size, hidden_size, num_layers, output_size).to(device) # put your model and data on the same computation device.\n",
    "trainer(train_loader, valid_loader, model, config, device)"
   ]
  },
  {
   "cell_type": "code",
   "execution_count": 23,
   "id": "225ca92b",
   "metadata": {
    "scrolled": false
   },
   "outputs": [
    {
     "data": {
      "text/plain": [
       "<All keys matched successfully>"
      ]
     },
     "execution_count": 23,
     "metadata": {},
     "output_type": "execute_result"
    }
   ],
   "source": [
    "model = GCN_LSTM_model(input_size, hidden_size, num_layers, output_size).to(device)\n",
    "model.load_state_dict(torch.load(config['save_path']))"
   ]
  },
  {
   "cell_type": "code",
   "execution_count": 24,
   "id": "d919cf3c",
   "metadata": {},
   "outputs": [],
   "source": [
    "valid_dataset =  TripData(valid_data)\n",
    "# valid_dataset =  TripData(train_data)"
   ]
  },
  {
   "cell_type": "code",
   "execution_count": 25,
   "id": "89492466",
   "metadata": {},
   "outputs": [],
   "source": [
    "y_valid=valid_data[:,-1]\n",
    "# y_valid=train_data[:,-1]"
   ]
  },
  {
   "cell_type": "code",
   "execution_count": 26,
   "id": "cdc9dac7",
   "metadata": {},
   "outputs": [],
   "source": [
    "pred_loader = DataLoader(valid_dataset, batch_size=1, shuffle=False, pin_memory=True)"
   ]
  },
  {
   "cell_type": "code",
   "execution_count": 27,
   "id": "d30fe02c",
   "metadata": {},
   "outputs": [
    {
     "name": "stderr",
     "output_type": "stream",
     "text": [
      "100%|██████████████████████████████████████████████████████████████████████████████████| 42/42 [00:00<00:00, 63.17it/s]\n"
     ]
    }
   ],
   "source": [
    "preds = predict(pred_loader, model, device)"
   ]
  },
  {
   "cell_type": "code",
   "execution_count": 28,
   "id": "cff8cc01",
   "metadata": {},
   "outputs": [],
   "source": [
    "y_valid_reshaped = np.sum(y_valid.reshape(42, 30, 30), axis=2)\n",
    "# y_valid_reshaped = np.sum(y_valid.reshape(340, 30, 30), axis=2)"
   ]
  },
  {
   "cell_type": "code",
   "execution_count": 29,
   "id": "f3904a6e",
   "metadata": {},
   "outputs": [],
   "source": [
    "preds_reshaped = np.sum(preds.reshape(42, 30, 30), axis=2)\n",
    "# preds_reshaped = np.sum(preds.reshape(340, 30, 30), axis=2)"
   ]
  },
  {
   "cell_type": "code",
   "execution_count": 30,
   "id": "1da7ec76",
   "metadata": {},
   "outputs": [],
   "source": [
    "# 从每个周期中提取第一个簇的乘客计数\n",
    "y_valid_passenger_count = [cycle[0] for cycle in y_valid_reshaped]\n",
    "preds_passenger_count = [cycle[0] for cycle in preds_reshaped]"
   ]
  },
  {
   "cell_type": "code",
   "execution_count": 31,
   "id": "ccc44273",
   "metadata": {},
   "outputs": [
    {
     "data": {
      "image/png": "[encoded data removed]",
      "text/plain": [
       "<Figure size 640x480 with 1 Axes>"
      ]
     },
     "metadata": {},
     "output_type": "display_data"
    }
   ],
   "source": [
    "plt.title(\"GCN_LSTM model\")\n",
    "x=[i for i in range(len(y_valid))]\n",
    "plt.plot(x,y_valid_passenger_count,marker=\"x\",markersize=1,label=\"true_y\")\n",
    "plt.plot(x,preds_passenger_count,marker=\"o\",markersize=1,label=\"pred_y\")\n",
    "plt.legend()\n",
    "plt.show()"
   ]
  },
  {
   "cell_type": "code",
   "execution_count": 32,
   "id": "662c22cb",
   "metadata": {},
   "outputs": [
    {
     "name": "stdout",
     "output_type": "stream",
     "text": [
      "总误差是2.197232827997726\n"
     ]
    }
   ],
   "source": [
    "loss = 0\n",
    "for i in range(len(y_valid)):\n",
    "    loss += ((preds_passenger_count[i]-y_valid_passenger_count[i])**2)**0.5\n",
    "    \n",
    "print(\"总误差是{}\".format(loss))"
   ]
  },
  {
   "cell_type": "code",
   "execution_count": null,
   "id": "ae1475cb",
   "metadata": {},
   "outputs": [],
   "source": []
  }
 ],
 "metadata": {
  "kernelspec": {
   "display_name": "Python 3 (ipykernel)",
   "language": "python",
   "name": "python3"
  },
  "language_info": {
   "codemirror_mode": {
    "name": "ipython",
    "version": 3
   },
   "file_extension": ".py",
   "mimetype": "text/x-python",
   "name": "python",
   "nbconvert_exporter": "python",
   "pygments_lexer": "ipython3",
   "version": "3.10.9"
  }
 },
 "nbformat": 4,
 "nbformat_minor": 5
}

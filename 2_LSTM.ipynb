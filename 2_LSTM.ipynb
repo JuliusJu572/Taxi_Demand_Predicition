{
 "cells": [
  {
   "cell_type": "code",
   "execution_count": 1,
   "id": "05907ca4",
   "metadata": {},
   "outputs": [],
   "source": [
    "# 首先导入包\n",
    "import torch\n",
    "import torch.nn as nn\n",
    "import pandas as pd\n",
    "import numpy as np\n",
    "from torch.utils.data import Dataset, DataLoader, random_split\n",
    "from torchvision import transforms\n",
    "from PIL import Image\n",
    "import os\n",
    "import matplotlib.pyplot as plt\n",
    "import torchvision.models as models\n",
    "# This is for the progress bar.\n",
    "from tqdm import tqdm\n",
    "import seaborn as sns\n",
    "# For plotting learning curve\n",
    "from torch.utils.tensorboard import SummaryWriter\n",
    "import math\n",
    "from torch.nn import functional as F\n",
    "from sklearn.preprocessing import MinMaxScaler"
   ]
  },
  {
   "cell_type": "code",
   "execution_count": 2,
   "id": "cb570991",
   "metadata": {},
   "outputs": [],
   "source": [
    "def same_seed(seed): \n",
    "    '''Fixes random number generator seeds for reproducibility.'''\n",
    "    torch.backends.cudnn.deterministic = True\n",
    "    torch.backends.cudnn.benchmark = False\n",
    "    np.random.seed(seed)\n",
    "    torch.manual_seed(seed)\n",
    "    if torch.cuda.is_available():\n",
    "        torch.cuda.manual_seed_all(seed)\n",
    "\n",
    "def train_test_split(data_set, test_ratio, seed):\n",
    "    '''Split provided training data into training set and validation set'''\n",
    "    valid_set_size = int(test_ratio * len(data_set)) \n",
    "    train_set_size = len(data_set) - valid_set_size\n",
    "    train_set, valid_set = random_split(data_set, [train_set_size, valid_set_size], generator=torch.Generator().manual_seed(seed))\n",
    "    return np.array(train_set), np.array(valid_set)\n",
    "\n",
    "def predict(test_loader, model, device):\n",
    "    model.eval() # Set your model to evaluation mode.\n",
    "    preds = []\n",
    "    for x in tqdm(test_loader):\n",
    "        x = x.to(device)                        \n",
    "        with torch.no_grad():                   \n",
    "            pred = model(x)                     \n",
    "            preds.append(pred.detach().cpu())   \n",
    "    preds = torch.cat(preds, dim=0).numpy()  \n",
    "    return preds"
   ]
  },
  {
   "cell_type": "code",
   "execution_count": 3,
   "id": "7d5f9c79",
   "metadata": {},
   "outputs": [
    {
     "data": {
      "text/html": [
       "<div>\n",
       "<style scoped>\n",
       "    .dataframe tbody tr th:only-of-type {\n",
       "        vertical-align: middle;\n",
       "    }\n",
       "\n",
       "    .dataframe tbody tr th {\n",
       "        vertical-align: top;\n",
       "    }\n",
       "\n",
       "    .dataframe thead th {\n",
       "        text-align: right;\n",
       "    }\n",
       "</style>\n",
       "<table border=\"1\" class=\"dataframe\">\n",
       "  <thead>\n",
       "    <tr style=\"text-align: right;\">\n",
       "      <th></th>\n",
       "      <th>lpep_pickup_datetime</th>\n",
       "      <th>Lpep_dropoff_datetime</th>\n",
       "      <th>Passenger_count</th>\n",
       "      <th>Trip_distance</th>\n",
       "      <th>Pickup_longitude</th>\n",
       "      <th>Pickup_latitude</th>\n",
       "      <th>Dropoff_longitude</th>\n",
       "      <th>Dropoff_latitude</th>\n",
       "      <th>Total_amount</th>\n",
       "      <th>Trip_duration</th>\n",
       "      <th>Pickup_time</th>\n",
       "      <th>Speed</th>\n",
       "      <th>Pickup_cluster</th>\n",
       "      <th>Dropoff_cluster</th>\n",
       "      <th>year</th>\n",
       "      <th>month</th>\n",
       "      <th>day</th>\n",
       "      <th>time_span</th>\n",
       "    </tr>\n",
       "  </thead>\n",
       "  <tbody>\n",
       "    <tr>\n",
       "      <th>0</th>\n",
       "      <td>2015-04-01 00:00:00</td>\n",
       "      <td>2015/4/1 0:08</td>\n",
       "      <td>1</td>\n",
       "      <td>3.08</td>\n",
       "      <td>-73.958817</td>\n",
       "      <td>40.716824</td>\n",
       "      <td>-73.982971</td>\n",
       "      <td>40.696007</td>\n",
       "      <td>14.76</td>\n",
       "      <td>8.0</td>\n",
       "      <td>1.427818e+09</td>\n",
       "      <td>23.100000</td>\n",
       "      <td>7</td>\n",
       "      <td>25</td>\n",
       "      <td>2015</td>\n",
       "      <td>4</td>\n",
       "      <td>1</td>\n",
       "      <td>0</td>\n",
       "    </tr>\n",
       "    <tr>\n",
       "      <th>1</th>\n",
       "      <td>2015-04-01 00:00:00</td>\n",
       "      <td>2015/4/1 0:07</td>\n",
       "      <td>1</td>\n",
       "      <td>1.21</td>\n",
       "      <td>-73.937531</td>\n",
       "      <td>40.804501</td>\n",
       "      <td>-73.946800</td>\n",
       "      <td>40.815998</td>\n",
       "      <td>8.30</td>\n",
       "      <td>7.0</td>\n",
       "      <td>1.427818e+09</td>\n",
       "      <td>10.371429</td>\n",
       "      <td>11</td>\n",
       "      <td>11</td>\n",
       "      <td>2015</td>\n",
       "      <td>4</td>\n",
       "      <td>1</td>\n",
       "      <td>0</td>\n",
       "    </tr>\n",
       "    <tr>\n",
       "      <th>2</th>\n",
       "      <td>2015-04-01 00:00:00</td>\n",
       "      <td>2015/4/1 0:02</td>\n",
       "      <td>1</td>\n",
       "      <td>0.64</td>\n",
       "      <td>-73.955818</td>\n",
       "      <td>40.681152</td>\n",
       "      <td>-73.955406</td>\n",
       "      <td>40.687145</td>\n",
       "      <td>6.00</td>\n",
       "      <td>2.0</td>\n",
       "      <td>1.427818e+09</td>\n",
       "      <td>19.200000</td>\n",
       "      <td>0</td>\n",
       "      <td>18</td>\n",
       "      <td>2015</td>\n",
       "      <td>4</td>\n",
       "      <td>1</td>\n",
       "      <td>0</td>\n",
       "    </tr>\n",
       "    <tr>\n",
       "      <th>3</th>\n",
       "      <td>2015-04-01 00:00:00</td>\n",
       "      <td>2015/4/1 0:05</td>\n",
       "      <td>1</td>\n",
       "      <td>1.34</td>\n",
       "      <td>-73.830551</td>\n",
       "      <td>40.759460</td>\n",
       "      <td>-73.825363</td>\n",
       "      <td>40.741589</td>\n",
       "      <td>7.80</td>\n",
       "      <td>5.0</td>\n",
       "      <td>1.427818e+09</td>\n",
       "      <td>16.080000</td>\n",
       "      <td>20</td>\n",
       "      <td>20</td>\n",
       "      <td>2015</td>\n",
       "      <td>4</td>\n",
       "      <td>1</td>\n",
       "      <td>0</td>\n",
       "    </tr>\n",
       "    <tr>\n",
       "      <th>4</th>\n",
       "      <td>2015-04-01 00:00:00</td>\n",
       "      <td>2015/4/1 0:05</td>\n",
       "      <td>1</td>\n",
       "      <td>0.98</td>\n",
       "      <td>-73.912086</td>\n",
       "      <td>40.775356</td>\n",
       "      <td>-73.915474</td>\n",
       "      <td>40.764091</td>\n",
       "      <td>7.30</td>\n",
       "      <td>5.0</td>\n",
       "      <td>1.427818e+09</td>\n",
       "      <td>11.760000</td>\n",
       "      <td>17</td>\n",
       "      <td>19</td>\n",
       "      <td>2015</td>\n",
       "      <td>4</td>\n",
       "      <td>1</td>\n",
       "      <td>0</td>\n",
       "    </tr>\n",
       "  </tbody>\n",
       "</table>\n",
       "</div>"
      ],
      "text/plain": [
       "  lpep_pickup_datetime Lpep_dropoff_datetime  Passenger_count  Trip_distance  \\\n",
       "0  2015-04-01 00:00:00         2015/4/1 0:08                1           3.08   \n",
       "1  2015-04-01 00:00:00         2015/4/1 0:07                1           1.21   \n",
       "2  2015-04-01 00:00:00         2015/4/1 0:02                1           0.64   \n",
       "3  2015-04-01 00:00:00         2015/4/1 0:05                1           1.34   \n",
       "4  2015-04-01 00:00:00         2015/4/1 0:05                1           0.98   \n",
       "\n",
       "   Pickup_longitude  Pickup_latitude  Dropoff_longitude  Dropoff_latitude  \\\n",
       "0        -73.958817        40.716824         -73.982971         40.696007   \n",
       "1        -73.937531        40.804501         -73.946800         40.815998   \n",
       "2        -73.955818        40.681152         -73.955406         40.687145   \n",
       "3        -73.830551        40.759460         -73.825363         40.741589   \n",
       "4        -73.912086        40.775356         -73.915474         40.764091   \n",
       "\n",
       "   Total_amount  Trip_duration   Pickup_time      Speed  Pickup_cluster  \\\n",
       "0         14.76            8.0  1.427818e+09  23.100000               7   \n",
       "1          8.30            7.0  1.427818e+09  10.371429              11   \n",
       "2          6.00            2.0  1.427818e+09  19.200000               0   \n",
       "3          7.80            5.0  1.427818e+09  16.080000              20   \n",
       "4          7.30            5.0  1.427818e+09  11.760000              17   \n",
       "\n",
       "   Dropoff_cluster  year  month  day  time_span  \n",
       "0               25  2015      4    1          0  \n",
       "1               11  2015      4    1          0  \n",
       "2               18  2015      4    1          0  \n",
       "3               20  2015      4    1          0  \n",
       "4               19  2015      4    1          0  "
      ]
     },
     "execution_count": 3,
     "metadata": {},
     "output_type": "execute_result"
    }
   ],
   "source": [
    "data = pd.read_csv(\"TripData_cleaned.csv\")\n",
    "data = data.drop('Unnamed: 0', axis=1)\n",
    "\n",
    "data.head()"
   ]
  },
  {
   "cell_type": "code",
   "execution_count": 4,
   "id": "cd0674d8",
   "metadata": {},
   "outputs": [
    {
     "data": {
      "text/html": [
       "<div>\n",
       "<style scoped>\n",
       "    .dataframe tbody tr th:only-of-type {\n",
       "        vertical-align: middle;\n",
       "    }\n",
       "\n",
       "    .dataframe tbody tr th {\n",
       "        vertical-align: top;\n",
       "    }\n",
       "\n",
       "    .dataframe thead th {\n",
       "        text-align: right;\n",
       "    }\n",
       "</style>\n",
       "<table border=\"1\" class=\"dataframe\">\n",
       "  <thead>\n",
       "    <tr style=\"text-align: right;\">\n",
       "      <th></th>\n",
       "      <th>year</th>\n",
       "      <th>month</th>\n",
       "      <th>day</th>\n",
       "      <th>hour</th>\n",
       "      <th>Pickup_cluster</th>\n",
       "      <th>Dropoff_cluster</th>\n",
       "      <th>Passenger_count</th>\n",
       "    </tr>\n",
       "  </thead>\n",
       "  <tbody>\n",
       "    <tr>\n",
       "      <th>0</th>\n",
       "      <td>2015</td>\n",
       "      <td>4</td>\n",
       "      <td>1</td>\n",
       "      <td>0</td>\n",
       "      <td>0</td>\n",
       "      <td>0</td>\n",
       "      <td>0.028261</td>\n",
       "    </tr>\n",
       "    <tr>\n",
       "      <th>1</th>\n",
       "      <td>2015</td>\n",
       "      <td>4</td>\n",
       "      <td>1</td>\n",
       "      <td>0</td>\n",
       "      <td>0</td>\n",
       "      <td>7</td>\n",
       "      <td>0.010870</td>\n",
       "    </tr>\n",
       "    <tr>\n",
       "      <th>2</th>\n",
       "      <td>2015</td>\n",
       "      <td>4</td>\n",
       "      <td>1</td>\n",
       "      <td>0</td>\n",
       "      <td>0</td>\n",
       "      <td>10</td>\n",
       "      <td>0.015217</td>\n",
       "    </tr>\n",
       "    <tr>\n",
       "      <th>3</th>\n",
       "      <td>2015</td>\n",
       "      <td>4</td>\n",
       "      <td>1</td>\n",
       "      <td>0</td>\n",
       "      <td>0</td>\n",
       "      <td>11</td>\n",
       "      <td>0.002174</td>\n",
       "    </tr>\n",
       "    <tr>\n",
       "      <th>4</th>\n",
       "      <td>2015</td>\n",
       "      <td>4</td>\n",
       "      <td>1</td>\n",
       "      <td>0</td>\n",
       "      <td>0</td>\n",
       "      <td>12</td>\n",
       "      <td>0.019565</td>\n",
       "    </tr>\n",
       "  </tbody>\n",
       "</table>\n",
       "</div>"
      ],
      "text/plain": [
       "   year  month  day  hour  Pickup_cluster  Dropoff_cluster  Passenger_count\n",
       "0  2015      4    1     0               0                0         0.028261\n",
       "1  2015      4    1     0               0                7         0.010870\n",
       "2  2015      4    1     0               0               10         0.015217\n",
       "3  2015      4    1     0               0               11         0.002174\n",
       "4  2015      4    1     0               0               12         0.019565"
      ]
     },
     "execution_count": 4,
     "metadata": {},
     "output_type": "execute_result"
    }
   ],
   "source": [
    "# 根据指定的列进行分组，并对Passenger_count进行求和\n",
    "grouped_data = data.groupby(['year', 'month', 'day', 'time_span', 'Pickup_cluster','Dropoff_cluster']).agg(\n",
    "    {'Passenger_count': 'sum'}).reset_index()\n",
    "# 将列名 'time_span' 修改为 'hour'\n",
    "grouped_data = grouped_data.rename(columns={'time_span': 'hour'})\n",
    "\n",
    "# 初始化 MinMaxScaler\n",
    "scaler = MinMaxScaler()\n",
    "\n",
    "# 因此我们使用 .values.reshape(-1, 1) 转换 Pickup_cluster 列\n",
    "grouped_data['Passenger_count'] = scaler.fit_transform(grouped_data[['Passenger_count']])\n",
    "\n",
    "grouped_data.head()"
   ]
  },
  {
   "cell_type": "code",
   "execution_count": 5,
   "id": "1c3fef0f",
   "metadata": {},
   "outputs": [
    {
     "data": {
      "text/html": [
       "<div>\n",
       "<style scoped>\n",
       "    .dataframe tbody tr th:only-of-type {\n",
       "        vertical-align: middle;\n",
       "    }\n",
       "\n",
       "    .dataframe tbody tr th {\n",
       "        vertical-align: top;\n",
       "    }\n",
       "\n",
       "    .dataframe thead th {\n",
       "        text-align: right;\n",
       "    }\n",
       "</style>\n",
       "<table border=\"1\" class=\"dataframe\">\n",
       "  <thead>\n",
       "    <tr style=\"text-align: right;\">\n",
       "      <th></th>\n",
       "      <th>year</th>\n",
       "      <th>month</th>\n",
       "      <th>day</th>\n",
       "      <th>hour</th>\n",
       "      <th>Pickup_cluster</th>\n",
       "      <th>Passenger_count</th>\n",
       "    </tr>\n",
       "  </thead>\n",
       "  <tbody>\n",
       "    <tr>\n",
       "      <th>0</th>\n",
       "      <td>2015</td>\n",
       "      <td>4</td>\n",
       "      <td>1</td>\n",
       "      <td>0</td>\n",
       "      <td>0</td>\n",
       "      <td>0.042034</td>\n",
       "    </tr>\n",
       "    <tr>\n",
       "      <th>1</th>\n",
       "      <td>2015</td>\n",
       "      <td>4</td>\n",
       "      <td>1</td>\n",
       "      <td>0</td>\n",
       "      <td>1</td>\n",
       "      <td>0.058983</td>\n",
       "    </tr>\n",
       "    <tr>\n",
       "      <th>2</th>\n",
       "      <td>2015</td>\n",
       "      <td>4</td>\n",
       "      <td>1</td>\n",
       "      <td>0</td>\n",
       "      <td>2</td>\n",
       "      <td>0.157966</td>\n",
       "    </tr>\n",
       "    <tr>\n",
       "      <th>3</th>\n",
       "      <td>2015</td>\n",
       "      <td>4</td>\n",
       "      <td>1</td>\n",
       "      <td>0</td>\n",
       "      <td>3</td>\n",
       "      <td>0.014237</td>\n",
       "    </tr>\n",
       "    <tr>\n",
       "      <th>4</th>\n",
       "      <td>2015</td>\n",
       "      <td>4</td>\n",
       "      <td>1</td>\n",
       "      <td>0</td>\n",
       "      <td>4</td>\n",
       "      <td>0.031186</td>\n",
       "    </tr>\n",
       "  </tbody>\n",
       "</table>\n",
       "</div>"
      ],
      "text/plain": [
       "   year  month  day  hour  Pickup_cluster  Passenger_count\n",
       "0  2015      4    1     0               0         0.042034\n",
       "1  2015      4    1     0               1         0.058983\n",
       "2  2015      4    1     0               2         0.157966\n",
       "3  2015      4    1     0               3         0.014237\n",
       "4  2015      4    1     0               4         0.031186"
      ]
     },
     "execution_count": 5,
     "metadata": {},
     "output_type": "execute_result"
    }
   ],
   "source": [
    "# 根据指定的列进行分组，并对Passenger_count进行求和\n",
    "grouped_data = grouped_data.groupby(['year', 'month', 'day', 'hour', 'Pickup_cluster']).agg(\n",
    "    {'Passenger_count': 'sum'}).reset_index()\n",
    "# 将列名 'time_span' 修改为 'hour'\n",
    "grouped_data = grouped_data.rename(columns={'time_span': 'hour'})\n",
    "\n",
    "# 初始化 MinMaxScaler\n",
    "scaler_reversed = MinMaxScaler()\n",
    "\n",
    "# 因此我们使用 .values.reshape(-1, 1) 转换 Pickup_cluster 列\n",
    "grouped_data['Passenger_count'] = scaler_reversed.fit_transform(grouped_data[['Passenger_count']])\n",
    "\n",
    "grouped_data.head()"
   ]
  },
  {
   "cell_type": "code",
   "execution_count": 6,
   "id": "60aac81e",
   "metadata": {},
   "outputs": [],
   "source": [
    "# 初始化 MinMaxScaler\n",
    "scaler = MinMaxScaler()\n",
    "\n",
    "# 因此我们使用 .values.reshape(-1, 1) 转换 Pickup_cluster 列\n",
    "data['Passenger_count'] = scaler.fit_transform(data[['Passenger_count']])"
   ]
  },
  {
   "cell_type": "code",
   "execution_count": 7,
   "id": "0bad8df8",
   "metadata": {},
   "outputs": [
    {
     "data": {
      "text/plain": [
       "30"
      ]
     },
     "execution_count": 7,
     "metadata": {},
     "output_type": "execute_result"
    }
   ],
   "source": [
    "passenger_count = []\n",
    "cluster_count = len(grouped_data['Pickup_cluster'].unique())\n",
    "temp_count = [0]*cluster_count\n",
    "last_index = -1\n",
    "\n",
    "for i in range(len(grouped_data)):\n",
    "    # 使用 int() 函数确保索引是整数\n",
    "    current_index = int(grouped_data.iloc[i]['Pickup_cluster'])\n",
    "    \n",
    "    if current_index < last_index:\n",
    "        passenger_count.append(temp_count)\n",
    "        temp_count = [0] * cluster_count\n",
    "\n",
    "    temp_count[current_index] = grouped_data.iloc[i]['Passenger_count']\n",
    "    last_index = current_index\n",
    "\n",
    "# 添加最后一个周期的数据\n",
    "passenger_count.append(temp_count)\n",
    "    \n",
    "len(passenger_count[0])"
   ]
  },
  {
   "cell_type": "code",
   "execution_count": 8,
   "id": "6a9f1e5d",
   "metadata": {},
   "outputs": [
    {
     "data": {
      "text/plain": [
       "array([[0.0420339 , 0.05898305, 0.1579661 , ..., 0.00474576, 0.00610169,\n",
       "        0.00542373],\n",
       "       [0.0379661 , 0.02576271, 0.11661017, ..., 0.00067797, 0.00542373,\n",
       "        0.00067797],\n",
       "       [0.02372881, 0.01220339, 0.0820339 , ..., 0.00067797, 0.00135593,\n",
       "        0.00067797],\n",
       "       ...,\n",
       "       [0.08474576, 0.26847458, 0.14169492, ..., 0.00745763, 0.01966102,\n",
       "        0.01288136],\n",
       "       [0.12745763, 0.23322034, 0.12271186, ..., 0.00949153, 0.01762712,\n",
       "        0.01016949],\n",
       "       [0.06711864, 0.13762712, 0.0820339 , ..., 0.00338983, 0.00949153,\n",
       "        0.00677966]])"
      ]
     },
     "execution_count": 8,
     "metadata": {},
     "output_type": "execute_result"
    }
   ],
   "source": [
    "passenger_count = np.array(passenger_count)\n",
    "passenger_count"
   ]
  },
  {
   "cell_type": "code",
   "execution_count": 9,
   "id": "711c0aea",
   "metadata": {},
   "outputs": [],
   "source": [
    "class TripData(Dataset):\n",
    "    def __init__(self, x, y=None):\n",
    "        if y is None:\n",
    "            self.y = y\n",
    "        else:\n",
    "            self.y = torch.FloatTensor(y)\n",
    "        self.x = torch.FloatTensor(x)\n",
    "\n",
    "    def __getitem__(self, idx):\n",
    "        if self.y is None:\n",
    "            return self.x[idx]\n",
    "        else:\n",
    "            return self.x[idx], self.y[idx]\n",
    "\n",
    "    def __len__(self):\n",
    "        return len(self.x)"
   ]
  },
  {
   "attachments": {
    "image-2.png": {
     "image/png": "[encoded data removed]"
    },
    "image.png": {
     "image/png": "[encoded data removed]"
    }
   },
   "cell_type": "markdown",
   "id": "3abdbf4b",
   "metadata": {},
   "source": [
    "![image.png](attachment:image.png)\n",
    "![image-2.png](attachment:image-2.png)"
   ]
  },
  {
   "cell_type": "code",
   "execution_count": 10,
   "id": "e772acc6",
   "metadata": {},
   "outputs": [],
   "source": [
    "class LSTM_model(nn.Module):\n",
    "    def __init__(self, input_size, hidden_size, num_layers, output_size):\n",
    "        super(LSTM_model, self).__init__()\n",
    "        self.hidden_size = hidden_size\n",
    "        self.num_layers = num_layers\n",
    "        self.lstm = nn.LSTM(input_size, hidden_size, num_layers, batch_first=True)\n",
    "        self.fc = nn.Linear(hidden_size, output_size)\n",
    "        \n",
    "    def forward(self, x):\n",
    "        h0 = torch.zeros(self.num_layers,x.size(0), self.hidden_size).to(device) # 初始化隐藏状态h0\n",
    "        c0 = torch.zeros(self.num_layers,x.size(0), self.hidden_size).to(device)  # 初始化记忆状态c0\n",
    "        #print(f\"x.shape:{x.shape},h0.shape:{h0.shape},c0.shape:{c0.shape}\")\n",
    "        out, _ = self.lstm(x, (h0, c0))  # LSTM前向传播\n",
    "        out = self.fc(out[:, -1, :])  # 取最后一个时间步的输出作为预测结果\n",
    "        return out"
   ]
  },
  {
   "cell_type": "code",
   "execution_count": 11,
   "id": "a09f7654",
   "metadata": {},
   "outputs": [],
   "source": [
    "def select_feat(train_data, valid_data, test_data, select_all=True):\n",
    "    '''Selects useful features to perform regression'''\n",
    "    y_train, y_valid = train_data[:,-1], valid_data[:,-1]\n",
    "    raw_x_train, raw_x_valid, raw_x_test = train_data[:,:-1], valid_data[:,:-1], test_data\n",
    "\n",
    "    if select_all:\n",
    "        feat_idx = list(range(raw_x_train.shape[1]))\n",
    "    else:\n",
    "        feat_idx = [0,1,2,3,4] # TODO: Select suitable feature columns.\n",
    "        \n",
    "    return raw_x_train[:,feat_idx], raw_x_valid[:,feat_idx], raw_x_test[:,feat_idx], y_train, y_valid"
   ]
  },
  {
   "cell_type": "code",
   "execution_count": 12,
   "id": "82aab3f5",
   "metadata": {},
   "outputs": [],
   "source": [
    "def trainer(train_loader, valid_loader, model, config, device):\n",
    "\n",
    "    criterion = nn.MSELoss() # Define your loss function, do not modify this.\n",
    "\n",
    "    # Define your optimization algorithm. \n",
    "    optimizer=torch.optim.Adam(model.parameters(),lr=0.0001,betas=(0.5,0.999))\n",
    "\n",
    "    writer = SummaryWriter() # Writer of tensoboard.\n",
    "\n",
    "    if not os.path.isdir('./models'):\n",
    "        os.mkdir('./models') # Create directory of saving models.\n",
    "\n",
    "    n_epochs, best_loss, step, early_stop_count = config['n_epochs'], math.inf, 0, 0\n",
    "\n",
    "    for epoch in range(n_epochs):\n",
    "        model.train() # Set your model to train mode.\n",
    "        loss_record = []\n",
    "\n",
    "        # tqdm is a package to visualize your training progress.\n",
    "        train_pbar = tqdm(train_loader, position=0, leave=True)\n",
    "\n",
    "        for x, y in train_pbar:\n",
    "            optimizer.zero_grad()               # Set gradient to zero.\n",
    "            x, y = x.to(device), y.to(device)   # Move your data to device. \n",
    "            pred = model(x)             \n",
    "            loss = criterion(pred, y)\n",
    "            loss.backward()                     # Compute gradient(backpropagation).\n",
    "            optimizer.step()                    # Update parameters.\n",
    "            step += 1\n",
    "            loss_record.append(loss.detach().item())\n",
    "            \n",
    "            # Display current epoch number and loss on tqdm progress bar.\n",
    "            train_pbar.set_description(f'Epoch [{epoch+1}/{n_epochs}]')\n",
    "            train_pbar.set_postfix({'loss': loss.detach().item()})\n",
    "\n",
    "        mean_train_loss = sum(loss_record)/len(loss_record)\n",
    "        writer.add_scalar('Loss/train', mean_train_loss, step)\n",
    "\n",
    "        model.eval() # Set your model to evaluation mode.\n",
    "        loss_record = []\n",
    "        for x, y in valid_loader:\n",
    "            x, y = x.to(device), y.to(device)\n",
    "            with torch.no_grad():\n",
    "                pred = model(x)\n",
    "                loss = criterion(pred, y)\n",
    "\n",
    "            loss_record.append(loss.item())\n",
    "            \n",
    "        mean_valid_loss = sum(loss_record)/len(loss_record)\n",
    "        print(f'Epoch [{epoch+1}/{n_epochs}]: Train loss: {mean_train_loss:.4f}, Test loss: {mean_valid_loss:.4f}')\n",
    "        writer.add_scalar('Loss/Test', mean_valid_loss, step)\n",
    "\n",
    "        if mean_valid_loss < best_loss:\n",
    "            best_loss = mean_valid_loss\n",
    "            torch.save(model.state_dict(), config['save_path']) # Save your best model\n",
    "            print('Saving model with loss {:.3f}...'.format(best_loss))\n",
    "            early_stop_count = 0\n",
    "        else: \n",
    "            early_stop_count += 1\n",
    "\n",
    "        if early_stop_count >= config['early_stop']:\n",
    "            print('\\nModel is not improving, so we halt the training session.')\n",
    "            return"
   ]
  },
  {
   "cell_type": "code",
   "execution_count": 13,
   "id": "3f3e362b",
   "metadata": {},
   "outputs": [],
   "source": [
    "device = 'cuda' if torch.cuda.is_available() else 'cpu'\n",
    "config = {\n",
    "    'seed': 20010106,      # Your seed number, you can pick your lucky number. :)\n",
    "    'select_all': True,   # Whether to use all features.\n",
    "    'test_ratio': 0.2,   # validation_size = train_size * valid_ratio\n",
    "    'n_epochs': 500,     # Number of epochs.            \n",
    "    'batch_size': 16, \n",
    "    'learning_rate': 1e-5,              \n",
    "    'early_stop': 400,    # If model has not improved for this many consecutive epochs, stop training.     \n",
    "    'save_path': './models/LSTM.ckpt'  # Your model will be saved here.\n",
    "}"
   ]
  },
  {
   "cell_type": "code",
   "execution_count": 14,
   "id": "065b21dc",
   "metadata": {},
   "outputs": [
    {
     "name": "stdout",
     "output_type": "stream",
     "text": [
      "len(Passenger_count):449\n"
     ]
    }
   ],
   "source": [
    "print(f\"len(Passenger_count):{len(passenger_count)}\")"
   ]
  },
  {
   "cell_type": "code",
   "execution_count": 15,
   "id": "e01eb591",
   "metadata": {},
   "outputs": [
    {
     "data": {
      "image/png": "[encoded data removed]",
      "text/plain": [
       "<Figure size 1000x600 with 1 Axes>"
      ]
     },
     "metadata": {},
     "output_type": "display_data"
    }
   ],
   "source": [
    "# 从每个周期中提取第一个簇的乘客计数\n",
    "first_cluster_passenger_count = [cycle[0] for cycle in passenger_count]\n",
    "\n",
    "# 设置图表大小\n",
    "plt.figure(figsize=(10, 6))\n",
    "\n",
    "# 绘制图表\n",
    "plt.plot([i for i in range(len(first_cluster_passenger_count))], first_cluster_passenger_count)\n",
    "\n",
    "# 设置y轴标签和字体大小\n",
    "plt.ylabel(\"Demand\", fontsize=10)\n",
    "\n",
    "# 显示图表\n",
    "plt.show()"
   ]
  },
  {
   "cell_type": "code",
   "execution_count": 16,
   "id": "d1dec209",
   "metadata": {},
   "outputs": [],
   "source": [
    "def split_data(data,time_step=24):\n",
    "    dataX=[]\n",
    "    datay=[]\n",
    "    dataNew = []\n",
    "    for i in range(len(data)-time_step):\n",
    "        dataX.append(data[i:i+time_step])\n",
    "        datay.append(data[i+time_step])\n",
    "        dataNew.append(data[i:i+time_step+1])\n",
    "    dataX=np.array(dataX).reshape(len(dataX),time_step,-1)\n",
    "    datay=np.array(datay)\n",
    "    dataNew=np.array(dataNew).reshape(len(dataNew),time_step+1,-1)\n",
    "    return dataX,datay,dataNew"
   ]
  },
  {
   "cell_type": "code",
   "execution_count": 17,
   "id": "c43d358c",
   "metadata": {},
   "outputs": [
    {
     "name": "stdout",
     "output_type": "stream",
     "text": [
      "dataX.shape:(425, 24, 30),datay.shape:(425, 30),dataNew.shape:(425, 25, 30)\n"
     ]
    }
   ],
   "source": [
    "dataX,datay, dataNew=split_data(passenger_count)\n",
    "print(f\"dataX.shape:{dataX.shape},datay.shape:{datay.shape},dataNew.shape:{dataNew.shape}\")"
   ]
  },
  {
   "cell_type": "code",
   "execution_count": 18,
   "id": "184c9dde",
   "metadata": {},
   "outputs": [],
   "source": [
    "# 计算验证集的大小（后10%的数据）\n",
    "valid_size = int(len(dataNew) * 0.1)\n",
    "\n",
    "# 从数据集的末尾取后10%作为验证集\n",
    "valid_data = dataNew[-valid_size:]"
   ]
  },
  {
   "cell_type": "code",
   "execution_count": 19,
   "id": "dc006e6e",
   "metadata": {},
   "outputs": [],
   "source": [
    "train_data, test_data = train_test_split(dataNew, config['test_ratio'], config['seed'])"
   ]
  },
  {
   "cell_type": "code",
   "execution_count": 20,
   "id": "165f55f5",
   "metadata": {},
   "outputs": [
    {
     "name": "stdout",
     "output_type": "stream",
     "text": [
      "number of features: 24\n"
     ]
    }
   ],
   "source": [
    "# Select features\n",
    "x_train, x_test, y_train, y_test = train_data[:,:-1], test_data[:,:-1], train_data[:,-1], test_data[:,-1],\n",
    "\n",
    "# Print out the number of features.\n",
    "print(f'number of features: {x_train.shape[1]}')"
   ]
  },
  {
   "cell_type": "code",
   "execution_count": 21,
   "id": "cd0d0ef7",
   "metadata": {},
   "outputs": [
    {
     "data": {
      "text/plain": [
       "340"
      ]
     },
     "execution_count": 21,
     "metadata": {},
     "output_type": "execute_result"
    }
   ],
   "source": [
    "len(train_data)"
   ]
  },
  {
   "cell_type": "code",
   "execution_count": 22,
   "id": "e09cb6c4",
   "metadata": {},
   "outputs": [],
   "source": [
    "train_dataset, valid_dataset = TripData(x_train, y=y_train), TripData(x_test, y=y_test),\n",
    "\n",
    "# Pytorch data loader loads pytorch dataset into batches.\n",
    "train_loader = DataLoader(train_dataset, batch_size=config['batch_size'], shuffle=True, pin_memory=True)\n",
    "valid_loader = DataLoader(valid_dataset, batch_size=config['batch_size'], shuffle=True, pin_memory=True)"
   ]
  },
  {
   "cell_type": "code",
   "execution_count": 23,
   "id": "31308310",
   "metadata": {},
   "outputs": [],
   "source": [
    "# 定义输入、隐藏状态和输出维度\n",
    "input_size = cluster_count  # 输入特征维度\n",
    "hidden_size = 8  # LSTM隐藏状态维度\n",
    "num_layers = 8  # LSTM层数\n",
    "output_size = cluster_count  # 输出维度（预测目标维度）"
   ]
  },
  {
   "cell_type": "code",
   "execution_count": 24,
   "id": "a1a214a8",
   "metadata": {},
   "outputs": [
    {
     "name": "stderr",
     "output_type": "stream",
     "text": [
      "Epoch [1/500]: 100%|██████████████████████████████████████████████████████| 22/22 [00:00<00:00, 45.18it/s, loss=0.0548]\n"
     ]
    },
    {
     "name": "stdout",
     "output_type": "stream",
     "text": [
      "Epoch [1/500]: Train loss: 0.0568, Test loss: 0.0555\n",
      "Saving model with loss 0.055...\n"
     ]
    },
    {
     "name": "stderr",
     "output_type": "stream",
     "text": [
      "Epoch [2/500]: 100%|█████████████████████████████████████████████████████| 22/22 [00:00<00:00, 118.92it/s, loss=0.0551]\n"
     ]
    },
    {
     "name": "stdout",
     "output_type": "stream",
     "text": [
      "Epoch [2/500]: Train loss: 0.0545, Test loss: 0.0544\n",
      "Saving model with loss 0.054...\n"
     ]
    },
    {
     "name": "stderr",
     "output_type": "stream",
     "text": [
      "Epoch [3/500]: 100%|█████████████████████████████████████████████████████| 22/22 [00:00<00:00, 111.08it/s, loss=0.0486]\n"
     ]
    },
    {
     "name": "stdout",
     "output_type": "stream",
     "text": [
      "Epoch [3/500]: Train loss: 0.0522, Test loss: 0.0510\n",
      "Saving model with loss 0.051...\n"
     ]
    },
    {
     "name": "stderr",
     "output_type": "stream",
     "text": [
      "Epoch [4/500]: 100%|█████████████████████████████████████████████████████| 22/22 [00:00<00:00, 130.16it/s, loss=0.0459]\n"
     ]
    },
    {
     "name": "stdout",
     "output_type": "stream",
     "text": [
      "Epoch [4/500]: Train loss: 0.0501, Test loss: 0.0509\n",
      "Saving model with loss 0.051...\n"
     ]
    },
    {
     "name": "stderr",
     "output_type": "stream",
     "text": [
      "Epoch [5/500]: 100%|█████████████████████████████████████████████████████| 22/22 [00:00<00:00, 125.02it/s, loss=0.0611]\n"
     ]
    },
    {
     "name": "stdout",
     "output_type": "stream",
     "text": [
      "Epoch [5/500]: Train loss: 0.0488, Test loss: 0.0478\n",
      "Saving model with loss 0.048...\n"
     ]
    },
    {
     "name": "stderr",
     "output_type": "stream",
     "text": [
      "Epoch [6/500]: 100%|█████████████████████████████████████████████████████| 22/22 [00:00<00:00, 132.15it/s, loss=0.0505]\n"
     ]
    },
    {
     "name": "stdout",
     "output_type": "stream",
     "text": [
      "Epoch [6/500]: Train loss: 0.0467, Test loss: 0.0463\n",
      "Saving model with loss 0.046...\n"
     ]
    },
    {
     "name": "stderr",
     "output_type": "stream",
     "text": [
      "Epoch [7/500]: 100%|█████████████████████████████████████████████████████| 22/22 [00:00<00:00, 130.87it/s, loss=0.0416]\n"
     ]
    },
    {
     "name": "stdout",
     "output_type": "stream",
     "text": [
      "Epoch [7/500]: Train loss: 0.0447, Test loss: 0.0435\n",
      "Saving model with loss 0.044...\n"
     ]
    },
    {
     "name": "stderr",
     "output_type": "stream",
     "text": [
      "Epoch [8/500]: 100%|█████████████████████████████████████████████████████| 22/22 [00:00<00:00, 110.05it/s, loss=0.0414]\n"
     ]
    },
    {
     "name": "stdout",
     "output_type": "stream",
     "text": [
      "Epoch [8/500]: Train loss: 0.0431, Test loss: 0.0426\n",
      "Saving model with loss 0.043...\n"
     ]
    },
    {
     "name": "stderr",
     "output_type": "stream",
     "text": [
      "Epoch [9/500]: 100%|█████████████████████████████████████████████████████| 22/22 [00:00<00:00, 112.60it/s, loss=0.0352]\n"
     ]
    },
    {
     "name": "stdout",
     "output_type": "stream",
     "text": [
      "Epoch [9/500]: Train loss: 0.0413, Test loss: 0.0410\n",
      "Saving model with loss 0.041...\n"
     ]
    },
    {
     "name": "stderr",
     "output_type": "stream",
     "text": [
      "Epoch [10/500]: 100%|████████████████████████████████████████████████████| 22/22 [00:00<00:00, 128.86it/s, loss=0.0402]\n"
     ]
    },
    {
     "name": "stdout",
     "output_type": "stream",
     "text": [
      "Epoch [10/500]: Train loss: 0.0399, Test loss: 0.0398\n",
      "Saving model with loss 0.040...\n"
     ]
    },
    {
     "name": "stderr",
     "output_type": "stream",
     "text": [
      "Epoch [11/500]: 100%|████████████████████████████████████████████████████| 22/22 [00:00<00:00, 131.73it/s, loss=0.0445]\n"
     ]
    },
    {
     "name": "stdout",
     "output_type": "stream",
     "text": [
      "Epoch [11/500]: Train loss: 0.0384, Test loss: 0.0372\n",
      "Saving model with loss 0.037...\n"
     ]
    },
    {
     "name": "stderr",
     "output_type": "stream",
     "text": [
      "Epoch [12/500]: 100%|████████████████████████████████████████████████████| 22/22 [00:00<00:00, 127.10it/s, loss=0.0306]"
     ]
    },
    {
     "name": "stdout",
     "output_type": "stream",
     "text": [
      "Epoch [12/500]: Train loss: 0.0363, Test loss: 0.0361\n"
     ]
    },
    {
     "name": "stderr",
     "output_type": "stream",
     "text": [
      "\n"
     ]
    },
    {
     "name": "stdout",
     "output_type": "stream",
     "text": [
      "Saving model with loss 0.036...\n"
     ]
    },
    {
     "name": "stderr",
     "output_type": "stream",
     "text": [
      "Epoch [13/500]: 100%|████████████████████████████████████████████████████| 22/22 [00:00<00:00, 128.38it/s, loss=0.0304]"
     ]
    },
    {
     "name": "stdout",
     "output_type": "stream",
     "text": [
      "Epoch [13/500]: Train loss: 0.0346, Test loss: 0.0342\n"
     ]
    },
    {
     "name": "stderr",
     "output_type": "stream",
     "text": [
      "\n"
     ]
    },
    {
     "name": "stdout",
     "output_type": "stream",
     "text": [
      "Saving model with loss 0.034...\n"
     ]
    },
    {
     "name": "stderr",
     "output_type": "stream",
     "text": [
      "Epoch [14/500]: 100%|████████████████████████████████████████████████████| 22/22 [00:00<00:00, 111.84it/s, loss=0.0321]\n"
     ]
    },
    {
     "name": "stdout",
     "output_type": "stream",
     "text": [
      "Epoch [14/500]: Train loss: 0.0330, Test loss: 0.0315\n",
      "Saving model with loss 0.032...\n"
     ]
    },
    {
     "name": "stderr",
     "output_type": "stream",
     "text": [
      "Epoch [15/500]: 100%|████████████████████████████████████████████████████| 22/22 [00:00<00:00, 107.30it/s, loss=0.0277]\n"
     ]
    },
    {
     "name": "stdout",
     "output_type": "stream",
     "text": [
      "Epoch [15/500]: Train loss: 0.0311, Test loss: 0.0303\n",
      "Saving model with loss 0.030...\n"
     ]
    },
    {
     "name": "stderr",
     "output_type": "stream",
     "text": [
      "Epoch [16/500]: 100%|████████████████████████████████████████████████████| 22/22 [00:00<00:00, 132.12it/s, loss=0.0255]\n"
     ]
    },
    {
     "name": "stdout",
     "output_type": "stream",
     "text": [
      "Epoch [16/500]: Train loss: 0.0293, Test loss: 0.0286\n",
      "Saving model with loss 0.029...\n"
     ]
    },
    {
     "name": "stderr",
     "output_type": "stream",
     "text": [
      "Epoch [17/500]: 100%|████████████████████████████████████████████████████| 22/22 [00:00<00:00, 127.97it/s, loss=0.0264]\n"
     ]
    },
    {
     "name": "stdout",
     "output_type": "stream",
     "text": [
      "Epoch [17/500]: Train loss: 0.0277, Test loss: 0.0269\n",
      "Saving model with loss 0.027...\n"
     ]
    },
    {
     "name": "stderr",
     "output_type": "stream",
     "text": [
      "Epoch [18/500]: 100%|████████████████████████████████████████████████████| 22/22 [00:00<00:00, 126.22it/s, loss=0.0251]"
     ]
    },
    {
     "name": "stdout",
     "output_type": "stream",
     "text": [
      "Epoch [18/500]: Train loss: 0.0260, Test loss: 0.0251\n"
     ]
    },
    {
     "name": "stderr",
     "output_type": "stream",
     "text": [
      "\n"
     ]
    },
    {
     "name": "stdout",
     "output_type": "stream",
     "text": [
      "Saving model with loss 0.025...\n"
     ]
    },
    {
     "name": "stderr",
     "output_type": "stream",
     "text": [
      "Epoch [19/500]: 100%|████████████████████████████████████████████████████| 22/22 [00:00<00:00, 129.13it/s, loss=0.0209]\n"
     ]
    },
    {
     "name": "stdout",
     "output_type": "stream",
     "text": [
      "Epoch [19/500]: Train loss: 0.0243, Test loss: 0.0239\n",
      "Saving model with loss 0.024...\n"
     ]
    },
    {
     "name": "stderr",
     "output_type": "stream",
     "text": [
      "Epoch [20/500]: 100%|████████████████████████████████████████████████████| 22/22 [00:00<00:00, 101.07it/s, loss=0.0266]\n"
     ]
    },
    {
     "name": "stdout",
     "output_type": "stream",
     "text": [
      "Epoch [20/500]: Train loss: 0.0231, Test loss: 0.0228\n",
      "Saving model with loss 0.023...\n"
     ]
    },
    {
     "name": "stderr",
     "output_type": "stream",
     "text": [
      "Epoch [21/500]: 100%|████████████████████████████████████████████████████| 22/22 [00:00<00:00, 104.11it/s, loss=0.0264]\n"
     ]
    },
    {
     "name": "stdout",
     "output_type": "stream",
     "text": [
      "Epoch [21/500]: Train loss: 0.0216, Test loss: 0.0207\n",
      "Saving model with loss 0.021...\n"
     ]
    },
    {
     "name": "stderr",
     "output_type": "stream",
     "text": [
      "Epoch [22/500]: 100%|████████████████████████████████████████████████████| 22/22 [00:00<00:00, 138.28it/s, loss=0.0182]\n"
     ]
    },
    {
     "name": "stdout",
     "output_type": "stream",
     "text": [
      "Epoch [22/500]: Train loss: 0.0200, Test loss: 0.0201\n",
      "Saving model with loss 0.020...\n"
     ]
    },
    {
     "name": "stderr",
     "output_type": "stream",
     "text": [
      "Epoch [23/500]: 100%|████████████████████████████████████████████████████| 22/22 [00:00<00:00, 116.04it/s, loss=0.0157]\n"
     ]
    },
    {
     "name": "stdout",
     "output_type": "stream",
     "text": [
      "Epoch [23/500]: Train loss: 0.0187, Test loss: 0.0184\n",
      "Saving model with loss 0.018...\n"
     ]
    },
    {
     "name": "stderr",
     "output_type": "stream",
     "text": [
      "Epoch [24/500]: 100%|████████████████████████████████████████████████████| 22/22 [00:00<00:00, 122.77it/s, loss=0.0155]\n"
     ]
    },
    {
     "name": "stdout",
     "output_type": "stream",
     "text": [
      "Epoch [24/500]: Train loss: 0.0175, Test loss: 0.0168\n",
      "Saving model with loss 0.017...\n"
     ]
    },
    {
     "name": "stderr",
     "output_type": "stream",
     "text": [
      "Epoch [25/500]: 100%|████████████████████████████████████████████████████| 22/22 [00:00<00:00, 122.40it/s, loss=0.0164]\n"
     ]
    },
    {
     "name": "stdout",
     "output_type": "stream",
     "text": [
      "Epoch [25/500]: Train loss: 0.0164, Test loss: 0.0159\n",
      "Saving model with loss 0.016...\n"
     ]
    },
    {
     "name": "stderr",
     "output_type": "stream",
     "text": [
      "Epoch [26/500]: 100%|█████████████████████████████████████████████████████| 22/22 [00:00<00:00, 87.03it/s, loss=0.0152]\n"
     ]
    },
    {
     "name": "stdout",
     "output_type": "stream",
     "text": [
      "Epoch [26/500]: Train loss: 0.0153, Test loss: 0.0147\n",
      "Saving model with loss 0.015...\n"
     ]
    },
    {
     "name": "stderr",
     "output_type": "stream",
     "text": [
      "Epoch [27/500]: 100%|████████████████████████████████████████████████████| 22/22 [00:00<00:00, 114.23it/s, loss=0.0116]\n"
     ]
    },
    {
     "name": "stdout",
     "output_type": "stream",
     "text": [
      "Epoch [27/500]: Train loss: 0.0142, Test loss: 0.0138\n",
      "Saving model with loss 0.014...\n"
     ]
    },
    {
     "name": "stderr",
     "output_type": "stream",
     "text": [
      "Epoch [28/500]: 100%|████████████████████████████████████████████████████| 22/22 [00:00<00:00, 113.35it/s, loss=0.0105]\n"
     ]
    },
    {
     "name": "stdout",
     "output_type": "stream",
     "text": [
      "Epoch [28/500]: Train loss: 0.0132, Test loss: 0.0130\n",
      "Saving model with loss 0.013...\n"
     ]
    },
    {
     "name": "stderr",
     "output_type": "stream",
     "text": [
      "Epoch [29/500]: 100%|████████████████████████████████████████████████████| 22/22 [00:00<00:00, 118.39it/s, loss=0.0135]\n"
     ]
    },
    {
     "name": "stdout",
     "output_type": "stream",
     "text": [
      "Epoch [29/500]: Train loss: 0.0124, Test loss: 0.0120\n",
      "Saving model with loss 0.012...\n"
     ]
    },
    {
     "name": "stderr",
     "output_type": "stream",
     "text": [
      "Epoch [30/500]: 100%|████████████████████████████████████████████████████| 22/22 [00:00<00:00, 108.10it/s, loss=0.0103]\n"
     ]
    },
    {
     "name": "stdout",
     "output_type": "stream",
     "text": [
      "Epoch [30/500]: Train loss: 0.0115, Test loss: 0.0111\n",
      "Saving model with loss 0.011...\n"
     ]
    },
    {
     "name": "stderr",
     "output_type": "stream",
     "text": [
      "Epoch [31/500]: 100%|████████████████████████████████████████████████████| 22/22 [00:00<00:00, 95.51it/s, loss=0.00883]\n"
     ]
    },
    {
     "name": "stdout",
     "output_type": "stream",
     "text": [
      "Epoch [31/500]: Train loss: 0.0106, Test loss: 0.0102\n",
      "Saving model with loss 0.010...\n"
     ]
    },
    {
     "name": "stderr",
     "output_type": "stream",
     "text": [
      "Epoch [32/500]: 100%|███████████████████████████████████████████████████| 22/22 [00:00<00:00, 115.14it/s, loss=0.00819]\n"
     ]
    },
    {
     "name": "stdout",
     "output_type": "stream",
     "text": [
      "Epoch [32/500]: Train loss: 0.0098, Test loss: 0.0095\n",
      "Saving model with loss 0.009...\n"
     ]
    },
    {
     "name": "stderr",
     "output_type": "stream",
     "text": [
      "Epoch [33/500]: 100%|███████████████████████████████████████████████████| 22/22 [00:00<00:00, 118.74it/s, loss=0.00741]\n"
     ]
    },
    {
     "name": "stdout",
     "output_type": "stream",
     "text": [
      "Epoch [33/500]: Train loss: 0.0091, Test loss: 0.0090\n",
      "Saving model with loss 0.009...\n"
     ]
    },
    {
     "name": "stderr",
     "output_type": "stream",
     "text": [
      "Epoch [34/500]: 100%|███████████████████████████████████████████████████| 22/22 [00:00<00:00, 110.63it/s, loss=0.00741]\n"
     ]
    },
    {
     "name": "stdout",
     "output_type": "stream",
     "text": [
      "Epoch [34/500]: Train loss: 0.0084, Test loss: 0.0086\n",
      "Saving model with loss 0.009...\n"
     ]
    },
    {
     "name": "stderr",
     "output_type": "stream",
     "text": [
      "Epoch [35/500]: 100%|█████████████████████████████████████████████████████| 22/22 [00:00<00:00, 117.75it/s, loss=0.011]\n"
     ]
    },
    {
     "name": "stdout",
     "output_type": "stream",
     "text": [
      "Epoch [35/500]: Train loss: 0.0079, Test loss: 0.0075\n",
      "Saving model with loss 0.007...\n"
     ]
    },
    {
     "name": "stderr",
     "output_type": "stream",
     "text": [
      "Epoch [36/500]: 100%|███████████████████████████████████████████████████| 22/22 [00:00<00:00, 123.14it/s, loss=0.00858]\n"
     ]
    },
    {
     "name": "stdout",
     "output_type": "stream",
     "text": [
      "Epoch [36/500]: Train loss: 0.0073, Test loss: 0.0068\n",
      "Saving model with loss 0.007...\n"
     ]
    },
    {
     "name": "stderr",
     "output_type": "stream",
     "text": [
      "Epoch [37/500]: 100%|████████████████████████████████████████████████████| 22/22 [00:00<00:00, 91.33it/s, loss=0.00421]\n"
     ]
    },
    {
     "name": "stdout",
     "output_type": "stream",
     "text": [
      "Epoch [37/500]: Train loss: 0.0067, Test loss: 0.0074\n"
     ]
    },
    {
     "name": "stderr",
     "output_type": "stream",
     "text": [
      "Epoch [38/500]: 100%|███████████████████████████████████████████████████| 22/22 [00:00<00:00, 120.20it/s, loss=0.00835]\n"
     ]
    },
    {
     "name": "stdout",
     "output_type": "stream",
     "text": [
      "Epoch [38/500]: Train loss: 0.0064, Test loss: 0.0061\n",
      "Saving model with loss 0.006...\n"
     ]
    },
    {
     "name": "stderr",
     "output_type": "stream",
     "text": [
      "Epoch [39/500]: 100%|███████████████████████████████████████████████████| 22/22 [00:00<00:00, 120.27it/s, loss=0.00425]\n"
     ]
    },
    {
     "name": "stdout",
     "output_type": "stream",
     "text": [
      "Epoch [39/500]: Train loss: 0.0059, Test loss: 0.0056\n",
      "Saving model with loss 0.006...\n"
     ]
    },
    {
     "name": "stderr",
     "output_type": "stream",
     "text": [
      "Epoch [40/500]: 100%|███████████████████████████████████████████████████| 22/22 [00:00<00:00, 122.56it/s, loss=0.00483]\n"
     ]
    },
    {
     "name": "stdout",
     "output_type": "stream",
     "text": [
      "Epoch [40/500]: Train loss: 0.0056, Test loss: 0.0054\n",
      "Saving model with loss 0.005...\n"
     ]
    },
    {
     "name": "stderr",
     "output_type": "stream",
     "text": [
      "Epoch [41/500]: 100%|████████████████████████████████████████████████████| 22/22 [00:00<00:00, 121.41it/s, loss=0.0031]\n"
     ]
    },
    {
     "name": "stdout",
     "output_type": "stream",
     "text": [
      "Epoch [41/500]: Train loss: 0.0052, Test loss: 0.0051\n",
      "Saving model with loss 0.005...\n"
     ]
    },
    {
     "name": "stderr",
     "output_type": "stream",
     "text": [
      "Epoch [42/500]: 100%|████████████████████████████████████████████████████| 22/22 [00:00<00:00, 94.32it/s, loss=0.00642]\n"
     ]
    },
    {
     "name": "stdout",
     "output_type": "stream",
     "text": [
      "Epoch [42/500]: Train loss: 0.0051, Test loss: 0.0051\n",
      "Saving model with loss 0.005...\n"
     ]
    },
    {
     "name": "stderr",
     "output_type": "stream",
     "text": [
      "Epoch [43/500]: 100%|███████████████████████████████████████████████████| 22/22 [00:00<00:00, 108.93it/s, loss=0.00455]\n"
     ]
    },
    {
     "name": "stdout",
     "output_type": "stream",
     "text": [
      "Epoch [43/500]: Train loss: 0.0048, Test loss: 0.0047\n",
      "Saving model with loss 0.005...\n"
     ]
    },
    {
     "name": "stderr",
     "output_type": "stream",
     "text": [
      "Epoch [44/500]: 100%|███████████████████████████████████████████████████| 22/22 [00:00<00:00, 119.43it/s, loss=0.00187]\n"
     ]
    },
    {
     "name": "stdout",
     "output_type": "stream",
     "text": [
      "Epoch [44/500]: Train loss: 0.0046, Test loss: 0.0048\n"
     ]
    },
    {
     "name": "stderr",
     "output_type": "stream",
     "text": [
      "Epoch [45/500]: 100%|███████████████████████████████████████████████████| 22/22 [00:00<00:00, 113.26it/s, loss=0.00316]\n"
     ]
    },
    {
     "name": "stdout",
     "output_type": "stream",
     "text": [
      "Epoch [45/500]: Train loss: 0.0045, Test loss: 0.0043\n",
      "Saving model with loss 0.004...\n"
     ]
    },
    {
     "name": "stderr",
     "output_type": "stream",
     "text": [
      "Epoch [46/500]: 100%|███████████████████████████████████████████████████| 22/22 [00:00<00:00, 114.51it/s, loss=0.00555]\n"
     ]
    },
    {
     "name": "stdout",
     "output_type": "stream",
     "text": [
      "Epoch [46/500]: Train loss: 0.0044, Test loss: 0.0044\n"
     ]
    },
    {
     "name": "stderr",
     "output_type": "stream",
     "text": [
      "Epoch [47/500]: 100%|████████████████████████████████████████████████████| 22/22 [00:00<00:00, 110.18it/s, loss=0.0031]\n"
     ]
    },
    {
     "name": "stdout",
     "output_type": "stream",
     "text": [
      "Epoch [47/500]: Train loss: 0.0043, Test loss: 0.0047\n"
     ]
    },
    {
     "name": "stderr",
     "output_type": "stream",
     "text": [
      "Epoch [48/500]: 100%|███████████████████████████████████████████████████| 22/22 [00:00<00:00, 101.96it/s, loss=0.00323]\n"
     ]
    },
    {
     "name": "stdout",
     "output_type": "stream",
     "text": [
      "Epoch [48/500]: Train loss: 0.0042, Test loss: 0.0047\n"
     ]
    },
    {
     "name": "stderr",
     "output_type": "stream",
     "text": [
      "Epoch [49/500]: 100%|███████████████████████████████████████████████████| 22/22 [00:00<00:00, 120.33it/s, loss=0.00162]\n"
     ]
    },
    {
     "name": "stdout",
     "output_type": "stream",
     "text": [
      "Epoch [49/500]: Train loss: 0.0041, Test loss: 0.0044\n"
     ]
    },
    {
     "name": "stderr",
     "output_type": "stream",
     "text": [
      "Epoch [50/500]: 100%|███████████████████████████████████████████████████| 22/22 [00:00<00:00, 121.08it/s, loss=0.00268]\n"
     ]
    },
    {
     "name": "stdout",
     "output_type": "stream",
     "text": [
      "Epoch [50/500]: Train loss: 0.0041, Test loss: 0.0043\n"
     ]
    },
    {
     "name": "stderr",
     "output_type": "stream",
     "text": [
      "Epoch [51/500]: 100%|███████████████████████████████████████████████████| 22/22 [00:00<00:00, 119.64it/s, loss=0.00836]\n"
     ]
    },
    {
     "name": "stdout",
     "output_type": "stream",
     "text": [
      "Epoch [51/500]: Train loss: 0.0042, Test loss: 0.0046\n"
     ]
    },
    {
     "name": "stderr",
     "output_type": "stream",
     "text": [
      "Epoch [52/500]: 100%|███████████████████████████████████████████████████| 22/22 [00:00<00:00, 123.10it/s, loss=0.00423]\n"
     ]
    },
    {
     "name": "stdout",
     "output_type": "stream",
     "text": [
      "Epoch [52/500]: Train loss: 0.0041, Test loss: 0.0040\n",
      "Saving model with loss 0.004...\n"
     ]
    },
    {
     "name": "stderr",
     "output_type": "stream",
     "text": [
      "Epoch [53/500]: 100%|████████████████████████████████████████████████████| 22/22 [00:00<00:00, 83.36it/s, loss=0.00259]\n"
     ]
    },
    {
     "name": "stdout",
     "output_type": "stream",
     "text": [
      "Epoch [53/500]: Train loss: 0.0040, Test loss: 0.0039\n",
      "Saving model with loss 0.004...\n"
     ]
    },
    {
     "name": "stderr",
     "output_type": "stream",
     "text": [
      "Epoch [54/500]: 100%|███████████████████████████████████████████████████| 22/22 [00:00<00:00, 118.29it/s, loss=0.00341]\n"
     ]
    },
    {
     "name": "stdout",
     "output_type": "stream",
     "text": [
      "Epoch [54/500]: Train loss: 0.0040, Test loss: 0.0042\n"
     ]
    },
    {
     "name": "stderr",
     "output_type": "stream",
     "text": [
      "Epoch [55/500]: 100%|███████████████████████████████████████████████████| 22/22 [00:00<00:00, 117.43it/s, loss=0.00261]\n"
     ]
    },
    {
     "name": "stdout",
     "output_type": "stream",
     "text": [
      "Epoch [55/500]: Train loss: 0.0040, Test loss: 0.0040\n"
     ]
    },
    {
     "name": "stderr",
     "output_type": "stream",
     "text": [
      "Epoch [56/500]: 100%|███████████████████████████████████████████████████| 22/22 [00:00<00:00, 115.59it/s, loss=0.00754]\n"
     ]
    },
    {
     "name": "stdout",
     "output_type": "stream",
     "text": [
      "Epoch [56/500]: Train loss: 0.0041, Test loss: 0.0041\n"
     ]
    },
    {
     "name": "stderr",
     "output_type": "stream",
     "text": [
      "Epoch [57/500]: 100%|███████████████████████████████████████████████████| 22/22 [00:00<00:00, 115.08it/s, loss=0.00692]\n"
     ]
    },
    {
     "name": "stdout",
     "output_type": "stream",
     "text": [
      "Epoch [57/500]: Train loss: 0.0041, Test loss: 0.0040\n"
     ]
    },
    {
     "name": "stderr",
     "output_type": "stream",
     "text": [
      "Epoch [58/500]: 100%|████████████████████████████████████████████████████| 22/22 [00:00<00:00, 103.72it/s, loss=0.0031]\n"
     ]
    },
    {
     "name": "stdout",
     "output_type": "stream",
     "text": [
      "Epoch [58/500]: Train loss: 0.0040, Test loss: 0.0040\n"
     ]
    },
    {
     "name": "stderr",
     "output_type": "stream",
     "text": [
      "Epoch [59/500]: 100%|████████████████████████████████████████████████████| 22/22 [00:00<00:00, 97.14it/s, loss=0.00311]\n"
     ]
    },
    {
     "name": "stdout",
     "output_type": "stream",
     "text": [
      "Epoch [59/500]: Train loss: 0.0040, Test loss: 0.0043\n"
     ]
    },
    {
     "name": "stderr",
     "output_type": "stream",
     "text": [
      "Epoch [60/500]: 100%|███████████████████████████████████████████████████| 22/22 [00:00<00:00, 114.14it/s, loss=0.00228]\n"
     ]
    },
    {
     "name": "stdout",
     "output_type": "stream",
     "text": [
      "Epoch [60/500]: Train loss: 0.0039, Test loss: 0.0040\n"
     ]
    },
    {
     "name": "stderr",
     "output_type": "stream",
     "text": [
      "Epoch [61/500]: 100%|████████████████████████████████████████████████████| 22/22 [00:00<00:00, 117.91it/s, loss=0.0013]\n"
     ]
    },
    {
     "name": "stdout",
     "output_type": "stream",
     "text": [
      "Epoch [61/500]: Train loss: 0.0039, Test loss: 0.0042\n"
     ]
    },
    {
     "name": "stderr",
     "output_type": "stream",
     "text": [
      "Epoch [62/500]: 100%|███████████████████████████████████████████████████| 22/22 [00:00<00:00, 109.88it/s, loss=0.00123]\n"
     ]
    },
    {
     "name": "stdout",
     "output_type": "stream",
     "text": [
      "Epoch [62/500]: Train loss: 0.0039, Test loss: 0.0044\n"
     ]
    },
    {
     "name": "stderr",
     "output_type": "stream",
     "text": [
      "Epoch [63/500]: 100%|███████████████████████████████████████████████████| 22/22 [00:00<00:00, 124.14it/s, loss=0.00652]\n"
     ]
    },
    {
     "name": "stdout",
     "output_type": "stream",
     "text": [
      "Epoch [63/500]: Train loss: 0.0041, Test loss: 0.0046\n"
     ]
    },
    {
     "name": "stderr",
     "output_type": "stream",
     "text": [
      "Epoch [64/500]: 100%|████████████████████████████████████████████████████| 22/22 [00:00<00:00, 86.24it/s, loss=0.00244]\n"
     ]
    },
    {
     "name": "stdout",
     "output_type": "stream",
     "text": [
      "Epoch [64/500]: Train loss: 0.0039, Test loss: 0.0040\n"
     ]
    },
    {
     "name": "stderr",
     "output_type": "stream",
     "text": [
      "Epoch [65/500]: 100%|███████████████████████████████████████████████████| 22/22 [00:00<00:00, 121.62it/s, loss=0.00283]\n"
     ]
    },
    {
     "name": "stdout",
     "output_type": "stream",
     "text": [
      "Epoch [65/500]: Train loss: 0.0039, Test loss: 0.0043\n"
     ]
    },
    {
     "name": "stderr",
     "output_type": "stream",
     "text": [
      "Epoch [66/500]: 100%|████████████████████████████████████████████████████| 22/22 [00:00<00:00, 123.19it/s, loss=0.0022]\n"
     ]
    },
    {
     "name": "stdout",
     "output_type": "stream",
     "text": [
      "Epoch [66/500]: Train loss: 0.0039, Test loss: 0.0043\n"
     ]
    },
    {
     "name": "stderr",
     "output_type": "stream",
     "text": [
      "Epoch [67/500]: 100%|█████████████████████████████████████████████████████| 22/22 [00:00<00:00, 118.22it/s, loss=0.003]\n"
     ]
    },
    {
     "name": "stdout",
     "output_type": "stream",
     "text": [
      "Epoch [67/500]: Train loss: 0.0039, Test loss: 0.0045\n"
     ]
    },
    {
     "name": "stderr",
     "output_type": "stream",
     "text": [
      "Epoch [68/500]: 100%|███████████████████████████████████████████████████| 22/22 [00:00<00:00, 118.81it/s, loss=0.00275]\n"
     ]
    },
    {
     "name": "stdout",
     "output_type": "stream",
     "text": [
      "Epoch [68/500]: Train loss: 0.0039, Test loss: 0.0041\n"
     ]
    },
    {
     "name": "stderr",
     "output_type": "stream",
     "text": [
      "Epoch [69/500]: 100%|███████████████████████████████████████████████████| 22/22 [00:00<00:00, 101.92it/s, loss=0.00329]\n"
     ]
    },
    {
     "name": "stdout",
     "output_type": "stream",
     "text": [
      "Epoch [69/500]: Train loss: 0.0039, Test loss: 0.0039\n"
     ]
    },
    {
     "name": "stderr",
     "output_type": "stream",
     "text": [
      "Epoch [70/500]: 100%|███████████████████████████████████████████████████| 22/22 [00:00<00:00, 102.96it/s, loss=0.00217]\n"
     ]
    },
    {
     "name": "stdout",
     "output_type": "stream",
     "text": [
      "Epoch [70/500]: Train loss: 0.0039, Test loss: 0.0040\n"
     ]
    },
    {
     "name": "stderr",
     "output_type": "stream",
     "text": [
      "Epoch [71/500]: 100%|███████████████████████████████████████████████████| 22/22 [00:00<00:00, 123.05it/s, loss=0.00326]\n"
     ]
    },
    {
     "name": "stdout",
     "output_type": "stream",
     "text": [
      "Epoch [71/500]: Train loss: 0.0039, Test loss: 0.0041\n"
     ]
    },
    {
     "name": "stderr",
     "output_type": "stream",
     "text": [
      "Epoch [72/500]: 100%|███████████████████████████████████████████████████| 22/22 [00:00<00:00, 116.78it/s, loss=0.00803]\n"
     ]
    },
    {
     "name": "stdout",
     "output_type": "stream",
     "text": [
      "Epoch [72/500]: Train loss: 0.0041, Test loss: 0.0042\n"
     ]
    },
    {
     "name": "stderr",
     "output_type": "stream",
     "text": [
      "Epoch [73/500]: 100%|███████████████████████████████████████████████████| 22/22 [00:00<00:00, 122.33it/s, loss=0.00232]\n"
     ]
    },
    {
     "name": "stdout",
     "output_type": "stream",
     "text": [
      "Epoch [73/500]: Train loss: 0.0039, Test loss: 0.0040\n"
     ]
    },
    {
     "name": "stderr",
     "output_type": "stream",
     "text": [
      "Epoch [74/500]: 100%|████████████████████████████████████████████████████| 22/22 [00:00<00:00, 117.61it/s, loss=0.0043]\n"
     ]
    },
    {
     "name": "stdout",
     "output_type": "stream",
     "text": [
      "Epoch [74/500]: Train loss: 0.0040, Test loss: 0.0046\n"
     ]
    },
    {
     "name": "stderr",
     "output_type": "stream",
     "text": [
      "Epoch [75/500]: 100%|████████████████████████████████████████████████████| 22/22 [00:00<00:00, 85.56it/s, loss=0.00894]\n"
     ]
    },
    {
     "name": "stdout",
     "output_type": "stream",
     "text": [
      "Epoch [75/500]: Train loss: 0.0041, Test loss: 0.0041\n"
     ]
    },
    {
     "name": "stderr",
     "output_type": "stream",
     "text": [
      "Epoch [76/500]: 100%|███████████████████████████████████████████████████| 22/22 [00:00<00:00, 115.91it/s, loss=0.00272]\n"
     ]
    },
    {
     "name": "stdout",
     "output_type": "stream",
     "text": [
      "Epoch [76/500]: Train loss: 0.0039, Test loss: 0.0040\n"
     ]
    },
    {
     "name": "stderr",
     "output_type": "stream",
     "text": [
      "Epoch [77/500]: 100%|███████████████████████████████████████████████████| 22/22 [00:00<00:00, 125.07it/s, loss=0.00131]"
     ]
    },
    {
     "name": "stdout",
     "output_type": "stream",
     "text": [
      "Epoch [77/500]: Train loss: 0.0039, Test loss: 0.0042"
     ]
    },
    {
     "name": "stderr",
     "output_type": "stream",
     "text": [
      "\n"
     ]
    },
    {
     "name": "stdout",
     "output_type": "stream",
     "text": [
      "\n"
     ]
    },
    {
     "name": "stderr",
     "output_type": "stream",
     "text": [
      "Epoch [78/500]: 100%|███████████████████████████████████████████████████| 22/22 [00:00<00:00, 118.64it/s, loss=0.00201]\n"
     ]
    },
    {
     "name": "stdout",
     "output_type": "stream",
     "text": [
      "Epoch [78/500]: Train loss: 0.0039, Test loss: 0.0044\n"
     ]
    },
    {
     "name": "stderr",
     "output_type": "stream",
     "text": [
      "Epoch [79/500]: 100%|███████████████████████████████████████████████████| 22/22 [00:00<00:00, 127.33it/s, loss=0.00663]\n"
     ]
    },
    {
     "name": "stdout",
     "output_type": "stream",
     "text": [
      "Epoch [79/500]: Train loss: 0.0041, Test loss: 0.0044\n"
     ]
    },
    {
     "name": "stderr",
     "output_type": "stream",
     "text": [
      "Epoch [80/500]: 100%|███████████████████████████████████████████████████| 22/22 [00:00<00:00, 100.02it/s, loss=0.00857]\n"
     ]
    },
    {
     "name": "stdout",
     "output_type": "stream",
     "text": [
      "Epoch [80/500]: Train loss: 0.0041, Test loss: 0.0040\n"
     ]
    },
    {
     "name": "stderr",
     "output_type": "stream",
     "text": [
      "Epoch [81/500]: 100%|███████████████████████████████████████████████████| 22/22 [00:00<00:00, 103.49it/s, loss=0.00212]\n"
     ]
    },
    {
     "name": "stdout",
     "output_type": "stream",
     "text": [
      "Epoch [81/500]: Train loss: 0.0039, Test loss: 0.0040\n"
     ]
    },
    {
     "name": "stderr",
     "output_type": "stream",
     "text": [
      "Epoch [82/500]: 100%|███████████████████████████████████████████████████| 22/22 [00:00<00:00, 119.75it/s, loss=0.00145]\n"
     ]
    },
    {
     "name": "stdout",
     "output_type": "stream",
     "text": [
      "Epoch [82/500]: Train loss: 0.0039, Test loss: 0.0044\n"
     ]
    },
    {
     "name": "stderr",
     "output_type": "stream",
     "text": [
      "Epoch [83/500]: 100%|███████████████████████████████████████████████████| 22/22 [00:00<00:00, 125.69it/s, loss=0.00488]\n"
     ]
    },
    {
     "name": "stdout",
     "output_type": "stream",
     "text": [
      "Epoch [83/500]: Train loss: 0.0040, Test loss: 0.0041\n"
     ]
    },
    {
     "name": "stderr",
     "output_type": "stream",
     "text": [
      "Epoch [84/500]: 100%|███████████████████████████████████████████████████| 22/22 [00:00<00:00, 117.68it/s, loss=0.00309]\n"
     ]
    },
    {
     "name": "stdout",
     "output_type": "stream",
     "text": [
      "Epoch [84/500]: Train loss: 0.0039, Test loss: 0.0040\n"
     ]
    },
    {
     "name": "stderr",
     "output_type": "stream",
     "text": [
      "Epoch [85/500]: 100%|████████████████████████████████████████████████████| 22/22 [00:00<00:00, 118.71it/s, loss=0.0019]\n"
     ]
    },
    {
     "name": "stdout",
     "output_type": "stream",
     "text": [
      "Epoch [85/500]: Train loss: 0.0039, Test loss: 0.0045\n"
     ]
    },
    {
     "name": "stderr",
     "output_type": "stream",
     "text": [
      "Epoch [86/500]: 100%|████████████████████████████████████████████████████| 22/22 [00:00<00:00, 84.89it/s, loss=0.00167]\n"
     ]
    },
    {
     "name": "stdout",
     "output_type": "stream",
     "text": [
      "Epoch [86/500]: Train loss: 0.0039, Test loss: 0.0045\n"
     ]
    },
    {
     "name": "stderr",
     "output_type": "stream",
     "text": [
      "Epoch [87/500]: 100%|███████████████████████████████████████████████████| 22/22 [00:00<00:00, 120.56it/s, loss=0.00151]\n"
     ]
    },
    {
     "name": "stdout",
     "output_type": "stream",
     "text": [
      "Epoch [87/500]: Train loss: 0.0039, Test loss: 0.0042\n"
     ]
    },
    {
     "name": "stderr",
     "output_type": "stream",
     "text": [
      "Epoch [88/500]: 100%|███████████████████████████████████████████████████| 22/22 [00:00<00:00, 118.80it/s, loss=0.00418]\n"
     ]
    },
    {
     "name": "stdout",
     "output_type": "stream",
     "text": [
      "Epoch [88/500]: Train loss: 0.0040, Test loss: 0.0039\n"
     ]
    },
    {
     "name": "stderr",
     "output_type": "stream",
     "text": [
      "Epoch [89/500]: 100%|███████████████████████████████████████████████████| 22/22 [00:00<00:00, 119.14it/s, loss=0.00632]\n"
     ]
    },
    {
     "name": "stdout",
     "output_type": "stream",
     "text": [
      "Epoch [89/500]: Train loss: 0.0041, Test loss: 0.0040\n"
     ]
    },
    {
     "name": "stderr",
     "output_type": "stream",
     "text": [
      "Epoch [90/500]: 100%|███████████████████████████████████████████████████| 22/22 [00:00<00:00, 112.46it/s, loss=0.00272]\n"
     ]
    },
    {
     "name": "stdout",
     "output_type": "stream",
     "text": [
      "Epoch [90/500]: Train loss: 0.0039, Test loss: 0.0041\n"
     ]
    },
    {
     "name": "stderr",
     "output_type": "stream",
     "text": [
      "Epoch [91/500]: 100%|█████████████████████████████████████████████████████| 22/22 [00:00<00:00, 90.95it/s, loss=0.0074]\n"
     ]
    },
    {
     "name": "stdout",
     "output_type": "stream",
     "text": [
      "Epoch [91/500]: Train loss: 0.0041, Test loss: 0.0045\n"
     ]
    },
    {
     "name": "stderr",
     "output_type": "stream",
     "text": [
      "Epoch [92/500]: 100%|████████████████████████████████████████████████████| 22/22 [00:00<00:00, 108.82it/s, loss=0.0073]\n"
     ]
    },
    {
     "name": "stdout",
     "output_type": "stream",
     "text": [
      "Epoch [92/500]: Train loss: 0.0041, Test loss: 0.0039\n"
     ]
    },
    {
     "name": "stderr",
     "output_type": "stream",
     "text": [
      "Epoch [93/500]: 100%|███████████████████████████████████████████████████| 22/22 [00:00<00:00, 114.30it/s, loss=0.00193]\n"
     ]
    },
    {
     "name": "stdout",
     "output_type": "stream",
     "text": [
      "Epoch [93/500]: Train loss: 0.0039, Test loss: 0.0042\n"
     ]
    },
    {
     "name": "stderr",
     "output_type": "stream",
     "text": [
      "Epoch [94/500]: 100%|███████████████████████████████████████████████████| 22/22 [00:00<00:00, 113.18it/s, loss=0.00215]\n"
     ]
    },
    {
     "name": "stdout",
     "output_type": "stream",
     "text": [
      "Epoch [94/500]: Train loss: 0.0039, Test loss: 0.0046\n"
     ]
    },
    {
     "name": "stderr",
     "output_type": "stream",
     "text": [
      "Epoch [95/500]: 100%|███████████████████████████████████████████████████| 22/22 [00:00<00:00, 110.37it/s, loss=0.00342]\n"
     ]
    },
    {
     "name": "stdout",
     "output_type": "stream",
     "text": [
      "Epoch [95/500]: Train loss: 0.0040, Test loss: 0.0042\n"
     ]
    },
    {
     "name": "stderr",
     "output_type": "stream",
     "text": [
      "Epoch [96/500]: 100%|███████████████████████████████████████████████████| 22/22 [00:00<00:00, 113.42it/s, loss=0.00581]\n"
     ]
    },
    {
     "name": "stdout",
     "output_type": "stream",
     "text": [
      "Epoch [96/500]: Train loss: 0.0040, Test loss: 0.0046\n"
     ]
    },
    {
     "name": "stderr",
     "output_type": "stream",
     "text": [
      "Epoch [97/500]: 100%|████████████████████████████████████████████████████| 22/22 [00:00<00:00, 92.73it/s, loss=0.00761]\n"
     ]
    },
    {
     "name": "stdout",
     "output_type": "stream",
     "text": [
      "Epoch [97/500]: Train loss: 0.0041, Test loss: 0.0042\n"
     ]
    },
    {
     "name": "stderr",
     "output_type": "stream",
     "text": [
      "Epoch [98/500]: 100%|███████████████████████████████████████████████████| 22/22 [00:00<00:00, 110.44it/s, loss=0.00213]\n"
     ]
    },
    {
     "name": "stdout",
     "output_type": "stream",
     "text": [
      "Epoch [98/500]: Train loss: 0.0039, Test loss: 0.0044\n"
     ]
    },
    {
     "name": "stderr",
     "output_type": "stream",
     "text": [
      "Epoch [99/500]: 100%|███████████████████████████████████████████████████| 22/22 [00:00<00:00, 118.35it/s, loss=0.00275]\n"
     ]
    },
    {
     "name": "stdout",
     "output_type": "stream",
     "text": [
      "Epoch [99/500]: Train loss: 0.0039, Test loss: 0.0038\n",
      "Saving model with loss 0.004...\n"
     ]
    },
    {
     "name": "stderr",
     "output_type": "stream",
     "text": [
      "Epoch [100/500]: 100%|██████████████████████████████████████████████████| 22/22 [00:00<00:00, 116.64it/s, loss=0.00147]\n"
     ]
    },
    {
     "name": "stdout",
     "output_type": "stream",
     "text": [
      "Epoch [100/500]: Train loss: 0.0039, Test loss: 0.0044\n"
     ]
    },
    {
     "name": "stderr",
     "output_type": "stream",
     "text": [
      "Epoch [101/500]: 100%|██████████████████████████████████████████████████| 22/22 [00:00<00:00, 119.67it/s, loss=0.00244]\n"
     ]
    },
    {
     "name": "stdout",
     "output_type": "stream",
     "text": [
      "Epoch [101/500]: Train loss: 0.0039, Test loss: 0.0038\n",
      "Saving model with loss 0.004...\n"
     ]
    },
    {
     "name": "stderr",
     "output_type": "stream",
     "text": [
      "Epoch [102/500]: 100%|███████████████████████████████████████████████████| 22/22 [00:00<00:00, 87.69it/s, loss=0.00298]\n"
     ]
    },
    {
     "name": "stdout",
     "output_type": "stream",
     "text": [
      "Epoch [102/500]: Train loss: 0.0039, Test loss: 0.0040\n"
     ]
    },
    {
     "name": "stderr",
     "output_type": "stream",
     "text": [
      "Epoch [103/500]: 100%|██████████████████████████████████████████████████| 22/22 [00:00<00:00, 117.92it/s, loss=0.00247]\n"
     ]
    },
    {
     "name": "stdout",
     "output_type": "stream",
     "text": [
      "Epoch [103/500]: Train loss: 0.0039, Test loss: 0.0045\n"
     ]
    },
    {
     "name": "stderr",
     "output_type": "stream",
     "text": [
      "Epoch [104/500]: 100%|███████████████████████████████████████████████████| 22/22 [00:00<00:00, 119.03it/s, loss=0.0122]\n"
     ]
    },
    {
     "name": "stdout",
     "output_type": "stream",
     "text": [
      "Epoch [104/500]: Train loss: 0.0043, Test loss: 0.0046\n"
     ]
    },
    {
     "name": "stderr",
     "output_type": "stream",
     "text": [
      "Epoch [105/500]: 100%|██████████████████████████████████████████████████| 22/22 [00:00<00:00, 114.33it/s, loss=0.00224]\n"
     ]
    },
    {
     "name": "stdout",
     "output_type": "stream",
     "text": [
      "Epoch [105/500]: Train loss: 0.0039, Test loss: 0.0039\n"
     ]
    },
    {
     "name": "stderr",
     "output_type": "stream",
     "text": [
      "Epoch [106/500]: 100%|██████████████████████████████████████████████████| 22/22 [00:00<00:00, 119.54it/s, loss=0.00251]\n"
     ]
    },
    {
     "name": "stdout",
     "output_type": "stream",
     "text": [
      "Epoch [106/500]: Train loss: 0.0039, Test loss: 0.0041\n"
     ]
    },
    {
     "name": "stderr",
     "output_type": "stream",
     "text": [
      "Epoch [107/500]: 100%|██████████████████████████████████████████████████| 22/22 [00:00<00:00, 105.20it/s, loss=0.00187]\n"
     ]
    },
    {
     "name": "stdout",
     "output_type": "stream",
     "text": [
      "Epoch [107/500]: Train loss: 0.0039, Test loss: 0.0042\n"
     ]
    },
    {
     "name": "stderr",
     "output_type": "stream",
     "text": [
      "Epoch [108/500]: 100%|███████████████████████████████████████████████████| 22/22 [00:00<00:00, 89.38it/s, loss=0.00175]\n"
     ]
    },
    {
     "name": "stdout",
     "output_type": "stream",
     "text": [
      "Epoch [108/500]: Train loss: 0.0039, Test loss: 0.0043\n"
     ]
    },
    {
     "name": "stderr",
     "output_type": "stream",
     "text": [
      "Epoch [109/500]: 100%|██████████████████████████████████████████████████| 22/22 [00:00<00:00, 116.14it/s, loss=0.00415]\n"
     ]
    },
    {
     "name": "stdout",
     "output_type": "stream",
     "text": [
      "Epoch [109/500]: Train loss: 0.0040, Test loss: 0.0049\n"
     ]
    },
    {
     "name": "stderr",
     "output_type": "stream",
     "text": [
      "Epoch [110/500]: 100%|██████████████████████████████████████████████████| 22/22 [00:00<00:00, 124.02it/s, loss=0.00261]\n"
     ]
    },
    {
     "name": "stdout",
     "output_type": "stream",
     "text": [
      "Epoch [110/500]: Train loss: 0.0039, Test loss: 0.0044\n"
     ]
    },
    {
     "name": "stderr",
     "output_type": "stream",
     "text": [
      "Epoch [111/500]: 100%|██████████████████████████████████████████████████| 22/22 [00:00<00:00, 119.04it/s, loss=0.00665]\n"
     ]
    },
    {
     "name": "stdout",
     "output_type": "stream",
     "text": [
      "Epoch [111/500]: Train loss: 0.0041, Test loss: 0.0047\n"
     ]
    },
    {
     "name": "stderr",
     "output_type": "stream",
     "text": [
      "Epoch [112/500]: 100%|██████████████████████████████████████████████████| 22/22 [00:00<00:00, 117.14it/s, loss=0.00166]\n"
     ]
    },
    {
     "name": "stdout",
     "output_type": "stream",
     "text": [
      "Epoch [112/500]: Train loss: 0.0039, Test loss: 0.0040\n"
     ]
    },
    {
     "name": "stderr",
     "output_type": "stream",
     "text": [
      "Epoch [113/500]: 100%|███████████████████████████████████████████████████| 22/22 [00:00<00:00, 82.10it/s, loss=0.00303]\n"
     ]
    },
    {
     "name": "stdout",
     "output_type": "stream",
     "text": [
      "Epoch [113/500]: Train loss: 0.0039, Test loss: 0.0042\n"
     ]
    },
    {
     "name": "stderr",
     "output_type": "stream",
     "text": [
      "Epoch [114/500]: 100%|███████████████████████████████████████████████████| 22/22 [00:00<00:00, 119.48it/s, loss=0.0042]\n"
     ]
    },
    {
     "name": "stdout",
     "output_type": "stream",
     "text": [
      "Epoch [114/500]: Train loss: 0.0040, Test loss: 0.0040\n"
     ]
    },
    {
     "name": "stderr",
     "output_type": "stream",
     "text": [
      "Epoch [115/500]: 100%|██████████████████████████████████████████████████| 22/22 [00:00<00:00, 114.71it/s, loss=0.00403]\n"
     ]
    },
    {
     "name": "stdout",
     "output_type": "stream",
     "text": [
      "Epoch [115/500]: Train loss: 0.0040, Test loss: 0.0041\n"
     ]
    },
    {
     "name": "stderr",
     "output_type": "stream",
     "text": [
      "Epoch [116/500]: 100%|███████████████████████████████████████████████████| 22/22 [00:00<00:00, 123.42it/s, loss=0.0086]\n"
     ]
    },
    {
     "name": "stdout",
     "output_type": "stream",
     "text": [
      "Epoch [116/500]: Train loss: 0.0041, Test loss: 0.0040\n"
     ]
    },
    {
     "name": "stderr",
     "output_type": "stream",
     "text": [
      "Epoch [117/500]: 100%|██████████████████████████████████████████████████| 22/22 [00:00<00:00, 114.56it/s, loss=0.00721]\n"
     ]
    },
    {
     "name": "stdout",
     "output_type": "stream",
     "text": [
      "Epoch [117/500]: Train loss: 0.0041, Test loss: 0.0045\n"
     ]
    },
    {
     "name": "stderr",
     "output_type": "stream",
     "text": [
      "Epoch [118/500]: 100%|██████████████████████████████████████████████████| 22/22 [00:00<00:00, 102.98it/s, loss=0.00677]\n"
     ]
    },
    {
     "name": "stdout",
     "output_type": "stream",
     "text": [
      "Epoch [118/500]: Train loss: 0.0041, Test loss: 0.0042\n"
     ]
    },
    {
     "name": "stderr",
     "output_type": "stream",
     "text": [
      "Epoch [119/500]: 100%|██████████████████████████████████████████████████| 22/22 [00:00<00:00, 100.02it/s, loss=0.00385]\n"
     ]
    },
    {
     "name": "stdout",
     "output_type": "stream",
     "text": [
      "Epoch [119/500]: Train loss: 0.0040, Test loss: 0.0043\n"
     ]
    },
    {
     "name": "stderr",
     "output_type": "stream",
     "text": [
      "Epoch [120/500]: 100%|██████████████████████████████████████████████████| 22/22 [00:00<00:00, 120.99it/s, loss=0.00302]\n"
     ]
    },
    {
     "name": "stdout",
     "output_type": "stream",
     "text": [
      "Epoch [120/500]: Train loss: 0.0039, Test loss: 0.0041\n"
     ]
    },
    {
     "name": "stderr",
     "output_type": "stream",
     "text": [
      "Epoch [121/500]: 100%|██████████████████████████████████████████████████| 22/22 [00:00<00:00, 117.40it/s, loss=0.00217]\n"
     ]
    },
    {
     "name": "stdout",
     "output_type": "stream",
     "text": [
      "Epoch [121/500]: Train loss: 0.0039, Test loss: 0.0040\n"
     ]
    },
    {
     "name": "stderr",
     "output_type": "stream",
     "text": [
      "Epoch [122/500]: 100%|██████████████████████████████████████████████████| 22/22 [00:00<00:00, 116.81it/s, loss=0.00191]\n"
     ]
    },
    {
     "name": "stdout",
     "output_type": "stream",
     "text": [
      "Epoch [122/500]: Train loss: 0.0039, Test loss: 0.0039\n"
     ]
    },
    {
     "name": "stderr",
     "output_type": "stream",
     "text": [
      "Epoch [123/500]: 100%|██████████████████████████████████████████████████| 22/22 [00:00<00:00, 108.25it/s, loss=0.00406]\n"
     ]
    },
    {
     "name": "stdout",
     "output_type": "stream",
     "text": [
      "Epoch [123/500]: Train loss: 0.0040, Test loss: 0.0041\n"
     ]
    },
    {
     "name": "stderr",
     "output_type": "stream",
     "text": [
      "Epoch [124/500]: 100%|███████████████████████████████████████████████████| 22/22 [00:00<00:00, 91.52it/s, loss=0.00355]\n"
     ]
    },
    {
     "name": "stdout",
     "output_type": "stream",
     "text": [
      "Epoch [124/500]: Train loss: 0.0040, Test loss: 0.0043\n"
     ]
    },
    {
     "name": "stderr",
     "output_type": "stream",
     "text": [
      "Epoch [125/500]: 100%|██████████████████████████████████████████████████| 22/22 [00:00<00:00, 120.36it/s, loss=0.00406]\n"
     ]
    },
    {
     "name": "stdout",
     "output_type": "stream",
     "text": [
      "Epoch [125/500]: Train loss: 0.0040, Test loss: 0.0041\n"
     ]
    },
    {
     "name": "stderr",
     "output_type": "stream",
     "text": [
      "Epoch [126/500]: 100%|███████████████████████████████████████████████████| 22/22 [00:00<00:00, 124.77it/s, loss=0.0111]\n"
     ]
    },
    {
     "name": "stdout",
     "output_type": "stream",
     "text": [
      "Epoch [126/500]: Train loss: 0.0042, Test loss: 0.0039\n"
     ]
    },
    {
     "name": "stderr",
     "output_type": "stream",
     "text": [
      "Epoch [127/500]: 100%|██████████████████████████████████████████████████| 22/22 [00:00<00:00, 113.55it/s, loss=0.00201]\n"
     ]
    },
    {
     "name": "stdout",
     "output_type": "stream",
     "text": [
      "Epoch [127/500]: Train loss: 0.0039, Test loss: 0.0041\n"
     ]
    },
    {
     "name": "stderr",
     "output_type": "stream",
     "text": [
      "Epoch [128/500]: 100%|██████████████████████████████████████████████████| 22/22 [00:00<00:00, 118.07it/s, loss=0.00292]\n"
     ]
    },
    {
     "name": "stdout",
     "output_type": "stream",
     "text": [
      "Epoch [128/500]: Train loss: 0.0039, Test loss: 0.0042\n"
     ]
    },
    {
     "name": "stderr",
     "output_type": "stream",
     "text": [
      "Epoch [129/500]: 100%|███████████████████████████████████████████████████| 22/22 [00:00<00:00, 90.40it/s, loss=0.00245]\n"
     ]
    },
    {
     "name": "stdout",
     "output_type": "stream",
     "text": [
      "Epoch [129/500]: Train loss: 0.0039, Test loss: 0.0041\n"
     ]
    },
    {
     "name": "stderr",
     "output_type": "stream",
     "text": [
      "Epoch [130/500]: 100%|██████████████████████████████████████████████████| 22/22 [00:00<00:00, 114.24it/s, loss=0.00238]\n"
     ]
    },
    {
     "name": "stdout",
     "output_type": "stream",
     "text": [
      "Epoch [130/500]: Train loss: 0.0039, Test loss: 0.0039\n"
     ]
    },
    {
     "name": "stderr",
     "output_type": "stream",
     "text": [
      "Epoch [131/500]: 100%|██████████████████████████████████████████████████| 22/22 [00:00<00:00, 114.08it/s, loss=0.00395]\n"
     ]
    },
    {
     "name": "stdout",
     "output_type": "stream",
     "text": [
      "Epoch [131/500]: Train loss: 0.0040, Test loss: 0.0044\n"
     ]
    },
    {
     "name": "stderr",
     "output_type": "stream",
     "text": [
      "Epoch [132/500]: 100%|██████████████████████████████████████████████████| 22/22 [00:00<00:00, 121.65it/s, loss=0.00341]\n"
     ]
    },
    {
     "name": "stdout",
     "output_type": "stream",
     "text": [
      "Epoch [132/500]: Train loss: 0.0040, Test loss: 0.0044\n"
     ]
    },
    {
     "name": "stderr",
     "output_type": "stream",
     "text": [
      "Epoch [133/500]: 100%|██████████████████████████████████████████████████| 22/22 [00:00<00:00, 121.60it/s, loss=0.00206]\n"
     ]
    },
    {
     "name": "stdout",
     "output_type": "stream",
     "text": [
      "Epoch [133/500]: Train loss: 0.0039, Test loss: 0.0039\n"
     ]
    },
    {
     "name": "stderr",
     "output_type": "stream",
     "text": [
      "Epoch [134/500]: 100%|██████████████████████████████████████████████████| 22/22 [00:00<00:00, 109.44it/s, loss=0.00179]\n"
     ]
    },
    {
     "name": "stdout",
     "output_type": "stream",
     "text": [
      "Epoch [134/500]: Train loss: 0.0039, Test loss: 0.0047\n"
     ]
    },
    {
     "name": "stderr",
     "output_type": "stream",
     "text": [
      "Epoch [135/500]: 100%|███████████████████████████████████████████████████| 22/22 [00:00<00:00, 88.95it/s, loss=0.00308]\n"
     ]
    },
    {
     "name": "stdout",
     "output_type": "stream",
     "text": [
      "Epoch [135/500]: Train loss: 0.0039, Test loss: 0.0043\n"
     ]
    },
    {
     "name": "stderr",
     "output_type": "stream",
     "text": [
      "Epoch [136/500]: 100%|██████████████████████████████████████████████████| 22/22 [00:00<00:00, 114.95it/s, loss=0.00824]\n"
     ]
    },
    {
     "name": "stdout",
     "output_type": "stream",
     "text": [
      "Epoch [136/500]: Train loss: 0.0041, Test loss: 0.0039\n"
     ]
    },
    {
     "name": "stderr",
     "output_type": "stream",
     "text": [
      "Epoch [137/500]: 100%|██████████████████████████████████████████████████| 22/22 [00:00<00:00, 115.88it/s, loss=0.00207]\n"
     ]
    },
    {
     "name": "stdout",
     "output_type": "stream",
     "text": [
      "Epoch [137/500]: Train loss: 0.0039, Test loss: 0.0040\n"
     ]
    },
    {
     "name": "stderr",
     "output_type": "stream",
     "text": [
      "Epoch [138/500]: 100%|██████████████████████████████████████████████████| 22/22 [00:00<00:00, 114.37it/s, loss=0.00189]\n"
     ]
    },
    {
     "name": "stdout",
     "output_type": "stream",
     "text": [
      "Epoch [138/500]: Train loss: 0.0039, Test loss: 0.0044\n"
     ]
    },
    {
     "name": "stderr",
     "output_type": "stream",
     "text": [
      "Epoch [139/500]: 100%|██████████████████████████████████████████████████| 22/22 [00:00<00:00, 121.12it/s, loss=0.00118]\n"
     ]
    },
    {
     "name": "stdout",
     "output_type": "stream",
     "text": [
      "Epoch [139/500]: Train loss: 0.0039, Test loss: 0.0041\n"
     ]
    },
    {
     "name": "stderr",
     "output_type": "stream",
     "text": [
      "Epoch [140/500]: 100%|███████████████████████████████████████████████████| 22/22 [00:00<00:00, 85.28it/s, loss=0.00336]\n"
     ]
    },
    {
     "name": "stdout",
     "output_type": "stream",
     "text": [
      "Epoch [140/500]: Train loss: 0.0040, Test loss: 0.0041\n"
     ]
    },
    {
     "name": "stderr",
     "output_type": "stream",
     "text": [
      "Epoch [141/500]: 100%|██████████████████████████████████████████████████| 22/22 [00:00<00:00, 124.17it/s, loss=0.00622]\n"
     ]
    },
    {
     "name": "stdout",
     "output_type": "stream",
     "text": [
      "Epoch [141/500]: Train loss: 0.0040, Test loss: 0.0046\n"
     ]
    },
    {
     "name": "stderr",
     "output_type": "stream",
     "text": [
      "Epoch [142/500]: 100%|██████████████████████████████████████████████████| 22/22 [00:00<00:00, 119.79it/s, loss=0.00277]"
     ]
    },
    {
     "name": "stdout",
     "output_type": "stream",
     "text": [
      "Epoch [142/500]: Train loss: 0.0039, Test loss: 0.0040"
     ]
    },
    {
     "name": "stderr",
     "output_type": "stream",
     "text": [
      "\n"
     ]
    },
    {
     "name": "stdout",
     "output_type": "stream",
     "text": [
      "\n"
     ]
    },
    {
     "name": "stderr",
     "output_type": "stream",
     "text": [
      "Epoch [143/500]: 100%|███████████████████████████████████████████████████| 22/22 [00:00<00:00, 116.56it/s, loss=0.0023]\n"
     ]
    },
    {
     "name": "stdout",
     "output_type": "stream",
     "text": [
      "Epoch [143/500]: Train loss: 0.0039, Test loss: 0.0042\n"
     ]
    },
    {
     "name": "stderr",
     "output_type": "stream",
     "text": [
      "Epoch [144/500]: 100%|██████████████████████████████████████████████████| 22/22 [00:00<00:00, 116.53it/s, loss=0.00798]\n"
     ]
    },
    {
     "name": "stdout",
     "output_type": "stream",
     "text": [
      "Epoch [144/500]: Train loss: 0.0041, Test loss: 0.0041\n"
     ]
    },
    {
     "name": "stderr",
     "output_type": "stream",
     "text": [
      "Epoch [145/500]: 100%|██████████████████████████████████████████████████| 22/22 [00:00<00:00, 102.25it/s, loss=0.00283]\n"
     ]
    },
    {
     "name": "stdout",
     "output_type": "stream",
     "text": [
      "Epoch [145/500]: Train loss: 0.0039, Test loss: 0.0041\n"
     ]
    },
    {
     "name": "stderr",
     "output_type": "stream",
     "text": [
      "Epoch [146/500]: 100%|███████████████████████████████████████████████████| 22/22 [00:00<00:00, 94.19it/s, loss=0.00343]\n"
     ]
    },
    {
     "name": "stdout",
     "output_type": "stream",
     "text": [
      "Epoch [146/500]: Train loss: 0.0040, Test loss: 0.0041\n"
     ]
    },
    {
     "name": "stderr",
     "output_type": "stream",
     "text": [
      "Epoch [147/500]: 100%|██████████████████████████████████████████████████| 22/22 [00:00<00:00, 126.19it/s, loss=0.00176]\n"
     ]
    },
    {
     "name": "stdout",
     "output_type": "stream",
     "text": [
      "Epoch [147/500]: Train loss: 0.0039, Test loss: 0.0042\n"
     ]
    },
    {
     "name": "stderr",
     "output_type": "stream",
     "text": [
      "Epoch [148/500]: 100%|██████████████████████████████████████████████████| 22/22 [00:00<00:00, 114.16it/s, loss=0.00173]\n"
     ]
    },
    {
     "name": "stdout",
     "output_type": "stream",
     "text": [
      "Epoch [148/500]: Train loss: 0.0039, Test loss: 0.0040\n"
     ]
    },
    {
     "name": "stderr",
     "output_type": "stream",
     "text": [
      "Epoch [149/500]: 100%|███████████████████████████████████████████████████| 22/22 [00:00<00:00, 113.94it/s, loss=0.0083]\n"
     ]
    },
    {
     "name": "stdout",
     "output_type": "stream",
     "text": [
      "Epoch [149/500]: Train loss: 0.0041, Test loss: 0.0038\n",
      "Saving model with loss 0.004...\n"
     ]
    },
    {
     "name": "stderr",
     "output_type": "stream",
     "text": [
      "Epoch [150/500]: 100%|██████████████████████████████████████████████████| 22/22 [00:00<00:00, 111.56it/s, loss=0.00347]\n"
     ]
    },
    {
     "name": "stdout",
     "output_type": "stream",
     "text": [
      "Epoch [150/500]: Train loss: 0.0040, Test loss: 0.0041\n"
     ]
    },
    {
     "name": "stderr",
     "output_type": "stream",
     "text": [
      "Epoch [151/500]: 100%|███████████████████████████████████████████████████| 22/22 [00:00<00:00, 83.41it/s, loss=0.00265]\n"
     ]
    },
    {
     "name": "stdout",
     "output_type": "stream",
     "text": [
      "Epoch [151/500]: Train loss: 0.0039, Test loss: 0.0042\n"
     ]
    },
    {
     "name": "stderr",
     "output_type": "stream",
     "text": [
      "Epoch [152/500]: 100%|██████████████████████████████████████████████████| 22/22 [00:00<00:00, 117.87it/s, loss=0.00276]\n"
     ]
    },
    {
     "name": "stdout",
     "output_type": "stream",
     "text": [
      "Epoch [152/500]: Train loss: 0.0039, Test loss: 0.0043\n"
     ]
    },
    {
     "name": "stderr",
     "output_type": "stream",
     "text": [
      "Epoch [153/500]: 100%|██████████████████████████████████████████████████| 22/22 [00:00<00:00, 110.98it/s, loss=0.00422]\n"
     ]
    },
    {
     "name": "stdout",
     "output_type": "stream",
     "text": [
      "Epoch [153/500]: Train loss: 0.0040, Test loss: 0.0041\n"
     ]
    },
    {
     "name": "stderr",
     "output_type": "stream",
     "text": [
      "Epoch [154/500]: 100%|██████████████████████████████████████████████████| 22/22 [00:00<00:00, 113.77it/s, loss=0.00755]\n"
     ]
    },
    {
     "name": "stdout",
     "output_type": "stream",
     "text": [
      "Epoch [154/500]: Train loss: 0.0041, Test loss: 0.0044\n"
     ]
    },
    {
     "name": "stderr",
     "output_type": "stream",
     "text": [
      "Epoch [155/500]: 100%|███████████████████████████████████████████████████| 22/22 [00:00<00:00, 118.55it/s, loss=0.0016]\n"
     ]
    },
    {
     "name": "stdout",
     "output_type": "stream",
     "text": [
      "Epoch [155/500]: Train loss: 0.0039, Test loss: 0.0047\n"
     ]
    },
    {
     "name": "stderr",
     "output_type": "stream",
     "text": [
      "Epoch [156/500]: 100%|███████████████████████████████████████████████████| 22/22 [00:00<00:00, 84.74it/s, loss=0.00621]\n"
     ]
    },
    {
     "name": "stdout",
     "output_type": "stream",
     "text": [
      "Epoch [156/500]: Train loss: 0.0040, Test loss: 0.0043\n"
     ]
    },
    {
     "name": "stderr",
     "output_type": "stream",
     "text": [
      "Epoch [157/500]: 100%|███████████████████████████████████████████████████| 22/22 [00:00<00:00, 116.90it/s, loss=0.0116]\n"
     ]
    },
    {
     "name": "stdout",
     "output_type": "stream",
     "text": [
      "Epoch [157/500]: Train loss: 0.0042, Test loss: 0.0039\n"
     ]
    },
    {
     "name": "stderr",
     "output_type": "stream",
     "text": [
      "Epoch [158/500]: 100%|██████████████████████████████████████████████████| 22/22 [00:00<00:00, 116.37it/s, loss=0.00903]\n"
     ]
    },
    {
     "name": "stdout",
     "output_type": "stream",
     "text": [
      "Epoch [158/500]: Train loss: 0.0041, Test loss: 0.0041\n"
     ]
    },
    {
     "name": "stderr",
     "output_type": "stream",
     "text": [
      "Epoch [159/500]: 100%|██████████████████████████████████████████████████| 22/22 [00:00<00:00, 117.40it/s, loss=0.00469]\n"
     ]
    },
    {
     "name": "stdout",
     "output_type": "stream",
     "text": [
      "Epoch [159/500]: Train loss: 0.0040, Test loss: 0.0040\n"
     ]
    },
    {
     "name": "stderr",
     "output_type": "stream",
     "text": [
      "Epoch [160/500]: 100%|███████████████████████████████████████████████████| 22/22 [00:00<00:00, 120.56it/s, loss=0.0092]\n"
     ]
    },
    {
     "name": "stdout",
     "output_type": "stream",
     "text": [
      "Epoch [160/500]: Train loss: 0.0041, Test loss: 0.0038\n",
      "Saving model with loss 0.004...\n"
     ]
    },
    {
     "name": "stderr",
     "output_type": "stream",
     "text": [
      "Epoch [161/500]: 100%|███████████████████████████████████████████████████| 22/22 [00:00<00:00, 110.03it/s, loss=0.0025]\n"
     ]
    },
    {
     "name": "stdout",
     "output_type": "stream",
     "text": [
      "Epoch [161/500]: Train loss: 0.0039, Test loss: 0.0045\n"
     ]
    },
    {
     "name": "stderr",
     "output_type": "stream",
     "text": [
      "Epoch [162/500]: 100%|███████████████████████████████████████████████████| 22/22 [00:00<00:00, 92.87it/s, loss=0.00345]\n"
     ]
    },
    {
     "name": "stdout",
     "output_type": "stream",
     "text": [
      "Epoch [162/500]: Train loss: 0.0039, Test loss: 0.0038\n"
     ]
    },
    {
     "name": "stderr",
     "output_type": "stream",
     "text": [
      "Epoch [163/500]: 100%|██████████████████████████████████████████████████| 22/22 [00:00<00:00, 113.20it/s, loss=0.00178]\n"
     ]
    },
    {
     "name": "stdout",
     "output_type": "stream",
     "text": [
      "Epoch [163/500]: Train loss: 0.0038, Test loss: 0.0038\n"
     ]
    },
    {
     "name": "stderr",
     "output_type": "stream",
     "text": [
      "Epoch [164/500]: 100%|███████████████████████████████████████████████████| 22/22 [00:00<00:00, 123.06it/s, loss=0.0024]\n"
     ]
    },
    {
     "name": "stdout",
     "output_type": "stream",
     "text": [
      "Epoch [164/500]: Train loss: 0.0038, Test loss: 0.0040\n"
     ]
    },
    {
     "name": "stderr",
     "output_type": "stream",
     "text": [
      "Epoch [165/500]: 100%|██████████████████████████████████████████████████| 22/22 [00:00<00:00, 121.96it/s, loss=0.00353]\n"
     ]
    },
    {
     "name": "stdout",
     "output_type": "stream",
     "text": [
      "Epoch [165/500]: Train loss: 0.0038, Test loss: 0.0038\n"
     ]
    },
    {
     "name": "stderr",
     "output_type": "stream",
     "text": [
      "Epoch [166/500]: 100%|██████████████████████████████████████████████████| 22/22 [00:00<00:00, 114.65it/s, loss=0.00316]\n"
     ]
    },
    {
     "name": "stdout",
     "output_type": "stream",
     "text": [
      "Epoch [166/500]: Train loss: 0.0038, Test loss: 0.0039\n"
     ]
    },
    {
     "name": "stderr",
     "output_type": "stream",
     "text": [
      "Epoch [167/500]: 100%|████████████████████████████████████████████████████| 22/22 [00:00<00:00, 84.21it/s, loss=0.0033]\n"
     ]
    },
    {
     "name": "stdout",
     "output_type": "stream",
     "text": [
      "Epoch [167/500]: Train loss: 0.0038, Test loss: 0.0038\n"
     ]
    },
    {
     "name": "stderr",
     "output_type": "stream",
     "text": [
      "Epoch [168/500]: 100%|██████████████████████████████████████████████████| 22/22 [00:00<00:00, 109.40it/s, loss=0.00491]\n"
     ]
    },
    {
     "name": "stdout",
     "output_type": "stream",
     "text": [
      "Epoch [168/500]: Train loss: 0.0038, Test loss: 0.0037\n",
      "Saving model with loss 0.004...\n"
     ]
    },
    {
     "name": "stderr",
     "output_type": "stream",
     "text": [
      "Epoch [169/500]: 100%|███████████████████████████████████████████████████| 22/22 [00:00<00:00, 114.03it/s, loss=0.0016]\n"
     ]
    },
    {
     "name": "stdout",
     "output_type": "stream",
     "text": [
      "Epoch [169/500]: Train loss: 0.0037, Test loss: 0.0041\n"
     ]
    },
    {
     "name": "stderr",
     "output_type": "stream",
     "text": [
      "Epoch [170/500]: 100%|██████████████████████████████████████████████████| 22/22 [00:00<00:00, 115.80it/s, loss=0.00452]\n"
     ]
    },
    {
     "name": "stdout",
     "output_type": "stream",
     "text": [
      "Epoch [170/500]: Train loss: 0.0038, Test loss: 0.0036\n",
      "Saving model with loss 0.004...\n"
     ]
    },
    {
     "name": "stderr",
     "output_type": "stream",
     "text": [
      "Epoch [171/500]: 100%|██████████████████████████████████████████████████| 22/22 [00:00<00:00, 120.78it/s, loss=0.00294]\n"
     ]
    },
    {
     "name": "stdout",
     "output_type": "stream",
     "text": [
      "Epoch [171/500]: Train loss: 0.0037, Test loss: 0.0039\n"
     ]
    },
    {
     "name": "stderr",
     "output_type": "stream",
     "text": [
      "Epoch [172/500]: 100%|██████████████████████████████████████████████████| 22/22 [00:00<00:00, 101.91it/s, loss=0.00435]\n"
     ]
    },
    {
     "name": "stdout",
     "output_type": "stream",
     "text": [
      "Epoch [172/500]: Train loss: 0.0037, Test loss: 0.0037\n"
     ]
    },
    {
     "name": "stderr",
     "output_type": "stream",
     "text": [
      "Epoch [173/500]: 100%|██████████████████████████████████████████████████| 22/22 [00:00<00:00, 107.42it/s, loss=0.00586]\n"
     ]
    },
    {
     "name": "stdout",
     "output_type": "stream",
     "text": [
      "Epoch [173/500]: Train loss: 0.0038, Test loss: 0.0038\n"
     ]
    },
    {
     "name": "stderr",
     "output_type": "stream",
     "text": [
      "Epoch [174/500]: 100%|██████████████████████████████████████████████████| 22/22 [00:00<00:00, 124.93it/s, loss=0.00213]\n"
     ]
    },
    {
     "name": "stdout",
     "output_type": "stream",
     "text": [
      "Epoch [174/500]: Train loss: 0.0036, Test loss: 0.0038\n"
     ]
    },
    {
     "name": "stderr",
     "output_type": "stream",
     "text": [
      "Epoch [175/500]: 100%|██████████████████████████████████████████████████| 22/22 [00:00<00:00, 124.98it/s, loss=0.00405]\n"
     ]
    },
    {
     "name": "stdout",
     "output_type": "stream",
     "text": [
      "Epoch [175/500]: Train loss: 0.0037, Test loss: 0.0039\n"
     ]
    },
    {
     "name": "stderr",
     "output_type": "stream",
     "text": [
      "Epoch [176/500]: 100%|██████████████████████████████████████████████████| 22/22 [00:00<00:00, 113.93it/s, loss=0.00847]\n"
     ]
    },
    {
     "name": "stdout",
     "output_type": "stream",
     "text": [
      "Epoch [176/500]: Train loss: 0.0038, Test loss: 0.0042\n"
     ]
    },
    {
     "name": "stderr",
     "output_type": "stream",
     "text": [
      "Epoch [177/500]: 100%|██████████████████████████████████████████████████| 22/22 [00:00<00:00, 104.27it/s, loss=0.00782]\n"
     ]
    },
    {
     "name": "stdout",
     "output_type": "stream",
     "text": [
      "Epoch [177/500]: Train loss: 0.0038, Test loss: 0.0039\n"
     ]
    },
    {
     "name": "stderr",
     "output_type": "stream",
     "text": [
      "Epoch [178/500]: 100%|███████████████████████████████████████████████████| 22/22 [00:00<00:00, 84.98it/s, loss=0.00234]\n"
     ]
    },
    {
     "name": "stdout",
     "output_type": "stream",
     "text": [
      "Epoch [178/500]: Train loss: 0.0036, Test loss: 0.0040\n"
     ]
    },
    {
     "name": "stderr",
     "output_type": "stream",
     "text": [
      "Epoch [179/500]: 100%|██████████████████████████████████████████████████| 22/22 [00:00<00:00, 117.70it/s, loss=0.00154]\n"
     ]
    },
    {
     "name": "stdout",
     "output_type": "stream",
     "text": [
      "Epoch [179/500]: Train loss: 0.0036, Test loss: 0.0036\n"
     ]
    },
    {
     "name": "stderr",
     "output_type": "stream",
     "text": [
      "Epoch [180/500]: 100%|███████████████████████████████████████████████████| 22/22 [00:00<00:00, 114.36it/s, loss=0.0041]\n"
     ]
    },
    {
     "name": "stdout",
     "output_type": "stream",
     "text": [
      "Epoch [180/500]: Train loss: 0.0036, Test loss: 0.0038\n"
     ]
    },
    {
     "name": "stderr",
     "output_type": "stream",
     "text": [
      "Epoch [181/500]: 100%|██████████████████████████████████████████████████| 22/22 [00:00<00:00, 108.57it/s, loss=0.00318]\n"
     ]
    },
    {
     "name": "stdout",
     "output_type": "stream",
     "text": [
      "Epoch [181/500]: Train loss: 0.0036, Test loss: 0.0036\n"
     ]
    },
    {
     "name": "stderr",
     "output_type": "stream",
     "text": [
      "Epoch [182/500]: 100%|██████████████████████████████████████████████████| 22/22 [00:00<00:00, 125.94it/s, loss=0.00634]\n"
     ]
    },
    {
     "name": "stdout",
     "output_type": "stream",
     "text": [
      "Epoch [182/500]: Train loss: 0.0037, Test loss: 0.0039\n"
     ]
    },
    {
     "name": "stderr",
     "output_type": "stream",
     "text": [
      "Epoch [183/500]: 100%|███████████████████████████████████████████████████| 22/22 [00:00<00:00, 90.47it/s, loss=0.00314]\n"
     ]
    },
    {
     "name": "stdout",
     "output_type": "stream",
     "text": [
      "Epoch [183/500]: Train loss: 0.0036, Test loss: 0.0034\n",
      "Saving model with loss 0.003...\n"
     ]
    },
    {
     "name": "stderr",
     "output_type": "stream",
     "text": [
      "Epoch [184/500]: 100%|██████████████████████████████████████████████████| 22/22 [00:00<00:00, 110.09it/s, loss=0.00754]\n"
     ]
    },
    {
     "name": "stdout",
     "output_type": "stream",
     "text": [
      "Epoch [184/500]: Train loss: 0.0037, Test loss: 0.0036\n"
     ]
    },
    {
     "name": "stderr",
     "output_type": "stream",
     "text": [
      "Epoch [185/500]: 100%|██████████████████████████████████████████████████| 22/22 [00:00<00:00, 123.76it/s, loss=0.00728]\n"
     ]
    },
    {
     "name": "stdout",
     "output_type": "stream",
     "text": [
      "Epoch [185/500]: Train loss: 0.0037, Test loss: 0.0040\n"
     ]
    },
    {
     "name": "stderr",
     "output_type": "stream",
     "text": [
      "Epoch [186/500]: 100%|██████████████████████████████████████████████████| 22/22 [00:00<00:00, 109.58it/s, loss=0.00203]\n"
     ]
    },
    {
     "name": "stdout",
     "output_type": "stream",
     "text": [
      "Epoch [186/500]: Train loss: 0.0035, Test loss: 0.0040\n"
     ]
    },
    {
     "name": "stderr",
     "output_type": "stream",
     "text": [
      "Epoch [187/500]: 100%|██████████████████████████████████████████████████| 22/22 [00:00<00:00, 118.66it/s, loss=0.00167]\n"
     ]
    },
    {
     "name": "stdout",
     "output_type": "stream",
     "text": [
      "Epoch [187/500]: Train loss: 0.0035, Test loss: 0.0037\n"
     ]
    },
    {
     "name": "stderr",
     "output_type": "stream",
     "text": [
      "Epoch [188/500]: 100%|██████████████████████████████████████████████████| 22/22 [00:00<00:00, 109.47it/s, loss=0.00537]\n"
     ]
    },
    {
     "name": "stdout",
     "output_type": "stream",
     "text": [
      "Epoch [188/500]: Train loss: 0.0036, Test loss: 0.0037\n"
     ]
    },
    {
     "name": "stderr",
     "output_type": "stream",
     "text": [
      "Epoch [189/500]: 100%|██████████████████████████████████████████████████| 22/22 [00:00<00:00, 101.72it/s, loss=0.00132]\n"
     ]
    },
    {
     "name": "stdout",
     "output_type": "stream",
     "text": [
      "Epoch [189/500]: Train loss: 0.0034, Test loss: 0.0035\n"
     ]
    },
    {
     "name": "stderr",
     "output_type": "stream",
     "text": [
      "Epoch [190/500]: 100%|██████████████████████████████████████████████████| 22/22 [00:00<00:00, 115.47it/s, loss=0.00438]\n"
     ]
    },
    {
     "name": "stdout",
     "output_type": "stream",
     "text": [
      "Epoch [190/500]: Train loss: 0.0035, Test loss: 0.0035\n"
     ]
    },
    {
     "name": "stderr",
     "output_type": "stream",
     "text": [
      "Epoch [191/500]: 100%|██████████████████████████████████████████████████| 22/22 [00:00<00:00, 111.88it/s, loss=0.00908]\n"
     ]
    },
    {
     "name": "stdout",
     "output_type": "stream",
     "text": [
      "Epoch [191/500]: Train loss: 0.0037, Test loss: 0.0035\n"
     ]
    },
    {
     "name": "stderr",
     "output_type": "stream",
     "text": [
      "Epoch [192/500]: 100%|██████████████████████████████████████████████████| 22/22 [00:00<00:00, 118.25it/s, loss=0.00323]\n"
     ]
    },
    {
     "name": "stdout",
     "output_type": "stream",
     "text": [
      "Epoch [192/500]: Train loss: 0.0035, Test loss: 0.0037\n"
     ]
    },
    {
     "name": "stderr",
     "output_type": "stream",
     "text": [
      "Epoch [193/500]: 100%|██████████████████████████████████████████████████| 22/22 [00:00<00:00, 124.49it/s, loss=0.00152]"
     ]
    },
    {
     "name": "stdout",
     "output_type": "stream",
     "text": [
      "Epoch [193/500]: Train loss: 0.0034, Test loss: 0.0040\n"
     ]
    },
    {
     "name": "stderr",
     "output_type": "stream",
     "text": [
      "\n",
      "Epoch [194/500]: 100%|████████████████████████████████████████████████████| 22/22 [00:00<00:00, 84.90it/s, loss=0.0034]\n"
     ]
    },
    {
     "name": "stdout",
     "output_type": "stream",
     "text": [
      "Epoch [194/500]: Train loss: 0.0034, Test loss: 0.0036\n"
     ]
    },
    {
     "name": "stderr",
     "output_type": "stream",
     "text": [
      "Epoch [195/500]: 100%|███████████████████████████████████████████████████| 22/22 [00:00<00:00, 107.07it/s, loss=0.0022]\n"
     ]
    },
    {
     "name": "stdout",
     "output_type": "stream",
     "text": [
      "Epoch [195/500]: Train loss: 0.0034, Test loss: 0.0037\n"
     ]
    },
    {
     "name": "stderr",
     "output_type": "stream",
     "text": [
      "Epoch [196/500]: 100%|██████████████████████████████████████████████████| 22/22 [00:00<00:00, 117.48it/s, loss=0.00281]\n"
     ]
    },
    {
     "name": "stdout",
     "output_type": "stream",
     "text": [
      "Epoch [196/500]: Train loss: 0.0034, Test loss: 0.0037\n"
     ]
    },
    {
     "name": "stderr",
     "output_type": "stream",
     "text": [
      "Epoch [197/500]: 100%|██████████████████████████████████████████████████| 22/22 [00:00<00:00, 119.58it/s, loss=0.00304]\n"
     ]
    },
    {
     "name": "stdout",
     "output_type": "stream",
     "text": [
      "Epoch [197/500]: Train loss: 0.0034, Test loss: 0.0035\n"
     ]
    },
    {
     "name": "stderr",
     "output_type": "stream",
     "text": [
      "Epoch [198/500]: 100%|██████████████████████████████████████████████████| 22/22 [00:00<00:00, 115.35it/s, loss=0.00642]\n"
     ]
    },
    {
     "name": "stdout",
     "output_type": "stream",
     "text": [
      "Epoch [198/500]: Train loss: 0.0035, Test loss: 0.0036\n"
     ]
    },
    {
     "name": "stderr",
     "output_type": "stream",
     "text": [
      "Epoch [199/500]: 100%|███████████████████████████████████████████████████| 22/22 [00:00<00:00, 99.41it/s, loss=0.00136]\n"
     ]
    },
    {
     "name": "stdout",
     "output_type": "stream",
     "text": [
      "Epoch [199/500]: Train loss: 0.0033, Test loss: 0.0033\n",
      "Saving model with loss 0.003...\n"
     ]
    },
    {
     "name": "stderr",
     "output_type": "stream",
     "text": [
      "Epoch [200/500]: 100%|████████████████████████████████████████████████████| 22/22 [00:00<00:00, 111.65it/s, loss=0.002]\n"
     ]
    },
    {
     "name": "stdout",
     "output_type": "stream",
     "text": [
      "Epoch [200/500]: Train loss: 0.0033, Test loss: 0.0033\n",
      "Saving model with loss 0.003...\n"
     ]
    },
    {
     "name": "stderr",
     "output_type": "stream",
     "text": [
      "Epoch [201/500]: 100%|██████████████████████████████████████████████████| 22/22 [00:00<00:00, 123.19it/s, loss=0.00214]\n"
     ]
    },
    {
     "name": "stdout",
     "output_type": "stream",
     "text": [
      "Epoch [201/500]: Train loss: 0.0033, Test loss: 0.0033\n"
     ]
    },
    {
     "name": "stderr",
     "output_type": "stream",
     "text": [
      "Epoch [202/500]: 100%|██████████████████████████████████████████████████| 22/22 [00:00<00:00, 119.96it/s, loss=0.00149]\n"
     ]
    },
    {
     "name": "stdout",
     "output_type": "stream",
     "text": [
      "Epoch [202/500]: Train loss: 0.0033, Test loss: 0.0037\n"
     ]
    },
    {
     "name": "stderr",
     "output_type": "stream",
     "text": [
      "Epoch [203/500]: 100%|██████████████████████████████████████████████████| 22/22 [00:00<00:00, 125.75it/s, loss=0.00177]"
     ]
    },
    {
     "name": "stdout",
     "output_type": "stream",
     "text": [
      "Epoch [203/500]: Train loss: 0.0033, Test loss: 0.0033\n"
     ]
    },
    {
     "name": "stderr",
     "output_type": "stream",
     "text": [
      "\n",
      "Epoch [204/500]: 100%|██████████████████████████████████████████████████| 22/22 [00:00<00:00, 118.22it/s, loss=0.00221]\n"
     ]
    },
    {
     "name": "stdout",
     "output_type": "stream",
     "text": [
      "Epoch [204/500]: Train loss: 0.0033, Test loss: 0.0034\n"
     ]
    },
    {
     "name": "stderr",
     "output_type": "stream",
     "text": [
      "Epoch [205/500]: 100%|███████████████████████████████████████████████████| 22/22 [00:00<00:00, 86.07it/s, loss=0.00636]\n"
     ]
    },
    {
     "name": "stdout",
     "output_type": "stream",
     "text": [
      "Epoch [205/500]: Train loss: 0.0034, Test loss: 0.0034\n"
     ]
    },
    {
     "name": "stderr",
     "output_type": "stream",
     "text": [
      "Epoch [206/500]: 100%|██████████████████████████████████████████████████| 22/22 [00:00<00:00, 114.18it/s, loss=0.00161]\n"
     ]
    },
    {
     "name": "stdout",
     "output_type": "stream",
     "text": [
      "Epoch [206/500]: Train loss: 0.0033, Test loss: 0.0036\n"
     ]
    },
    {
     "name": "stderr",
     "output_type": "stream",
     "text": [
      "Epoch [207/500]: 100%|██████████████████████████████████████████████████| 22/22 [00:00<00:00, 106.25it/s, loss=0.00236]\n"
     ]
    },
    {
     "name": "stdout",
     "output_type": "stream",
     "text": [
      "Epoch [207/500]: Train loss: 0.0033, Test loss: 0.0033\n"
     ]
    },
    {
     "name": "stderr",
     "output_type": "stream",
     "text": [
      "Epoch [208/500]: 100%|██████████████████████████████████████████████████| 22/22 [00:00<00:00, 114.48it/s, loss=0.00198]\n"
     ]
    },
    {
     "name": "stdout",
     "output_type": "stream",
     "text": [
      "Epoch [208/500]: Train loss: 0.0033, Test loss: 0.0034\n"
     ]
    },
    {
     "name": "stderr",
     "output_type": "stream",
     "text": [
      "Epoch [209/500]: 100%|██████████████████████████████████████████████████| 22/22 [00:00<00:00, 111.64it/s, loss=0.00549]\n"
     ]
    },
    {
     "name": "stdout",
     "output_type": "stream",
     "text": [
      "Epoch [209/500]: Train loss: 0.0034, Test loss: 0.0034\n"
     ]
    },
    {
     "name": "stderr",
     "output_type": "stream",
     "text": [
      "Epoch [210/500]: 100%|████████████████████████████████████████████████████| 22/22 [00:00<00:00, 86.93it/s, loss=0.0041]\n"
     ]
    },
    {
     "name": "stdout",
     "output_type": "stream",
     "text": [
      "Epoch [210/500]: Train loss: 0.0033, Test loss: 0.0032\n",
      "Saving model with loss 0.003...\n"
     ]
    },
    {
     "name": "stderr",
     "output_type": "stream",
     "text": [
      "Epoch [211/500]: 100%|██████████████████████████████████████████████████| 22/22 [00:00<00:00, 117.84it/s, loss=0.00704]\n"
     ]
    },
    {
     "name": "stdout",
     "output_type": "stream",
     "text": [
      "Epoch [211/500]: Train loss: 0.0034, Test loss: 0.0032\n",
      "Saving model with loss 0.003...\n"
     ]
    },
    {
     "name": "stderr",
     "output_type": "stream",
     "text": [
      "Epoch [212/500]: 100%|██████████████████████████████████████████████████| 22/22 [00:00<00:00, 121.82it/s, loss=0.00262]\n"
     ]
    },
    {
     "name": "stdout",
     "output_type": "stream",
     "text": [
      "Epoch [212/500]: Train loss: 0.0032, Test loss: 0.0032\n",
      "Saving model with loss 0.003...\n"
     ]
    },
    {
     "name": "stderr",
     "output_type": "stream",
     "text": [
      "Epoch [213/500]: 100%|██████████████████████████████████████████████████| 22/22 [00:00<00:00, 116.82it/s, loss=0.00588]\n"
     ]
    },
    {
     "name": "stdout",
     "output_type": "stream",
     "text": [
      "Epoch [213/500]: Train loss: 0.0033, Test loss: 0.0032\n"
     ]
    },
    {
     "name": "stderr",
     "output_type": "stream",
     "text": [
      "Epoch [214/500]: 100%|██████████████████████████████████████████████████| 22/22 [00:00<00:00, 109.83it/s, loss=0.00173]\n"
     ]
    },
    {
     "name": "stdout",
     "output_type": "stream",
     "text": [
      "Epoch [214/500]: Train loss: 0.0032, Test loss: 0.0034\n"
     ]
    },
    {
     "name": "stderr",
     "output_type": "stream",
     "text": [
      "Epoch [215/500]: 100%|██████████████████████████████████████████████████| 22/22 [00:00<00:00, 103.80it/s, loss=0.00461]\n"
     ]
    },
    {
     "name": "stdout",
     "output_type": "stream",
     "text": [
      "Epoch [215/500]: Train loss: 0.0033, Test loss: 0.0036\n"
     ]
    },
    {
     "name": "stderr",
     "output_type": "stream",
     "text": [
      "Epoch [216/500]: 100%|████████████████████████████████████████████████████| 22/22 [00:00<00:00, 98.69it/s, loss=0.0021]\n"
     ]
    },
    {
     "name": "stdout",
     "output_type": "stream",
     "text": [
      "Epoch [216/500]: Train loss: 0.0032, Test loss: 0.0032\n",
      "Saving model with loss 0.003...\n"
     ]
    },
    {
     "name": "stderr",
     "output_type": "stream",
     "text": [
      "Epoch [217/500]: 100%|██████████████████████████████████████████████████| 22/22 [00:00<00:00, 119.48it/s, loss=0.00192]\n"
     ]
    },
    {
     "name": "stdout",
     "output_type": "stream",
     "text": [
      "Epoch [217/500]: Train loss: 0.0032, Test loss: 0.0035\n"
     ]
    },
    {
     "name": "stderr",
     "output_type": "stream",
     "text": [
      "Epoch [218/500]: 100%|██████████████████████████████████████████████████| 22/22 [00:00<00:00, 106.32it/s, loss=0.00216]\n"
     ]
    },
    {
     "name": "stdout",
     "output_type": "stream",
     "text": [
      "Epoch [218/500]: Train loss: 0.0032, Test loss: 0.0033\n"
     ]
    },
    {
     "name": "stderr",
     "output_type": "stream",
     "text": [
      "Epoch [219/500]: 100%|██████████████████████████████████████████████████| 22/22 [00:00<00:00, 123.18it/s, loss=0.00164]\n"
     ]
    },
    {
     "name": "stdout",
     "output_type": "stream",
     "text": [
      "Epoch [219/500]: Train loss: 0.0031, Test loss: 0.0033\n"
     ]
    },
    {
     "name": "stderr",
     "output_type": "stream",
     "text": [
      "Epoch [220/500]: 100%|██████████████████████████████████████████████████| 22/22 [00:00<00:00, 110.62it/s, loss=0.00504]\n"
     ]
    },
    {
     "name": "stdout",
     "output_type": "stream",
     "text": [
      "Epoch [220/500]: Train loss: 0.0032, Test loss: 0.0036\n"
     ]
    },
    {
     "name": "stderr",
     "output_type": "stream",
     "text": [
      "Epoch [221/500]: 100%|███████████████████████████████████████████████████| 22/22 [00:00<00:00, 85.97it/s, loss=0.00421]\n"
     ]
    },
    {
     "name": "stdout",
     "output_type": "stream",
     "text": [
      "Epoch [221/500]: Train loss: 0.0032, Test loss: 0.0031\n",
      "Saving model with loss 0.003...\n"
     ]
    },
    {
     "name": "stderr",
     "output_type": "stream",
     "text": [
      "Epoch [222/500]: 100%|██████████████████████████████████████████████████| 22/22 [00:00<00:00, 113.35it/s, loss=0.00185]\n"
     ]
    },
    {
     "name": "stdout",
     "output_type": "stream",
     "text": [
      "Epoch [222/500]: Train loss: 0.0031, Test loss: 0.0031\n"
     ]
    },
    {
     "name": "stderr",
     "output_type": "stream",
     "text": [
      "Epoch [223/500]: 100%|██████████████████████████████████████████████████| 22/22 [00:00<00:00, 122.36it/s, loss=0.00316]\n"
     ]
    },
    {
     "name": "stdout",
     "output_type": "stream",
     "text": [
      "Epoch [223/500]: Train loss: 0.0032, Test loss: 0.0032\n"
     ]
    },
    {
     "name": "stderr",
     "output_type": "stream",
     "text": [
      "Epoch [224/500]: 100%|██████████████████████████████████████████████████| 22/22 [00:00<00:00, 118.63it/s, loss=0.00441]\n"
     ]
    },
    {
     "name": "stdout",
     "output_type": "stream",
     "text": [
      "Epoch [224/500]: Train loss: 0.0032, Test loss: 0.0030\n",
      "Saving model with loss 0.003...\n"
     ]
    },
    {
     "name": "stderr",
     "output_type": "stream",
     "text": [
      "Epoch [225/500]: 100%|██████████████████████████████████████████████████| 22/22 [00:00<00:00, 123.55it/s, loss=0.00219]\n"
     ]
    },
    {
     "name": "stdout",
     "output_type": "stream",
     "text": [
      "Epoch [225/500]: Train loss: 0.0031, Test loss: 0.0030\n",
      "Saving model with loss 0.003...\n"
     ]
    },
    {
     "name": "stderr",
     "output_type": "stream",
     "text": [
      "Epoch [226/500]: 100%|███████████████████████████████████████████████████| 22/22 [00:00<00:00, 93.73it/s, loss=0.00163]\n"
     ]
    },
    {
     "name": "stdout",
     "output_type": "stream",
     "text": [
      "Epoch [226/500]: Train loss: 0.0031, Test loss: 0.0031\n"
     ]
    },
    {
     "name": "stderr",
     "output_type": "stream",
     "text": [
      "Epoch [227/500]: 100%|██████████████████████████████████████████████████| 22/22 [00:00<00:00, 109.60it/s, loss=0.00213]\n"
     ]
    },
    {
     "name": "stdout",
     "output_type": "stream",
     "text": [
      "Epoch [227/500]: Train loss: 0.0031, Test loss: 0.0031\n"
     ]
    },
    {
     "name": "stderr",
     "output_type": "stream",
     "text": [
      "Epoch [228/500]: 100%|██████████████████████████████████████████████████| 22/22 [00:00<00:00, 115.28it/s, loss=0.00382]\n"
     ]
    },
    {
     "name": "stdout",
     "output_type": "stream",
     "text": [
      "Epoch [228/500]: Train loss: 0.0031, Test loss: 0.0031\n"
     ]
    },
    {
     "name": "stderr",
     "output_type": "stream",
     "text": [
      "Epoch [229/500]: 100%|██████████████████████████████████████████████████| 22/22 [00:00<00:00, 113.34it/s, loss=0.00217]\n"
     ]
    },
    {
     "name": "stdout",
     "output_type": "stream",
     "text": [
      "Epoch [229/500]: Train loss: 0.0031, Test loss: 0.0030\n",
      "Saving model with loss 0.003...\n"
     ]
    },
    {
     "name": "stderr",
     "output_type": "stream",
     "text": [
      "Epoch [230/500]: 100%|██████████████████████████████████████████████████| 22/22 [00:00<00:00, 120.80it/s, loss=0.00213]\n"
     ]
    },
    {
     "name": "stdout",
     "output_type": "stream",
     "text": [
      "Epoch [230/500]: Train loss: 0.0031, Test loss: 0.0030\n"
     ]
    },
    {
     "name": "stderr",
     "output_type": "stream",
     "text": [
      "Epoch [231/500]: 100%|██████████████████████████████████████████████████| 22/22 [00:00<00:00, 109.52it/s, loss=0.00667]\n"
     ]
    },
    {
     "name": "stdout",
     "output_type": "stream",
     "text": [
      "Epoch [231/500]: Train loss: 0.0032, Test loss: 0.0030\n"
     ]
    },
    {
     "name": "stderr",
     "output_type": "stream",
     "text": [
      "Epoch [232/500]: 100%|███████████████████████████████████████████████████| 22/22 [00:00<00:00, 99.08it/s, loss=0.00322]\n"
     ]
    },
    {
     "name": "stdout",
     "output_type": "stream",
     "text": [
      "Epoch [232/500]: Train loss: 0.0031, Test loss: 0.0029\n",
      "Saving model with loss 0.003...\n"
     ]
    },
    {
     "name": "stderr",
     "output_type": "stream",
     "text": [
      "Epoch [233/500]: 100%|██████████████████████████████████████████████████| 22/22 [00:00<00:00, 120.83it/s, loss=0.00629]\n"
     ]
    },
    {
     "name": "stdout",
     "output_type": "stream",
     "text": [
      "Epoch [233/500]: Train loss: 0.0032, Test loss: 0.0029\n"
     ]
    },
    {
     "name": "stderr",
     "output_type": "stream",
     "text": [
      "Epoch [234/500]: 100%|██████████████████████████████████████████████████| 22/22 [00:00<00:00, 117.83it/s, loss=0.00207]\n"
     ]
    },
    {
     "name": "stdout",
     "output_type": "stream",
     "text": [
      "Epoch [234/500]: Train loss: 0.0030, Test loss: 0.0030\n"
     ]
    },
    {
     "name": "stderr",
     "output_type": "stream",
     "text": [
      "Epoch [235/500]: 100%|██████████████████████████████████████████████████| 22/22 [00:00<00:00, 112.62it/s, loss=0.00516]\n"
     ]
    },
    {
     "name": "stdout",
     "output_type": "stream",
     "text": [
      "Epoch [235/500]: Train loss: 0.0031, Test loss: 0.0033\n"
     ]
    },
    {
     "name": "stderr",
     "output_type": "stream",
     "text": [
      "Epoch [236/500]: 100%|██████████████████████████████████████████████████| 22/22 [00:00<00:00, 108.46it/s, loss=0.00433]\n"
     ]
    },
    {
     "name": "stdout",
     "output_type": "stream",
     "text": [
      "Epoch [236/500]: Train loss: 0.0031, Test loss: 0.0030\n"
     ]
    },
    {
     "name": "stderr",
     "output_type": "stream",
     "text": [
      "Epoch [237/500]: 100%|███████████████████████████████████████████████████| 22/22 [00:00<00:00, 87.40it/s, loss=0.00171]\n"
     ]
    },
    {
     "name": "stdout",
     "output_type": "stream",
     "text": [
      "Epoch [237/500]: Train loss: 0.0030, Test loss: 0.0032\n"
     ]
    },
    {
     "name": "stderr",
     "output_type": "stream",
     "text": [
      "Epoch [238/500]: 100%|██████████████████████████████████████████████████| 22/22 [00:00<00:00, 116.97it/s, loss=0.00486]\n"
     ]
    },
    {
     "name": "stdout",
     "output_type": "stream",
     "text": [
      "Epoch [238/500]: Train loss: 0.0031, Test loss: 0.0030\n"
     ]
    },
    {
     "name": "stderr",
     "output_type": "stream",
     "text": [
      "Epoch [239/500]: 100%|██████████████████████████████████████████████████| 22/22 [00:00<00:00, 121.59it/s, loss=0.00196]"
     ]
    },
    {
     "name": "stdout",
     "output_type": "stream",
     "text": [
      "Epoch [239/500]: Train loss: 0.0030, Test loss: 0.0031"
     ]
    },
    {
     "name": "stderr",
     "output_type": "stream",
     "text": [
      "\n"
     ]
    },
    {
     "name": "stdout",
     "output_type": "stream",
     "text": [
      "\n"
     ]
    },
    {
     "name": "stderr",
     "output_type": "stream",
     "text": [
      "Epoch [240/500]: 100%|██████████████████████████████████████████████████| 22/22 [00:00<00:00, 114.59it/s, loss=0.00182]\n"
     ]
    },
    {
     "name": "stdout",
     "output_type": "stream",
     "text": [
      "Epoch [240/500]: Train loss: 0.0030, Test loss: 0.0031\n"
     ]
    },
    {
     "name": "stderr",
     "output_type": "stream",
     "text": [
      "Epoch [241/500]: 100%|██████████████████████████████████████████████████| 22/22 [00:00<00:00, 111.20it/s, loss=0.00559]\n"
     ]
    },
    {
     "name": "stdout",
     "output_type": "stream",
     "text": [
      "Epoch [241/500]: Train loss: 0.0031, Test loss: 0.0033\n"
     ]
    },
    {
     "name": "stderr",
     "output_type": "stream",
     "text": [
      "Epoch [242/500]: 100%|███████████████████████████████████████████████████| 22/22 [00:00<00:00, 82.29it/s, loss=0.00195]\n"
     ]
    },
    {
     "name": "stdout",
     "output_type": "stream",
     "text": [
      "Epoch [242/500]: Train loss: 0.0030, Test loss: 0.0032\n"
     ]
    },
    {
     "name": "stderr",
     "output_type": "stream",
     "text": [
      "Epoch [243/500]: 100%|██████████████████████████████████████████████████| 22/22 [00:00<00:00, 115.14it/s, loss=0.00154]\n"
     ]
    },
    {
     "name": "stdout",
     "output_type": "stream",
     "text": [
      "Epoch [243/500]: Train loss: 0.0029, Test loss: 0.0029\n",
      "Saving model with loss 0.003...\n"
     ]
    },
    {
     "name": "stderr",
     "output_type": "stream",
     "text": [
      "Epoch [244/500]: 100%|██████████████████████████████████████████████████| 22/22 [00:00<00:00, 119.22it/s, loss=0.00171]\n"
     ]
    },
    {
     "name": "stdout",
     "output_type": "stream",
     "text": [
      "Epoch [244/500]: Train loss: 0.0030, Test loss: 0.0028\n",
      "Saving model with loss 0.003...\n"
     ]
    },
    {
     "name": "stderr",
     "output_type": "stream",
     "text": [
      "Epoch [245/500]: 100%|██████████████████████████████████████████████████| 22/22 [00:00<00:00, 118.05it/s, loss=0.00176]\n"
     ]
    },
    {
     "name": "stdout",
     "output_type": "stream",
     "text": [
      "Epoch [245/500]: Train loss: 0.0029, Test loss: 0.0034\n"
     ]
    },
    {
     "name": "stderr",
     "output_type": "stream",
     "text": [
      "Epoch [246/500]: 100%|███████████████████████████████████████████████████| 22/22 [00:00<00:00, 109.98it/s, loss=0.0075]\n"
     ]
    },
    {
     "name": "stdout",
     "output_type": "stream",
     "text": [
      "Epoch [246/500]: Train loss: 0.0031, Test loss: 0.0028\n",
      "Saving model with loss 0.003...\n"
     ]
    },
    {
     "name": "stderr",
     "output_type": "stream",
     "text": [
      "Epoch [247/500]: 100%|███████████████████████████████████████████████████| 22/22 [00:00<00:00, 98.17it/s, loss=0.00192]\n"
     ]
    },
    {
     "name": "stdout",
     "output_type": "stream",
     "text": [
      "Epoch [247/500]: Train loss: 0.0029, Test loss: 0.0029\n"
     ]
    },
    {
     "name": "stderr",
     "output_type": "stream",
     "text": [
      "Epoch [248/500]: 100%|██████████████████████████████████████████████████| 22/22 [00:00<00:00, 102.88it/s, loss=0.00228]\n"
     ]
    },
    {
     "name": "stdout",
     "output_type": "stream",
     "text": [
      "Epoch [248/500]: Train loss: 0.0029, Test loss: 0.0028\n"
     ]
    },
    {
     "name": "stderr",
     "output_type": "stream",
     "text": [
      "Epoch [249/500]: 100%|██████████████████████████████████████████████████| 22/22 [00:00<00:00, 120.88it/s, loss=0.00211]\n"
     ]
    },
    {
     "name": "stdout",
     "output_type": "stream",
     "text": [
      "Epoch [249/500]: Train loss: 0.0029, Test loss: 0.0028\n"
     ]
    },
    {
     "name": "stderr",
     "output_type": "stream",
     "text": [
      "Epoch [250/500]: 100%|██████████████████████████████████████████████████| 22/22 [00:00<00:00, 111.47it/s, loss=0.00779]\n"
     ]
    },
    {
     "name": "stdout",
     "output_type": "stream",
     "text": [
      "Epoch [250/500]: Train loss: 0.0031, Test loss: 0.0028\n"
     ]
    },
    {
     "name": "stderr",
     "output_type": "stream",
     "text": [
      "Epoch [251/500]: 100%|██████████████████████████████████████████████████| 22/22 [00:00<00:00, 115.45it/s, loss=0.00559]\n"
     ]
    },
    {
     "name": "stdout",
     "output_type": "stream",
     "text": [
      "Epoch [251/500]: Train loss: 0.0030, Test loss: 0.0029\n"
     ]
    },
    {
     "name": "stderr",
     "output_type": "stream",
     "text": [
      "Epoch [252/500]: 100%|██████████████████████████████████████████████████| 22/22 [00:00<00:00, 125.16it/s, loss=0.00141]\n"
     ]
    },
    {
     "name": "stdout",
     "output_type": "stream",
     "text": [
      "Epoch [252/500]: Train loss: 0.0029, Test loss: 0.0029\n"
     ]
    },
    {
     "name": "stderr",
     "output_type": "stream",
     "text": [
      "Epoch [253/500]: 100%|███████████████████████████████████████████████████| 22/22 [00:00<00:00, 86.65it/s, loss=0.00138]\n"
     ]
    },
    {
     "name": "stdout",
     "output_type": "stream",
     "text": [
      "Epoch [253/500]: Train loss: 0.0029, Test loss: 0.0028\n"
     ]
    },
    {
     "name": "stderr",
     "output_type": "stream",
     "text": [
      "Epoch [254/500]: 100%|██████████████████████████████████████████████████| 22/22 [00:00<00:00, 112.23it/s, loss=0.00246]\n"
     ]
    },
    {
     "name": "stdout",
     "output_type": "stream",
     "text": [
      "Epoch [254/500]: Train loss: 0.0029, Test loss: 0.0028\n"
     ]
    },
    {
     "name": "stderr",
     "output_type": "stream",
     "text": [
      "Epoch [255/500]: 100%|██████████████████████████████████████████████████| 22/22 [00:00<00:00, 119.39it/s, loss=0.00198]\n"
     ]
    },
    {
     "name": "stdout",
     "output_type": "stream",
     "text": [
      "Epoch [255/500]: Train loss: 0.0029, Test loss: 0.0029\n"
     ]
    },
    {
     "name": "stderr",
     "output_type": "stream",
     "text": [
      "Epoch [256/500]: 100%|██████████████████████████████████████████████████| 22/22 [00:00<00:00, 118.91it/s, loss=0.00351]\n"
     ]
    },
    {
     "name": "stdout",
     "output_type": "stream",
     "text": [
      "Epoch [256/500]: Train loss: 0.0029, Test loss: 0.0029\n"
     ]
    },
    {
     "name": "stderr",
     "output_type": "stream",
     "text": [
      "Epoch [257/500]: 100%|██████████████████████████████████████████████████| 22/22 [00:00<00:00, 114.25it/s, loss=0.00142]\n"
     ]
    },
    {
     "name": "stdout",
     "output_type": "stream",
     "text": [
      "Epoch [257/500]: Train loss: 0.0028, Test loss: 0.0031\n"
     ]
    },
    {
     "name": "stderr",
     "output_type": "stream",
     "text": [
      "Epoch [258/500]: 100%|███████████████████████████████████████████████████| 22/22 [00:00<00:00, 94.40it/s, loss=0.00345]\n"
     ]
    },
    {
     "name": "stdout",
     "output_type": "stream",
     "text": [
      "Epoch [258/500]: Train loss: 0.0029, Test loss: 0.0028\n",
      "Saving model with loss 0.003...\n"
     ]
    },
    {
     "name": "stderr",
     "output_type": "stream",
     "text": [
      "Epoch [259/500]: 100%|██████████████████████████████████████████████████| 22/22 [00:00<00:00, 108.39it/s, loss=0.00704]\n"
     ]
    },
    {
     "name": "stdout",
     "output_type": "stream",
     "text": [
      "Epoch [259/500]: Train loss: 0.0030, Test loss: 0.0032\n"
     ]
    },
    {
     "name": "stderr",
     "output_type": "stream",
     "text": [
      "Epoch [260/500]: 100%|██████████████████████████████████████████████████| 22/22 [00:00<00:00, 120.07it/s, loss=0.00155]\n"
     ]
    },
    {
     "name": "stdout",
     "output_type": "stream",
     "text": [
      "Epoch [260/500]: Train loss: 0.0028, Test loss: 0.0028\n"
     ]
    },
    {
     "name": "stderr",
     "output_type": "stream",
     "text": [
      "Epoch [261/500]: 100%|██████████████████████████████████████████████████| 22/22 [00:00<00:00, 119.37it/s, loss=0.00181]\n"
     ]
    },
    {
     "name": "stdout",
     "output_type": "stream",
     "text": [
      "Epoch [261/500]: Train loss: 0.0028, Test loss: 0.0028\n"
     ]
    },
    {
     "name": "stderr",
     "output_type": "stream",
     "text": [
      "Epoch [262/500]: 100%|██████████████████████████████████████████████████| 22/22 [00:00<00:00, 119.15it/s, loss=0.00142]\n"
     ]
    },
    {
     "name": "stdout",
     "output_type": "stream",
     "text": [
      "Epoch [262/500]: Train loss: 0.0028, Test loss: 0.0036\n"
     ]
    },
    {
     "name": "stderr",
     "output_type": "stream",
     "text": [
      "Epoch [263/500]: 100%|██████████████████████████████████████████████████| 22/22 [00:00<00:00, 118.28it/s, loss=0.00211]\n"
     ]
    },
    {
     "name": "stdout",
     "output_type": "stream",
     "text": [
      "Epoch [263/500]: Train loss: 0.0028, Test loss: 0.0028\n",
      "Saving model with loss 0.003...\n"
     ]
    },
    {
     "name": "stderr",
     "output_type": "stream",
     "text": [
      "Epoch [264/500]: 100%|███████████████████████████████████████████████████| 22/22 [00:00<00:00, 93.15it/s, loss=0.00129]\n"
     ]
    },
    {
     "name": "stdout",
     "output_type": "stream",
     "text": [
      "Epoch [264/500]: Train loss: 0.0028, Test loss: 0.0028\n",
      "Saving model with loss 0.003...\n"
     ]
    },
    {
     "name": "stderr",
     "output_type": "stream",
     "text": [
      "Epoch [265/500]: 100%|██████████████████████████████████████████████████| 22/22 [00:00<00:00, 113.80it/s, loss=0.00549]\n"
     ]
    },
    {
     "name": "stdout",
     "output_type": "stream",
     "text": [
      "Epoch [265/500]: Train loss: 0.0029, Test loss: 0.0027\n",
      "Saving model with loss 0.003...\n"
     ]
    },
    {
     "name": "stderr",
     "output_type": "stream",
     "text": [
      "Epoch [266/500]: 100%|██████████████████████████████████████████████████| 22/22 [00:00<00:00, 117.32it/s, loss=0.00224]\n"
     ]
    },
    {
     "name": "stdout",
     "output_type": "stream",
     "text": [
      "Epoch [266/500]: Train loss: 0.0028, Test loss: 0.0031\n"
     ]
    },
    {
     "name": "stderr",
     "output_type": "stream",
     "text": [
      "Epoch [267/500]: 100%|███████████████████████████████████████████████████| 22/22 [00:00<00:00, 112.68it/s, loss=0.0023]\n"
     ]
    },
    {
     "name": "stdout",
     "output_type": "stream",
     "text": [
      "Epoch [267/500]: Train loss: 0.0028, Test loss: 0.0027\n"
     ]
    },
    {
     "name": "stderr",
     "output_type": "stream",
     "text": [
      "Epoch [268/500]: 100%|██████████████████████████████████████████████████| 22/22 [00:00<00:00, 110.78it/s, loss=0.00178]\n"
     ]
    },
    {
     "name": "stdout",
     "output_type": "stream",
     "text": [
      "Epoch [268/500]: Train loss: 0.0028, Test loss: 0.0031\n"
     ]
    },
    {
     "name": "stderr",
     "output_type": "stream",
     "text": [
      "Epoch [269/500]: 100%|████████████████████████████████████████████████████| 22/22 [00:00<00:00, 82.82it/s, loss=0.0093]\n"
     ]
    },
    {
     "name": "stdout",
     "output_type": "stream",
     "text": [
      "Epoch [269/500]: Train loss: 0.0030, Test loss: 0.0031\n"
     ]
    },
    {
     "name": "stderr",
     "output_type": "stream",
     "text": [
      "Epoch [270/500]: 100%|██████████████████████████████████████████████████| 22/22 [00:00<00:00, 121.93it/s, loss=0.00714]\n"
     ]
    },
    {
     "name": "stdout",
     "output_type": "stream",
     "text": [
      "Epoch [270/500]: Train loss: 0.0030, Test loss: 0.0032\n"
     ]
    },
    {
     "name": "stderr",
     "output_type": "stream",
     "text": [
      "Epoch [271/500]: 100%|██████████████████████████████████████████████████| 22/22 [00:00<00:00, 120.02it/s, loss=0.00217]\n"
     ]
    },
    {
     "name": "stdout",
     "output_type": "stream",
     "text": [
      "Epoch [271/500]: Train loss: 0.0028, Test loss: 0.0027\n",
      "Saving model with loss 0.003...\n"
     ]
    },
    {
     "name": "stderr",
     "output_type": "stream",
     "text": [
      "Epoch [272/500]: 100%|██████████████████████████████████████████████████| 22/22 [00:00<00:00, 110.17it/s, loss=0.00161]\n"
     ]
    },
    {
     "name": "stdout",
     "output_type": "stream",
     "text": [
      "Epoch [272/500]: Train loss: 0.0027, Test loss: 0.0027\n"
     ]
    },
    {
     "name": "stderr",
     "output_type": "stream",
     "text": [
      "Epoch [273/500]: 100%|███████████████████████████████████████████████████| 22/22 [00:00<00:00, 111.60it/s, loss=0.0016]\n"
     ]
    },
    {
     "name": "stdout",
     "output_type": "stream",
     "text": [
      "Epoch [273/500]: Train loss: 0.0027, Test loss: 0.0031\n"
     ]
    },
    {
     "name": "stderr",
     "output_type": "stream",
     "text": [
      "Epoch [274/500]: 100%|███████████████████████████████████████████████████| 22/22 [00:00<00:00, 83.58it/s, loss=0.00374]\n"
     ]
    },
    {
     "name": "stdout",
     "output_type": "stream",
     "text": [
      "Epoch [274/500]: Train loss: 0.0028, Test loss: 0.0026\n",
      "Saving model with loss 0.003...\n"
     ]
    },
    {
     "name": "stderr",
     "output_type": "stream",
     "text": [
      "Epoch [275/500]: 100%|██████████████████████████████████████████████████| 22/22 [00:00<00:00, 115.42it/s, loss=0.00189]\n"
     ]
    },
    {
     "name": "stdout",
     "output_type": "stream",
     "text": [
      "Epoch [275/500]: Train loss: 0.0027, Test loss: 0.0027\n"
     ]
    },
    {
     "name": "stderr",
     "output_type": "stream",
     "text": [
      "Epoch [276/500]: 100%|███████████████████████████████████████████████████| 22/22 [00:00<00:00, 112.51it/s, loss=0.0026]\n"
     ]
    },
    {
     "name": "stdout",
     "output_type": "stream",
     "text": [
      "Epoch [276/500]: Train loss: 0.0027, Test loss: 0.0031\n"
     ]
    },
    {
     "name": "stderr",
     "output_type": "stream",
     "text": [
      "Epoch [277/500]: 100%|█████████████████████████████████████████████████| 22/22 [00:00<00:00, 113.36it/s, loss=0.000957]\n"
     ]
    },
    {
     "name": "stdout",
     "output_type": "stream",
     "text": [
      "Epoch [277/500]: Train loss: 0.0027, Test loss: 0.0027\n"
     ]
    },
    {
     "name": "stderr",
     "output_type": "stream",
     "text": [
      "Epoch [278/500]: 100%|██████████████████████████████████████████████████| 22/22 [00:00<00:00, 113.81it/s, loss=0.00222]\n"
     ]
    },
    {
     "name": "stdout",
     "output_type": "stream",
     "text": [
      "Epoch [278/500]: Train loss: 0.0027, Test loss: 0.0027\n"
     ]
    },
    {
     "name": "stderr",
     "output_type": "stream",
     "text": [
      "Epoch [279/500]: 100%|███████████████████████████████████████████████████| 22/22 [00:00<00:00, 94.01it/s, loss=0.00534]\n"
     ]
    },
    {
     "name": "stdout",
     "output_type": "stream",
     "text": [
      "Epoch [279/500]: Train loss: 0.0028, Test loss: 0.0027\n"
     ]
    },
    {
     "name": "stderr",
     "output_type": "stream",
     "text": [
      "Epoch [280/500]: 100%|██████████████████████████████████████████████████| 22/22 [00:00<00:00, 103.72it/s, loss=0.00178]\n"
     ]
    },
    {
     "name": "stdout",
     "output_type": "stream",
     "text": [
      "Epoch [280/500]: Train loss: 0.0027, Test loss: 0.0027\n"
     ]
    },
    {
     "name": "stderr",
     "output_type": "stream",
     "text": [
      "Epoch [281/500]: 100%|██████████████████████████████████████████████████| 22/22 [00:00<00:00, 106.23it/s, loss=0.00683]\n"
     ]
    },
    {
     "name": "stdout",
     "output_type": "stream",
     "text": [
      "Epoch [281/500]: Train loss: 0.0029, Test loss: 0.0026\n",
      "Saving model with loss 0.003...\n"
     ]
    },
    {
     "name": "stderr",
     "output_type": "stream",
     "text": [
      "Epoch [282/500]: 100%|███████████████████████████████████████████████████| 22/22 [00:00<00:00, 118.65it/s, loss=0.0034]\n"
     ]
    },
    {
     "name": "stdout",
     "output_type": "stream",
     "text": [
      "Epoch [282/500]: Train loss: 0.0027, Test loss: 0.0028\n"
     ]
    },
    {
     "name": "stderr",
     "output_type": "stream",
     "text": [
      "Epoch [283/500]: 100%|██████████████████████████████████████████████████| 22/22 [00:00<00:00, 118.21it/s, loss=0.00223]\n"
     ]
    },
    {
     "name": "stdout",
     "output_type": "stream",
     "text": [
      "Epoch [283/500]: Train loss: 0.0027, Test loss: 0.0027\n"
     ]
    },
    {
     "name": "stderr",
     "output_type": "stream",
     "text": [
      "Epoch [284/500]: 100%|██████████████████████████████████████████████████| 22/22 [00:00<00:00, 122.75it/s, loss=0.00122]"
     ]
    },
    {
     "name": "stdout",
     "output_type": "stream",
     "text": [
      "Epoch [284/500]: Train loss: 0.0026, Test loss: 0.0025\n"
     ]
    },
    {
     "name": "stderr",
     "output_type": "stream",
     "text": [
      "\n"
     ]
    },
    {
     "name": "stdout",
     "output_type": "stream",
     "text": [
      "Saving model with loss 0.003...\n"
     ]
    },
    {
     "name": "stderr",
     "output_type": "stream",
     "text": [
      "Epoch [285/500]: 100%|███████████████████████████████████████████████████| 22/22 [00:00<00:00, 85.30it/s, loss=0.00385]\n"
     ]
    },
    {
     "name": "stdout",
     "output_type": "stream",
     "text": [
      "Epoch [285/500]: Train loss: 0.0027, Test loss: 0.0025\n",
      "Saving model with loss 0.003...\n"
     ]
    },
    {
     "name": "stderr",
     "output_type": "stream",
     "text": [
      "Epoch [286/500]: 100%|██████████████████████████████████████████████████| 22/22 [00:00<00:00, 108.48it/s, loss=0.00309]\n"
     ]
    },
    {
     "name": "stdout",
     "output_type": "stream",
     "text": [
      "Epoch [286/500]: Train loss: 0.0027, Test loss: 0.0026\n"
     ]
    },
    {
     "name": "stderr",
     "output_type": "stream",
     "text": [
      "Epoch [287/500]: 100%|██████████████████████████████████████████████████| 22/22 [00:00<00:00, 109.45it/s, loss=0.00472]\n"
     ]
    },
    {
     "name": "stdout",
     "output_type": "stream",
     "text": [
      "Epoch [287/500]: Train loss: 0.0028, Test loss: 0.0025\n"
     ]
    },
    {
     "name": "stderr",
     "output_type": "stream",
     "text": [
      "Epoch [288/500]: 100%|██████████████████████████████████████████████████| 22/22 [00:00<00:00, 107.17it/s, loss=0.00122]\n"
     ]
    },
    {
     "name": "stdout",
     "output_type": "stream",
     "text": [
      "Epoch [288/500]: Train loss: 0.0026, Test loss: 0.0025\n",
      "Saving model with loss 0.002...\n"
     ]
    },
    {
     "name": "stderr",
     "output_type": "stream",
     "text": [
      "Epoch [289/500]: 100%|██████████████████████████████████████████████████| 22/22 [00:00<00:00, 121.72it/s, loss=0.00465]\n"
     ]
    },
    {
     "name": "stdout",
     "output_type": "stream",
     "text": [
      "Epoch [289/500]: Train loss: 0.0027, Test loss: 0.0026\n"
     ]
    },
    {
     "name": "stderr",
     "output_type": "stream",
     "text": [
      "Epoch [290/500]: 100%|███████████████████████████████████████████████████| 22/22 [00:00<00:00, 86.45it/s, loss=0.00169]\n"
     ]
    },
    {
     "name": "stdout",
     "output_type": "stream",
     "text": [
      "Epoch [290/500]: Train loss: 0.0026, Test loss: 0.0033\n"
     ]
    },
    {
     "name": "stderr",
     "output_type": "stream",
     "text": [
      "Epoch [291/500]: 100%|█████████████████████████████████████████████████| 22/22 [00:00<00:00, 118.17it/s, loss=0.000994]\n"
     ]
    },
    {
     "name": "stdout",
     "output_type": "stream",
     "text": [
      "Epoch [291/500]: Train loss: 0.0026, Test loss: 0.0026\n"
     ]
    },
    {
     "name": "stderr",
     "output_type": "stream",
     "text": [
      "Epoch [292/500]: 100%|██████████████████████████████████████████████████| 22/22 [00:00<00:00, 114.89it/s, loss=0.00104]\n"
     ]
    },
    {
     "name": "stdout",
     "output_type": "stream",
     "text": [
      "Epoch [292/500]: Train loss: 0.0026, Test loss: 0.0026\n"
     ]
    },
    {
     "name": "stderr",
     "output_type": "stream",
     "text": [
      "Epoch [293/500]: 100%|██████████████████████████████████████████████████| 22/22 [00:00<00:00, 117.00it/s, loss=0.00232]\n"
     ]
    },
    {
     "name": "stdout",
     "output_type": "stream",
     "text": [
      "Epoch [293/500]: Train loss: 0.0026, Test loss: 0.0027\n"
     ]
    },
    {
     "name": "stderr",
     "output_type": "stream",
     "text": [
      "Epoch [294/500]: 100%|███████████████████████████████████████████████████| 22/22 [00:00<00:00, 108.45it/s, loss=0.0032]\n"
     ]
    },
    {
     "name": "stdout",
     "output_type": "stream",
     "text": [
      "Epoch [294/500]: Train loss: 0.0027, Test loss: 0.0026\n"
     ]
    },
    {
     "name": "stderr",
     "output_type": "stream",
     "text": [
      "Epoch [295/500]: 100%|███████████████████████████████████████████████████| 22/22 [00:00<00:00, 91.70it/s, loss=0.00172]\n"
     ]
    },
    {
     "name": "stdout",
     "output_type": "stream",
     "text": [
      "Epoch [295/500]: Train loss: 0.0026, Test loss: 0.0026\n"
     ]
    },
    {
     "name": "stderr",
     "output_type": "stream",
     "text": [
      "Epoch [296/500]: 100%|██████████████████████████████████████████████████| 22/22 [00:00<00:00, 114.66it/s, loss=0.00384]\n"
     ]
    },
    {
     "name": "stdout",
     "output_type": "stream",
     "text": [
      "Epoch [296/500]: Train loss: 0.0027, Test loss: 0.0025\n",
      "Saving model with loss 0.002...\n"
     ]
    },
    {
     "name": "stderr",
     "output_type": "stream",
     "text": [
      "Epoch [297/500]: 100%|██████████████████████████████████████████████████| 22/22 [00:00<00:00, 110.91it/s, loss=0.00134]\n"
     ]
    },
    {
     "name": "stdout",
     "output_type": "stream",
     "text": [
      "Epoch [297/500]: Train loss: 0.0026, Test loss: 0.0025\n"
     ]
    },
    {
     "name": "stderr",
     "output_type": "stream",
     "text": [
      "Epoch [298/500]: 100%|██████████████████████████████████████████████████| 22/22 [00:00<00:00, 114.63it/s, loss=0.00537]\n"
     ]
    },
    {
     "name": "stdout",
     "output_type": "stream",
     "text": [
      "Epoch [298/500]: Train loss: 0.0027, Test loss: 0.0026\n"
     ]
    },
    {
     "name": "stderr",
     "output_type": "stream",
     "text": [
      "Epoch [299/500]: 100%|██████████████████████████████████████████████████| 22/22 [00:00<00:00, 109.84it/s, loss=0.00111]\n"
     ]
    },
    {
     "name": "stdout",
     "output_type": "stream",
     "text": [
      "Epoch [299/500]: Train loss: 0.0026, Test loss: 0.0028\n"
     ]
    },
    {
     "name": "stderr",
     "output_type": "stream",
     "text": [
      "Epoch [300/500]: 100%|██████████████████████████████████████████████████| 22/22 [00:00<00:00, 103.49it/s, loss=0.00619]\n"
     ]
    },
    {
     "name": "stdout",
     "output_type": "stream",
     "text": [
      "Epoch [300/500]: Train loss: 0.0027, Test loss: 0.0029\n"
     ]
    },
    {
     "name": "stderr",
     "output_type": "stream",
     "text": [
      "Epoch [301/500]: 100%|████████████████████████████████████████████████████| 22/22 [00:00<00:00, 99.20it/s, loss=0.0107]\n"
     ]
    },
    {
     "name": "stdout",
     "output_type": "stream",
     "text": [
      "Epoch [301/500]: Train loss: 0.0029, Test loss: 0.0025\n"
     ]
    },
    {
     "name": "stderr",
     "output_type": "stream",
     "text": [
      "Epoch [302/500]: 100%|██████████████████████████████████████████████████| 22/22 [00:00<00:00, 122.94it/s, loss=0.00173]\n"
     ]
    },
    {
     "name": "stdout",
     "output_type": "stream",
     "text": [
      "Epoch [302/500]: Train loss: 0.0026, Test loss: 0.0025\n"
     ]
    },
    {
     "name": "stderr",
     "output_type": "stream",
     "text": [
      "Epoch [303/500]: 100%|██████████████████████████████████████████████████| 22/22 [00:00<00:00, 122.02it/s, loss=0.00103]\n"
     ]
    },
    {
     "name": "stdout",
     "output_type": "stream",
     "text": [
      "Epoch [303/500]: Train loss: 0.0025, Test loss: 0.0026\n"
     ]
    },
    {
     "name": "stderr",
     "output_type": "stream",
     "text": [
      "Epoch [304/500]: 100%|██████████████████████████████████████████████████| 22/22 [00:00<00:00, 120.00it/s, loss=0.00697]\n"
     ]
    },
    {
     "name": "stdout",
     "output_type": "stream",
     "text": [
      "Epoch [304/500]: Train loss: 0.0027, Test loss: 0.0029\n"
     ]
    },
    {
     "name": "stderr",
     "output_type": "stream",
     "text": [
      "Epoch [305/500]: 100%|███████████████████████████████████████████████████| 22/22 [00:00<00:00, 119.59it/s, loss=0.0031]\n"
     ]
    },
    {
     "name": "stdout",
     "output_type": "stream",
     "text": [
      "Epoch [305/500]: Train loss: 0.0026, Test loss: 0.0026\n"
     ]
    },
    {
     "name": "stderr",
     "output_type": "stream",
     "text": [
      "Epoch [306/500]: 100%|███████████████████████████████████████████████████| 22/22 [00:00<00:00, 85.61it/s, loss=0.00484]\n"
     ]
    },
    {
     "name": "stdout",
     "output_type": "stream",
     "text": [
      "Epoch [306/500]: Train loss: 0.0027, Test loss: 0.0024\n",
      "Saving model with loss 0.002...\n"
     ]
    },
    {
     "name": "stderr",
     "output_type": "stream",
     "text": [
      "Epoch [307/500]: 100%|██████████████████████████████████████████████████| 22/22 [00:00<00:00, 123.53it/s, loss=0.00104]\n"
     ]
    },
    {
     "name": "stdout",
     "output_type": "stream",
     "text": [
      "Epoch [307/500]: Train loss: 0.0025, Test loss: 0.0029\n"
     ]
    },
    {
     "name": "stderr",
     "output_type": "stream",
     "text": [
      "Epoch [308/500]: 100%|██████████████████████████████████████████████████| 22/22 [00:00<00:00, 112.08it/s, loss=0.00781]\n"
     ]
    },
    {
     "name": "stdout",
     "output_type": "stream",
     "text": [
      "Epoch [308/500]: Train loss: 0.0027, Test loss: 0.0028\n"
     ]
    },
    {
     "name": "stderr",
     "output_type": "stream",
     "text": [
      "Epoch [309/500]: 100%|██████████████████████████████████████████████████| 22/22 [00:00<00:00, 116.34it/s, loss=0.00199]\n"
     ]
    },
    {
     "name": "stdout",
     "output_type": "stream",
     "text": [
      "Epoch [309/500]: Train loss: 0.0026, Test loss: 0.0026\n"
     ]
    },
    {
     "name": "stderr",
     "output_type": "stream",
     "text": [
      "Epoch [310/500]: 100%|██████████████████████████████████████████████████| 22/22 [00:00<00:00, 112.06it/s, loss=0.00117]\n"
     ]
    },
    {
     "name": "stdout",
     "output_type": "stream",
     "text": [
      "Epoch [310/500]: Train loss: 0.0025, Test loss: 0.0028\n"
     ]
    },
    {
     "name": "stderr",
     "output_type": "stream",
     "text": [
      "Epoch [311/500]: 100%|██████████████████████████████████████████████████| 22/22 [00:00<00:00, 100.82it/s, loss=0.00223]\n"
     ]
    },
    {
     "name": "stdout",
     "output_type": "stream",
     "text": [
      "Epoch [311/500]: Train loss: 0.0025, Test loss: 0.0027\n"
     ]
    },
    {
     "name": "stderr",
     "output_type": "stream",
     "text": [
      "Epoch [312/500]: 100%|██████████████████████████████████████████████████| 22/22 [00:00<00:00, 101.58it/s, loss=0.00164]\n"
     ]
    },
    {
     "name": "stdout",
     "output_type": "stream",
     "text": [
      "Epoch [312/500]: Train loss: 0.0025, Test loss: 0.0025\n"
     ]
    },
    {
     "name": "stderr",
     "output_type": "stream",
     "text": [
      "Epoch [313/500]: 100%|███████████████████████████████████████████████████| 22/22 [00:00<00:00, 111.16it/s, loss=0.0031]\n"
     ]
    },
    {
     "name": "stdout",
     "output_type": "stream",
     "text": [
      "Epoch [313/500]: Train loss: 0.0026, Test loss: 0.0028\n"
     ]
    },
    {
     "name": "stderr",
     "output_type": "stream",
     "text": [
      "Epoch [314/500]: 100%|██████████████████████████████████████████████████| 22/22 [00:00<00:00, 114.37it/s, loss=0.00509]\n"
     ]
    },
    {
     "name": "stdout",
     "output_type": "stream",
     "text": [
      "Epoch [314/500]: Train loss: 0.0026, Test loss: 0.0025\n"
     ]
    },
    {
     "name": "stderr",
     "output_type": "stream",
     "text": [
      "Epoch [315/500]: 100%|██████████████████████████████████████████████████| 22/22 [00:00<00:00, 118.25it/s, loss=0.00198]\n"
     ]
    },
    {
     "name": "stdout",
     "output_type": "stream",
     "text": [
      "Epoch [315/500]: Train loss: 0.0025, Test loss: 0.0027\n"
     ]
    },
    {
     "name": "stderr",
     "output_type": "stream",
     "text": [
      "Epoch [316/500]: 100%|█████████████████████████████████████████████████| 22/22 [00:00<00:00, 119.03it/s, loss=0.000846]\n"
     ]
    },
    {
     "name": "stdout",
     "output_type": "stream",
     "text": [
      "Epoch [316/500]: Train loss: 0.0025, Test loss: 0.0029\n"
     ]
    },
    {
     "name": "stderr",
     "output_type": "stream",
     "text": [
      "Epoch [317/500]: 100%|███████████████████████████████████████████████████| 22/22 [00:00<00:00, 79.99it/s, loss=0.00128]\n"
     ]
    },
    {
     "name": "stdout",
     "output_type": "stream",
     "text": [
      "Epoch [317/500]: Train loss: 0.0025, Test loss: 0.0024\n",
      "Saving model with loss 0.002...\n"
     ]
    },
    {
     "name": "stderr",
     "output_type": "stream",
     "text": [
      "Epoch [318/500]: 100%|██████████████████████████████████████████████████| 22/22 [00:00<00:00, 104.17it/s, loss=0.00153]\n"
     ]
    },
    {
     "name": "stdout",
     "output_type": "stream",
     "text": [
      "Epoch [318/500]: Train loss: 0.0025, Test loss: 0.0032\n"
     ]
    },
    {
     "name": "stderr",
     "output_type": "stream",
     "text": [
      "Epoch [319/500]: 100%|█████████████████████████████████████████████████| 22/22 [00:00<00:00, 114.98it/s, loss=0.000849]\n"
     ]
    },
    {
     "name": "stdout",
     "output_type": "stream",
     "text": [
      "Epoch [319/500]: Train loss: 0.0025, Test loss: 0.0024\n"
     ]
    },
    {
     "name": "stderr",
     "output_type": "stream",
     "text": [
      "Epoch [320/500]: 100%|██████████████████████████████████████████████████| 22/22 [00:00<00:00, 111.88it/s, loss=0.00692]\n"
     ]
    },
    {
     "name": "stdout",
     "output_type": "stream",
     "text": [
      "Epoch [320/500]: Train loss: 0.0027, Test loss: 0.0024\n"
     ]
    },
    {
     "name": "stderr",
     "output_type": "stream",
     "text": [
      "Epoch [321/500]: 100%|█████████████████████████████████████████████████| 22/22 [00:00<00:00, 118.91it/s, loss=0.000978]\n"
     ]
    },
    {
     "name": "stdout",
     "output_type": "stream",
     "text": [
      "Epoch [321/500]: Train loss: 0.0025, Test loss: 0.0024\n"
     ]
    },
    {
     "name": "stderr",
     "output_type": "stream",
     "text": [
      "Epoch [322/500]: 100%|███████████████████████████████████████████████████| 22/22 [00:00<00:00, 88.82it/s, loss=0.00172]\n"
     ]
    },
    {
     "name": "stdout",
     "output_type": "stream",
     "text": [
      "Epoch [322/500]: Train loss: 0.0025, Test loss: 0.0024\n"
     ]
    },
    {
     "name": "stderr",
     "output_type": "stream",
     "text": [
      "Epoch [323/500]: 100%|██████████████████████████████████████████████████| 22/22 [00:00<00:00, 116.73it/s, loss=0.00141]\n"
     ]
    },
    {
     "name": "stdout",
     "output_type": "stream",
     "text": [
      "Epoch [323/500]: Train loss: 0.0025, Test loss: 0.0024\n"
     ]
    },
    {
     "name": "stderr",
     "output_type": "stream",
     "text": [
      "Epoch [324/500]: 100%|██████████████████████████████████████████████████| 22/22 [00:00<00:00, 111.87it/s, loss=0.00907]\n"
     ]
    },
    {
     "name": "stdout",
     "output_type": "stream",
     "text": [
      "Epoch [324/500]: Train loss: 0.0027, Test loss: 0.0027\n"
     ]
    },
    {
     "name": "stderr",
     "output_type": "stream",
     "text": [
      "Epoch [325/500]: 100%|██████████████████████████████████████████████████| 22/22 [00:00<00:00, 120.56it/s, loss=0.00165]\n"
     ]
    },
    {
     "name": "stdout",
     "output_type": "stream",
     "text": [
      "Epoch [325/500]: Train loss: 0.0025, Test loss: 0.0024\n",
      "Saving model with loss 0.002...\n"
     ]
    },
    {
     "name": "stderr",
     "output_type": "stream",
     "text": [
      "Epoch [326/500]: 100%|██████████████████████████████████████████████████| 22/22 [00:00<00:00, 110.78it/s, loss=0.00102]\n"
     ]
    },
    {
     "name": "stdout",
     "output_type": "stream",
     "text": [
      "Epoch [326/500]: Train loss: 0.0024, Test loss: 0.0024\n"
     ]
    },
    {
     "name": "stderr",
     "output_type": "stream",
     "text": [
      "Epoch [327/500]: 100%|███████████████████████████████████████████████████| 22/22 [00:00<00:00, 95.22it/s, loss=0.00137]\n"
     ]
    },
    {
     "name": "stdout",
     "output_type": "stream",
     "text": [
      "Epoch [327/500]: Train loss: 0.0024, Test loss: 0.0024\n",
      "Saving model with loss 0.002...\n"
     ]
    },
    {
     "name": "stderr",
     "output_type": "stream",
     "text": [
      "Epoch [328/500]: 100%|██████████████████████████████████████████████████| 22/22 [00:00<00:00, 110.65it/s, loss=0.00153]\n"
     ]
    },
    {
     "name": "stdout",
     "output_type": "stream",
     "text": [
      "Epoch [328/500]: Train loss: 0.0025, Test loss: 0.0029\n"
     ]
    },
    {
     "name": "stderr",
     "output_type": "stream",
     "text": [
      "Epoch [329/500]: 100%|███████████████████████████████████████████████████| 22/22 [00:00<00:00, 116.67it/s, loss=0.0111]\n"
     ]
    },
    {
     "name": "stdout",
     "output_type": "stream",
     "text": [
      "Epoch [329/500]: Train loss: 0.0028, Test loss: 0.0024\n"
     ]
    },
    {
     "name": "stderr",
     "output_type": "stream",
     "text": [
      "Epoch [330/500]: 100%|███████████████████████████████████████████████████| 22/22 [00:00<00:00, 118.52it/s, loss=0.0042]\n"
     ]
    },
    {
     "name": "stdout",
     "output_type": "stream",
     "text": [
      "Epoch [330/500]: Train loss: 0.0025, Test loss: 0.0032\n"
     ]
    },
    {
     "name": "stderr",
     "output_type": "stream",
     "text": [
      "Epoch [331/500]: 100%|██████████████████████████████████████████████████| 22/22 [00:00<00:00, 120.10it/s, loss=0.00218]\n"
     ]
    },
    {
     "name": "stdout",
     "output_type": "stream",
     "text": [
      "Epoch [331/500]: Train loss: 0.0025, Test loss: 0.0028\n"
     ]
    },
    {
     "name": "stderr",
     "output_type": "stream",
     "text": [
      "Epoch [332/500]: 100%|██████████████████████████████████████████████████| 22/22 [00:00<00:00, 114.95it/s, loss=0.00103]\n"
     ]
    },
    {
     "name": "stdout",
     "output_type": "stream",
     "text": [
      "Epoch [332/500]: Train loss: 0.0024, Test loss: 0.0024\n"
     ]
    },
    {
     "name": "stderr",
     "output_type": "stream",
     "text": [
      "Epoch [333/500]: 100%|███████████████████████████████████████████████████| 22/22 [00:00<00:00, 85.84it/s, loss=0.00176]\n"
     ]
    },
    {
     "name": "stdout",
     "output_type": "stream",
     "text": [
      "Epoch [333/500]: Train loss: 0.0024, Test loss: 0.0023\n",
      "Saving model with loss 0.002...\n"
     ]
    },
    {
     "name": "stderr",
     "output_type": "stream",
     "text": [
      "Epoch [334/500]: 100%|██████████████████████████████████████████████████| 22/22 [00:00<00:00, 125.08it/s, loss=0.00146]"
     ]
    },
    {
     "name": "stdout",
     "output_type": "stream",
     "text": [
      "Epoch [334/500]: Train loss: 0.0024, Test loss: 0.0024\n"
     ]
    },
    {
     "name": "stderr",
     "output_type": "stream",
     "text": [
      "\n",
      "Epoch [335/500]: 100%|██████████████████████████████████████████████████| 22/22 [00:00<00:00, 120.63it/s, loss=0.00448]\n"
     ]
    },
    {
     "name": "stdout",
     "output_type": "stream",
     "text": [
      "Epoch [335/500]: Train loss: 0.0025, Test loss: 0.0025\n"
     ]
    },
    {
     "name": "stderr",
     "output_type": "stream",
     "text": [
      "Epoch [336/500]: 100%|██████████████████████████████████████████████████| 22/22 [00:00<00:00, 120.00it/s, loss=0.00344]\n"
     ]
    },
    {
     "name": "stdout",
     "output_type": "stream",
     "text": [
      "Epoch [336/500]: Train loss: 0.0025, Test loss: 0.0025\n"
     ]
    },
    {
     "name": "stderr",
     "output_type": "stream",
     "text": [
      "Epoch [337/500]: 100%|██████████████████████████████████████████████████| 22/22 [00:00<00:00, 117.24it/s, loss=0.00185]\n"
     ]
    },
    {
     "name": "stdout",
     "output_type": "stream",
     "text": [
      "Epoch [337/500]: Train loss: 0.0024, Test loss: 0.0024\n"
     ]
    },
    {
     "name": "stderr",
     "output_type": "stream",
     "text": [
      "Epoch [338/500]: 100%|███████████████████████████████████████████████████| 22/22 [00:00<00:00, 89.23it/s, loss=0.00711]\n"
     ]
    },
    {
     "name": "stdout",
     "output_type": "stream",
     "text": [
      "Epoch [338/500]: Train loss: 0.0026, Test loss: 0.0023\n"
     ]
    },
    {
     "name": "stderr",
     "output_type": "stream",
     "text": [
      "Epoch [339/500]: 100%|██████████████████████████████████████████████████| 22/22 [00:00<00:00, 100.39it/s, loss=0.00171]\n"
     ]
    },
    {
     "name": "stdout",
     "output_type": "stream",
     "text": [
      "Epoch [339/500]: Train loss: 0.0024, Test loss: 0.0028\n"
     ]
    },
    {
     "name": "stderr",
     "output_type": "stream",
     "text": [
      "Epoch [340/500]: 100%|██████████████████████████████████████████████████| 22/22 [00:00<00:00, 109.56it/s, loss=0.00088]\n"
     ]
    },
    {
     "name": "stdout",
     "output_type": "stream",
     "text": [
      "Epoch [340/500]: Train loss: 0.0024, Test loss: 0.0023\n",
      "Saving model with loss 0.002...\n"
     ]
    },
    {
     "name": "stderr",
     "output_type": "stream",
     "text": [
      "Epoch [341/500]: 100%|██████████████████████████████████████████████████| 22/22 [00:00<00:00, 120.38it/s, loss=0.00125]\n"
     ]
    },
    {
     "name": "stdout",
     "output_type": "stream",
     "text": [
      "Epoch [341/500]: Train loss: 0.0024, Test loss: 0.0029\n"
     ]
    },
    {
     "name": "stderr",
     "output_type": "stream",
     "text": [
      "Epoch [342/500]: 100%|██████████████████████████████████████████████████| 22/22 [00:00<00:00, 115.09it/s, loss=0.00148]\n"
     ]
    },
    {
     "name": "stdout",
     "output_type": "stream",
     "text": [
      "Epoch [342/500]: Train loss: 0.0024, Test loss: 0.0023\n",
      "Saving model with loss 0.002...\n"
     ]
    },
    {
     "name": "stderr",
     "output_type": "stream",
     "text": [
      "Epoch [343/500]: 100%|██████████████████████████████████████████████████| 22/22 [00:00<00:00, 105.89it/s, loss=0.00374]\n"
     ]
    },
    {
     "name": "stdout",
     "output_type": "stream",
     "text": [
      "Epoch [343/500]: Train loss: 0.0025, Test loss: 0.0024\n"
     ]
    },
    {
     "name": "stderr",
     "output_type": "stream",
     "text": [
      "Epoch [344/500]: 100%|███████████████████████████████████████████████████| 22/22 [00:00<00:00, 98.80it/s, loss=0.00145]\n"
     ]
    },
    {
     "name": "stdout",
     "output_type": "stream",
     "text": [
      "Epoch [344/500]: Train loss: 0.0024, Test loss: 0.0023\n"
     ]
    },
    {
     "name": "stderr",
     "output_type": "stream",
     "text": [
      "Epoch [345/500]: 100%|██████████████████████████████████████████████████| 22/22 [00:00<00:00, 106.57it/s, loss=0.00221]\n"
     ]
    },
    {
     "name": "stdout",
     "output_type": "stream",
     "text": [
      "Epoch [345/500]: Train loss: 0.0024, Test loss: 0.0023\n",
      "Saving model with loss 0.002...\n"
     ]
    },
    {
     "name": "stderr",
     "output_type": "stream",
     "text": [
      "Epoch [346/500]: 100%|██████████████████████████████████████████████████| 22/22 [00:00<00:00, 113.93it/s, loss=0.00157]\n"
     ]
    },
    {
     "name": "stdout",
     "output_type": "stream",
     "text": [
      "Epoch [346/500]: Train loss: 0.0024, Test loss: 0.0023\n"
     ]
    },
    {
     "name": "stderr",
     "output_type": "stream",
     "text": [
      "Epoch [347/500]: 100%|██████████████████████████████████████████████████| 22/22 [00:00<00:00, 113.53it/s, loss=0.00533]\n"
     ]
    },
    {
     "name": "stdout",
     "output_type": "stream",
     "text": [
      "Epoch [347/500]: Train loss: 0.0025, Test loss: 0.0024\n"
     ]
    },
    {
     "name": "stderr",
     "output_type": "stream",
     "text": [
      "Epoch [348/500]: 100%|██████████████████████████████████████████████████| 22/22 [00:00<00:00, 116.75it/s, loss=0.00152]\n"
     ]
    },
    {
     "name": "stdout",
     "output_type": "stream",
     "text": [
      "Epoch [348/500]: Train loss: 0.0024, Test loss: 0.0027\n"
     ]
    },
    {
     "name": "stderr",
     "output_type": "stream",
     "text": [
      "Epoch [349/500]: 100%|██████████████████████████████████████████████████| 22/22 [00:00<00:00, 89.10it/s, loss=0.000855]\n"
     ]
    },
    {
     "name": "stdout",
     "output_type": "stream",
     "text": [
      "Epoch [349/500]: Train loss: 0.0024, Test loss: 0.0023\n"
     ]
    },
    {
     "name": "stderr",
     "output_type": "stream",
     "text": [
      "Epoch [350/500]: 100%|██████████████████████████████████████████████████| 22/22 [00:00<00:00, 103.41it/s, loss=0.00322]\n"
     ]
    },
    {
     "name": "stdout",
     "output_type": "stream",
     "text": [
      "Epoch [350/500]: Train loss: 0.0024, Test loss: 0.0028\n"
     ]
    },
    {
     "name": "stderr",
     "output_type": "stream",
     "text": [
      "Epoch [351/500]: 100%|██████████████████████████████████████████████████| 22/22 [00:00<00:00, 110.98it/s, loss=0.00124]\n"
     ]
    },
    {
     "name": "stdout",
     "output_type": "stream",
     "text": [
      "Epoch [351/500]: Train loss: 0.0024, Test loss: 0.0024\n"
     ]
    },
    {
     "name": "stderr",
     "output_type": "stream",
     "text": [
      "Epoch [352/500]: 100%|███████████████████████████████████████████████████| 22/22 [00:00<00:00, 114.13it/s, loss=0.0058]\n"
     ]
    },
    {
     "name": "stdout",
     "output_type": "stream",
     "text": [
      "Epoch [352/500]: Train loss: 0.0025, Test loss: 0.0023\n",
      "Saving model with loss 0.002...\n"
     ]
    },
    {
     "name": "stderr",
     "output_type": "stream",
     "text": [
      "Epoch [353/500]: 100%|███████████████████████████████████████████████████| 22/22 [00:00<00:00, 116.22it/s, loss=0.0023]\n"
     ]
    },
    {
     "name": "stdout",
     "output_type": "stream",
     "text": [
      "Epoch [353/500]: Train loss: 0.0024, Test loss: 0.0024\n"
     ]
    },
    {
     "name": "stderr",
     "output_type": "stream",
     "text": [
      "Epoch [354/500]: 100%|███████████████████████████████████████████████████| 22/22 [00:00<00:00, 86.30it/s, loss=0.00186]\n"
     ]
    },
    {
     "name": "stdout",
     "output_type": "stream",
     "text": [
      "Epoch [354/500]: Train loss: 0.0024, Test loss: 0.0025\n"
     ]
    },
    {
     "name": "stderr",
     "output_type": "stream",
     "text": [
      "Epoch [355/500]: 100%|██████████████████████████████████████████████████| 22/22 [00:00<00:00, 110.82it/s, loss=0.00224]\n"
     ]
    },
    {
     "name": "stdout",
     "output_type": "stream",
     "text": [
      "Epoch [355/500]: Train loss: 0.0024, Test loss: 0.0023\n"
     ]
    },
    {
     "name": "stderr",
     "output_type": "stream",
     "text": [
      "Epoch [356/500]: 100%|█████████████████████████████████████████████████| 22/22 [00:00<00:00, 112.69it/s, loss=0.000962]\n"
     ]
    },
    {
     "name": "stdout",
     "output_type": "stream",
     "text": [
      "Epoch [356/500]: Train loss: 0.0023, Test loss: 0.0024\n"
     ]
    },
    {
     "name": "stderr",
     "output_type": "stream",
     "text": [
      "Epoch [357/500]: 100%|██████████████████████████████████████████████████| 22/22 [00:00<00:00, 120.07it/s, loss=0.00507]\n"
     ]
    },
    {
     "name": "stdout",
     "output_type": "stream",
     "text": [
      "Epoch [357/500]: Train loss: 0.0025, Test loss: 0.0029\n"
     ]
    },
    {
     "name": "stderr",
     "output_type": "stream",
     "text": [
      "Epoch [358/500]: 100%|██████████████████████████████████████████████████| 22/22 [00:00<00:00, 110.49it/s, loss=0.00352]\n"
     ]
    },
    {
     "name": "stdout",
     "output_type": "stream",
     "text": [
      "Epoch [358/500]: Train loss: 0.0024, Test loss: 0.0025\n"
     ]
    },
    {
     "name": "stderr",
     "output_type": "stream",
     "text": [
      "Epoch [359/500]: 100%|███████████████████████████████████████████████████| 22/22 [00:00<00:00, 99.01it/s, loss=0.00325]\n"
     ]
    },
    {
     "name": "stdout",
     "output_type": "stream",
     "text": [
      "Epoch [359/500]: Train loss: 0.0024, Test loss: 0.0023\n"
     ]
    },
    {
     "name": "stderr",
     "output_type": "stream",
     "text": [
      "Epoch [360/500]: 100%|██████████████████████████████████████████████████| 22/22 [00:00<00:00, 111.66it/s, loss=0.00469]\n"
     ]
    },
    {
     "name": "stdout",
     "output_type": "stream",
     "text": [
      "Epoch [360/500]: Train loss: 0.0025, Test loss: 0.0025\n"
     ]
    },
    {
     "name": "stderr",
     "output_type": "stream",
     "text": [
      "Epoch [361/500]: 100%|██████████████████████████████████████████████████| 22/22 [00:00<00:00, 116.45it/s, loss=0.00266]\n"
     ]
    },
    {
     "name": "stdout",
     "output_type": "stream",
     "text": [
      "Epoch [361/500]: Train loss: 0.0024, Test loss: 0.0023\n"
     ]
    },
    {
     "name": "stderr",
     "output_type": "stream",
     "text": [
      "Epoch [362/500]: 100%|█████████████████████████████████████████████████| 22/22 [00:00<00:00, 125.28it/s, loss=0.000945]\n"
     ]
    },
    {
     "name": "stdout",
     "output_type": "stream",
     "text": [
      "Epoch [362/500]: Train loss: 0.0023, Test loss: 0.0025\n"
     ]
    },
    {
     "name": "stderr",
     "output_type": "stream",
     "text": [
      "Epoch [363/500]: 100%|██████████████████████████████████████████████████| 22/22 [00:00<00:00, 109.49it/s, loss=0.00495]\n"
     ]
    },
    {
     "name": "stdout",
     "output_type": "stream",
     "text": [
      "Epoch [363/500]: Train loss: 0.0025, Test loss: 0.0024\n"
     ]
    },
    {
     "name": "stderr",
     "output_type": "stream",
     "text": [
      "Epoch [364/500]: 100%|██████████████████████████████████████████████████| 22/22 [00:00<00:00, 120.43it/s, loss=0.00166]\n"
     ]
    },
    {
     "name": "stdout",
     "output_type": "stream",
     "text": [
      "Epoch [364/500]: Train loss: 0.0023, Test loss: 0.0023\n"
     ]
    },
    {
     "name": "stderr",
     "output_type": "stream",
     "text": [
      "Epoch [365/500]: 100%|███████████████████████████████████████████████████| 22/22 [00:00<00:00, 84.02it/s, loss=0.00265]\n"
     ]
    },
    {
     "name": "stdout",
     "output_type": "stream",
     "text": [
      "Epoch [365/500]: Train loss: 0.0024, Test loss: 0.0026\n"
     ]
    },
    {
     "name": "stderr",
     "output_type": "stream",
     "text": [
      "Epoch [366/500]: 100%|██████████████████████████████████████████████████| 22/22 [00:00<00:00, 116.65it/s, loss=0.00331]\n"
     ]
    },
    {
     "name": "stdout",
     "output_type": "stream",
     "text": [
      "Epoch [366/500]: Train loss: 0.0024, Test loss: 0.0023\n"
     ]
    },
    {
     "name": "stderr",
     "output_type": "stream",
     "text": [
      "Epoch [367/500]: 100%|███████████████████████████████████████████████████| 22/22 [00:00<00:00, 103.75it/s, loss=0.0012]\n"
     ]
    },
    {
     "name": "stdout",
     "output_type": "stream",
     "text": [
      "Epoch [367/500]: Train loss: 0.0023, Test loss: 0.0025\n"
     ]
    },
    {
     "name": "stderr",
     "output_type": "stream",
     "text": [
      "Epoch [368/500]: 100%|██████████████████████████████████████████████████| 22/22 [00:00<00:00, 119.03it/s, loss=0.00153]\n"
     ]
    },
    {
     "name": "stdout",
     "output_type": "stream",
     "text": [
      "Epoch [368/500]: Train loss: 0.0023, Test loss: 0.0026\n"
     ]
    },
    {
     "name": "stderr",
     "output_type": "stream",
     "text": [
      "Epoch [369/500]: 100%|██████████████████████████████████████████████████| 22/22 [00:00<00:00, 107.26it/s, loss=0.00113]\n"
     ]
    },
    {
     "name": "stdout",
     "output_type": "stream",
     "text": [
      "Epoch [369/500]: Train loss: 0.0023, Test loss: 0.0023\n"
     ]
    },
    {
     "name": "stderr",
     "output_type": "stream",
     "text": [
      "Epoch [370/500]: 100%|███████████████████████████████████████████████████| 22/22 [00:00<00:00, 83.69it/s, loss=0.00282]\n"
     ]
    },
    {
     "name": "stdout",
     "output_type": "stream",
     "text": [
      "Epoch [370/500]: Train loss: 0.0024, Test loss: 0.0023\n"
     ]
    },
    {
     "name": "stderr",
     "output_type": "stream",
     "text": [
      "Epoch [371/500]: 100%|██████████████████████████████████████████████████| 22/22 [00:00<00:00, 117.42it/s, loss=0.00147]\n"
     ]
    },
    {
     "name": "stdout",
     "output_type": "stream",
     "text": [
      "Epoch [371/500]: Train loss: 0.0023, Test loss: 0.0026\n"
     ]
    },
    {
     "name": "stderr",
     "output_type": "stream",
     "text": [
      "Epoch [372/500]: 100%|██████████████████████████████████████████████████| 22/22 [00:00<00:00, 120.48it/s, loss=0.00104]\n"
     ]
    },
    {
     "name": "stdout",
     "output_type": "stream",
     "text": [
      "Epoch [372/500]: Train loss: 0.0023, Test loss: 0.0026\n"
     ]
    },
    {
     "name": "stderr",
     "output_type": "stream",
     "text": [
      "Epoch [373/500]: 100%|██████████████████████████████████████████████████| 22/22 [00:00<00:00, 125.74it/s, loss=0.00566]\n"
     ]
    },
    {
     "name": "stdout",
     "output_type": "stream",
     "text": [
      "Epoch [373/500]: Train loss: 0.0025, Test loss: 0.0023\n"
     ]
    },
    {
     "name": "stderr",
     "output_type": "stream",
     "text": [
      "Epoch [374/500]: 100%|███████████████████████████████████████████████████| 22/22 [00:00<00:00, 116.19it/s, loss=0.0042]\n"
     ]
    },
    {
     "name": "stdout",
     "output_type": "stream",
     "text": [
      "Epoch [374/500]: Train loss: 0.0024, Test loss: 0.0023\n"
     ]
    },
    {
     "name": "stderr",
     "output_type": "stream",
     "text": [
      "Epoch [375/500]: 100%|██████████████████████████████████████████████████| 22/22 [00:00<00:00, 108.51it/s, loss=0.00458]\n"
     ]
    },
    {
     "name": "stdout",
     "output_type": "stream",
     "text": [
      "Epoch [375/500]: Train loss: 0.0024, Test loss: 0.0023\n"
     ]
    },
    {
     "name": "stderr",
     "output_type": "stream",
     "text": [
      "Epoch [376/500]: 100%|███████████████████████████████████████████████████| 22/22 [00:00<00:00, 92.26it/s, loss=0.00156]\n"
     ]
    },
    {
     "name": "stdout",
     "output_type": "stream",
     "text": [
      "Epoch [376/500]: Train loss: 0.0023, Test loss: 0.0024\n"
     ]
    },
    {
     "name": "stderr",
     "output_type": "stream",
     "text": [
      "Epoch [377/500]: 100%|██████████████████████████████████████████████████| 22/22 [00:00<00:00, 113.81it/s, loss=0.00131]\n"
     ]
    },
    {
     "name": "stdout",
     "output_type": "stream",
     "text": [
      "Epoch [377/500]: Train loss: 0.0023, Test loss: 0.0024\n"
     ]
    },
    {
     "name": "stderr",
     "output_type": "stream",
     "text": [
      "Epoch [378/500]: 100%|█████████████████████████████████████████████████| 22/22 [00:00<00:00, 121.95it/s, loss=0.000993]\n"
     ]
    },
    {
     "name": "stdout",
     "output_type": "stream",
     "text": [
      "Epoch [378/500]: Train loss: 0.0023, Test loss: 0.0026\n"
     ]
    },
    {
     "name": "stderr",
     "output_type": "stream",
     "text": [
      "Epoch [379/500]: 100%|███████████████████████████████████████████████████| 22/22 [00:00<00:00, 125.73it/s, loss=0.0016]"
     ]
    },
    {
     "name": "stdout",
     "output_type": "stream",
     "text": [
      "Epoch [379/500]: Train loss: 0.0023, Test loss: 0.0024"
     ]
    },
    {
     "name": "stderr",
     "output_type": "stream",
     "text": [
      "\n"
     ]
    },
    {
     "name": "stdout",
     "output_type": "stream",
     "text": [
      "\n"
     ]
    },
    {
     "name": "stderr",
     "output_type": "stream",
     "text": [
      "Epoch [380/500]: 100%|██████████████████████████████████████████████████| 22/22 [00:00<00:00, 113.37it/s, loss=0.00356]\n"
     ]
    },
    {
     "name": "stdout",
     "output_type": "stream",
     "text": [
      "Epoch [380/500]: Train loss: 0.0024, Test loss: 0.0027\n"
     ]
    },
    {
     "name": "stderr",
     "output_type": "stream",
     "text": [
      "Epoch [381/500]: 100%|███████████████████████████████████████████████████| 22/22 [00:00<00:00, 82.20it/s, loss=0.00314]\n"
     ]
    },
    {
     "name": "stdout",
     "output_type": "stream",
     "text": [
      "Epoch [381/500]: Train loss: 0.0024, Test loss: 0.0023\n"
     ]
    },
    {
     "name": "stderr",
     "output_type": "stream",
     "text": [
      "Epoch [382/500]: 100%|██████████████████████████████████████████████████| 22/22 [00:00<00:00, 116.40it/s, loss=0.00148]\n"
     ]
    },
    {
     "name": "stdout",
     "output_type": "stream",
     "text": [
      "Epoch [382/500]: Train loss: 0.0023, Test loss: 0.0022\n",
      "Saving model with loss 0.002...\n"
     ]
    },
    {
     "name": "stderr",
     "output_type": "stream",
     "text": [
      "Epoch [383/500]: 100%|███████████████████████████████████████████████████| 22/22 [00:00<00:00, 109.48it/s, loss=0.0033]\n"
     ]
    },
    {
     "name": "stdout",
     "output_type": "stream",
     "text": [
      "Epoch [383/500]: Train loss: 0.0024, Test loss: 0.0023\n"
     ]
    },
    {
     "name": "stderr",
     "output_type": "stream",
     "text": [
      "Epoch [384/500]: 100%|██████████████████████████████████████████████████| 22/22 [00:00<00:00, 114.86it/s, loss=0.00075]\n"
     ]
    },
    {
     "name": "stdout",
     "output_type": "stream",
     "text": [
      "Epoch [384/500]: Train loss: 0.0023, Test loss: 0.0023\n"
     ]
    },
    {
     "name": "stderr",
     "output_type": "stream",
     "text": [
      "Epoch [385/500]: 100%|██████████████████████████████████████████████████| 22/22 [00:00<00:00, 110.76it/s, loss=0.00698]\n"
     ]
    },
    {
     "name": "stdout",
     "output_type": "stream",
     "text": [
      "Epoch [385/500]: Train loss: 0.0025, Test loss: 0.0023\n"
     ]
    },
    {
     "name": "stderr",
     "output_type": "stream",
     "text": [
      "Epoch [386/500]: 100%|███████████████████████████████████████████████████| 22/22 [00:00<00:00, 84.71it/s, loss=0.00116]\n"
     ]
    },
    {
     "name": "stdout",
     "output_type": "stream",
     "text": [
      "Epoch [386/500]: Train loss: 0.0023, Test loss: 0.0027\n"
     ]
    },
    {
     "name": "stderr",
     "output_type": "stream",
     "text": [
      "Epoch [387/500]: 100%|██████████████████████████████████████████████████| 22/22 [00:00<00:00, 117.01it/s, loss=0.00184]\n"
     ]
    },
    {
     "name": "stdout",
     "output_type": "stream",
     "text": [
      "Epoch [387/500]: Train loss: 0.0023, Test loss: 0.0023\n"
     ]
    },
    {
     "name": "stderr",
     "output_type": "stream",
     "text": [
      "Epoch [388/500]: 100%|█████████████████████████████████████████████████| 22/22 [00:00<00:00, 111.10it/s, loss=0.000973]\n"
     ]
    },
    {
     "name": "stdout",
     "output_type": "stream",
     "text": [
      "Epoch [388/500]: Train loss: 0.0023, Test loss: 0.0025\n"
     ]
    },
    {
     "name": "stderr",
     "output_type": "stream",
     "text": [
      "Epoch [389/500]: 100%|█████████████████████████████████████████████████| 22/22 [00:00<00:00, 116.33it/s, loss=0.000934]\n"
     ]
    },
    {
     "name": "stdout",
     "output_type": "stream",
     "text": [
      "Epoch [389/500]: Train loss: 0.0023, Test loss: 0.0023\n"
     ]
    },
    {
     "name": "stderr",
     "output_type": "stream",
     "text": [
      "Epoch [390/500]: 100%|█████████████████████████████████████████████████| 22/22 [00:00<00:00, 101.53it/s, loss=0.000727]\n"
     ]
    },
    {
     "name": "stdout",
     "output_type": "stream",
     "text": [
      "Epoch [390/500]: Train loss: 0.0023, Test loss: 0.0023\n"
     ]
    },
    {
     "name": "stderr",
     "output_type": "stream",
     "text": [
      "Epoch [391/500]: 100%|███████████████████████████████████████████████████| 22/22 [00:00<00:00, 88.43it/s, loss=0.00107]\n"
     ]
    },
    {
     "name": "stdout",
     "output_type": "stream",
     "text": [
      "Epoch [391/500]: Train loss: 0.0023, Test loss: 0.0023\n"
     ]
    },
    {
     "name": "stderr",
     "output_type": "stream",
     "text": [
      "Epoch [392/500]: 100%|█████████████████████████████████████████████████| 22/22 [00:00<00:00, 104.39it/s, loss=0.000642]\n"
     ]
    },
    {
     "name": "stdout",
     "output_type": "stream",
     "text": [
      "Epoch [392/500]: Train loss: 0.0022, Test loss: 0.0025\n"
     ]
    },
    {
     "name": "stderr",
     "output_type": "stream",
     "text": [
      "Epoch [393/500]: 100%|███████████████████████████████████████████████████| 22/22 [00:00<00:00, 122.35it/s, loss=0.0006]\n"
     ]
    },
    {
     "name": "stdout",
     "output_type": "stream",
     "text": [
      "Epoch [393/500]: Train loss: 0.0022, Test loss: 0.0023\n"
     ]
    },
    {
     "name": "stderr",
     "output_type": "stream",
     "text": [
      "Epoch [394/500]: 100%|█████████████████████████████████████████████████| 22/22 [00:00<00:00, 107.84it/s, loss=0.000811]\n"
     ]
    },
    {
     "name": "stdout",
     "output_type": "stream",
     "text": [
      "Epoch [394/500]: Train loss: 0.0022, Test loss: 0.0023\n"
     ]
    },
    {
     "name": "stderr",
     "output_type": "stream",
     "text": [
      "Epoch [395/500]: 100%|██████████████████████████████████████████████████| 22/22 [00:00<00:00, 111.43it/s, loss=0.00297]\n"
     ]
    },
    {
     "name": "stdout",
     "output_type": "stream",
     "text": [
      "Epoch [395/500]: Train loss: 0.0023, Test loss: 0.0023\n"
     ]
    },
    {
     "name": "stderr",
     "output_type": "stream",
     "text": [
      "Epoch [396/500]: 100%|█████████████████████████████████████████████████| 22/22 [00:00<00:00, 103.79it/s, loss=0.000867]\n"
     ]
    },
    {
     "name": "stdout",
     "output_type": "stream",
     "text": [
      "Epoch [396/500]: Train loss: 0.0023, Test loss: 0.0024\n"
     ]
    },
    {
     "name": "stderr",
     "output_type": "stream",
     "text": [
      "Epoch [397/500]: 100%|███████████████████████████████████████████████████| 22/22 [00:00<00:00, 99.01it/s, loss=0.00228]\n"
     ]
    },
    {
     "name": "stdout",
     "output_type": "stream",
     "text": [
      "Epoch [397/500]: Train loss: 0.0023, Test loss: 0.0025\n"
     ]
    },
    {
     "name": "stderr",
     "output_type": "stream",
     "text": [
      "Epoch [398/500]: 100%|██████████████████████████████████████████████████| 22/22 [00:00<00:00, 107.55it/s, loss=0.00211]\n"
     ]
    },
    {
     "name": "stdout",
     "output_type": "stream",
     "text": [
      "Epoch [398/500]: Train loss: 0.0023, Test loss: 0.0027\n"
     ]
    },
    {
     "name": "stderr",
     "output_type": "stream",
     "text": [
      "Epoch [399/500]: 100%|██████████████████████████████████████████████████| 22/22 [00:00<00:00, 109.05it/s, loss=0.00357]\n"
     ]
    },
    {
     "name": "stdout",
     "output_type": "stream",
     "text": [
      "Epoch [399/500]: Train loss: 0.0023, Test loss: 0.0023\n"
     ]
    },
    {
     "name": "stderr",
     "output_type": "stream",
     "text": [
      "Epoch [400/500]: 100%|██████████████████████████████████████████████████| 22/22 [00:00<00:00, 119.68it/s, loss=0.00589]\n"
     ]
    },
    {
     "name": "stdout",
     "output_type": "stream",
     "text": [
      "Epoch [400/500]: Train loss: 0.0024, Test loss: 0.0023\n"
     ]
    },
    {
     "name": "stderr",
     "output_type": "stream",
     "text": [
      "Epoch [401/500]: 100%|██████████████████████████████████████████████████| 22/22 [00:00<00:00, 116.33it/s, loss=0.00571]\n"
     ]
    },
    {
     "name": "stdout",
     "output_type": "stream",
     "text": [
      "Epoch [401/500]: Train loss: 0.0024, Test loss: 0.0024\n"
     ]
    },
    {
     "name": "stderr",
     "output_type": "stream",
     "text": [
      "Epoch [402/500]: 100%|██████████████████████████████████████████████████| 22/22 [00:00<00:00, 80.65it/s, loss=0.000907]\n"
     ]
    },
    {
     "name": "stdout",
     "output_type": "stream",
     "text": [
      "Epoch [402/500]: Train loss: 0.0022, Test loss: 0.0023\n"
     ]
    },
    {
     "name": "stderr",
     "output_type": "stream",
     "text": [
      "Epoch [403/500]: 100%|██████████████████████████████████████████████████| 22/22 [00:00<00:00, 111.16it/s, loss=0.00578]\n"
     ]
    },
    {
     "name": "stdout",
     "output_type": "stream",
     "text": [
      "Epoch [403/500]: Train loss: 0.0024, Test loss: 0.0024\n"
     ]
    },
    {
     "name": "stderr",
     "output_type": "stream",
     "text": [
      "Epoch [404/500]: 100%|█████████████████████████████████████████████████| 22/22 [00:00<00:00, 108.69it/s, loss=0.000934]\n"
     ]
    },
    {
     "name": "stdout",
     "output_type": "stream",
     "text": [
      "Epoch [404/500]: Train loss: 0.0022, Test loss: 0.0023\n"
     ]
    },
    {
     "name": "stderr",
     "output_type": "stream",
     "text": [
      "Epoch [405/500]: 100%|██████████████████████████████████████████████████| 22/22 [00:00<00:00, 100.10it/s, loss=0.00173]\n"
     ]
    },
    {
     "name": "stdout",
     "output_type": "stream",
     "text": [
      "Epoch [405/500]: Train loss: 0.0023, Test loss: 0.0023\n"
     ]
    },
    {
     "name": "stderr",
     "output_type": "stream",
     "text": [
      "Epoch [406/500]: 100%|██████████████████████████████████████████████████| 22/22 [00:00<00:00, 120.32it/s, loss=0.00401]\n"
     ]
    },
    {
     "name": "stdout",
     "output_type": "stream",
     "text": [
      "Epoch [406/500]: Train loss: 0.0023, Test loss: 0.0023\n"
     ]
    },
    {
     "name": "stderr",
     "output_type": "stream",
     "text": [
      "Epoch [407/500]: 100%|███████████████████████████████████████████████████| 22/22 [00:00<00:00, 81.97it/s, loss=0.00161]\n"
     ]
    },
    {
     "name": "stdout",
     "output_type": "stream",
     "text": [
      "Epoch [407/500]: Train loss: 0.0022, Test loss: 0.0024\n"
     ]
    },
    {
     "name": "stderr",
     "output_type": "stream",
     "text": [
      "Epoch [408/500]: 100%|██████████████████████████████████████████████████| 22/22 [00:00<00:00, 110.43it/s, loss=0.00117]\n"
     ]
    },
    {
     "name": "stdout",
     "output_type": "stream",
     "text": [
      "Epoch [408/500]: Train loss: 0.0022, Test loss: 0.0023\n"
     ]
    },
    {
     "name": "stderr",
     "output_type": "stream",
     "text": [
      "Epoch [409/500]: 100%|██████████████████████████████████████████████████| 22/22 [00:00<00:00, 119.84it/s, loss=0.00144]"
     ]
    },
    {
     "name": "stdout",
     "output_type": "stream",
     "text": [
      "Epoch [409/500]: Train loss: 0.0022, Test loss: 0.0023"
     ]
    },
    {
     "name": "stderr",
     "output_type": "stream",
     "text": [
      "\n"
     ]
    },
    {
     "name": "stdout",
     "output_type": "stream",
     "text": [
      "\n"
     ]
    },
    {
     "name": "stderr",
     "output_type": "stream",
     "text": [
      "Epoch [410/500]: 100%|██████████████████████████████████████████████████| 22/22 [00:00<00:00, 123.17it/s, loss=0.00394]\n"
     ]
    },
    {
     "name": "stdout",
     "output_type": "stream",
     "text": [
      "Epoch [410/500]: Train loss: 0.0023, Test loss: 0.0024\n"
     ]
    },
    {
     "name": "stderr",
     "output_type": "stream",
     "text": [
      "Epoch [411/500]: 100%|██████████████████████████████████████████████████| 22/22 [00:00<00:00, 115.83it/s, loss=0.00445]\n"
     ]
    },
    {
     "name": "stdout",
     "output_type": "stream",
     "text": [
      "Epoch [411/500]: Train loss: 0.0023, Test loss: 0.0025\n"
     ]
    },
    {
     "name": "stderr",
     "output_type": "stream",
     "text": [
      "Epoch [412/500]: 100%|███████████████████████████████████████████████████| 22/22 [00:00<00:00, 87.57it/s, loss=0.00326]\n"
     ]
    },
    {
     "name": "stdout",
     "output_type": "stream",
     "text": [
      "Epoch [412/500]: Train loss: 0.0023, Test loss: 0.0025\n"
     ]
    },
    {
     "name": "stderr",
     "output_type": "stream",
     "text": [
      "Epoch [413/500]: 100%|██████████████████████████████████████████████████| 22/22 [00:00<00:00, 118.71it/s, loss=0.00121]\n"
     ]
    },
    {
     "name": "stdout",
     "output_type": "stream",
     "text": [
      "Epoch [413/500]: Train loss: 0.0022, Test loss: 0.0026\n"
     ]
    },
    {
     "name": "stderr",
     "output_type": "stream",
     "text": [
      "Epoch [414/500]: 100%|██████████████████████████████████████████████████| 22/22 [00:00<00:00, 113.92it/s, loss=0.00189]\n"
     ]
    },
    {
     "name": "stdout",
     "output_type": "stream",
     "text": [
      "Epoch [414/500]: Train loss: 0.0022, Test loss: 0.0022\n",
      "Saving model with loss 0.002...\n"
     ]
    },
    {
     "name": "stderr",
     "output_type": "stream",
     "text": [
      "Epoch [415/500]: 100%|██████████████████████████████████████████████████| 22/22 [00:00<00:00, 122.22it/s, loss=0.00168]\n"
     ]
    },
    {
     "name": "stdout",
     "output_type": "stream",
     "text": [
      "Epoch [415/500]: Train loss: 0.0022, Test loss: 0.0022\n"
     ]
    },
    {
     "name": "stderr",
     "output_type": "stream",
     "text": [
      "Epoch [416/500]: 100%|██████████████████████████████████████████████████| 22/22 [00:00<00:00, 105.68it/s, loss=0.00174]\n"
     ]
    },
    {
     "name": "stdout",
     "output_type": "stream",
     "text": [
      "Epoch [416/500]: Train loss: 0.0022, Test loss: 0.0030\n"
     ]
    },
    {
     "name": "stderr",
     "output_type": "stream",
     "text": [
      "Epoch [417/500]: 100%|███████████████████████████████████████████████████| 22/22 [00:00<00:00, 97.95it/s, loss=0.00071]\n"
     ]
    },
    {
     "name": "stdout",
     "output_type": "stream",
     "text": [
      "Epoch [417/500]: Train loss: 0.0022, Test loss: 0.0024\n"
     ]
    },
    {
     "name": "stderr",
     "output_type": "stream",
     "text": [
      "Epoch [418/500]: 100%|██████████████████████████████████████████████████| 22/22 [00:00<00:00, 106.07it/s, loss=0.00133]\n"
     ]
    },
    {
     "name": "stdout",
     "output_type": "stream",
     "text": [
      "Epoch [418/500]: Train loss: 0.0022, Test loss: 0.0022\n",
      "Saving model with loss 0.002...\n"
     ]
    },
    {
     "name": "stderr",
     "output_type": "stream",
     "text": [
      "Epoch [419/500]: 100%|█████████████████████████████████████████████████| 22/22 [00:00<00:00, 120.17it/s, loss=0.000871]\n"
     ]
    },
    {
     "name": "stdout",
     "output_type": "stream",
     "text": [
      "Epoch [419/500]: Train loss: 0.0022, Test loss: 0.0022\n"
     ]
    },
    {
     "name": "stderr",
     "output_type": "stream",
     "text": [
      "Epoch [420/500]: 100%|██████████████████████████████████████████████████| 22/22 [00:00<00:00, 116.27it/s, loss=0.00208]\n"
     ]
    },
    {
     "name": "stdout",
     "output_type": "stream",
     "text": [
      "Epoch [420/500]: Train loss: 0.0022, Test loss: 0.0024\n"
     ]
    },
    {
     "name": "stderr",
     "output_type": "stream",
     "text": [
      "Epoch [421/500]: 100%|██████████████████████████████████████████████████| 22/22 [00:00<00:00, 115.87it/s, loss=0.00531]\n"
     ]
    },
    {
     "name": "stdout",
     "output_type": "stream",
     "text": [
      "Epoch [421/500]: Train loss: 0.0024, Test loss: 0.0024\n"
     ]
    },
    {
     "name": "stderr",
     "output_type": "stream",
     "text": [
      "Epoch [422/500]: 100%|██████████████████████████████████████████████████| 22/22 [00:00<00:00, 118.07it/s, loss=0.00317]\n"
     ]
    },
    {
     "name": "stdout",
     "output_type": "stream",
     "text": [
      "Epoch [422/500]: Train loss: 0.0023, Test loss: 0.0025\n"
     ]
    },
    {
     "name": "stderr",
     "output_type": "stream",
     "text": [
      "Epoch [423/500]: 100%|███████████████████████████████████████████████████| 22/22 [00:00<00:00, 89.70it/s, loss=0.00155]\n"
     ]
    },
    {
     "name": "stdout",
     "output_type": "stream",
     "text": [
      "Epoch [423/500]: Train loss: 0.0022, Test loss: 0.0024\n"
     ]
    },
    {
     "name": "stderr",
     "output_type": "stream",
     "text": [
      "Epoch [424/500]: 100%|██████████████████████████████████████████████████| 22/22 [00:00<00:00, 114.35it/s, loss=0.00142]\n"
     ]
    },
    {
     "name": "stdout",
     "output_type": "stream",
     "text": [
      "Epoch [424/500]: Train loss: 0.0022, Test loss: 0.0023\n"
     ]
    },
    {
     "name": "stderr",
     "output_type": "stream",
     "text": [
      "Epoch [425/500]: 100%|██████████████████████████████████████████████████| 22/22 [00:00<00:00, 115.27it/s, loss=0.00107]\n"
     ]
    },
    {
     "name": "stdout",
     "output_type": "stream",
     "text": [
      "Epoch [425/500]: Train loss: 0.0022, Test loss: 0.0025\n"
     ]
    },
    {
     "name": "stderr",
     "output_type": "stream",
     "text": [
      "Epoch [426/500]: 100%|██████████████████████████████████████████████████| 22/22 [00:00<00:00, 118.16it/s, loss=0.00237]\n"
     ]
    },
    {
     "name": "stdout",
     "output_type": "stream",
     "text": [
      "Epoch [426/500]: Train loss: 0.0022, Test loss: 0.0022\n"
     ]
    },
    {
     "name": "stderr",
     "output_type": "stream",
     "text": [
      "Epoch [427/500]: 100%|██████████████████████████████████████████████████| 22/22 [00:00<00:00, 115.89it/s, loss=0.00162]\n"
     ]
    },
    {
     "name": "stdout",
     "output_type": "stream",
     "text": [
      "Epoch [427/500]: Train loss: 0.0022, Test loss: 0.0022\n",
      "Saving model with loss 0.002...\n"
     ]
    },
    {
     "name": "stderr",
     "output_type": "stream",
     "text": [
      "Epoch [428/500]: 100%|███████████████████████████████████████████████████| 22/22 [00:00<00:00, 88.05it/s, loss=0.00273]\n"
     ]
    },
    {
     "name": "stdout",
     "output_type": "stream",
     "text": [
      "Epoch [428/500]: Train loss: 0.0022, Test loss: 0.0022\n"
     ]
    },
    {
     "name": "stderr",
     "output_type": "stream",
     "text": [
      "Epoch [429/500]: 100%|██████████████████████████████████████████████████| 22/22 [00:00<00:00, 111.58it/s, loss=0.00127]\n"
     ]
    },
    {
     "name": "stdout",
     "output_type": "stream",
     "text": [
      "Epoch [429/500]: Train loss: 0.0022, Test loss: 0.0025\n"
     ]
    },
    {
     "name": "stderr",
     "output_type": "stream",
     "text": [
      "Epoch [430/500]: 100%|███████████████████████████████████████████████████| 22/22 [00:00<00:00, 112.90it/s, loss=0.0012]\n"
     ]
    },
    {
     "name": "stdout",
     "output_type": "stream",
     "text": [
      "Epoch [430/500]: Train loss: 0.0022, Test loss: 0.0028\n"
     ]
    },
    {
     "name": "stderr",
     "output_type": "stream",
     "text": [
      "Epoch [431/500]: 100%|██████████████████████████████████████████████████| 22/22 [00:00<00:00, 116.36it/s, loss=0.00868]\n"
     ]
    },
    {
     "name": "stdout",
     "output_type": "stream",
     "text": [
      "Epoch [431/500]: Train loss: 0.0024, Test loss: 0.0023\n"
     ]
    },
    {
     "name": "stderr",
     "output_type": "stream",
     "text": [
      "Epoch [432/500]: 100%|██████████████████████████████████████████████████| 22/22 [00:00<00:00, 119.76it/s, loss=0.00182]"
     ]
    },
    {
     "name": "stdout",
     "output_type": "stream",
     "text": [
      "Epoch [432/500]: Train loss: 0.0022, Test loss: 0.0023\n"
     ]
    },
    {
     "name": "stderr",
     "output_type": "stream",
     "text": [
      "\n",
      "Epoch [433/500]: 100%|███████████████████████████████████████████████████| 22/22 [00:00<00:00, 112.87it/s, loss=0.0017]\n"
     ]
    },
    {
     "name": "stdout",
     "output_type": "stream",
     "text": [
      "Epoch [433/500]: Train loss: 0.0022, Test loss: 0.0022\n"
     ]
    },
    {
     "name": "stderr",
     "output_type": "stream",
     "text": [
      "Epoch [434/500]: 100%|███████████████████████████████████████████████████| 22/22 [00:00<00:00, 92.22it/s, loss=0.00111]\n"
     ]
    },
    {
     "name": "stdout",
     "output_type": "stream",
     "text": [
      "Epoch [434/500]: Train loss: 0.0022, Test loss: 0.0022\n"
     ]
    },
    {
     "name": "stderr",
     "output_type": "stream",
     "text": [
      "Epoch [435/500]: 100%|██████████████████████████████████████████████████| 22/22 [00:00<00:00, 121.50it/s, loss=0.00648]\n"
     ]
    },
    {
     "name": "stdout",
     "output_type": "stream",
     "text": [
      "Epoch [435/500]: Train loss: 0.0024, Test loss: 0.0025\n"
     ]
    },
    {
     "name": "stderr",
     "output_type": "stream",
     "text": [
      "Epoch [436/500]: 100%|██████████████████████████████████████████████████| 22/22 [00:00<00:00, 121.56it/s, loss=0.00309]\n"
     ]
    },
    {
     "name": "stdout",
     "output_type": "stream",
     "text": [
      "Epoch [436/500]: Train loss: 0.0022, Test loss: 0.0023\n"
     ]
    },
    {
     "name": "stderr",
     "output_type": "stream",
     "text": [
      "Epoch [437/500]: 100%|██████████████████████████████████████████████████| 22/22 [00:00<00:00, 111.46it/s, loss=0.00439]\n"
     ]
    },
    {
     "name": "stdout",
     "output_type": "stream",
     "text": [
      "Epoch [437/500]: Train loss: 0.0023, Test loss: 0.0022\n"
     ]
    },
    {
     "name": "stderr",
     "output_type": "stream",
     "text": [
      "Epoch [438/500]: 100%|██████████████████████████████████████████████████| 22/22 [00:00<00:00, 111.35it/s, loss=0.00349]\n"
     ]
    },
    {
     "name": "stdout",
     "output_type": "stream",
     "text": [
      "Epoch [438/500]: Train loss: 0.0022, Test loss: 0.0025\n"
     ]
    },
    {
     "name": "stderr",
     "output_type": "stream",
     "text": [
      "Epoch [439/500]: 100%|███████████████████████████████████████████████████| 22/22 [00:00<00:00, 85.95it/s, loss=0.00137]\n"
     ]
    },
    {
     "name": "stdout",
     "output_type": "stream",
     "text": [
      "Epoch [439/500]: Train loss: 0.0022, Test loss: 0.0024\n"
     ]
    },
    {
     "name": "stderr",
     "output_type": "stream",
     "text": [
      "Epoch [440/500]: 100%|██████████████████████████████████████████████████| 22/22 [00:00<00:00, 114.28it/s, loss=0.00383]\n"
     ]
    },
    {
     "name": "stdout",
     "output_type": "stream",
     "text": [
      "Epoch [440/500]: Train loss: 0.0023, Test loss: 0.0023\n"
     ]
    },
    {
     "name": "stderr",
     "output_type": "stream",
     "text": [
      "Epoch [441/500]: 100%|██████████████████████████████████████████████████| 22/22 [00:00<00:00, 110.82it/s, loss=0.00328]\n"
     ]
    },
    {
     "name": "stdout",
     "output_type": "stream",
     "text": [
      "Epoch [441/500]: Train loss: 0.0022, Test loss: 0.0022\n"
     ]
    },
    {
     "name": "stderr",
     "output_type": "stream",
     "text": [
      "Epoch [442/500]: 100%|██████████████████████████████████████████████████| 22/22 [00:00<00:00, 119.33it/s, loss=0.00257]\n"
     ]
    },
    {
     "name": "stdout",
     "output_type": "stream",
     "text": [
      "Epoch [442/500]: Train loss: 0.0022, Test loss: 0.0024\n"
     ]
    },
    {
     "name": "stderr",
     "output_type": "stream",
     "text": [
      "Epoch [443/500]: 100%|███████████████████████████████████████████████████| 22/22 [00:00<00:00, 115.20it/s, loss=0.0014]\n"
     ]
    },
    {
     "name": "stdout",
     "output_type": "stream",
     "text": [
      "Epoch [443/500]: Train loss: 0.0022, Test loss: 0.0024\n"
     ]
    },
    {
     "name": "stderr",
     "output_type": "stream",
     "text": [
      "Epoch [444/500]: 100%|███████████████████████████████████████████████████| 22/22 [00:00<00:00, 79.05it/s, loss=0.00565]\n"
     ]
    },
    {
     "name": "stdout",
     "output_type": "stream",
     "text": [
      "Epoch [444/500]: Train loss: 0.0023, Test loss: 0.0022\n"
     ]
    },
    {
     "name": "stderr",
     "output_type": "stream",
     "text": [
      "Epoch [445/500]: 100%|█████████████████████████████████████████████████| 22/22 [00:00<00:00, 122.15it/s, loss=0.000971]\n"
     ]
    },
    {
     "name": "stdout",
     "output_type": "stream",
     "text": [
      "Epoch [445/500]: Train loss: 0.0022, Test loss: 0.0023\n"
     ]
    },
    {
     "name": "stderr",
     "output_type": "stream",
     "text": [
      "Epoch [446/500]: 100%|██████████████████████████████████████████████████| 22/22 [00:00<00:00, 123.58it/s, loss=0.00421]\n"
     ]
    },
    {
     "name": "stdout",
     "output_type": "stream",
     "text": [
      "Epoch [446/500]: Train loss: 0.0023, Test loss: 0.0022\n"
     ]
    },
    {
     "name": "stderr",
     "output_type": "stream",
     "text": [
      "Epoch [447/500]: 100%|██████████████████████████████████████████████████| 22/22 [00:00<00:00, 120.63it/s, loss=0.00129]\n"
     ]
    },
    {
     "name": "stdout",
     "output_type": "stream",
     "text": [
      "Epoch [447/500]: Train loss: 0.0022, Test loss: 0.0024\n"
     ]
    },
    {
     "name": "stderr",
     "output_type": "stream",
     "text": [
      "Epoch [448/500]: 100%|██████████████████████████████████████████████████| 22/22 [00:00<00:00, 120.61it/s, loss=0.00342]\n"
     ]
    },
    {
     "name": "stdout",
     "output_type": "stream",
     "text": [
      "Epoch [448/500]: Train loss: 0.0022, Test loss: 0.0022\n"
     ]
    },
    {
     "name": "stderr",
     "output_type": "stream",
     "text": [
      "Epoch [449/500]: 100%|███████████████████████████████████████████████████| 22/22 [00:00<00:00, 110.12it/s, loss=0.0032]\n"
     ]
    },
    {
     "name": "stdout",
     "output_type": "stream",
     "text": [
      "Epoch [449/500]: Train loss: 0.0022, Test loss: 0.0024\n"
     ]
    },
    {
     "name": "stderr",
     "output_type": "stream",
     "text": [
      "Epoch [450/500]: 100%|███████████████████████████████████████████████████| 22/22 [00:00<00:00, 97.62it/s, loss=0.00134]\n"
     ]
    },
    {
     "name": "stdout",
     "output_type": "stream",
     "text": [
      "Epoch [450/500]: Train loss: 0.0022, Test loss: 0.0022\n"
     ]
    },
    {
     "name": "stderr",
     "output_type": "stream",
     "text": [
      "Epoch [451/500]: 100%|█████████████████████████████████████████████████| 22/22 [00:00<00:00, 125.05it/s, loss=0.000819]\n"
     ]
    },
    {
     "name": "stdout",
     "output_type": "stream",
     "text": [
      "Epoch [451/500]: Train loss: 0.0021, Test loss: 0.0022\n"
     ]
    },
    {
     "name": "stderr",
     "output_type": "stream",
     "text": [
      "Epoch [452/500]: 100%|█████████████████████████████████████████████████| 22/22 [00:00<00:00, 115.07it/s, loss=0.000806]\n"
     ]
    },
    {
     "name": "stdout",
     "output_type": "stream",
     "text": [
      "Epoch [452/500]: Train loss: 0.0021, Test loss: 0.0027\n"
     ]
    },
    {
     "name": "stderr",
     "output_type": "stream",
     "text": [
      "Epoch [453/500]: 100%|██████████████████████████████████████████████████| 22/22 [00:00<00:00, 117.67it/s, loss=0.00126]\n"
     ]
    },
    {
     "name": "stdout",
     "output_type": "stream",
     "text": [
      "Epoch [453/500]: Train loss: 0.0021, Test loss: 0.0022\n"
     ]
    },
    {
     "name": "stderr",
     "output_type": "stream",
     "text": [
      "Epoch [454/500]: 100%|██████████████████████████████████████████████████| 22/22 [00:00<00:00, 109.52it/s, loss=0.00225]\n"
     ]
    },
    {
     "name": "stdout",
     "output_type": "stream",
     "text": [
      "Epoch [454/500]: Train loss: 0.0022, Test loss: 0.0021\n",
      "Saving model with loss 0.002...\n"
     ]
    },
    {
     "name": "stderr",
     "output_type": "stream",
     "text": [
      "Epoch [455/500]: 100%|███████████████████████████████████████████████████| 22/22 [00:00<00:00, 81.50it/s, loss=0.00332]\n"
     ]
    },
    {
     "name": "stdout",
     "output_type": "stream",
     "text": [
      "Epoch [455/500]: Train loss: 0.0022, Test loss: 0.0022\n"
     ]
    },
    {
     "name": "stderr",
     "output_type": "stream",
     "text": [
      "Epoch [456/500]: 100%|██████████████████████████████████████████████████| 22/22 [00:00<00:00, 113.71it/s, loss=0.00179]\n"
     ]
    },
    {
     "name": "stdout",
     "output_type": "stream",
     "text": [
      "Epoch [456/500]: Train loss: 0.0022, Test loss: 0.0023\n"
     ]
    },
    {
     "name": "stderr",
     "output_type": "stream",
     "text": [
      "Epoch [457/500]: 100%|█████████████████████████████████████████████████| 22/22 [00:00<00:00, 106.35it/s, loss=0.000696]\n"
     ]
    },
    {
     "name": "stdout",
     "output_type": "stream",
     "text": [
      "Epoch [457/500]: Train loss: 0.0021, Test loss: 0.0026\n"
     ]
    },
    {
     "name": "stderr",
     "output_type": "stream",
     "text": [
      "Epoch [458/500]: 100%|███████████████████████████████████████████████████| 22/22 [00:00<00:00, 107.45it/s, loss=0.0036]\n"
     ]
    },
    {
     "name": "stdout",
     "output_type": "stream",
     "text": [
      "Epoch [458/500]: Train loss: 0.0022, Test loss: 0.0021\n"
     ]
    },
    {
     "name": "stderr",
     "output_type": "stream",
     "text": [
      "Epoch [459/500]: 100%|██████████████████████████████████████████████████| 22/22 [00:00<00:00, 110.47it/s, loss=0.00195]\n"
     ]
    },
    {
     "name": "stdout",
     "output_type": "stream",
     "text": [
      "Epoch [459/500]: Train loss: 0.0022, Test loss: 0.0022\n"
     ]
    },
    {
     "name": "stderr",
     "output_type": "stream",
     "text": [
      "Epoch [460/500]: 100%|███████████████████████████████████████████████████| 22/22 [00:00<00:00, 84.79it/s, loss=0.00323]\n"
     ]
    },
    {
     "name": "stdout",
     "output_type": "stream",
     "text": [
      "Epoch [460/500]: Train loss: 0.0022, Test loss: 0.0023\n"
     ]
    },
    {
     "name": "stderr",
     "output_type": "stream",
     "text": [
      "Epoch [461/500]: 100%|██████████████████████████████████████████████████| 22/22 [00:00<00:00, 110.46it/s, loss=0.00133]\n"
     ]
    },
    {
     "name": "stdout",
     "output_type": "stream",
     "text": [
      "Epoch [461/500]: Train loss: 0.0021, Test loss: 0.0022\n"
     ]
    },
    {
     "name": "stderr",
     "output_type": "stream",
     "text": [
      "Epoch [462/500]: 100%|██████████████████████████████████████████████████| 22/22 [00:00<00:00, 116.61it/s, loss=0.00106]\n"
     ]
    },
    {
     "name": "stdout",
     "output_type": "stream",
     "text": [
      "Epoch [462/500]: Train loss: 0.0021, Test loss: 0.0021\n",
      "Saving model with loss 0.002...\n"
     ]
    },
    {
     "name": "stderr",
     "output_type": "stream",
     "text": [
      "Epoch [463/500]: 100%|██████████████████████████████████████████████████| 22/22 [00:00<00:00, 118.09it/s, loss=0.00137]\n"
     ]
    },
    {
     "name": "stdout",
     "output_type": "stream",
     "text": [
      "Epoch [463/500]: Train loss: 0.0021, Test loss: 0.0022\n"
     ]
    },
    {
     "name": "stderr",
     "output_type": "stream",
     "text": [
      "Epoch [464/500]: 100%|██████████████████████████████████████████████████| 22/22 [00:00<00:00, 114.20it/s, loss=0.00477]\n"
     ]
    },
    {
     "name": "stdout",
     "output_type": "stream",
     "text": [
      "Epoch [464/500]: Train loss: 0.0022, Test loss: 0.0024\n"
     ]
    },
    {
     "name": "stderr",
     "output_type": "stream",
     "text": [
      "Epoch [465/500]: 100%|██████████████████████████████████████████████████| 22/22 [00:00<00:00, 100.04it/s, loss=0.00118]\n"
     ]
    },
    {
     "name": "stdout",
     "output_type": "stream",
     "text": [
      "Epoch [465/500]: Train loss: 0.0021, Test loss: 0.0022\n"
     ]
    },
    {
     "name": "stderr",
     "output_type": "stream",
     "text": [
      "Epoch [466/500]: 100%|██████████████████████████████████████████████████| 22/22 [00:00<00:00, 97.26it/s, loss=0.000948]\n"
     ]
    },
    {
     "name": "stdout",
     "output_type": "stream",
     "text": [
      "Epoch [466/500]: Train loss: 0.0021, Test loss: 0.0022\n"
     ]
    },
    {
     "name": "stderr",
     "output_type": "stream",
     "text": [
      "Epoch [467/500]: 100%|██████████████████████████████████████████████████| 22/22 [00:00<00:00, 110.43it/s, loss=0.00106]\n"
     ]
    },
    {
     "name": "stdout",
     "output_type": "stream",
     "text": [
      "Epoch [467/500]: Train loss: 0.0021, Test loss: 0.0024\n"
     ]
    },
    {
     "name": "stderr",
     "output_type": "stream",
     "text": [
      "Epoch [468/500]: 100%|██████████████████████████████████████████████████| 22/22 [00:00<00:00, 103.26it/s, loss=0.00362]\n"
     ]
    },
    {
     "name": "stdout",
     "output_type": "stream",
     "text": [
      "Epoch [468/500]: Train loss: 0.0022, Test loss: 0.0022\n"
     ]
    },
    {
     "name": "stderr",
     "output_type": "stream",
     "text": [
      "Epoch [469/500]: 100%|██████████████████████████████████████████████████| 22/22 [00:00<00:00, 112.77it/s, loss=0.00317]\n"
     ]
    },
    {
     "name": "stdout",
     "output_type": "stream",
     "text": [
      "Epoch [469/500]: Train loss: 0.0022, Test loss: 0.0021\n"
     ]
    },
    {
     "name": "stderr",
     "output_type": "stream",
     "text": [
      "Epoch [470/500]: 100%|███████████████████████████████████████████████████| 22/22 [00:00<00:00, 107.61it/s, loss=0.0011]\n"
     ]
    },
    {
     "name": "stdout",
     "output_type": "stream",
     "text": [
      "Epoch [470/500]: Train loss: 0.0021, Test loss: 0.0022\n"
     ]
    },
    {
     "name": "stderr",
     "output_type": "stream",
     "text": [
      "Epoch [471/500]: 100%|████████████████████████████████████████████████████| 22/22 [00:00<00:00, 94.16it/s, loss=0.0055]\n"
     ]
    },
    {
     "name": "stdout",
     "output_type": "stream",
     "text": [
      "Epoch [471/500]: Train loss: 0.0022, Test loss: 0.0024\n"
     ]
    },
    {
     "name": "stderr",
     "output_type": "stream",
     "text": [
      "Epoch [472/500]: 100%|██████████████████████████████████████████████████| 22/22 [00:00<00:00, 118.48it/s, loss=0.00258]\n"
     ]
    },
    {
     "name": "stdout",
     "output_type": "stream",
     "text": [
      "Epoch [472/500]: Train loss: 0.0021, Test loss: 0.0023\n"
     ]
    },
    {
     "name": "stderr",
     "output_type": "stream",
     "text": [
      "Epoch [473/500]: 100%|██████████████████████████████████████████████████| 22/22 [00:00<00:00, 118.07it/s, loss=0.00166]\n"
     ]
    },
    {
     "name": "stdout",
     "output_type": "stream",
     "text": [
      "Epoch [473/500]: Train loss: 0.0021, Test loss: 0.0022\n"
     ]
    },
    {
     "name": "stderr",
     "output_type": "stream",
     "text": [
      "Epoch [474/500]: 100%|██████████████████████████████████████████████████| 22/22 [00:00<00:00, 121.77it/s, loss=0.00123]\n"
     ]
    },
    {
     "name": "stdout",
     "output_type": "stream",
     "text": [
      "Epoch [474/500]: Train loss: 0.0021, Test loss: 0.0021\n"
     ]
    },
    {
     "name": "stderr",
     "output_type": "stream",
     "text": [
      "Epoch [475/500]: 100%|█████████████████████████████████████████████████| 22/22 [00:00<00:00, 112.70it/s, loss=0.000858]\n"
     ]
    },
    {
     "name": "stdout",
     "output_type": "stream",
     "text": [
      "Epoch [475/500]: Train loss: 0.0021, Test loss: 0.0022\n"
     ]
    },
    {
     "name": "stderr",
     "output_type": "stream",
     "text": [
      "Epoch [476/500]: 100%|███████████████████████████████████████████████████| 22/22 [00:00<00:00, 86.32it/s, loss=0.00106]\n"
     ]
    },
    {
     "name": "stdout",
     "output_type": "stream",
     "text": [
      "Epoch [476/500]: Train loss: 0.0021, Test loss: 0.0021\n"
     ]
    },
    {
     "name": "stderr",
     "output_type": "stream",
     "text": [
      "Epoch [477/500]: 100%|██████████████████████████████████████████████████| 22/22 [00:00<00:00, 120.43it/s, loss=0.00259]\n"
     ]
    },
    {
     "name": "stdout",
     "output_type": "stream",
     "text": [
      "Epoch [477/500]: Train loss: 0.0021, Test loss: 0.0022\n"
     ]
    },
    {
     "name": "stderr",
     "output_type": "stream",
     "text": [
      "Epoch [478/500]: 100%|██████████████████████████████████████████████████| 22/22 [00:00<00:00, 119.76it/s, loss=0.00252]\n"
     ]
    },
    {
     "name": "stdout",
     "output_type": "stream",
     "text": [
      "Epoch [478/500]: Train loss: 0.0021, Test loss: 0.0023\n"
     ]
    },
    {
     "name": "stderr",
     "output_type": "stream",
     "text": [
      "Epoch [479/500]: 100%|█████████████████████████████████████████████████| 22/22 [00:00<00:00, 123.36it/s, loss=0.000703]\n"
     ]
    },
    {
     "name": "stdout",
     "output_type": "stream",
     "text": [
      "Epoch [479/500]: Train loss: 0.0021, Test loss: 0.0022\n"
     ]
    },
    {
     "name": "stderr",
     "output_type": "stream",
     "text": [
      "Epoch [480/500]: 100%|███████████████████████████████████████████████████| 22/22 [00:00<00:00, 119.28it/s, loss=0.0064]\n"
     ]
    },
    {
     "name": "stdout",
     "output_type": "stream",
     "text": [
      "Epoch [480/500]: Train loss: 0.0023, Test loss: 0.0022\n"
     ]
    },
    {
     "name": "stderr",
     "output_type": "stream",
     "text": [
      "Epoch [481/500]: 100%|██████████████████████████████████████████████████| 22/22 [00:00<00:00, 109.32it/s, loss=0.00156]\n"
     ]
    },
    {
     "name": "stdout",
     "output_type": "stream",
     "text": [
      "Epoch [481/500]: Train loss: 0.0021, Test loss: 0.0025\n"
     ]
    },
    {
     "name": "stderr",
     "output_type": "stream",
     "text": [
      "Epoch [482/500]: 100%|██████████████████████████████████████████████████| 22/22 [00:00<00:00, 98.19it/s, loss=0.000997]\n"
     ]
    },
    {
     "name": "stdout",
     "output_type": "stream",
     "text": [
      "Epoch [482/500]: Train loss: 0.0021, Test loss: 0.0021\n",
      "Saving model with loss 0.002...\n"
     ]
    },
    {
     "name": "stderr",
     "output_type": "stream",
     "text": [
      "Epoch [483/500]: 100%|██████████████████████████████████████████████████| 22/22 [00:00<00:00, 119.87it/s, loss=0.00045]\n"
     ]
    },
    {
     "name": "stdout",
     "output_type": "stream",
     "text": [
      "Epoch [483/500]: Train loss: 0.0020, Test loss: 0.0021\n"
     ]
    },
    {
     "name": "stderr",
     "output_type": "stream",
     "text": [
      "Epoch [484/500]: 100%|██████████████████████████████████████████████████| 22/22 [00:00<00:00, 112.66it/s, loss=0.00106]\n"
     ]
    },
    {
     "name": "stdout",
     "output_type": "stream",
     "text": [
      "Epoch [484/500]: Train loss: 0.0020, Test loss: 0.0023\n"
     ]
    },
    {
     "name": "stderr",
     "output_type": "stream",
     "text": [
      "Epoch [485/500]: 100%|██████████████████████████████████████████████████| 22/22 [00:00<00:00, 117.69it/s, loss=0.00135]\n"
     ]
    },
    {
     "name": "stdout",
     "output_type": "stream",
     "text": [
      "Epoch [485/500]: Train loss: 0.0021, Test loss: 0.0027\n"
     ]
    },
    {
     "name": "stderr",
     "output_type": "stream",
     "text": [
      "Epoch [486/500]: 100%|█████████████████████████████████████████████████| 22/22 [00:00<00:00, 118.53it/s, loss=0.000858]\n"
     ]
    },
    {
     "name": "stdout",
     "output_type": "stream",
     "text": [
      "Epoch [486/500]: Train loss: 0.0020, Test loss: 0.0023\n"
     ]
    },
    {
     "name": "stderr",
     "output_type": "stream",
     "text": [
      "Epoch [487/500]: 100%|███████████████████████████████████████████████████| 22/22 [00:00<00:00, 85.33it/s, loss=0.00245]\n"
     ]
    },
    {
     "name": "stdout",
     "output_type": "stream",
     "text": [
      "Epoch [487/500]: Train loss: 0.0021, Test loss: 0.0023\n"
     ]
    },
    {
     "name": "stderr",
     "output_type": "stream",
     "text": [
      "Epoch [488/500]: 100%|██████████████████████████████████████████████████| 22/22 [00:00<00:00, 120.81it/s, loss=0.00225]\n"
     ]
    },
    {
     "name": "stdout",
     "output_type": "stream",
     "text": [
      "Epoch [488/500]: Train loss: 0.0021, Test loss: 0.0022\n"
     ]
    },
    {
     "name": "stderr",
     "output_type": "stream",
     "text": [
      "Epoch [489/500]: 100%|███████████████████████████████████████████████████| 22/22 [00:00<00:00, 117.89it/s, loss=0.0061]\n"
     ]
    },
    {
     "name": "stdout",
     "output_type": "stream",
     "text": [
      "Epoch [489/500]: Train loss: 0.0022, Test loss: 0.0022\n"
     ]
    },
    {
     "name": "stderr",
     "output_type": "stream",
     "text": [
      "Epoch [490/500]: 100%|██████████████████████████████████████████████████| 22/22 [00:00<00:00, 120.73it/s, loss=0.00191]\n"
     ]
    },
    {
     "name": "stdout",
     "output_type": "stream",
     "text": [
      "Epoch [490/500]: Train loss: 0.0021, Test loss: 0.0021\n"
     ]
    },
    {
     "name": "stderr",
     "output_type": "stream",
     "text": [
      "Epoch [491/500]: 100%|██████████████████████████████████████████████████| 22/22 [00:00<00:00, 117.23it/s, loss=0.00209]\n"
     ]
    },
    {
     "name": "stdout",
     "output_type": "stream",
     "text": [
      "Epoch [491/500]: Train loss: 0.0021, Test loss: 0.0022\n"
     ]
    },
    {
     "name": "stderr",
     "output_type": "stream",
     "text": [
      "Epoch [492/500]: 100%|██████████████████████████████████████████████████| 22/22 [00:00<00:00, 102.16it/s, loss=0.00142]\n"
     ]
    },
    {
     "name": "stdout",
     "output_type": "stream",
     "text": [
      "Epoch [492/500]: Train loss: 0.0020, Test loss: 0.0021\n"
     ]
    },
    {
     "name": "stderr",
     "output_type": "stream",
     "text": [
      "Epoch [493/500]: 100%|███████████████████████████████████████████████████| 22/22 [00:00<00:00, 103.89it/s, loss=0.0017]\n"
     ]
    },
    {
     "name": "stdout",
     "output_type": "stream",
     "text": [
      "Epoch [493/500]: Train loss: 0.0020, Test loss: 0.0021\n"
     ]
    },
    {
     "name": "stderr",
     "output_type": "stream",
     "text": [
      "Epoch [494/500]: 100%|██████████████████████████████████████████████████| 22/22 [00:00<00:00, 115.16it/s, loss=0.00588]\n"
     ]
    },
    {
     "name": "stdout",
     "output_type": "stream",
     "text": [
      "Epoch [494/500]: Train loss: 0.0022, Test loss: 0.0021\n"
     ]
    },
    {
     "name": "stderr",
     "output_type": "stream",
     "text": [
      "Epoch [495/500]: 100%|█████████████████████████████████████████████████| 22/22 [00:00<00:00, 114.65it/s, loss=0.000844]\n"
     ]
    },
    {
     "name": "stdout",
     "output_type": "stream",
     "text": [
      "Epoch [495/500]: Train loss: 0.0020, Test loss: 0.0021\n",
      "Saving model with loss 0.002...\n"
     ]
    },
    {
     "name": "stderr",
     "output_type": "stream",
     "text": [
      "Epoch [496/500]: 100%|██████████████████████████████████████████████████| 22/22 [00:00<00:00, 112.72it/s, loss=0.00209]\n"
     ]
    },
    {
     "name": "stdout",
     "output_type": "stream",
     "text": [
      "Epoch [496/500]: Train loss: 0.0021, Test loss: 0.0022\n"
     ]
    },
    {
     "name": "stderr",
     "output_type": "stream",
     "text": [
      "Epoch [497/500]: 100%|███████████████████████████████████████████████████| 22/22 [00:00<00:00, 115.75it/s, loss=0.0013]\n"
     ]
    },
    {
     "name": "stdout",
     "output_type": "stream",
     "text": [
      "Epoch [497/500]: Train loss: 0.0020, Test loss: 0.0021\n"
     ]
    },
    {
     "name": "stderr",
     "output_type": "stream",
     "text": [
      "Epoch [498/500]: 100%|███████████████████████████████████████████████████| 22/22 [00:00<00:00, 89.46it/s, loss=0.00208]\n"
     ]
    },
    {
     "name": "stdout",
     "output_type": "stream",
     "text": [
      "Epoch [498/500]: Train loss: 0.0021, Test loss: 0.0020\n",
      "Saving model with loss 0.002...\n"
     ]
    },
    {
     "name": "stderr",
     "output_type": "stream",
     "text": [
      "Epoch [499/500]: 100%|███████████████████████████████████████████████████| 22/22 [00:00<00:00, 115.06it/s, loss=0.0056]\n"
     ]
    },
    {
     "name": "stdout",
     "output_type": "stream",
     "text": [
      "Epoch [499/500]: Train loss: 0.0022, Test loss: 0.0022\n"
     ]
    },
    {
     "name": "stderr",
     "output_type": "stream",
     "text": [
      "Epoch [500/500]: 100%|█████████████████████████████████████████████████| 22/22 [00:00<00:00, 115.70it/s, loss=0.000789]\n"
     ]
    },
    {
     "name": "stdout",
     "output_type": "stream",
     "text": [
      "Epoch [500/500]: Train loss: 0.0020, Test loss: 0.0020\n",
      "Saving model with loss 0.002...\n"
     ]
    }
   ],
   "source": [
    "model = LSTM_model(input_size, hidden_size, num_layers, output_size).to(device) # put your model and data on the same computation device.\n",
    "trainer(train_loader, valid_loader, model, config, device)"
   ]
  },
  {
   "cell_type": "code",
   "execution_count": 25,
   "id": "225ca92b",
   "metadata": {},
   "outputs": [
    {
     "data": {
      "text/plain": [
       "<All keys matched successfully>"
      ]
     },
     "execution_count": 25,
     "metadata": {},
     "output_type": "execute_result"
    }
   ],
   "source": [
    "model = LSTM_model(input_size, hidden_size, num_layers, output_size).to(device)\n",
    "model.load_state_dict(torch.load(config['save_path']))"
   ]
  },
  {
   "cell_type": "code",
   "execution_count": 26,
   "id": "d919cf3c",
   "metadata": {},
   "outputs": [],
   "source": [
    "valid_dataset =  TripData(valid_data)"
   ]
  },
  {
   "cell_type": "code",
   "execution_count": 27,
   "id": "89492466",
   "metadata": {},
   "outputs": [],
   "source": [
    "y_valid=valid_data[:,-1]"
   ]
  },
  {
   "cell_type": "code",
   "execution_count": 28,
   "id": "cdc9dac7",
   "metadata": {},
   "outputs": [],
   "source": [
    "pred_loader = DataLoader(valid_dataset, batch_size=1, shuffle=False, pin_memory=True)"
   ]
  },
  {
   "cell_type": "code",
   "execution_count": 29,
   "id": "d30fe02c",
   "metadata": {},
   "outputs": [
    {
     "name": "stderr",
     "output_type": "stream",
     "text": [
      "100%|█████████████████████████████████████████████████████████████████████████████████| 42/42 [00:00<00:00, 695.15it/s]\n"
     ]
    }
   ],
   "source": [
    "preds = predict(pred_loader, model, device)"
   ]
  },
  {
   "cell_type": "code",
   "execution_count": 30,
   "id": "ba2b1c46",
   "metadata": {},
   "outputs": [],
   "source": [
    "# 从每个周期中提取第一个簇的乘客计数\n",
    "y_valid_passenger_count = [cycle[0] for cycle in y_valid]\n",
    "preds_passenger_count = [cycle[0] for cycle in preds]"
   ]
  },
  {
   "cell_type": "code",
   "execution_count": 31,
   "id": "e6251d58",
   "metadata": {},
   "outputs": [],
   "source": [
    "# 将列表转换为NumPy数组\n",
    "preds_passenger_count = np.array(preds_passenger_count)\n",
    "y_valid_passenger_count = np.array(y_valid_passenger_count)\n",
    "\n",
    "# 然后再进行reshape和反变换操作\n",
    "preds_passenger_count = scaler_reversed.inverse_transform(preds_passenger_count.reshape(-1, 1))\n",
    "y_valid_passenger_count = scaler_reversed.inverse_transform(y_valid_passenger_count.reshape(-1, 1))"
   ]
  },
  {
   "cell_type": "markdown",
   "id": "258dd8c3",
   "metadata": {},
   "source": [
    "以“区域0”为例，绘制预测曲线和真实曲线"
   ]
  },
  {
   "cell_type": "code",
   "execution_count": 32,
   "id": "ca8310f9",
   "metadata": {},
   "outputs": [
    {
     "data": {
      "image/png": "[encoded data removed]",
      "text/plain": [
       "<Figure size 640x480 with 1 Axes>"
      ]
     },
     "metadata": {},
     "output_type": "display_data"
    }
   ],
   "source": [
    "plt.title(\"LSTM model\")\n",
    "x=[i for i in range(len(y_valid))]\n",
    "plt.plot(x,y_valid_passenger_count,marker=\"x\",markersize=1,label=\"true_y\")\n",
    "plt.plot(x,preds_passenger_count,marker=\"o\",markersize=1,label=\"pred_y\")\n",
    "plt.legend()\n",
    "plt.show()"
   ]
  },
  {
   "cell_type": "code",
   "execution_count": 33,
   "id": "74b52159",
   "metadata": {},
   "outputs": [
    {
     "name": "stdout",
     "output_type": "stream",
     "text": [
      "总误差是[3.3148047]\n"
     ]
    }
   ],
   "source": [
    "loss = 0\n",
    "for i in range(len(y_valid)):\n",
    "    loss += ((preds_passenger_count[i]-y_valid_passenger_count[i])**2)**0.5\n",
    "    \n",
    "print(\"总误差是{}\".format(loss))"
   ]
  },
  {
   "cell_type": "code",
   "execution_count": null,
   "id": "f5ee6168",
   "metadata": {},
   "outputs": [],
   "source": []
  }
 ],
 "metadata": {
  "kernelspec": {
   "display_name": "Python 3 (ipykernel)",
   "language": "python",
   "name": "python3"
  },
  "language_info": {
   "codemirror_mode": {
    "name": "ipython",
    "version": 3
   },
   "file_extension": ".py",
   "mimetype": "text/x-python",
   "name": "python",
   "nbconvert_exporter": "python",
   "pygments_lexer": "ipython3",
   "version": "3.10.9"
  }
 },
 "nbformat": 4,
 "nbformat_minor": 5
}

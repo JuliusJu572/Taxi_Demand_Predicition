{
 "cells": [
  {
   "cell_type": "code",
   "execution_count": 1,
   "id": "05907ca4",
   "metadata": {},
   "outputs": [],
   "source": [
    "# 首先导入包\n",
    "import torch\n",
    "import torch.nn as nn\n",
    "import pandas as pd\n",
    "import numpy as np\n",
    "from torch.utils.data import Dataset, DataLoader, random_split\n",
    "from torchvision import transforms\n",
    "from PIL import Image\n",
    "import os\n",
    "import matplotlib.pyplot as plt\n",
    "import torchvision.models as models\n",
    "# This is for the progress bar.\n",
    "from tqdm import tqdm\n",
    "import seaborn as sns\n",
    "# For plotting learning curve\n",
    "from torch.utils.tensorboard import SummaryWriter\n",
    "import math\n",
    "from torch.nn import functional as F"
   ]
  },
  {
   "cell_type": "code",
   "execution_count": 2,
   "id": "cb570991",
   "metadata": {},
   "outputs": [],
   "source": [
    "def same_seed(seed): \n",
    "    '''Fixes random number generator seeds for reproducibility.'''\n",
    "    torch.backends.cudnn.deterministic = True\n",
    "    torch.backends.cudnn.benchmark = False\n",
    "    np.random.seed(seed)\n",
    "    torch.manual_seed(seed)\n",
    "    if torch.cuda.is_available():\n",
    "        torch.cuda.manual_seed_all(seed)\n",
    "\n",
    "def train_test_split(data_set, test_ratio, seed):\n",
    "    '''Split provided training data into training set and validation set'''\n",
    "    valid_set_size = int(test_ratio * len(data_set)) \n",
    "    train_set_size = len(data_set) - valid_set_size\n",
    "    train_set, valid_set = random_split(data_set, [train_set_size, valid_set_size], generator=torch.Generator().manual_seed(seed))\n",
    "    return np.array(train_set), np.array(valid_set)\n",
    "\n",
    "def predict(test_loader, model, device):\n",
    "    model.eval() # Set your model to evaluation mode.\n",
    "    preds = []\n",
    "    for x in tqdm(test_loader):\n",
    "        x = x.to(device)                        \n",
    "        with torch.no_grad():                   \n",
    "            pred = model(x)                     \n",
    "            preds.append(pred.detach().cpu())   \n",
    "    preds = torch.cat(preds, dim=0).numpy()  \n",
    "    return preds"
   ]
  },
  {
   "cell_type": "code",
   "execution_count": 3,
   "id": "7d5f9c79",
   "metadata": {},
   "outputs": [
    {
     "data": {
      "text/html": [
       "<div>\n",
       "<style scoped>\n",
       "    .dataframe tbody tr th:only-of-type {\n",
       "        vertical-align: middle;\n",
       "    }\n",
       "\n",
       "    .dataframe tbody tr th {\n",
       "        vertical-align: top;\n",
       "    }\n",
       "\n",
       "    .dataframe thead th {\n",
       "        text-align: right;\n",
       "    }\n",
       "</style>\n",
       "<table border=\"1\" class=\"dataframe\">\n",
       "  <thead>\n",
       "    <tr style=\"text-align: right;\">\n",
       "      <th></th>\n",
       "      <th>lpep_pickup_datetime</th>\n",
       "      <th>Lpep_dropoff_datetime</th>\n",
       "      <th>Passenger_count</th>\n",
       "      <th>Trip_distance</th>\n",
       "      <th>Pickup_longitude</th>\n",
       "      <th>Pickup_latitude</th>\n",
       "      <th>Dropoff_longitude</th>\n",
       "      <th>Dropoff_latitude</th>\n",
       "      <th>Total_amount</th>\n",
       "      <th>Trip_duration</th>\n",
       "      <th>Pickup_time</th>\n",
       "      <th>Speed</th>\n",
       "      <th>Pickup_cluster</th>\n",
       "      <th>Dropoff_cluster</th>\n",
       "      <th>year</th>\n",
       "      <th>month</th>\n",
       "      <th>day</th>\n",
       "      <th>time_span</th>\n",
       "    </tr>\n",
       "  </thead>\n",
       "  <tbody>\n",
       "    <tr>\n",
       "      <th>0</th>\n",
       "      <td>2015-04-01 00:00:00</td>\n",
       "      <td>2015/4/1 0:08</td>\n",
       "      <td>1</td>\n",
       "      <td>3.08</td>\n",
       "      <td>-73.958817</td>\n",
       "      <td>40.716824</td>\n",
       "      <td>-73.982971</td>\n",
       "      <td>40.696007</td>\n",
       "      <td>14.76</td>\n",
       "      <td>8.0</td>\n",
       "      <td>1.427818e+09</td>\n",
       "      <td>23.100000</td>\n",
       "      <td>8</td>\n",
       "      <td>12</td>\n",
       "      <td>2015</td>\n",
       "      <td>4</td>\n",
       "      <td>1</td>\n",
       "      <td>0</td>\n",
       "    </tr>\n",
       "    <tr>\n",
       "      <th>1</th>\n",
       "      <td>2015-04-01 00:00:00</td>\n",
       "      <td>2015/4/1 0:07</td>\n",
       "      <td>1</td>\n",
       "      <td>1.21</td>\n",
       "      <td>-73.937531</td>\n",
       "      <td>40.804501</td>\n",
       "      <td>-73.946800</td>\n",
       "      <td>40.815998</td>\n",
       "      <td>8.30</td>\n",
       "      <td>7.0</td>\n",
       "      <td>1.427818e+09</td>\n",
       "      <td>10.371429</td>\n",
       "      <td>24</td>\n",
       "      <td>5</td>\n",
       "      <td>2015</td>\n",
       "      <td>4</td>\n",
       "      <td>1</td>\n",
       "      <td>0</td>\n",
       "    </tr>\n",
       "    <tr>\n",
       "      <th>2</th>\n",
       "      <td>2015-04-01 00:00:00</td>\n",
       "      <td>2015/4/1 0:02</td>\n",
       "      <td>1</td>\n",
       "      <td>0.64</td>\n",
       "      <td>-73.955818</td>\n",
       "      <td>40.681152</td>\n",
       "      <td>-73.955406</td>\n",
       "      <td>40.687145</td>\n",
       "      <td>6.00</td>\n",
       "      <td>2.0</td>\n",
       "      <td>1.427818e+09</td>\n",
       "      <td>19.200000</td>\n",
       "      <td>29</td>\n",
       "      <td>29</td>\n",
       "      <td>2015</td>\n",
       "      <td>4</td>\n",
       "      <td>1</td>\n",
       "      <td>0</td>\n",
       "    </tr>\n",
       "    <tr>\n",
       "      <th>3</th>\n",
       "      <td>2015-04-01 00:00:00</td>\n",
       "      <td>2015/4/1 0:05</td>\n",
       "      <td>1</td>\n",
       "      <td>1.34</td>\n",
       "      <td>-73.830551</td>\n",
       "      <td>40.759460</td>\n",
       "      <td>-73.825363</td>\n",
       "      <td>40.741589</td>\n",
       "      <td>7.80</td>\n",
       "      <td>5.0</td>\n",
       "      <td>1.427818e+09</td>\n",
       "      <td>16.080000</td>\n",
       "      <td>13</td>\n",
       "      <td>13</td>\n",
       "      <td>2015</td>\n",
       "      <td>4</td>\n",
       "      <td>1</td>\n",
       "      <td>0</td>\n",
       "    </tr>\n",
       "    <tr>\n",
       "      <th>4</th>\n",
       "      <td>2015-04-01 00:00:00</td>\n",
       "      <td>2015/4/1 0:05</td>\n",
       "      <td>1</td>\n",
       "      <td>0.98</td>\n",
       "      <td>-73.912086</td>\n",
       "      <td>40.775356</td>\n",
       "      <td>-73.915474</td>\n",
       "      <td>40.764091</td>\n",
       "      <td>7.30</td>\n",
       "      <td>5.0</td>\n",
       "      <td>1.427818e+09</td>\n",
       "      <td>11.760000</td>\n",
       "      <td>25</td>\n",
       "      <td>7</td>\n",
       "      <td>2015</td>\n",
       "      <td>4</td>\n",
       "      <td>1</td>\n",
       "      <td>0</td>\n",
       "    </tr>\n",
       "  </tbody>\n",
       "</table>\n",
       "</div>"
      ],
      "text/plain": [
       "  lpep_pickup_datetime Lpep_dropoff_datetime  Passenger_count  Trip_distance  \\\n",
       "0  2015-04-01 00:00:00         2015/4/1 0:08                1           3.08   \n",
       "1  2015-04-01 00:00:00         2015/4/1 0:07                1           1.21   \n",
       "2  2015-04-01 00:00:00         2015/4/1 0:02                1           0.64   \n",
       "3  2015-04-01 00:00:00         2015/4/1 0:05                1           1.34   \n",
       "4  2015-04-01 00:00:00         2015/4/1 0:05                1           0.98   \n",
       "\n",
       "   Pickup_longitude  Pickup_latitude  Dropoff_longitude  Dropoff_latitude  \\\n",
       "0        -73.958817        40.716824         -73.982971         40.696007   \n",
       "1        -73.937531        40.804501         -73.946800         40.815998   \n",
       "2        -73.955818        40.681152         -73.955406         40.687145   \n",
       "3        -73.830551        40.759460         -73.825363         40.741589   \n",
       "4        -73.912086        40.775356         -73.915474         40.764091   \n",
       "\n",
       "   Total_amount  Trip_duration   Pickup_time      Speed  Pickup_cluster  \\\n",
       "0         14.76            8.0  1.427818e+09  23.100000               8   \n",
       "1          8.30            7.0  1.427818e+09  10.371429              24   \n",
       "2          6.00            2.0  1.427818e+09  19.200000              29   \n",
       "3          7.80            5.0  1.427818e+09  16.080000              13   \n",
       "4          7.30            5.0  1.427818e+09  11.760000              25   \n",
       "\n",
       "   Dropoff_cluster  year  month  day  time_span  \n",
       "0               12  2015      4    1          0  \n",
       "1                5  2015      4    1          0  \n",
       "2               29  2015      4    1          0  \n",
       "3               13  2015      4    1          0  \n",
       "4                7  2015      4    1          0  "
      ]
     },
     "execution_count": 3,
     "metadata": {},
     "output_type": "execute_result"
    }
   ],
   "source": [
    "data = pd.read_csv(\"TripData_cleaned.csv\")\n",
    "data = data.drop('Unnamed: 0', axis=1)\n",
    "data.head()"
   ]
  },
  {
   "cell_type": "code",
   "execution_count": 4,
   "id": "1c3fef0f",
   "metadata": {},
   "outputs": [
    {
     "data": {
      "text/html": [
       "<div>\n",
       "<style scoped>\n",
       "    .dataframe tbody tr th:only-of-type {\n",
       "        vertical-align: middle;\n",
       "    }\n",
       "\n",
       "    .dataframe tbody tr th {\n",
       "        vertical-align: top;\n",
       "    }\n",
       "\n",
       "    .dataframe thead th {\n",
       "        text-align: right;\n",
       "    }\n",
       "</style>\n",
       "<table border=\"1\" class=\"dataframe\">\n",
       "  <thead>\n",
       "    <tr style=\"text-align: right;\">\n",
       "      <th></th>\n",
       "      <th>year</th>\n",
       "      <th>month</th>\n",
       "      <th>day</th>\n",
       "      <th>time_span</th>\n",
       "      <th>Pickup_cluster</th>\n",
       "      <th>Passenger_count</th>\n",
       "    </tr>\n",
       "  </thead>\n",
       "  <tbody>\n",
       "    <tr>\n",
       "      <th>0</th>\n",
       "      <td>2015</td>\n",
       "      <td>4</td>\n",
       "      <td>1</td>\n",
       "      <td>0</td>\n",
       "      <td>0</td>\n",
       "      <td>241</td>\n",
       "    </tr>\n",
       "    <tr>\n",
       "      <th>1</th>\n",
       "      <td>2015</td>\n",
       "      <td>4</td>\n",
       "      <td>1</td>\n",
       "      <td>0</td>\n",
       "      <td>1</td>\n",
       "      <td>80</td>\n",
       "    </tr>\n",
       "    <tr>\n",
       "      <th>2</th>\n",
       "      <td>2015</td>\n",
       "      <td>4</td>\n",
       "      <td>1</td>\n",
       "      <td>0</td>\n",
       "      <td>2</td>\n",
       "      <td>41</td>\n",
       "    </tr>\n",
       "    <tr>\n",
       "      <th>3</th>\n",
       "      <td>2015</td>\n",
       "      <td>4</td>\n",
       "      <td>1</td>\n",
       "      <td>0</td>\n",
       "      <td>3</td>\n",
       "      <td>72</td>\n",
       "    </tr>\n",
       "    <tr>\n",
       "      <th>4</th>\n",
       "      <td>2015</td>\n",
       "      <td>4</td>\n",
       "      <td>1</td>\n",
       "      <td>0</td>\n",
       "      <td>4</td>\n",
       "      <td>119</td>\n",
       "    </tr>\n",
       "  </tbody>\n",
       "</table>\n",
       "</div>"
      ],
      "text/plain": [
       "   year  month  day  time_span  Pickup_cluster  Passenger_count\n",
       "0  2015      4    1          0               0              241\n",
       "1  2015      4    1          0               1               80\n",
       "2  2015      4    1          0               2               41\n",
       "3  2015      4    1          0               3               72\n",
       "4  2015      4    1          0               4              119"
      ]
     },
     "execution_count": 4,
     "metadata": {},
     "output_type": "execute_result"
    }
   ],
   "source": [
    "# 根据指定的列进行分组，并对Passenger_count进行求和\n",
    "grouped_data = data.groupby(['year', 'month', 'day', 'time_span', 'Pickup_cluster']).agg(\n",
    "    {'Passenger_count': 'sum'}).reset_index()\n",
    "\n",
    "grouped_data.head()"
   ]
  },
  {
   "cell_type": "code",
   "execution_count": 5,
   "id": "711c0aea",
   "metadata": {},
   "outputs": [],
   "source": [
    "class TripData(Dataset):\n",
    "    def __init__(self, x, y=None):\n",
    "        if y is None:\n",
    "            self.y = y\n",
    "        else:\n",
    "            self.y = torch.FloatTensor(y)\n",
    "        self.x = torch.FloatTensor(x)\n",
    "\n",
    "    def __getitem__(self, idx):\n",
    "        if self.y is None:\n",
    "            return self.x[idx]\n",
    "        else:\n",
    "            return self.x[idx], self.y[idx]\n",
    "\n",
    "    def __len__(self):\n",
    "        return len(self.x)"
   ]
  },
  {
   "attachments": {
    "image-2.png": {
     "image/png": "[encoded data removed]"
    },
    "image.png": {
     "image/png": "[encoded data removed]"
    }
   },
   "cell_type": "markdown",
   "id": "3abdbf4b",
   "metadata": {},
   "source": [
    "![image.png](attachment:image.png)\n",
    "![image-2.png](attachment:image-2.png)"
   ]
  },
  {
   "cell_type": "code",
   "execution_count": 6,
   "id": "e772acc6",
   "metadata": {},
   "outputs": [],
   "source": [
    "class LSTM_model(nn.Module):\n",
    "    def __init__(self, input_size, hidden_size, num_layers, output_size):\n",
    "        super(LSTM_model, self).__init__()\n",
    "        self.hidden_size = hidden_size\n",
    "        self.num_layers = num_layers\n",
    "        self.lstm = nn.LSTM(input_size, hidden_size, num_layers, batch_first=True)\n",
    "        self.fc = nn.Linear(hidden_size, output_size)\n",
    "        \n",
    "    def forward(self, x):\n",
    "        h0 = torch.zeros(self.num_layers,x.size(0), self.hidden_size).to(device) # 初始化隐藏状态h0\n",
    "        c0 = torch.zeros(self.num_layers,x.size(0), self.hidden_size).to(device)  # 初始化记忆状态c0\n",
    "        #print(f\"x.shape:{x.shape},h0.shape:{h0.shape},c0.shape:{c0.shape}\")\n",
    "        out, _ = self.lstm(x, (h0, c0))  # LSTM前向传播\n",
    "        out = self.fc(out[:, -1, :])  # 取最后一个时间步的输出作为预测结果\n",
    "        return out"
   ]
  },
  {
   "cell_type": "code",
   "execution_count": 7,
   "id": "a09f7654",
   "metadata": {},
   "outputs": [],
   "source": [
    "def select_feat(train_data, valid_data, test_data, select_all=True):\n",
    "    '''Selects useful features to perform regression'''\n",
    "    y_train, y_valid = train_data[:,-1], valid_data[:,-1]\n",
    "    raw_x_train, raw_x_valid, raw_x_test = train_data[:,:-1], valid_data[:,:-1], test_data\n",
    "\n",
    "    if select_all:\n",
    "        feat_idx = list(range(raw_x_train.shape[1]))\n",
    "    else:\n",
    "        feat_idx = [0,1,2,3,4] # TODO: Select suitable feature columns.\n",
    "        \n",
    "    return raw_x_train[:,feat_idx], raw_x_valid[:,feat_idx], raw_x_test[:,feat_idx], y_train, y_valid"
   ]
  },
  {
   "cell_type": "code",
   "execution_count": 8,
   "id": "82aab3f5",
   "metadata": {},
   "outputs": [],
   "source": [
    "def trainer(train_loader, valid_loader, model, config, device):\n",
    "\n",
    "    criterion = nn.MSELoss() # Define your loss function, do not modify this.\n",
    "\n",
    "    # Define your optimization algorithm. \n",
    "    optimizer=torch.optim.Adam(model.parameters(),lr=0.0001,betas=(0.5,0.999))\n",
    "\n",
    "    writer = SummaryWriter() # Writer of tensoboard.\n",
    "\n",
    "    if not os.path.isdir('./models'):\n",
    "        os.mkdir('./models') # Create directory of saving models.\n",
    "\n",
    "    n_epochs, best_loss, step, early_stop_count = config['n_epochs'], math.inf, 0, 0\n",
    "\n",
    "    for epoch in range(n_epochs):\n",
    "        model.train() # Set your model to train mode.\n",
    "        loss_record = []\n",
    "\n",
    "        # tqdm is a package to visualize your training progress.\n",
    "        train_pbar = tqdm(train_loader, position=0, leave=True)\n",
    "\n",
    "        for x, y in train_pbar:\n",
    "            optimizer.zero_grad()               # Set gradient to zero.\n",
    "            x, y = x.to(device), y.to(device)   # Move your data to device. \n",
    "            pred = model(x)             \n",
    "            loss = criterion(pred, y)\n",
    "            loss.backward()                     # Compute gradient(backpropagation).\n",
    "            optimizer.step()                    # Update parameters.\n",
    "            step += 1\n",
    "            loss_record.append(loss.detach().item())\n",
    "            \n",
    "            # Display current epoch number and loss on tqdm progress bar.\n",
    "            train_pbar.set_description(f'Epoch [{epoch+1}/{n_epochs}]')\n",
    "            train_pbar.set_postfix({'loss': loss.detach().item()})\n",
    "\n",
    "        mean_train_loss = sum(loss_record)/len(loss_record)\n",
    "        writer.add_scalar('Loss/train', mean_train_loss, step)\n",
    "\n",
    "        model.eval() # Set your model to evaluation mode.\n",
    "        loss_record = []\n",
    "        for x, y in valid_loader:\n",
    "            x, y = x.to(device), y.to(device)\n",
    "            with torch.no_grad():\n",
    "                pred = model(x)\n",
    "                loss = criterion(pred, y)\n",
    "\n",
    "            loss_record.append(loss.item())\n",
    "            \n",
    "        mean_valid_loss = sum(loss_record)/len(loss_record)\n",
    "        print(f'Epoch [{epoch+1}/{n_epochs}]: Train loss: {mean_train_loss:.4f}, Test loss: {mean_valid_loss:.4f}')\n",
    "        writer.add_scalar('Loss/Test', mean_valid_loss, step)\n",
    "\n",
    "        if mean_valid_loss < best_loss:\n",
    "            best_loss = mean_valid_loss\n",
    "            torch.save(model.state_dict(), config['save_path']) # Save your best model\n",
    "            print('Saving model with loss {:.3f}...'.format(best_loss))\n",
    "            early_stop_count = 0\n",
    "        else: \n",
    "            early_stop_count += 1\n",
    "\n",
    "        if early_stop_count >= config['early_stop']:\n",
    "            print('\\nModel is not improving, so we halt the training session.')\n",
    "            return"
   ]
  },
  {
   "cell_type": "code",
   "execution_count": 9,
   "id": "3f3e362b",
   "metadata": {},
   "outputs": [],
   "source": [
    "device = 'cuda' if torch.cuda.is_available() else 'cpu'\n",
    "config = {\n",
    "    'seed': 20010106,      # Your seed number, you can pick your lucky number. :)\n",
    "    'select_all': True,   # Whether to use all features.\n",
    "    'test_ratio': 0.2,   # validation_size = train_size * valid_ratio\n",
    "    'n_epochs': 500,     # Number of epochs.            \n",
    "    'batch_size': 64, \n",
    "    'learning_rate': 1e-4,              \n",
    "    'early_stop': 400,    # If model has not improved for this many consecutive epochs, stop training.     \n",
    "    'save_path': './models/LSTM.ckpt'  # Your model will be saved here.\n",
    "}"
   ]
  },
  {
   "cell_type": "code",
   "execution_count": 10,
   "id": "065b21dc",
   "metadata": {},
   "outputs": [
    {
     "name": "stdout",
     "output_type": "stream",
     "text": [
      "len(Passenger_count):13441\n"
     ]
    }
   ],
   "source": [
    "Passenger_count=grouped_data['Passenger_count'].values\n",
    "print(f\"len(Passenger_count):{len(Passenger_count)}\")"
   ]
  },
  {
   "cell_type": "code",
   "execution_count": 11,
   "id": "e01eb591",
   "metadata": {},
   "outputs": [
    {
     "data": {
      "image/png": "[encoded data removed]",
      "text/plain": [
       "<Figure size 1000x600 with 1 Axes>"
      ]
     },
     "metadata": {},
     "output_type": "display_data"
    }
   ],
   "source": [
    "plt.figure(figsize = (10,6))\n",
    "plt.plot([i for i in range(len(Passenger_count))],Passenger_count)\n",
    "plt.ylabel(\"Demand\", fontsize = 10)\n",
    "plt.show()"
   ]
  },
  {
   "cell_type": "code",
   "execution_count": 12,
   "id": "7f584b1a",
   "metadata": {},
   "outputs": [],
   "source": [
    "from sklearn.preprocessing import MinMaxScaler\n",
    "# 创建MinMaxScaler对象\n",
    "scaler = MinMaxScaler()\n",
    "# 将数据进行归一化\n",
    "Passenger_count = scaler.fit_transform(Passenger_count.reshape(-1,1))"
   ]
  },
  {
   "cell_type": "code",
   "execution_count": 13,
   "id": "d1dec209",
   "metadata": {},
   "outputs": [],
   "source": [
    "def split_data(data,time_step=24):\n",
    "    dataX=[]\n",
    "    datay=[]\n",
    "    dataNew = []\n",
    "    for i in range(len(data)-time_step):\n",
    "        dataX.append(data[i:i+time_step])\n",
    "        datay.append(data[i+time_step])\n",
    "        dataNew.append(data[i:i+time_step+1])\n",
    "    dataX=np.array(dataX).reshape(len(dataX),time_step,-1)\n",
    "    datay=np.array(datay)\n",
    "    dataNew=np.array(dataNew).reshape(len(dataNew),time_step+1,-1)\n",
    "    return dataX,datay,dataNew"
   ]
  },
  {
   "cell_type": "code",
   "execution_count": 14,
   "id": "c43d358c",
   "metadata": {},
   "outputs": [
    {
     "name": "stdout",
     "output_type": "stream",
     "text": [
      "dataX.shape:(13417, 24, 1),datay.shape:(13417, 1),dataNew.shape:(13417, 25, 1)\n"
     ]
    }
   ],
   "source": [
    "dataX,datay, dataNew=split_data(Passenger_count)\n",
    "print(f\"dataX.shape:{dataX.shape},datay.shape:{datay.shape},dataNew.shape:{dataNew.shape}\")"
   ]
  },
  {
   "cell_type": "code",
   "execution_count": 15,
   "id": "184c9dde",
   "metadata": {},
   "outputs": [],
   "source": [
    "# 计算验证集的大小（后10%的数据）\n",
    "valid_size = int(len(dataNew) * 0.1)\n",
    "\n",
    "# 从数据集的末尾取后10%作为验证集\n",
    "valid_data = dataNew[-valid_size:]"
   ]
  },
  {
   "cell_type": "code",
   "execution_count": 16,
   "id": "dc006e6e",
   "metadata": {},
   "outputs": [],
   "source": [
    "train_data, test_data = train_test_split(dataNew, config['test_ratio'], config['seed'])"
   ]
  },
  {
   "cell_type": "code",
   "execution_count": 17,
   "id": "165f55f5",
   "metadata": {},
   "outputs": [
    {
     "name": "stdout",
     "output_type": "stream",
     "text": [
      "number of features: 24\n"
     ]
    }
   ],
   "source": [
    "# Select features\n",
    "x_train, x_test, y_train, y_test = train_data[:,:-1], test_data[:,:-1], train_data[:,-1], test_data[:,-1],\n",
    "\n",
    "# Print out the number of features.\n",
    "print(f'number of features: {x_train.shape[1]}')"
   ]
  },
  {
   "cell_type": "code",
   "execution_count": 18,
   "id": "e09cb6c4",
   "metadata": {},
   "outputs": [],
   "source": [
    "train_dataset, valid_dataset = TripData(x_train, y=y_train), TripData(x_test, y=y_test),\n",
    "\n",
    "# Pytorch data loader loads pytorch dataset into batches.\n",
    "train_loader = DataLoader(train_dataset, batch_size=config['batch_size'], shuffle=True, pin_memory=True)\n",
    "valid_loader = DataLoader(valid_dataset, batch_size=config['batch_size'], shuffle=True, pin_memory=True)"
   ]
  },
  {
   "cell_type": "code",
   "execution_count": 19,
   "id": "31308310",
   "metadata": {},
   "outputs": [],
   "source": [
    "# 定义输入、隐藏状态和输出维度\n",
    "input_size = 1  # 输入特征维度\n",
    "hidden_size = 64  # LSTM隐藏状态维度\n",
    "num_layers = 5  # LSTM层数\n",
    "output_size = 1  # 输出维度（预测目标维度）"
   ]
  },
  {
   "cell_type": "code",
   "execution_count": 20,
   "id": "a1a214a8",
   "metadata": {},
   "outputs": [
    {
     "name": "stderr",
     "output_type": "stream",
     "text": [
      "Epoch [1/500]: 100%|██████████████████████████████████████████████████| 168/168 [00:01<00:00, 117.32it/s, loss=0.00671]\n"
     ]
    },
    {
     "name": "stdout",
     "output_type": "stream",
     "text": [
      "Epoch [1/500]: Train loss: 0.0100, Test loss: 0.0071\n",
      "Saving model with loss 0.007...\n"
     ]
    },
    {
     "name": "stderr",
     "output_type": "stream",
     "text": [
      "Epoch [2/500]: 100%|██████████████████████████████████████████████████| 168/168 [00:01<00:00, 144.55it/s, loss=0.00332]\n"
     ]
    },
    {
     "name": "stdout",
     "output_type": "stream",
     "text": [
      "Epoch [2/500]: Train loss: 0.0075, Test loss: 0.0070\n",
      "Saving model with loss 0.007...\n"
     ]
    },
    {
     "name": "stderr",
     "output_type": "stream",
     "text": [
      "Epoch [3/500]: 100%|███████████████████████████████████████████████████| 168/168 [00:01<00:00, 145.49it/s, loss=0.0153]\n"
     ]
    },
    {
     "name": "stdout",
     "output_type": "stream",
     "text": [
      "Epoch [3/500]: Train loss: 0.0069, Test loss: 0.0059\n",
      "Saving model with loss 0.006...\n"
     ]
    },
    {
     "name": "stderr",
     "output_type": "stream",
     "text": [
      "Epoch [4/500]: 100%|██████████████████████████████████████████████████| 168/168 [00:01<00:00, 142.99it/s, loss=0.00316]\n"
     ]
    },
    {
     "name": "stdout",
     "output_type": "stream",
     "text": [
      "Epoch [4/500]: Train loss: 0.0063, Test loss: 0.0060\n"
     ]
    },
    {
     "name": "stderr",
     "output_type": "stream",
     "text": [
      "Epoch [5/500]: 100%|███████████████████████████████████████████████████| 168/168 [00:01<00:00, 140.54it/s, loss=0.0199]\n"
     ]
    },
    {
     "name": "stdout",
     "output_type": "stream",
     "text": [
      "Epoch [5/500]: Train loss: 0.0062, Test loss: 0.0067\n"
     ]
    },
    {
     "name": "stderr",
     "output_type": "stream",
     "text": [
      "Epoch [6/500]: 100%|██████████████████████████████████████████████████| 168/168 [00:01<00:00, 145.87it/s, loss=0.00455]\n"
     ]
    },
    {
     "name": "stdout",
     "output_type": "stream",
     "text": [
      "Epoch [6/500]: Train loss: 0.0062, Test loss: 0.0057\n",
      "Saving model with loss 0.006...\n"
     ]
    },
    {
     "name": "stderr",
     "output_type": "stream",
     "text": [
      "Epoch [7/500]: 100%|███████████████████████████████████████████████████| 168/168 [00:01<00:00, 142.50it/s, loss=0.0107]\n"
     ]
    },
    {
     "name": "stdout",
     "output_type": "stream",
     "text": [
      "Epoch [7/500]: Train loss: 0.0062, Test loss: 0.0057\n",
      "Saving model with loss 0.006...\n"
     ]
    },
    {
     "name": "stderr",
     "output_type": "stream",
     "text": [
      "Epoch [8/500]: 100%|██████████████████████████████████████████████████| 168/168 [00:01<00:00, 131.30it/s, loss=0.00376]\n"
     ]
    },
    {
     "name": "stdout",
     "output_type": "stream",
     "text": [
      "Epoch [8/500]: Train loss: 0.0062, Test loss: 0.0058\n"
     ]
    },
    {
     "name": "stderr",
     "output_type": "stream",
     "text": [
      "Epoch [9/500]: 100%|███████████████████████████████████████████████████| 168/168 [00:01<00:00, 141.88it/s, loss=0.0037]\n"
     ]
    },
    {
     "name": "stdout",
     "output_type": "stream",
     "text": [
      "Epoch [9/500]: Train loss: 0.0062, Test loss: 0.0057\n",
      "Saving model with loss 0.006...\n"
     ]
    },
    {
     "name": "stderr",
     "output_type": "stream",
     "text": [
      "Epoch [10/500]: 100%|█████████████████████████████████████████████████| 168/168 [00:01<00:00, 132.34it/s, loss=0.00286]\n"
     ]
    },
    {
     "name": "stdout",
     "output_type": "stream",
     "text": [
      "Epoch [10/500]: Train loss: 0.0062, Test loss: 0.0057\n",
      "Saving model with loss 0.006...\n"
     ]
    },
    {
     "name": "stderr",
     "output_type": "stream",
     "text": [
      "Epoch [11/500]: 100%|█████████████████████████████████████████████████| 168/168 [00:01<00:00, 144.96it/s, loss=0.00327]\n"
     ]
    },
    {
     "name": "stdout",
     "output_type": "stream",
     "text": [
      "Epoch [11/500]: Train loss: 0.0061, Test loss: 0.0057\n",
      "Saving model with loss 0.006...\n"
     ]
    },
    {
     "name": "stderr",
     "output_type": "stream",
     "text": [
      "Epoch [12/500]: 100%|█████████████████████████████████████████████████| 168/168 [00:01<00:00, 141.46it/s, loss=0.00417]\n"
     ]
    },
    {
     "name": "stdout",
     "output_type": "stream",
     "text": [
      "Epoch [12/500]: Train loss: 0.0061, Test loss: 0.0057\n"
     ]
    },
    {
     "name": "stderr",
     "output_type": "stream",
     "text": [
      "Epoch [13/500]: 100%|█████████████████████████████████████████████████| 168/168 [00:01<00:00, 125.42it/s, loss=0.00504]\n"
     ]
    },
    {
     "name": "stdout",
     "output_type": "stream",
     "text": [
      "Epoch [13/500]: Train loss: 0.0061, Test loss: 0.0057\n",
      "Saving model with loss 0.006...\n"
     ]
    },
    {
     "name": "stderr",
     "output_type": "stream",
     "text": [
      "Epoch [14/500]: 100%|█████████████████████████████████████████████████| 168/168 [00:01<00:00, 142.79it/s, loss=0.00413]\n"
     ]
    },
    {
     "name": "stdout",
     "output_type": "stream",
     "text": [
      "Epoch [14/500]: Train loss: 0.0061, Test loss: 0.0057\n"
     ]
    },
    {
     "name": "stderr",
     "output_type": "stream",
     "text": [
      "Epoch [15/500]: 100%|█████████████████████████████████████████████████| 168/168 [00:01<00:00, 136.40it/s, loss=0.00346]\n"
     ]
    },
    {
     "name": "stdout",
     "output_type": "stream",
     "text": [
      "Epoch [15/500]: Train loss: 0.0061, Test loss: 0.0057\n"
     ]
    },
    {
     "name": "stderr",
     "output_type": "stream",
     "text": [
      "Epoch [16/500]: 100%|█████████████████████████████████████████████████| 168/168 [00:01<00:00, 144.46it/s, loss=0.00637]\n"
     ]
    },
    {
     "name": "stdout",
     "output_type": "stream",
     "text": [
      "Epoch [16/500]: Train loss: 0.0061, Test loss: 0.0057\n"
     ]
    },
    {
     "name": "stderr",
     "output_type": "stream",
     "text": [
      "Epoch [17/500]: 100%|█████████████████████████████████████████████████| 168/168 [00:01<00:00, 141.99it/s, loss=0.00424]\n"
     ]
    },
    {
     "name": "stdout",
     "output_type": "stream",
     "text": [
      "Epoch [17/500]: Train loss: 0.0061, Test loss: 0.0057\n"
     ]
    },
    {
     "name": "stderr",
     "output_type": "stream",
     "text": [
      "Epoch [18/500]: 100%|██████████████████████████████████████████████████| 168/168 [00:01<00:00, 139.07it/s, loss=0.0266]\n"
     ]
    },
    {
     "name": "stdout",
     "output_type": "stream",
     "text": [
      "Epoch [18/500]: Train loss: 0.0061, Test loss: 0.0057\n",
      "Saving model with loss 0.006...\n"
     ]
    },
    {
     "name": "stderr",
     "output_type": "stream",
     "text": [
      "Epoch [19/500]: 100%|█████████████████████████████████████████████████| 168/168 [00:01<00:00, 145.38it/s, loss=0.00391]\n"
     ]
    },
    {
     "name": "stdout",
     "output_type": "stream",
     "text": [
      "Epoch [19/500]: Train loss: 0.0061, Test loss: 0.0061\n"
     ]
    },
    {
     "name": "stderr",
     "output_type": "stream",
     "text": [
      "Epoch [20/500]: 100%|██████████████████████████████████████████████████| 168/168 [00:01<00:00, 133.95it/s, loss=0.0096]\n"
     ]
    },
    {
     "name": "stdout",
     "output_type": "stream",
     "text": [
      "Epoch [20/500]: Train loss: 0.0061, Test loss: 0.0056\n",
      "Saving model with loss 0.006...\n"
     ]
    },
    {
     "name": "stderr",
     "output_type": "stream",
     "text": [
      "Epoch [21/500]: 100%|█████████████████████████████████████████████████| 168/168 [00:01<00:00, 134.01it/s, loss=0.00358]\n"
     ]
    },
    {
     "name": "stdout",
     "output_type": "stream",
     "text": [
      "Epoch [21/500]: Train loss: 0.0061, Test loss: 0.0056\n",
      "Saving model with loss 0.006...\n"
     ]
    },
    {
     "name": "stderr",
     "output_type": "stream",
     "text": [
      "Epoch [22/500]: 100%|█████████████████████████████████████████████████| 168/168 [00:01<00:00, 147.45it/s, loss=0.00389]\n"
     ]
    },
    {
     "name": "stdout",
     "output_type": "stream",
     "text": [
      "Epoch [22/500]: Train loss: 0.0061, Test loss: 0.0056\n",
      "Saving model with loss 0.006...\n"
     ]
    },
    {
     "name": "stderr",
     "output_type": "stream",
     "text": [
      "Epoch [23/500]: 100%|█████████████████████████████████████████████████| 168/168 [00:01<00:00, 136.79it/s, loss=0.00492]\n"
     ]
    },
    {
     "name": "stdout",
     "output_type": "stream",
     "text": [
      "Epoch [23/500]: Train loss: 0.0061, Test loss: 0.0058\n"
     ]
    },
    {
     "name": "stderr",
     "output_type": "stream",
     "text": [
      "Epoch [24/500]: 100%|█████████████████████████████████████████████████| 168/168 [00:01<00:00, 124.28it/s, loss=0.00352]\n"
     ]
    },
    {
     "name": "stdout",
     "output_type": "stream",
     "text": [
      "Epoch [24/500]: Train loss: 0.0060, Test loss: 0.0056\n",
      "Saving model with loss 0.006...\n"
     ]
    },
    {
     "name": "stderr",
     "output_type": "stream",
     "text": [
      "Epoch [25/500]: 100%|█████████████████████████████████████████████████| 168/168 [00:01<00:00, 150.50it/s, loss=0.00354]\n"
     ]
    },
    {
     "name": "stdout",
     "output_type": "stream",
     "text": [
      "Epoch [25/500]: Train loss: 0.0060, Test loss: 0.0056\n"
     ]
    },
    {
     "name": "stderr",
     "output_type": "stream",
     "text": [
      "Epoch [26/500]: 100%|█████████████████████████████████████████████████| 168/168 [00:01<00:00, 145.55it/s, loss=0.00437]\n"
     ]
    },
    {
     "name": "stdout",
     "output_type": "stream",
     "text": [
      "Epoch [26/500]: Train loss: 0.0060, Test loss: 0.0056\n"
     ]
    },
    {
     "name": "stderr",
     "output_type": "stream",
     "text": [
      "Epoch [27/500]: 100%|█████████████████████████████████████████████████| 168/168 [00:01<00:00, 131.30it/s, loss=0.00448]\n"
     ]
    },
    {
     "name": "stdout",
     "output_type": "stream",
     "text": [
      "Epoch [27/500]: Train loss: 0.0060, Test loss: 0.0056\n"
     ]
    },
    {
     "name": "stderr",
     "output_type": "stream",
     "text": [
      "Epoch [28/500]: 100%|█████████████████████████████████████████████████| 168/168 [00:01<00:00, 124.58it/s, loss=0.00429]\n"
     ]
    },
    {
     "name": "stdout",
     "output_type": "stream",
     "text": [
      "Epoch [28/500]: Train loss: 0.0060, Test loss: 0.0055\n",
      "Saving model with loss 0.006...\n"
     ]
    },
    {
     "name": "stderr",
     "output_type": "stream",
     "text": [
      "Epoch [29/500]: 100%|█████████████████████████████████████████████████| 168/168 [00:01<00:00, 147.94it/s, loss=0.00686]\n"
     ]
    },
    {
     "name": "stdout",
     "output_type": "stream",
     "text": [
      "Epoch [29/500]: Train loss: 0.0060, Test loss: 0.0057\n"
     ]
    },
    {
     "name": "stderr",
     "output_type": "stream",
     "text": [
      "Epoch [30/500]: 100%|█████████████████████████████████████████████████| 168/168 [00:01<00:00, 149.49it/s, loss=0.00452]\n"
     ]
    },
    {
     "name": "stdout",
     "output_type": "stream",
     "text": [
      "Epoch [30/500]: Train loss: 0.0060, Test loss: 0.0055\n",
      "Saving model with loss 0.006...\n"
     ]
    },
    {
     "name": "stderr",
     "output_type": "stream",
     "text": [
      "Epoch [31/500]: 100%|█████████████████████████████████████████████████| 168/168 [00:01<00:00, 146.10it/s, loss=0.00455]\n"
     ]
    },
    {
     "name": "stdout",
     "output_type": "stream",
     "text": [
      "Epoch [31/500]: Train loss: 0.0059, Test loss: 0.0056\n"
     ]
    },
    {
     "name": "stderr",
     "output_type": "stream",
     "text": [
      "Epoch [32/500]: 100%|█████████████████████████████████████████████████| 168/168 [00:01<00:00, 140.97it/s, loss=0.00386]\n"
     ]
    },
    {
     "name": "stdout",
     "output_type": "stream",
     "text": [
      "Epoch [32/500]: Train loss: 0.0059, Test loss: 0.0055\n",
      "Saving model with loss 0.005...\n"
     ]
    },
    {
     "name": "stderr",
     "output_type": "stream",
     "text": [
      "Epoch [33/500]: 100%|███████████████████████████████████████████████████| 168/168 [00:01<00:00, 141.35it/s, loss=0.005]\n"
     ]
    },
    {
     "name": "stdout",
     "output_type": "stream",
     "text": [
      "Epoch [33/500]: Train loss: 0.0059, Test loss: 0.0057\n"
     ]
    },
    {
     "name": "stderr",
     "output_type": "stream",
     "text": [
      "Epoch [34/500]: 100%|██████████████████████████████████████████████████| 168/168 [00:01<00:00, 141.76it/s, loss=0.0033]\n"
     ]
    },
    {
     "name": "stdout",
     "output_type": "stream",
     "text": [
      "Epoch [34/500]: Train loss: 0.0059, Test loss: 0.0055\n"
     ]
    },
    {
     "name": "stderr",
     "output_type": "stream",
     "text": [
      "Epoch [35/500]: 100%|█████████████████████████████████████████████████| 168/168 [00:01<00:00, 136.30it/s, loss=0.00317]\n"
     ]
    },
    {
     "name": "stdout",
     "output_type": "stream",
     "text": [
      "Epoch [35/500]: Train loss: 0.0059, Test loss: 0.0055\n",
      "Saving model with loss 0.005...\n"
     ]
    },
    {
     "name": "stderr",
     "output_type": "stream",
     "text": [
      "Epoch [36/500]: 100%|█████████████████████████████████████████████████| 168/168 [00:01<00:00, 132.80it/s, loss=0.00877]\n"
     ]
    },
    {
     "name": "stdout",
     "output_type": "stream",
     "text": [
      "Epoch [36/500]: Train loss: 0.0059, Test loss: 0.0058\n"
     ]
    },
    {
     "name": "stderr",
     "output_type": "stream",
     "text": [
      "Epoch [37/500]: 100%|█████████████████████████████████████████████████| 168/168 [00:01<00:00, 147.76it/s, loss=0.00525]\n"
     ]
    },
    {
     "name": "stdout",
     "output_type": "stream",
     "text": [
      "Epoch [37/500]: Train loss: 0.0059, Test loss: 0.0054\n",
      "Saving model with loss 0.005...\n"
     ]
    },
    {
     "name": "stderr",
     "output_type": "stream",
     "text": [
      "Epoch [38/500]: 100%|█████████████████████████████████████████████████| 168/168 [00:01<00:00, 141.56it/s, loss=0.00665]\n"
     ]
    },
    {
     "name": "stdout",
     "output_type": "stream",
     "text": [
      "Epoch [38/500]: Train loss: 0.0059, Test loss: 0.0055\n"
     ]
    },
    {
     "name": "stderr",
     "output_type": "stream",
     "text": [
      "Epoch [39/500]: 100%|█████████████████████████████████████████████████| 168/168 [00:01<00:00, 125.85it/s, loss=0.00381]\n"
     ]
    },
    {
     "name": "stdout",
     "output_type": "stream",
     "text": [
      "Epoch [39/500]: Train loss: 0.0059, Test loss: 0.0055\n"
     ]
    },
    {
     "name": "stderr",
     "output_type": "stream",
     "text": [
      "Epoch [40/500]: 100%|█████████████████████████████████████████████████| 168/168 [00:01<00:00, 118.67it/s, loss=0.00496]\n"
     ]
    },
    {
     "name": "stdout",
     "output_type": "stream",
     "text": [
      "Epoch [40/500]: Train loss: 0.0059, Test loss: 0.0056\n"
     ]
    },
    {
     "name": "stderr",
     "output_type": "stream",
     "text": [
      "Epoch [41/500]: 100%|█████████████████████████████████████████████████| 168/168 [00:01<00:00, 141.28it/s, loss=0.00353]\n"
     ]
    },
    {
     "name": "stdout",
     "output_type": "stream",
     "text": [
      "Epoch [41/500]: Train loss: 0.0059, Test loss: 0.0055\n"
     ]
    },
    {
     "name": "stderr",
     "output_type": "stream",
     "text": [
      "Epoch [42/500]: 100%|█████████████████████████████████████████████████| 168/168 [00:01<00:00, 140.70it/s, loss=0.00492]\n"
     ]
    },
    {
     "name": "stdout",
     "output_type": "stream",
     "text": [
      "Epoch [42/500]: Train loss: 0.0059, Test loss: 0.0056\n"
     ]
    },
    {
     "name": "stderr",
     "output_type": "stream",
     "text": [
      "Epoch [43/500]: 100%|█████████████████████████████████████████████████| 168/168 [00:01<00:00, 136.32it/s, loss=0.00521]\n"
     ]
    },
    {
     "name": "stdout",
     "output_type": "stream",
     "text": [
      "Epoch [43/500]: Train loss: 0.0059, Test loss: 0.0055\n"
     ]
    },
    {
     "name": "stderr",
     "output_type": "stream",
     "text": [
      "Epoch [44/500]: 100%|█████████████████████████████████████████████████| 168/168 [00:01<00:00, 120.23it/s, loss=0.00657]\n"
     ]
    },
    {
     "name": "stdout",
     "output_type": "stream",
     "text": [
      "Epoch [44/500]: Train loss: 0.0059, Test loss: 0.0055\n"
     ]
    },
    {
     "name": "stderr",
     "output_type": "stream",
     "text": [
      "Epoch [45/500]: 100%|██████████████████████████████████████████████████| 168/168 [00:01<00:00, 137.89it/s, loss=0.0036]\n"
     ]
    },
    {
     "name": "stdout",
     "output_type": "stream",
     "text": [
      "Epoch [45/500]: Train loss: 0.0059, Test loss: 0.0054\n",
      "Saving model with loss 0.005...\n"
     ]
    },
    {
     "name": "stderr",
     "output_type": "stream",
     "text": [
      "Epoch [46/500]: 100%|█████████████████████████████████████████████████| 168/168 [00:01<00:00, 140.74it/s, loss=0.00348]\n"
     ]
    },
    {
     "name": "stdout",
     "output_type": "stream",
     "text": [
      "Epoch [46/500]: Train loss: 0.0059, Test loss: 0.0055\n"
     ]
    },
    {
     "name": "stderr",
     "output_type": "stream",
     "text": [
      "Epoch [47/500]: 100%|█████████████████████████████████████████████████| 168/168 [00:01<00:00, 135.38it/s, loss=0.00637]\n"
     ]
    },
    {
     "name": "stdout",
     "output_type": "stream",
     "text": [
      "Epoch [47/500]: Train loss: 0.0059, Test loss: 0.0054\n",
      "Saving model with loss 0.005...\n"
     ]
    },
    {
     "name": "stderr",
     "output_type": "stream",
     "text": [
      "Epoch [48/500]: 100%|█████████████████████████████████████████████████| 168/168 [00:01<00:00, 121.16it/s, loss=0.00399]\n"
     ]
    },
    {
     "name": "stdout",
     "output_type": "stream",
     "text": [
      "Epoch [48/500]: Train loss: 0.0059, Test loss: 0.0055\n"
     ]
    },
    {
     "name": "stderr",
     "output_type": "stream",
     "text": [
      "Epoch [49/500]: 100%|█████████████████████████████████████████████████| 168/168 [00:01<00:00, 122.48it/s, loss=0.00851]\n"
     ]
    },
    {
     "name": "stdout",
     "output_type": "stream",
     "text": [
      "Epoch [49/500]: Train loss: 0.0059, Test loss: 0.0054\n",
      "Saving model with loss 0.005...\n"
     ]
    },
    {
     "name": "stderr",
     "output_type": "stream",
     "text": [
      "Epoch [50/500]: 100%|█████████████████████████████████████████████████| 168/168 [00:01<00:00, 144.30it/s, loss=0.00257]\n"
     ]
    },
    {
     "name": "stdout",
     "output_type": "stream",
     "text": [
      "Epoch [50/500]: Train loss: 0.0058, Test loss: 0.0054\n"
     ]
    },
    {
     "name": "stderr",
     "output_type": "stream",
     "text": [
      "Epoch [51/500]: 100%|█████████████████████████████████████████████████| 168/168 [00:01<00:00, 145.55it/s, loss=0.00677]\n"
     ]
    },
    {
     "name": "stdout",
     "output_type": "stream",
     "text": [
      "Epoch [51/500]: Train loss: 0.0058, Test loss: 0.0054\n"
     ]
    },
    {
     "name": "stderr",
     "output_type": "stream",
     "text": [
      "Epoch [52/500]: 100%|█████████████████████████████████████████████████| 168/168 [00:01<00:00, 134.31it/s, loss=0.00473]\n"
     ]
    },
    {
     "name": "stdout",
     "output_type": "stream",
     "text": [
      "Epoch [52/500]: Train loss: 0.0058, Test loss: 0.0054\n"
     ]
    },
    {
     "name": "stderr",
     "output_type": "stream",
     "text": [
      "Epoch [53/500]: 100%|█████████████████████████████████████████████████| 168/168 [00:01<00:00, 124.66it/s, loss=0.00379]\n"
     ]
    },
    {
     "name": "stdout",
     "output_type": "stream",
     "text": [
      "Epoch [53/500]: Train loss: 0.0058, Test loss: 0.0055\n"
     ]
    },
    {
     "name": "stderr",
     "output_type": "stream",
     "text": [
      "Epoch [54/500]: 100%|█████████████████████████████████████████████████| 168/168 [00:01<00:00, 141.04it/s, loss=0.00244]\n"
     ]
    },
    {
     "name": "stdout",
     "output_type": "stream",
     "text": [
      "Epoch [54/500]: Train loss: 0.0058, Test loss: 0.0054\n"
     ]
    },
    {
     "name": "stderr",
     "output_type": "stream",
     "text": [
      "Epoch [55/500]: 100%|█████████████████████████████████████████████████| 168/168 [00:01<00:00, 141.32it/s, loss=0.00226]\n"
     ]
    },
    {
     "name": "stdout",
     "output_type": "stream",
     "text": [
      "Epoch [55/500]: Train loss: 0.0058, Test loss: 0.0054\n"
     ]
    },
    {
     "name": "stderr",
     "output_type": "stream",
     "text": [
      "Epoch [56/500]: 100%|█████████████████████████████████████████████████| 168/168 [00:01<00:00, 133.47it/s, loss=0.00552]\n"
     ]
    },
    {
     "name": "stdout",
     "output_type": "stream",
     "text": [
      "Epoch [56/500]: Train loss: 0.0058, Test loss: 0.0055\n"
     ]
    },
    {
     "name": "stderr",
     "output_type": "stream",
     "text": [
      "Epoch [57/500]: 100%|█████████████████████████████████████████████████| 168/168 [00:01<00:00, 145.88it/s, loss=0.00309]\n"
     ]
    },
    {
     "name": "stdout",
     "output_type": "stream",
     "text": [
      "Epoch [57/500]: Train loss: 0.0058, Test loss: 0.0054\n"
     ]
    },
    {
     "name": "stderr",
     "output_type": "stream",
     "text": [
      "Epoch [58/500]: 100%|█████████████████████████████████████████████████| 168/168 [00:01<00:00, 147.07it/s, loss=0.00438]\n"
     ]
    },
    {
     "name": "stdout",
     "output_type": "stream",
     "text": [
      "Epoch [58/500]: Train loss: 0.0058, Test loss: 0.0054\n"
     ]
    },
    {
     "name": "stderr",
     "output_type": "stream",
     "text": [
      "Epoch [59/500]: 100%|██████████████████████████████████████████████████| 168/168 [00:01<00:00, 147.17it/s, loss=0.0061]\n"
     ]
    },
    {
     "name": "stdout",
     "output_type": "stream",
     "text": [
      "Epoch [59/500]: Train loss: 0.0058, Test loss: 0.0054\n",
      "Saving model with loss 0.005...\n"
     ]
    },
    {
     "name": "stderr",
     "output_type": "stream",
     "text": [
      "Epoch [60/500]: 100%|█████████████████████████████████████████████████| 168/168 [00:01<00:00, 161.13it/s, loss=0.00288]\n"
     ]
    },
    {
     "name": "stdout",
     "output_type": "stream",
     "text": [
      "Epoch [60/500]: Train loss: 0.0058, Test loss: 0.0054\n",
      "Saving model with loss 0.005...\n"
     ]
    },
    {
     "name": "stderr",
     "output_type": "stream",
     "text": [
      "Epoch [61/500]: 100%|█████████████████████████████████████████████████| 168/168 [00:01<00:00, 140.24it/s, loss=0.00276]\n"
     ]
    },
    {
     "name": "stdout",
     "output_type": "stream",
     "text": [
      "Epoch [61/500]: Train loss: 0.0058, Test loss: 0.0054\n",
      "Saving model with loss 0.005...\n"
     ]
    },
    {
     "name": "stderr",
     "output_type": "stream",
     "text": [
      "Epoch [62/500]: 100%|█████████████████████████████████████████████████| 168/168 [00:01<00:00, 140.31it/s, loss=0.00349]\n"
     ]
    },
    {
     "name": "stdout",
     "output_type": "stream",
     "text": [
      "Epoch [62/500]: Train loss: 0.0057, Test loss: 0.0053\n",
      "Saving model with loss 0.005...\n"
     ]
    },
    {
     "name": "stderr",
     "output_type": "stream",
     "text": [
      "Epoch [63/500]: 100%|█████████████████████████████████████████████████| 168/168 [00:01<00:00, 136.08it/s, loss=0.00514]\n"
     ]
    },
    {
     "name": "stdout",
     "output_type": "stream",
     "text": [
      "Epoch [63/500]: Train loss: 0.0058, Test loss: 0.0053\n",
      "Saving model with loss 0.005...\n"
     ]
    },
    {
     "name": "stderr",
     "output_type": "stream",
     "text": [
      "Epoch [64/500]: 100%|█████████████████████████████████████████████████| 168/168 [00:01<00:00, 134.09it/s, loss=0.00593]\n"
     ]
    },
    {
     "name": "stdout",
     "output_type": "stream",
     "text": [
      "Epoch [64/500]: Train loss: 0.0057, Test loss: 0.0054\n"
     ]
    },
    {
     "name": "stderr",
     "output_type": "stream",
     "text": [
      "Epoch [65/500]: 100%|█████████████████████████████████████████████████| 168/168 [00:01<00:00, 120.39it/s, loss=0.00365]\n"
     ]
    },
    {
     "name": "stdout",
     "output_type": "stream",
     "text": [
      "Epoch [65/500]: Train loss: 0.0057, Test loss: 0.0052\n",
      "Saving model with loss 0.005...\n"
     ]
    },
    {
     "name": "stderr",
     "output_type": "stream",
     "text": [
      "Epoch [66/500]: 100%|█████████████████████████████████████████████████| 168/168 [00:01<00:00, 144.94it/s, loss=0.00249]\n"
     ]
    },
    {
     "name": "stdout",
     "output_type": "stream",
     "text": [
      "Epoch [66/500]: Train loss: 0.0057, Test loss: 0.0052\n",
      "Saving model with loss 0.005...\n"
     ]
    },
    {
     "name": "stderr",
     "output_type": "stream",
     "text": [
      "Epoch [67/500]: 100%|█████████████████████████████████████████████████| 168/168 [00:01<00:00, 134.42it/s, loss=0.00658]\n"
     ]
    },
    {
     "name": "stdout",
     "output_type": "stream",
     "text": [
      "Epoch [67/500]: Train loss: 0.0057, Test loss: 0.0053\n"
     ]
    },
    {
     "name": "stderr",
     "output_type": "stream",
     "text": [
      "Epoch [68/500]: 100%|█████████████████████████████████████████████████| 168/168 [00:01<00:00, 129.65it/s, loss=0.00234]\n"
     ]
    },
    {
     "name": "stdout",
     "output_type": "stream",
     "text": [
      "Epoch [68/500]: Train loss: 0.0057, Test loss: 0.0053\n"
     ]
    },
    {
     "name": "stderr",
     "output_type": "stream",
     "text": [
      "Epoch [69/500]: 100%|██████████████████████████████████████████████████| 168/168 [00:01<00:00, 140.00it/s, loss=0.0152]\n"
     ]
    },
    {
     "name": "stdout",
     "output_type": "stream",
     "text": [
      "Epoch [69/500]: Train loss: 0.0057, Test loss: 0.0052\n"
     ]
    },
    {
     "name": "stderr",
     "output_type": "stream",
     "text": [
      "Epoch [70/500]: 100%|█████████████████████████████████████████████████| 168/168 [00:01<00:00, 133.67it/s, loss=0.00386]\n"
     ]
    },
    {
     "name": "stdout",
     "output_type": "stream",
     "text": [
      "Epoch [70/500]: Train loss: 0.0056, Test loss: 0.0052\n"
     ]
    },
    {
     "name": "stderr",
     "output_type": "stream",
     "text": [
      "Epoch [71/500]: 100%|██████████████████████████████████████████████████| 168/168 [00:01<00:00, 123.97it/s, loss=0.0056]\n"
     ]
    },
    {
     "name": "stdout",
     "output_type": "stream",
     "text": [
      "Epoch [71/500]: Train loss: 0.0056, Test loss: 0.0052\n"
     ]
    },
    {
     "name": "stderr",
     "output_type": "stream",
     "text": [
      "Epoch [72/500]: 100%|█████████████████████████████████████████████████| 168/168 [00:01<00:00, 136.48it/s, loss=0.00479]\n"
     ]
    },
    {
     "name": "stdout",
     "output_type": "stream",
     "text": [
      "Epoch [72/500]: Train loss: 0.0056, Test loss: 0.0050\n",
      "Saving model with loss 0.005...\n"
     ]
    },
    {
     "name": "stderr",
     "output_type": "stream",
     "text": [
      "Epoch [73/500]: 100%|█████████████████████████████████████████████████| 168/168 [00:01<00:00, 132.39it/s, loss=0.00659]\n"
     ]
    },
    {
     "name": "stdout",
     "output_type": "stream",
     "text": [
      "Epoch [73/500]: Train loss: 0.0055, Test loss: 0.0050\n",
      "Saving model with loss 0.005...\n"
     ]
    },
    {
     "name": "stderr",
     "output_type": "stream",
     "text": [
      "Epoch [74/500]: 100%|█████████████████████████████████████████████████| 168/168 [00:01<00:00, 133.61it/s, loss=0.00287]\n"
     ]
    },
    {
     "name": "stdout",
     "output_type": "stream",
     "text": [
      "Epoch [74/500]: Train loss: 0.0055, Test loss: 0.0050\n"
     ]
    },
    {
     "name": "stderr",
     "output_type": "stream",
     "text": [
      "Epoch [75/500]: 100%|█████████████████████████████████████████████████| 168/168 [00:01<00:00, 139.60it/s, loss=0.00359]\n"
     ]
    },
    {
     "name": "stdout",
     "output_type": "stream",
     "text": [
      "Epoch [75/500]: Train loss: 0.0054, Test loss: 0.0051\n"
     ]
    },
    {
     "name": "stderr",
     "output_type": "stream",
     "text": [
      "Epoch [76/500]: 100%|█████████████████████████████████████████████████| 168/168 [00:01<00:00, 130.30it/s, loss=0.00416]\n"
     ]
    },
    {
     "name": "stdout",
     "output_type": "stream",
     "text": [
      "Epoch [76/500]: Train loss: 0.0054, Test loss: 0.0053\n"
     ]
    },
    {
     "name": "stderr",
     "output_type": "stream",
     "text": [
      "Epoch [77/500]: 100%|█████████████████████████████████████████████████| 168/168 [00:01<00:00, 141.13it/s, loss=0.00346]\n"
     ]
    },
    {
     "name": "stdout",
     "output_type": "stream",
     "text": [
      "Epoch [77/500]: Train loss: 0.0053, Test loss: 0.0048\n",
      "Saving model with loss 0.005...\n"
     ]
    },
    {
     "name": "stderr",
     "output_type": "stream",
     "text": [
      "Epoch [78/500]: 100%|█████████████████████████████████████████████████| 168/168 [00:01<00:00, 128.23it/s, loss=0.00613]\n"
     ]
    },
    {
     "name": "stdout",
     "output_type": "stream",
     "text": [
      "Epoch [78/500]: Train loss: 0.0053, Test loss: 0.0049\n"
     ]
    },
    {
     "name": "stderr",
     "output_type": "stream",
     "text": [
      "Epoch [79/500]: 100%|█████████████████████████████████████████████████| 168/168 [00:01<00:00, 138.36it/s, loss=0.00294]\n"
     ]
    },
    {
     "name": "stdout",
     "output_type": "stream",
     "text": [
      "Epoch [79/500]: Train loss: 0.0052, Test loss: 0.0048\n",
      "Saving model with loss 0.005...\n"
     ]
    },
    {
     "name": "stderr",
     "output_type": "stream",
     "text": [
      "Epoch [80/500]: 100%|█████████████████████████████████████████████████| 168/168 [00:01<00:00, 155.27it/s, loss=0.00329]\n"
     ]
    },
    {
     "name": "stdout",
     "output_type": "stream",
     "text": [
      "Epoch [80/500]: Train loss: 0.0052, Test loss: 0.0048\n"
     ]
    },
    {
     "name": "stderr",
     "output_type": "stream",
     "text": [
      "Epoch [81/500]: 100%|█████████████████████████████████████████████████| 168/168 [00:01<00:00, 141.27it/s, loss=0.00664]\n"
     ]
    },
    {
     "name": "stdout",
     "output_type": "stream",
     "text": [
      "Epoch [81/500]: Train loss: 0.0051, Test loss: 0.0048\n"
     ]
    },
    {
     "name": "stderr",
     "output_type": "stream",
     "text": [
      "Epoch [82/500]: 100%|█████████████████████████████████████████████████| 168/168 [00:01<00:00, 163.42it/s, loss=0.00776]\n"
     ]
    },
    {
     "name": "stdout",
     "output_type": "stream",
     "text": [
      "Epoch [82/500]: Train loss: 0.0051, Test loss: 0.0050\n"
     ]
    },
    {
     "name": "stderr",
     "output_type": "stream",
     "text": [
      "Epoch [83/500]: 100%|█████████████████████████████████████████████████| 168/168 [00:01<00:00, 144.50it/s, loss=0.00399]\n"
     ]
    },
    {
     "name": "stdout",
     "output_type": "stream",
     "text": [
      "Epoch [83/500]: Train loss: 0.0052, Test loss: 0.0046\n",
      "Saving model with loss 0.005...\n"
     ]
    },
    {
     "name": "stderr",
     "output_type": "stream",
     "text": [
      "Epoch [84/500]: 100%|█████████████████████████████████████████████████| 168/168 [00:01<00:00, 143.19it/s, loss=0.00287]\n"
     ]
    },
    {
     "name": "stdout",
     "output_type": "stream",
     "text": [
      "Epoch [84/500]: Train loss: 0.0050, Test loss: 0.0047\n"
     ]
    },
    {
     "name": "stderr",
     "output_type": "stream",
     "text": [
      "Epoch [85/500]: 100%|█████████████████████████████████████████████████| 168/168 [00:01<00:00, 139.00it/s, loss=0.00394]\n"
     ]
    },
    {
     "name": "stdout",
     "output_type": "stream",
     "text": [
      "Epoch [85/500]: Train loss: 0.0051, Test loss: 0.0046\n",
      "Saving model with loss 0.005...\n"
     ]
    },
    {
     "name": "stderr",
     "output_type": "stream",
     "text": [
      "Epoch [86/500]: 100%|█████████████████████████████████████████████████| 168/168 [00:01<00:00, 132.68it/s, loss=0.00204]\n"
     ]
    },
    {
     "name": "stdout",
     "output_type": "stream",
     "text": [
      "Epoch [86/500]: Train loss: 0.0051, Test loss: 0.0045\n",
      "Saving model with loss 0.005...\n"
     ]
    },
    {
     "name": "stderr",
     "output_type": "stream",
     "text": [
      "Epoch [87/500]: 100%|█████████████████████████████████████████████████| 168/168 [00:01<00:00, 147.06it/s, loss=0.00422]\n"
     ]
    },
    {
     "name": "stdout",
     "output_type": "stream",
     "text": [
      "Epoch [87/500]: Train loss: 0.0050, Test loss: 0.0046\n"
     ]
    },
    {
     "name": "stderr",
     "output_type": "stream",
     "text": [
      "Epoch [88/500]: 100%|█████████████████████████████████████████████████| 168/168 [00:01<00:00, 126.50it/s, loss=0.00421]\n"
     ]
    },
    {
     "name": "stdout",
     "output_type": "stream",
     "text": [
      "Epoch [88/500]: Train loss: 0.0050, Test loss: 0.0049\n"
     ]
    },
    {
     "name": "stderr",
     "output_type": "stream",
     "text": [
      "Epoch [89/500]: 100%|█████████████████████████████████████████████████| 168/168 [00:01<00:00, 146.17it/s, loss=0.00817]\n"
     ]
    },
    {
     "name": "stdout",
     "output_type": "stream",
     "text": [
      "Epoch [89/500]: Train loss: 0.0050, Test loss: 0.0046\n"
     ]
    },
    {
     "name": "stderr",
     "output_type": "stream",
     "text": [
      "Epoch [90/500]: 100%|██████████████████████████████████████████████████| 168/168 [00:01<00:00, 131.68it/s, loss=0.0046]\n"
     ]
    },
    {
     "name": "stdout",
     "output_type": "stream",
     "text": [
      "Epoch [90/500]: Train loss: 0.0050, Test loss: 0.0045\n"
     ]
    },
    {
     "name": "stderr",
     "output_type": "stream",
     "text": [
      "Epoch [91/500]: 100%|█████████████████████████████████████████████████| 168/168 [00:01<00:00, 136.82it/s, loss=0.00468]\n"
     ]
    },
    {
     "name": "stdout",
     "output_type": "stream",
     "text": [
      "Epoch [91/500]: Train loss: 0.0049, Test loss: 0.0044\n",
      "Saving model with loss 0.004...\n"
     ]
    },
    {
     "name": "stderr",
     "output_type": "stream",
     "text": [
      "Epoch [92/500]: 100%|█████████████████████████████████████████████████| 168/168 [00:01<00:00, 136.62it/s, loss=0.00297]\n"
     ]
    },
    {
     "name": "stdout",
     "output_type": "stream",
     "text": [
      "Epoch [92/500]: Train loss: 0.0049, Test loss: 0.0048\n"
     ]
    },
    {
     "name": "stderr",
     "output_type": "stream",
     "text": [
      "Epoch [93/500]: 100%|█████████████████████████████████████████████████| 168/168 [00:01<00:00, 140.09it/s, loss=0.00462]\n"
     ]
    },
    {
     "name": "stdout",
     "output_type": "stream",
     "text": [
      "Epoch [93/500]: Train loss: 0.0049, Test loss: 0.0046\n"
     ]
    },
    {
     "name": "stderr",
     "output_type": "stream",
     "text": [
      "Epoch [94/500]: 100%|█████████████████████████████████████████████████| 168/168 [00:01<00:00, 136.77it/s, loss=0.00468]\n"
     ]
    },
    {
     "name": "stdout",
     "output_type": "stream",
     "text": [
      "Epoch [94/500]: Train loss: 0.0049, Test loss: 0.0044\n",
      "Saving model with loss 0.004...\n"
     ]
    },
    {
     "name": "stderr",
     "output_type": "stream",
     "text": [
      "Epoch [95/500]: 100%|█████████████████████████████████████████████████| 168/168 [00:01<00:00, 151.53it/s, loss=0.00335]\n"
     ]
    },
    {
     "name": "stdout",
     "output_type": "stream",
     "text": [
      "Epoch [95/500]: Train loss: 0.0049, Test loss: 0.0045\n"
     ]
    },
    {
     "name": "stderr",
     "output_type": "stream",
     "text": [
      "Epoch [96/500]: 100%|█████████████████████████████████████████████████| 168/168 [00:01<00:00, 142.89it/s, loss=0.00437]\n"
     ]
    },
    {
     "name": "stdout",
     "output_type": "stream",
     "text": [
      "Epoch [96/500]: Train loss: 0.0048, Test loss: 0.0044\n",
      "Saving model with loss 0.004...\n"
     ]
    },
    {
     "name": "stderr",
     "output_type": "stream",
     "text": [
      "Epoch [97/500]: 100%|█████████████████████████████████████████████████| 168/168 [00:01<00:00, 133.13it/s, loss=0.00634]\n"
     ]
    },
    {
     "name": "stdout",
     "output_type": "stream",
     "text": [
      "Epoch [97/500]: Train loss: 0.0048, Test loss: 0.0044\n",
      "Saving model with loss 0.004...\n"
     ]
    },
    {
     "name": "stderr",
     "output_type": "stream",
     "text": [
      "Epoch [98/500]: 100%|█████████████████████████████████████████████████| 168/168 [00:01<00:00, 143.28it/s, loss=0.00595]\n"
     ]
    },
    {
     "name": "stdout",
     "output_type": "stream",
     "text": [
      "Epoch [98/500]: Train loss: 0.0048, Test loss: 0.0044\n"
     ]
    },
    {
     "name": "stderr",
     "output_type": "stream",
     "text": [
      "Epoch [99/500]: 100%|█████████████████████████████████████████████████| 168/168 [00:01<00:00, 140.48it/s, loss=0.00271]\n"
     ]
    },
    {
     "name": "stdout",
     "output_type": "stream",
     "text": [
      "Epoch [99/500]: Train loss: 0.0048, Test loss: 0.0045\n"
     ]
    },
    {
     "name": "stderr",
     "output_type": "stream",
     "text": [
      "Epoch [100/500]: 100%|████████████████████████████████████████████████| 168/168 [00:01<00:00, 127.82it/s, loss=0.00633]\n"
     ]
    },
    {
     "name": "stdout",
     "output_type": "stream",
     "text": [
      "Epoch [100/500]: Train loss: 0.0048, Test loss: 0.0047\n"
     ]
    },
    {
     "name": "stderr",
     "output_type": "stream",
     "text": [
      "Epoch [101/500]: 100%|████████████████████████████████████████████████| 168/168 [00:01<00:00, 159.78it/s, loss=0.00813]\n"
     ]
    },
    {
     "name": "stdout",
     "output_type": "stream",
     "text": [
      "Epoch [101/500]: Train loss: 0.0048, Test loss: 0.0045\n"
     ]
    },
    {
     "name": "stderr",
     "output_type": "stream",
     "text": [
      "Epoch [102/500]: 100%|████████████████████████████████████████████████| 168/168 [00:01<00:00, 150.86it/s, loss=0.00285]\n"
     ]
    },
    {
     "name": "stdout",
     "output_type": "stream",
     "text": [
      "Epoch [102/500]: Train loss: 0.0048, Test loss: 0.0046\n"
     ]
    },
    {
     "name": "stderr",
     "output_type": "stream",
     "text": [
      "Epoch [103/500]: 100%|████████████████████████████████████████████████| 168/168 [00:01<00:00, 143.98it/s, loss=0.00242]\n"
     ]
    },
    {
     "name": "stdout",
     "output_type": "stream",
     "text": [
      "Epoch [103/500]: Train loss: 0.0047, Test loss: 0.0044\n",
      "Saving model with loss 0.004...\n"
     ]
    },
    {
     "name": "stderr",
     "output_type": "stream",
     "text": [
      "Epoch [104/500]: 100%|████████████████████████████████████████████████| 168/168 [00:01<00:00, 153.22it/s, loss=0.00368]\n"
     ]
    },
    {
     "name": "stdout",
     "output_type": "stream",
     "text": [
      "Epoch [104/500]: Train loss: 0.0047, Test loss: 0.0044\n"
     ]
    },
    {
     "name": "stderr",
     "output_type": "stream",
     "text": [
      "Epoch [105/500]: 100%|████████████████████████████████████████████████| 168/168 [00:01<00:00, 154.86it/s, loss=0.00246]\n"
     ]
    },
    {
     "name": "stdout",
     "output_type": "stream",
     "text": [
      "Epoch [105/500]: Train loss: 0.0047, Test loss: 0.0046\n"
     ]
    },
    {
     "name": "stderr",
     "output_type": "stream",
     "text": [
      "Epoch [106/500]: 100%|████████████████████████████████████████████████| 168/168 [00:01<00:00, 142.73it/s, loss=0.00328]\n"
     ]
    },
    {
     "name": "stdout",
     "output_type": "stream",
     "text": [
      "Epoch [106/500]: Train loss: 0.0047, Test loss: 0.0044\n"
     ]
    },
    {
     "name": "stderr",
     "output_type": "stream",
     "text": [
      "Epoch [107/500]: 100%|████████████████████████████████████████████████| 168/168 [00:01<00:00, 149.96it/s, loss=0.00783]\n"
     ]
    },
    {
     "name": "stdout",
     "output_type": "stream",
     "text": [
      "Epoch [107/500]: Train loss: 0.0047, Test loss: 0.0044\n"
     ]
    },
    {
     "name": "stderr",
     "output_type": "stream",
     "text": [
      "Epoch [108/500]: 100%|████████████████████████████████████████████████| 168/168 [00:01<00:00, 162.17it/s, loss=0.00205]\n"
     ]
    },
    {
     "name": "stdout",
     "output_type": "stream",
     "text": [
      "Epoch [108/500]: Train loss: 0.0047, Test loss: 0.0044\n"
     ]
    },
    {
     "name": "stderr",
     "output_type": "stream",
     "text": [
      "Epoch [109/500]: 100%|████████████████████████████████████████████████| 168/168 [00:01<00:00, 152.99it/s, loss=0.00659]\n"
     ]
    },
    {
     "name": "stdout",
     "output_type": "stream",
     "text": [
      "Epoch [109/500]: Train loss: 0.0047, Test loss: 0.0045\n"
     ]
    },
    {
     "name": "stderr",
     "output_type": "stream",
     "text": [
      "Epoch [110/500]: 100%|████████████████████████████████████████████████| 168/168 [00:01<00:00, 152.20it/s, loss=0.00393]\n"
     ]
    },
    {
     "name": "stdout",
     "output_type": "stream",
     "text": [
      "Epoch [110/500]: Train loss: 0.0046, Test loss: 0.0047\n"
     ]
    },
    {
     "name": "stderr",
     "output_type": "stream",
     "text": [
      "Epoch [111/500]: 100%|████████████████████████████████████████████████| 168/168 [00:01<00:00, 142.28it/s, loss=0.00453]\n"
     ]
    },
    {
     "name": "stdout",
     "output_type": "stream",
     "text": [
      "Epoch [111/500]: Train loss: 0.0046, Test loss: 0.0043\n",
      "Saving model with loss 0.004...\n"
     ]
    },
    {
     "name": "stderr",
     "output_type": "stream",
     "text": [
      "Epoch [112/500]: 100%|████████████████████████████████████████████████| 168/168 [00:01<00:00, 155.09it/s, loss=0.00433]\n"
     ]
    },
    {
     "name": "stdout",
     "output_type": "stream",
     "text": [
      "Epoch [112/500]: Train loss: 0.0046, Test loss: 0.0047\n"
     ]
    },
    {
     "name": "stderr",
     "output_type": "stream",
     "text": [
      "Epoch [113/500]: 100%|████████████████████████████████████████████████| 168/168 [00:01<00:00, 153.59it/s, loss=0.00569]\n"
     ]
    },
    {
     "name": "stdout",
     "output_type": "stream",
     "text": [
      "Epoch [113/500]: Train loss: 0.0046, Test loss: 0.0051\n"
     ]
    },
    {
     "name": "stderr",
     "output_type": "stream",
     "text": [
      "Epoch [114/500]: 100%|████████████████████████████████████████████████| 168/168 [00:01<00:00, 139.74it/s, loss=0.00511]\n"
     ]
    },
    {
     "name": "stdout",
     "output_type": "stream",
     "text": [
      "Epoch [114/500]: Train loss: 0.0047, Test loss: 0.0044\n"
     ]
    },
    {
     "name": "stderr",
     "output_type": "stream",
     "text": [
      "Epoch [115/500]: 100%|████████████████████████████████████████████████| 168/168 [00:01<00:00, 161.58it/s, loss=0.00538]\n"
     ]
    },
    {
     "name": "stdout",
     "output_type": "stream",
     "text": [
      "Epoch [115/500]: Train loss: 0.0046, Test loss: 0.0042\n",
      "Saving model with loss 0.004...\n"
     ]
    },
    {
     "name": "stderr",
     "output_type": "stream",
     "text": [
      "Epoch [116/500]: 100%|████████████████████████████████████████████████| 168/168 [00:01<00:00, 144.23it/s, loss=0.00184]\n"
     ]
    },
    {
     "name": "stdout",
     "output_type": "stream",
     "text": [
      "Epoch [116/500]: Train loss: 0.0046, Test loss: 0.0045\n"
     ]
    },
    {
     "name": "stderr",
     "output_type": "stream",
     "text": [
      "Epoch [117/500]: 100%|████████████████████████████████████████████████| 168/168 [00:01<00:00, 135.81it/s, loss=0.00366]\n"
     ]
    },
    {
     "name": "stdout",
     "output_type": "stream",
     "text": [
      "Epoch [117/500]: Train loss: 0.0046, Test loss: 0.0042\n",
      "Saving model with loss 0.004...\n"
     ]
    },
    {
     "name": "stderr",
     "output_type": "stream",
     "text": [
      "Epoch [118/500]: 100%|████████████████████████████████████████████████| 168/168 [00:01<00:00, 149.10it/s, loss=0.00398]\n"
     ]
    },
    {
     "name": "stdout",
     "output_type": "stream",
     "text": [
      "Epoch [118/500]: Train loss: 0.0045, Test loss: 0.0043\n"
     ]
    },
    {
     "name": "stderr",
     "output_type": "stream",
     "text": [
      "Epoch [119/500]: 100%|████████████████████████████████████████████████| 168/168 [00:01<00:00, 148.36it/s, loss=0.00319]\n"
     ]
    },
    {
     "name": "stdout",
     "output_type": "stream",
     "text": [
      "Epoch [119/500]: Train loss: 0.0045, Test loss: 0.0042\n",
      "Saving model with loss 0.004...\n"
     ]
    },
    {
     "name": "stderr",
     "output_type": "stream",
     "text": [
      "Epoch [120/500]: 100%|████████████████████████████████████████████████| 168/168 [00:01<00:00, 165.26it/s, loss=0.00589]\n"
     ]
    },
    {
     "name": "stdout",
     "output_type": "stream",
     "text": [
      "Epoch [120/500]: Train loss: 0.0044, Test loss: 0.0042\n"
     ]
    },
    {
     "name": "stderr",
     "output_type": "stream",
     "text": [
      "Epoch [121/500]: 100%|████████████████████████████████████████████████| 168/168 [00:01<00:00, 164.54it/s, loss=0.00412]\n"
     ]
    },
    {
     "name": "stdout",
     "output_type": "stream",
     "text": [
      "Epoch [121/500]: Train loss: 0.0045, Test loss: 0.0042\n"
     ]
    },
    {
     "name": "stderr",
     "output_type": "stream",
     "text": [
      "Epoch [122/500]: 100%|████████████████████████████████████████████████| 168/168 [00:01<00:00, 147.14it/s, loss=0.00719]\n"
     ]
    },
    {
     "name": "stdout",
     "output_type": "stream",
     "text": [
      "Epoch [122/500]: Train loss: 0.0045, Test loss: 0.0041\n",
      "Saving model with loss 0.004...\n"
     ]
    },
    {
     "name": "stderr",
     "output_type": "stream",
     "text": [
      "Epoch [123/500]: 100%|████████████████████████████████████████████████| 168/168 [00:01<00:00, 143.85it/s, loss=0.00478]\n"
     ]
    },
    {
     "name": "stdout",
     "output_type": "stream",
     "text": [
      "Epoch [123/500]: Train loss: 0.0044, Test loss: 0.0044\n"
     ]
    },
    {
     "name": "stderr",
     "output_type": "stream",
     "text": [
      "Epoch [124/500]: 100%|████████████████████████████████████████████████| 168/168 [00:01<00:00, 140.71it/s, loss=0.00451]\n"
     ]
    },
    {
     "name": "stdout",
     "output_type": "stream",
     "text": [
      "Epoch [124/500]: Train loss: 0.0045, Test loss: 0.0042\n"
     ]
    },
    {
     "name": "stderr",
     "output_type": "stream",
     "text": [
      "Epoch [125/500]: 100%|████████████████████████████████████████████████| 168/168 [00:01<00:00, 133.99it/s, loss=0.00191]\n"
     ]
    },
    {
     "name": "stdout",
     "output_type": "stream",
     "text": [
      "Epoch [125/500]: Train loss: 0.0044, Test loss: 0.0042\n"
     ]
    },
    {
     "name": "stderr",
     "output_type": "stream",
     "text": [
      "Epoch [126/500]: 100%|████████████████████████████████████████████████| 168/168 [00:01<00:00, 151.04it/s, loss=0.00354]\n"
     ]
    },
    {
     "name": "stdout",
     "output_type": "stream",
     "text": [
      "Epoch [126/500]: Train loss: 0.0044, Test loss: 0.0041\n",
      "Saving model with loss 0.004...\n"
     ]
    },
    {
     "name": "stderr",
     "output_type": "stream",
     "text": [
      "Epoch [127/500]: 100%|████████████████████████████████████████████████| 168/168 [00:01<00:00, 140.49it/s, loss=0.00463]\n"
     ]
    },
    {
     "name": "stdout",
     "output_type": "stream",
     "text": [
      "Epoch [127/500]: Train loss: 0.0043, Test loss: 0.0042\n"
     ]
    },
    {
     "name": "stderr",
     "output_type": "stream",
     "text": [
      "Epoch [128/500]: 100%|█████████████████████████████████████████████████| 168/168 [00:01<00:00, 151.96it/s, loss=0.0035]\n"
     ]
    },
    {
     "name": "stdout",
     "output_type": "stream",
     "text": [
      "Epoch [128/500]: Train loss: 0.0044, Test loss: 0.0042\n"
     ]
    },
    {
     "name": "stderr",
     "output_type": "stream",
     "text": [
      "Epoch [129/500]: 100%|████████████████████████████████████████████████| 168/168 [00:01<00:00, 142.55it/s, loss=0.00215]\n"
     ]
    },
    {
     "name": "stdout",
     "output_type": "stream",
     "text": [
      "Epoch [129/500]: Train loss: 0.0043, Test loss: 0.0040\n",
      "Saving model with loss 0.004...\n"
     ]
    },
    {
     "name": "stderr",
     "output_type": "stream",
     "text": [
      "Epoch [130/500]: 100%|████████████████████████████████████████████████| 168/168 [00:01<00:00, 151.87it/s, loss=0.00371]\n"
     ]
    },
    {
     "name": "stdout",
     "output_type": "stream",
     "text": [
      "Epoch [130/500]: Train loss: 0.0043, Test loss: 0.0043\n"
     ]
    },
    {
     "name": "stderr",
     "output_type": "stream",
     "text": [
      "Epoch [131/500]: 100%|████████████████████████████████████████████████| 168/168 [00:01<00:00, 140.94it/s, loss=0.00206]\n"
     ]
    },
    {
     "name": "stdout",
     "output_type": "stream",
     "text": [
      "Epoch [131/500]: Train loss: 0.0043, Test loss: 0.0042\n"
     ]
    },
    {
     "name": "stderr",
     "output_type": "stream",
     "text": [
      "Epoch [132/500]: 100%|████████████████████████████████████████████████| 168/168 [00:01<00:00, 155.05it/s, loss=0.00616]\n"
     ]
    },
    {
     "name": "stdout",
     "output_type": "stream",
     "text": [
      "Epoch [132/500]: Train loss: 0.0043, Test loss: 0.0043\n"
     ]
    },
    {
     "name": "stderr",
     "output_type": "stream",
     "text": [
      "Epoch [133/500]: 100%|████████████████████████████████████████████████| 168/168 [00:01<00:00, 143.36it/s, loss=0.00464]\n"
     ]
    },
    {
     "name": "stdout",
     "output_type": "stream",
     "text": [
      "Epoch [133/500]: Train loss: 0.0042, Test loss: 0.0041\n"
     ]
    },
    {
     "name": "stderr",
     "output_type": "stream",
     "text": [
      "Epoch [134/500]: 100%|████████████████████████████████████████████████| 168/168 [00:01<00:00, 152.75it/s, loss=0.00323]\n"
     ]
    },
    {
     "name": "stdout",
     "output_type": "stream",
     "text": [
      "Epoch [134/500]: Train loss: 0.0042, Test loss: 0.0043\n"
     ]
    },
    {
     "name": "stderr",
     "output_type": "stream",
     "text": [
      "Epoch [135/500]: 100%|████████████████████████████████████████████████| 168/168 [00:01<00:00, 150.24it/s, loss=0.00608]\n"
     ]
    },
    {
     "name": "stdout",
     "output_type": "stream",
     "text": [
      "Epoch [135/500]: Train loss: 0.0042, Test loss: 0.0041\n"
     ]
    },
    {
     "name": "stderr",
     "output_type": "stream",
     "text": [
      "Epoch [136/500]: 100%|████████████████████████████████████████████████| 168/168 [00:01<00:00, 153.15it/s, loss=0.00504]\n"
     ]
    },
    {
     "name": "stdout",
     "output_type": "stream",
     "text": [
      "Epoch [136/500]: Train loss: 0.0041, Test loss: 0.0039\n",
      "Saving model with loss 0.004...\n"
     ]
    },
    {
     "name": "stderr",
     "output_type": "stream",
     "text": [
      "Epoch [137/500]: 100%|████████████████████████████████████████████████| 168/168 [00:01<00:00, 148.46it/s, loss=0.00332]\n"
     ]
    },
    {
     "name": "stdout",
     "output_type": "stream",
     "text": [
      "Epoch [137/500]: Train loss: 0.0042, Test loss: 0.0039\n",
      "Saving model with loss 0.004...\n"
     ]
    },
    {
     "name": "stderr",
     "output_type": "stream",
     "text": [
      "Epoch [138/500]: 100%|████████████████████████████████████████████████| 168/168 [00:01<00:00, 144.26it/s, loss=0.00978]\n"
     ]
    },
    {
     "name": "stdout",
     "output_type": "stream",
     "text": [
      "Epoch [138/500]: Train loss: 0.0041, Test loss: 0.0040\n"
     ]
    },
    {
     "name": "stderr",
     "output_type": "stream",
     "text": [
      "Epoch [139/500]: 100%|████████████████████████████████████████████████| 168/168 [00:01<00:00, 143.71it/s, loss=0.00323]\n"
     ]
    },
    {
     "name": "stdout",
     "output_type": "stream",
     "text": [
      "Epoch [139/500]: Train loss: 0.0041, Test loss: 0.0039\n",
      "Saving model with loss 0.004...\n"
     ]
    },
    {
     "name": "stderr",
     "output_type": "stream",
     "text": [
      "Epoch [140/500]: 100%|████████████████████████████████████████████████| 168/168 [00:01<00:00, 142.61it/s, loss=0.00791]\n"
     ]
    },
    {
     "name": "stdout",
     "output_type": "stream",
     "text": [
      "Epoch [140/500]: Train loss: 0.0041, Test loss: 0.0049\n"
     ]
    },
    {
     "name": "stderr",
     "output_type": "stream",
     "text": [
      "Epoch [141/500]: 100%|████████████████████████████████████████████████| 168/168 [00:01<00:00, 131.82it/s, loss=0.00272]\n"
     ]
    },
    {
     "name": "stdout",
     "output_type": "stream",
     "text": [
      "Epoch [141/500]: Train loss: 0.0041, Test loss: 0.0039\n"
     ]
    },
    {
     "name": "stderr",
     "output_type": "stream",
     "text": [
      "Epoch [142/500]: 100%|████████████████████████████████████████████████| 168/168 [00:01<00:00, 142.18it/s, loss=0.00294]\n"
     ]
    },
    {
     "name": "stdout",
     "output_type": "stream",
     "text": [
      "Epoch [142/500]: Train loss: 0.0040, Test loss: 0.0039\n",
      "Saving model with loss 0.004...\n"
     ]
    },
    {
     "name": "stderr",
     "output_type": "stream",
     "text": [
      "Epoch [143/500]: 100%|████████████████████████████████████████████████| 168/168 [00:01<00:00, 130.57it/s, loss=0.00286]\n"
     ]
    },
    {
     "name": "stdout",
     "output_type": "stream",
     "text": [
      "Epoch [143/500]: Train loss: 0.0041, Test loss: 0.0039\n"
     ]
    },
    {
     "name": "stderr",
     "output_type": "stream",
     "text": [
      "Epoch [144/500]: 100%|████████████████████████████████████████████████| 168/168 [00:01<00:00, 148.71it/s, loss=0.00327]\n"
     ]
    },
    {
     "name": "stdout",
     "output_type": "stream",
     "text": [
      "Epoch [144/500]: Train loss: 0.0040, Test loss: 0.0040\n"
     ]
    },
    {
     "name": "stderr",
     "output_type": "stream",
     "text": [
      "Epoch [145/500]: 100%|████████████████████████████████████████████████| 168/168 [00:01<00:00, 139.51it/s, loss=0.00228]\n"
     ]
    },
    {
     "name": "stdout",
     "output_type": "stream",
     "text": [
      "Epoch [145/500]: Train loss: 0.0039, Test loss: 0.0039\n"
     ]
    },
    {
     "name": "stderr",
     "output_type": "stream",
     "text": [
      "Epoch [146/500]: 100%|████████████████████████████████████████████████| 168/168 [00:01<00:00, 149.26it/s, loss=0.00306]\n"
     ]
    },
    {
     "name": "stdout",
     "output_type": "stream",
     "text": [
      "Epoch [146/500]: Train loss: 0.0040, Test loss: 0.0039\n"
     ]
    },
    {
     "name": "stderr",
     "output_type": "stream",
     "text": [
      "Epoch [147/500]: 100%|████████████████████████████████████████████████| 168/168 [00:01<00:00, 141.62it/s, loss=0.00457]\n"
     ]
    },
    {
     "name": "stdout",
     "output_type": "stream",
     "text": [
      "Epoch [147/500]: Train loss: 0.0040, Test loss: 0.0041\n"
     ]
    },
    {
     "name": "stderr",
     "output_type": "stream",
     "text": [
      "Epoch [148/500]: 100%|█████████████████████████████████████████████████| 168/168 [00:01<00:00, 148.65it/s, loss=0.0031]\n"
     ]
    },
    {
     "name": "stdout",
     "output_type": "stream",
     "text": [
      "Epoch [148/500]: Train loss: 0.0039, Test loss: 0.0044\n"
     ]
    },
    {
     "name": "stderr",
     "output_type": "stream",
     "text": [
      "Epoch [149/500]: 100%|████████████████████████████████████████████████| 168/168 [00:01<00:00, 144.69it/s, loss=0.00412]\n"
     ]
    },
    {
     "name": "stdout",
     "output_type": "stream",
     "text": [
      "Epoch [149/500]: Train loss: 0.0040, Test loss: 0.0039\n"
     ]
    },
    {
     "name": "stderr",
     "output_type": "stream",
     "text": [
      "Epoch [150/500]: 100%|████████████████████████████████████████████████| 168/168 [00:01<00:00, 133.22it/s, loss=0.00378]\n"
     ]
    },
    {
     "name": "stdout",
     "output_type": "stream",
     "text": [
      "Epoch [150/500]: Train loss: 0.0039, Test loss: 0.0042\n"
     ]
    },
    {
     "name": "stderr",
     "output_type": "stream",
     "text": [
      "Epoch [151/500]: 100%|████████████████████████████████████████████████| 168/168 [00:01<00:00, 148.79it/s, loss=0.00246]\n"
     ]
    },
    {
     "name": "stdout",
     "output_type": "stream",
     "text": [
      "Epoch [151/500]: Train loss: 0.0039, Test loss: 0.0039\n"
     ]
    },
    {
     "name": "stderr",
     "output_type": "stream",
     "text": [
      "Epoch [152/500]: 100%|████████████████████████████████████████████████| 168/168 [00:01<00:00, 132.06it/s, loss=0.00296]\n"
     ]
    },
    {
     "name": "stdout",
     "output_type": "stream",
     "text": [
      "Epoch [152/500]: Train loss: 0.0039, Test loss: 0.0038\n",
      "Saving model with loss 0.004...\n"
     ]
    },
    {
     "name": "stderr",
     "output_type": "stream",
     "text": [
      "Epoch [153/500]: 100%|████████████████████████████████████████████████| 168/168 [00:01<00:00, 141.71it/s, loss=0.00338]\n"
     ]
    },
    {
     "name": "stdout",
     "output_type": "stream",
     "text": [
      "Epoch [153/500]: Train loss: 0.0039, Test loss: 0.0040\n"
     ]
    },
    {
     "name": "stderr",
     "output_type": "stream",
     "text": [
      "Epoch [154/500]: 100%|█████████████████████████████████████████████████| 168/168 [00:01<00:00, 157.05it/s, loss=0.0049]\n"
     ]
    },
    {
     "name": "stdout",
     "output_type": "stream",
     "text": [
      "Epoch [154/500]: Train loss: 0.0038, Test loss: 0.0038\n",
      "Saving model with loss 0.004...\n"
     ]
    },
    {
     "name": "stderr",
     "output_type": "stream",
     "text": [
      "Epoch [155/500]: 100%|████████████████████████████████████████████████| 168/168 [00:01<00:00, 139.08it/s, loss=0.00333]\n"
     ]
    },
    {
     "name": "stdout",
     "output_type": "stream",
     "text": [
      "Epoch [155/500]: Train loss: 0.0038, Test loss: 0.0040\n"
     ]
    },
    {
     "name": "stderr",
     "output_type": "stream",
     "text": [
      "Epoch [156/500]: 100%|████████████████████████████████████████████████| 168/168 [00:01<00:00, 153.51it/s, loss=0.00494]\n"
     ]
    },
    {
     "name": "stdout",
     "output_type": "stream",
     "text": [
      "Epoch [156/500]: Train loss: 0.0037, Test loss: 0.0038\n"
     ]
    },
    {
     "name": "stderr",
     "output_type": "stream",
     "text": [
      "Epoch [157/500]: 100%|████████████████████████████████████████████████| 168/168 [00:01<00:00, 142.36it/s, loss=0.00552]\n"
     ]
    },
    {
     "name": "stdout",
     "output_type": "stream",
     "text": [
      "Epoch [157/500]: Train loss: 0.0037, Test loss: 0.0037\n",
      "Saving model with loss 0.004...\n"
     ]
    },
    {
     "name": "stderr",
     "output_type": "stream",
     "text": [
      "Epoch [158/500]: 100%|████████████████████████████████████████████████| 168/168 [00:01<00:00, 149.72it/s, loss=0.00314]\n"
     ]
    },
    {
     "name": "stdout",
     "output_type": "stream",
     "text": [
      "Epoch [158/500]: Train loss: 0.0037, Test loss: 0.0038\n"
     ]
    },
    {
     "name": "stderr",
     "output_type": "stream",
     "text": [
      "Epoch [159/500]: 100%|████████████████████████████████████████████████| 168/168 [00:01<00:00, 151.46it/s, loss=0.00588]\n"
     ]
    },
    {
     "name": "stdout",
     "output_type": "stream",
     "text": [
      "Epoch [159/500]: Train loss: 0.0037, Test loss: 0.0037\n",
      "Saving model with loss 0.004...\n"
     ]
    },
    {
     "name": "stderr",
     "output_type": "stream",
     "text": [
      "Epoch [160/500]: 100%|████████████████████████████████████████████████| 168/168 [00:01<00:00, 139.77it/s, loss=0.00324]\n"
     ]
    },
    {
     "name": "stdout",
     "output_type": "stream",
     "text": [
      "Epoch [160/500]: Train loss: 0.0037, Test loss: 0.0036\n",
      "Saving model with loss 0.004...\n"
     ]
    },
    {
     "name": "stderr",
     "output_type": "stream",
     "text": [
      "Epoch [161/500]: 100%|████████████████████████████████████████████████| 168/168 [00:01<00:00, 154.17it/s, loss=0.00227]\n"
     ]
    },
    {
     "name": "stdout",
     "output_type": "stream",
     "text": [
      "Epoch [161/500]: Train loss: 0.0036, Test loss: 0.0038\n"
     ]
    },
    {
     "name": "stderr",
     "output_type": "stream",
     "text": [
      "Epoch [162/500]: 100%|████████████████████████████████████████████████| 168/168 [00:01<00:00, 143.73it/s, loss=0.00357]\n"
     ]
    },
    {
     "name": "stdout",
     "output_type": "stream",
     "text": [
      "Epoch [162/500]: Train loss: 0.0036, Test loss: 0.0037\n"
     ]
    },
    {
     "name": "stderr",
     "output_type": "stream",
     "text": [
      "Epoch [163/500]: 100%|█████████████████████████████████████████████████| 168/168 [00:01<00:00, 147.11it/s, loss=0.0025]\n"
     ]
    },
    {
     "name": "stdout",
     "output_type": "stream",
     "text": [
      "Epoch [163/500]: Train loss: 0.0036, Test loss: 0.0041\n"
     ]
    },
    {
     "name": "stderr",
     "output_type": "stream",
     "text": [
      "Epoch [164/500]: 100%|████████████████████████████████████████████████| 168/168 [00:01<00:00, 139.34it/s, loss=0.00508]\n"
     ]
    },
    {
     "name": "stdout",
     "output_type": "stream",
     "text": [
      "Epoch [164/500]: Train loss: 0.0035, Test loss: 0.0040\n"
     ]
    },
    {
     "name": "stderr",
     "output_type": "stream",
     "text": [
      "Epoch [165/500]: 100%|████████████████████████████████████████████████| 168/168 [00:01<00:00, 135.33it/s, loss=0.00505]\n"
     ]
    },
    {
     "name": "stdout",
     "output_type": "stream",
     "text": [
      "Epoch [165/500]: Train loss: 0.0035, Test loss: 0.0038\n"
     ]
    },
    {
     "name": "stderr",
     "output_type": "stream",
     "text": [
      "Epoch [166/500]: 100%|████████████████████████████████████████████████| 168/168 [00:01<00:00, 150.51it/s, loss=0.00538]\n"
     ]
    },
    {
     "name": "stdout",
     "output_type": "stream",
     "text": [
      "Epoch [166/500]: Train loss: 0.0035, Test loss: 0.0035\n",
      "Saving model with loss 0.004...\n"
     ]
    },
    {
     "name": "stderr",
     "output_type": "stream",
     "text": [
      "Epoch [167/500]: 100%|████████████████████████████████████████████████| 168/168 [00:01<00:00, 146.37it/s, loss=0.00479]\n"
     ]
    },
    {
     "name": "stdout",
     "output_type": "stream",
     "text": [
      "Epoch [167/500]: Train loss: 0.0035, Test loss: 0.0036\n"
     ]
    },
    {
     "name": "stderr",
     "output_type": "stream",
     "text": [
      "Epoch [168/500]: 100%|████████████████████████████████████████████████| 168/168 [00:01<00:00, 140.04it/s, loss=0.00172]\n"
     ]
    },
    {
     "name": "stdout",
     "output_type": "stream",
     "text": [
      "Epoch [168/500]: Train loss: 0.0034, Test loss: 0.0036\n"
     ]
    },
    {
     "name": "stderr",
     "output_type": "stream",
     "text": [
      "Epoch [169/500]: 100%|████████████████████████████████████████████████| 168/168 [00:01<00:00, 154.28it/s, loss=0.00532]\n"
     ]
    },
    {
     "name": "stdout",
     "output_type": "stream",
     "text": [
      "Epoch [169/500]: Train loss: 0.0034, Test loss: 0.0034\n",
      "Saving model with loss 0.003...\n"
     ]
    },
    {
     "name": "stderr",
     "output_type": "stream",
     "text": [
      "Epoch [170/500]: 100%|████████████████████████████████████████████████| 168/168 [00:01<00:00, 151.48it/s, loss=0.00405]\n"
     ]
    },
    {
     "name": "stdout",
     "output_type": "stream",
     "text": [
      "Epoch [170/500]: Train loss: 0.0034, Test loss: 0.0034\n",
      "Saving model with loss 0.003...\n"
     ]
    },
    {
     "name": "stderr",
     "output_type": "stream",
     "text": [
      "Epoch [171/500]: 100%|████████████████████████████████████████████████| 168/168 [00:01<00:00, 141.61it/s, loss=0.00268]\n"
     ]
    },
    {
     "name": "stdout",
     "output_type": "stream",
     "text": [
      "Epoch [171/500]: Train loss: 0.0033, Test loss: 0.0034\n"
     ]
    },
    {
     "name": "stderr",
     "output_type": "stream",
     "text": [
      "Epoch [172/500]: 100%|████████████████████████████████████████████████| 168/168 [00:01<00:00, 142.61it/s, loss=0.00441]\n"
     ]
    },
    {
     "name": "stdout",
     "output_type": "stream",
     "text": [
      "Epoch [172/500]: Train loss: 0.0033, Test loss: 0.0039\n"
     ]
    },
    {
     "name": "stderr",
     "output_type": "stream",
     "text": [
      "Epoch [173/500]: 100%|████████████████████████████████████████████████| 168/168 [00:01<00:00, 140.11it/s, loss=0.00387]\n"
     ]
    },
    {
     "name": "stdout",
     "output_type": "stream",
     "text": [
      "Epoch [173/500]: Train loss: 0.0033, Test loss: 0.0033\n",
      "Saving model with loss 0.003...\n"
     ]
    },
    {
     "name": "stderr",
     "output_type": "stream",
     "text": [
      "Epoch [174/500]: 100%|████████████████████████████████████████████████| 168/168 [00:01<00:00, 147.67it/s, loss=0.00221]\n"
     ]
    },
    {
     "name": "stdout",
     "output_type": "stream",
     "text": [
      "Epoch [174/500]: Train loss: 0.0032, Test loss: 0.0033\n"
     ]
    },
    {
     "name": "stderr",
     "output_type": "stream",
     "text": [
      "Epoch [175/500]: 100%|████████████████████████████████████████████████| 168/168 [00:01<00:00, 148.98it/s, loss=0.00344]\n"
     ]
    },
    {
     "name": "stdout",
     "output_type": "stream",
     "text": [
      "Epoch [175/500]: Train loss: 0.0032, Test loss: 0.0032\n",
      "Saving model with loss 0.003...\n"
     ]
    },
    {
     "name": "stderr",
     "output_type": "stream",
     "text": [
      "Epoch [176/500]: 100%|████████████████████████████████████████████████| 168/168 [00:01<00:00, 152.30it/s, loss=0.00248]\n"
     ]
    },
    {
     "name": "stdout",
     "output_type": "stream",
     "text": [
      "Epoch [176/500]: Train loss: 0.0032, Test loss: 0.0032\n",
      "Saving model with loss 0.003...\n"
     ]
    },
    {
     "name": "stderr",
     "output_type": "stream",
     "text": [
      "Epoch [177/500]: 100%|████████████████████████████████████████████████| 168/168 [00:01<00:00, 142.48it/s, loss=0.00196]\n"
     ]
    },
    {
     "name": "stdout",
     "output_type": "stream",
     "text": [
      "Epoch [177/500]: Train loss: 0.0032, Test loss: 0.0036\n"
     ]
    },
    {
     "name": "stderr",
     "output_type": "stream",
     "text": [
      "Epoch [178/500]: 100%|████████████████████████████████████████████████| 168/168 [00:01<00:00, 145.88it/s, loss=0.00281]\n"
     ]
    },
    {
     "name": "stdout",
     "output_type": "stream",
     "text": [
      "Epoch [178/500]: Train loss: 0.0031, Test loss: 0.0030\n",
      "Saving model with loss 0.003...\n"
     ]
    },
    {
     "name": "stderr",
     "output_type": "stream",
     "text": [
      "Epoch [179/500]: 100%|████████████████████████████████████████████████| 168/168 [00:01<00:00, 153.75it/s, loss=0.00601]\n"
     ]
    },
    {
     "name": "stdout",
     "output_type": "stream",
     "text": [
      "Epoch [179/500]: Train loss: 0.0031, Test loss: 0.0032\n"
     ]
    },
    {
     "name": "stderr",
     "output_type": "stream",
     "text": [
      "Epoch [180/500]: 100%|████████████████████████████████████████████████| 168/168 [00:01<00:00, 159.04it/s, loss=0.00159]\n"
     ]
    },
    {
     "name": "stdout",
     "output_type": "stream",
     "text": [
      "Epoch [180/500]: Train loss: 0.0030, Test loss: 0.0031\n"
     ]
    },
    {
     "name": "stderr",
     "output_type": "stream",
     "text": [
      "Epoch [181/500]: 100%|████████████████████████████████████████████████| 168/168 [00:01<00:00, 136.37it/s, loss=0.00244]\n"
     ]
    },
    {
     "name": "stdout",
     "output_type": "stream",
     "text": [
      "Epoch [181/500]: Train loss: 0.0030, Test loss: 0.0034\n"
     ]
    },
    {
     "name": "stderr",
     "output_type": "stream",
     "text": [
      "Epoch [182/500]: 100%|████████████████████████████████████████████████| 168/168 [00:01<00:00, 139.32it/s, loss=0.00189]\n"
     ]
    },
    {
     "name": "stdout",
     "output_type": "stream",
     "text": [
      "Epoch [182/500]: Train loss: 0.0030, Test loss: 0.0030\n",
      "Saving model with loss 0.003...\n"
     ]
    },
    {
     "name": "stderr",
     "output_type": "stream",
     "text": [
      "Epoch [183/500]: 100%|████████████████████████████████████████████████| 168/168 [00:01<00:00, 139.94it/s, loss=0.00331]\n"
     ]
    },
    {
     "name": "stdout",
     "output_type": "stream",
     "text": [
      "Epoch [183/500]: Train loss: 0.0029, Test loss: 0.0030\n"
     ]
    },
    {
     "name": "stderr",
     "output_type": "stream",
     "text": [
      "Epoch [184/500]: 100%|█████████████████████████████████████████████████| 168/168 [00:01<00:00, 133.80it/s, loss=0.0031]\n"
     ]
    },
    {
     "name": "stdout",
     "output_type": "stream",
     "text": [
      "Epoch [184/500]: Train loss: 0.0028, Test loss: 0.0030\n"
     ]
    },
    {
     "name": "stderr",
     "output_type": "stream",
     "text": [
      "Epoch [185/500]: 100%|████████████████████████████████████████████████| 168/168 [00:01<00:00, 142.15it/s, loss=0.00272]\n"
     ]
    },
    {
     "name": "stdout",
     "output_type": "stream",
     "text": [
      "Epoch [185/500]: Train loss: 0.0028, Test loss: 0.0029\n",
      "Saving model with loss 0.003...\n"
     ]
    },
    {
     "name": "stderr",
     "output_type": "stream",
     "text": [
      "Epoch [186/500]: 100%|████████████████████████████████████████████████| 168/168 [00:01<00:00, 142.98it/s, loss=0.00284]\n"
     ]
    },
    {
     "name": "stdout",
     "output_type": "stream",
     "text": [
      "Epoch [186/500]: Train loss: 0.0028, Test loss: 0.0039\n"
     ]
    },
    {
     "name": "stderr",
     "output_type": "stream",
     "text": [
      "Epoch [187/500]: 100%|████████████████████████████████████████████████| 168/168 [00:01<00:00, 137.06it/s, loss=0.00295]\n"
     ]
    },
    {
     "name": "stdout",
     "output_type": "stream",
     "text": [
      "Epoch [187/500]: Train loss: 0.0030, Test loss: 0.0033\n"
     ]
    },
    {
     "name": "stderr",
     "output_type": "stream",
     "text": [
      "Epoch [188/500]: 100%|████████████████████████████████████████████████| 168/168 [00:01<00:00, 142.93it/s, loss=0.00177]\n"
     ]
    },
    {
     "name": "stdout",
     "output_type": "stream",
     "text": [
      "Epoch [188/500]: Train loss: 0.0027, Test loss: 0.0029\n",
      "Saving model with loss 0.003...\n"
     ]
    },
    {
     "name": "stderr",
     "output_type": "stream",
     "text": [
      "Epoch [189/500]: 100%|████████████████████████████████████████████████| 168/168 [00:01<00:00, 144.49it/s, loss=0.00224]\n"
     ]
    },
    {
     "name": "stdout",
     "output_type": "stream",
     "text": [
      "Epoch [189/500]: Train loss: 0.0028, Test loss: 0.0036\n"
     ]
    },
    {
     "name": "stderr",
     "output_type": "stream",
     "text": [
      "Epoch [190/500]: 100%|████████████████████████████████████████████████| 168/168 [00:01<00:00, 127.04it/s, loss=0.00127]\n"
     ]
    },
    {
     "name": "stdout",
     "output_type": "stream",
     "text": [
      "Epoch [190/500]: Train loss: 0.0027, Test loss: 0.0029\n",
      "Saving model with loss 0.003...\n"
     ]
    },
    {
     "name": "stderr",
     "output_type": "stream",
     "text": [
      "Epoch [191/500]: 100%|████████████████████████████████████████████████| 168/168 [00:01<00:00, 141.17it/s, loss=0.00239]\n"
     ]
    },
    {
     "name": "stdout",
     "output_type": "stream",
     "text": [
      "Epoch [191/500]: Train loss: 0.0027, Test loss: 0.0030\n"
     ]
    },
    {
     "name": "stderr",
     "output_type": "stream",
     "text": [
      "Epoch [192/500]: 100%|████████████████████████████████████████████████| 168/168 [00:01<00:00, 132.27it/s, loss=0.00221]\n"
     ]
    },
    {
     "name": "stdout",
     "output_type": "stream",
     "text": [
      "Epoch [192/500]: Train loss: 0.0026, Test loss: 0.0031\n"
     ]
    },
    {
     "name": "stderr",
     "output_type": "stream",
     "text": [
      "Epoch [193/500]: 100%|████████████████████████████████████████████████| 168/168 [00:01<00:00, 139.38it/s, loss=0.00172]\n"
     ]
    },
    {
     "name": "stdout",
     "output_type": "stream",
     "text": [
      "Epoch [193/500]: Train loss: 0.0026, Test loss: 0.0028\n",
      "Saving model with loss 0.003...\n"
     ]
    },
    {
     "name": "stderr",
     "output_type": "stream",
     "text": [
      "Epoch [194/500]: 100%|████████████████████████████████████████████████| 168/168 [00:01<00:00, 136.37it/s, loss=0.00244]\n"
     ]
    },
    {
     "name": "stdout",
     "output_type": "stream",
     "text": [
      "Epoch [194/500]: Train loss: 0.0025, Test loss: 0.0033\n"
     ]
    },
    {
     "name": "stderr",
     "output_type": "stream",
     "text": [
      "Epoch [195/500]: 100%|████████████████████████████████████████████████| 168/168 [00:01<00:00, 134.87it/s, loss=0.00138]\n"
     ]
    },
    {
     "name": "stdout",
     "output_type": "stream",
     "text": [
      "Epoch [195/500]: Train loss: 0.0025, Test loss: 0.0028\n",
      "Saving model with loss 0.003...\n"
     ]
    },
    {
     "name": "stderr",
     "output_type": "stream",
     "text": [
      "Epoch [196/500]: 100%|█████████████████████████████████████████████████| 168/168 [00:01<00:00, 125.80it/s, loss=0.0069]\n"
     ]
    },
    {
     "name": "stdout",
     "output_type": "stream",
     "text": [
      "Epoch [196/500]: Train loss: 0.0025, Test loss: 0.0030\n"
     ]
    },
    {
     "name": "stderr",
     "output_type": "stream",
     "text": [
      "Epoch [197/500]: 100%|████████████████████████████████████████████████| 168/168 [00:01<00:00, 134.40it/s, loss=0.00194]\n"
     ]
    },
    {
     "name": "stdout",
     "output_type": "stream",
     "text": [
      "Epoch [197/500]: Train loss: 0.0026, Test loss: 0.0027\n",
      "Saving model with loss 0.003...\n"
     ]
    },
    {
     "name": "stderr",
     "output_type": "stream",
     "text": [
      "Epoch [198/500]: 100%|██████████████████████████████████████████████████| 168/168 [00:01<00:00, 139.28it/s, loss=0.002]\n"
     ]
    },
    {
     "name": "stdout",
     "output_type": "stream",
     "text": [
      "Epoch [198/500]: Train loss: 0.0025, Test loss: 0.0029\n"
     ]
    },
    {
     "name": "stderr",
     "output_type": "stream",
     "text": [
      "Epoch [199/500]: 100%|████████████████████████████████████████████████| 168/168 [00:01<00:00, 146.04it/s, loss=0.00198]\n"
     ]
    },
    {
     "name": "stdout",
     "output_type": "stream",
     "text": [
      "Epoch [199/500]: Train loss: 0.0024, Test loss: 0.0027\n"
     ]
    },
    {
     "name": "stderr",
     "output_type": "stream",
     "text": [
      "Epoch [200/500]: 100%|████████████████████████████████████████████████| 168/168 [00:01<00:00, 139.13it/s, loss=0.00285]\n"
     ]
    },
    {
     "name": "stdout",
     "output_type": "stream",
     "text": [
      "Epoch [200/500]: Train loss: 0.0024, Test loss: 0.0030\n"
     ]
    },
    {
     "name": "stderr",
     "output_type": "stream",
     "text": [
      "Epoch [201/500]: 100%|████████████████████████████████████████████████| 168/168 [00:01<00:00, 134.92it/s, loss=0.00214]\n"
     ]
    },
    {
     "name": "stdout",
     "output_type": "stream",
     "text": [
      "Epoch [201/500]: Train loss: 0.0024, Test loss: 0.0027\n",
      "Saving model with loss 0.003...\n"
     ]
    },
    {
     "name": "stderr",
     "output_type": "stream",
     "text": [
      "Epoch [202/500]: 100%|████████████████████████████████████████████████| 168/168 [00:01<00:00, 135.23it/s, loss=0.00276]\n"
     ]
    },
    {
     "name": "stdout",
     "output_type": "stream",
     "text": [
      "Epoch [202/500]: Train loss: 0.0023, Test loss: 0.0026\n",
      "Saving model with loss 0.003...\n"
     ]
    },
    {
     "name": "stderr",
     "output_type": "stream",
     "text": [
      "Epoch [203/500]: 100%|████████████████████████████████████████████████| 168/168 [00:01<00:00, 134.53it/s, loss=0.00165]\n"
     ]
    },
    {
     "name": "stdout",
     "output_type": "stream",
     "text": [
      "Epoch [203/500]: Train loss: 0.0024, Test loss: 0.0026\n"
     ]
    },
    {
     "name": "stderr",
     "output_type": "stream",
     "text": [
      "Epoch [204/500]: 100%|████████████████████████████████████████████████| 168/168 [00:01<00:00, 124.08it/s, loss=0.00338]\n"
     ]
    },
    {
     "name": "stdout",
     "output_type": "stream",
     "text": [
      "Epoch [204/500]: Train loss: 0.0023, Test loss: 0.0032\n"
     ]
    },
    {
     "name": "stderr",
     "output_type": "stream",
     "text": [
      "Epoch [205/500]: 100%|████████████████████████████████████████████████| 168/168 [00:01<00:00, 135.53it/s, loss=0.00169]\n"
     ]
    },
    {
     "name": "stdout",
     "output_type": "stream",
     "text": [
      "Epoch [205/500]: Train loss: 0.0023, Test loss: 0.0029\n"
     ]
    },
    {
     "name": "stderr",
     "output_type": "stream",
     "text": [
      "Epoch [206/500]: 100%|████████████████████████████████████████████████| 168/168 [00:01<00:00, 131.99it/s, loss=0.00578]\n"
     ]
    },
    {
     "name": "stdout",
     "output_type": "stream",
     "text": [
      "Epoch [206/500]: Train loss: 0.0023, Test loss: 0.0025\n",
      "Saving model with loss 0.003...\n"
     ]
    },
    {
     "name": "stderr",
     "output_type": "stream",
     "text": [
      "Epoch [207/500]: 100%|████████████████████████████████████████████████| 168/168 [00:01<00:00, 143.57it/s, loss=0.00191]\n"
     ]
    },
    {
     "name": "stdout",
     "output_type": "stream",
     "text": [
      "Epoch [207/500]: Train loss: 0.0022, Test loss: 0.0024\n",
      "Saving model with loss 0.002...\n"
     ]
    },
    {
     "name": "stderr",
     "output_type": "stream",
     "text": [
      "Epoch [208/500]: 100%|████████████████████████████████████████████████| 168/168 [00:01<00:00, 143.48it/s, loss=0.00128]\n"
     ]
    },
    {
     "name": "stdout",
     "output_type": "stream",
     "text": [
      "Epoch [208/500]: Train loss: 0.0023, Test loss: 0.0025\n"
     ]
    },
    {
     "name": "stderr",
     "output_type": "stream",
     "text": [
      "Epoch [209/500]: 100%|████████████████████████████████████████████████| 168/168 [00:01<00:00, 141.76it/s, loss=0.00254]\n"
     ]
    },
    {
     "name": "stdout",
     "output_type": "stream",
     "text": [
      "Epoch [209/500]: Train loss: 0.0022, Test loss: 0.0026\n"
     ]
    },
    {
     "name": "stderr",
     "output_type": "stream",
     "text": [
      "Epoch [210/500]: 100%|████████████████████████████████████████████████| 168/168 [00:01<00:00, 139.81it/s, loss=0.00243]\n"
     ]
    },
    {
     "name": "stdout",
     "output_type": "stream",
     "text": [
      "Epoch [210/500]: Train loss: 0.0021, Test loss: 0.0025\n"
     ]
    },
    {
     "name": "stderr",
     "output_type": "stream",
     "text": [
      "Epoch [211/500]: 100%|████████████████████████████████████████████████| 168/168 [00:01<00:00, 128.45it/s, loss=0.00304]\n"
     ]
    },
    {
     "name": "stdout",
     "output_type": "stream",
     "text": [
      "Epoch [211/500]: Train loss: 0.0022, Test loss: 0.0024\n"
     ]
    },
    {
     "name": "stderr",
     "output_type": "stream",
     "text": [
      "Epoch [212/500]: 100%|████████████████████████████████████████████████| 168/168 [00:01<00:00, 149.64it/s, loss=0.00278]\n"
     ]
    },
    {
     "name": "stdout",
     "output_type": "stream",
     "text": [
      "Epoch [212/500]: Train loss: 0.0022, Test loss: 0.0032\n"
     ]
    },
    {
     "name": "stderr",
     "output_type": "stream",
     "text": [
      "Epoch [213/500]: 100%|████████████████████████████████████████████████| 168/168 [00:01<00:00, 132.23it/s, loss=0.00268]\n"
     ]
    },
    {
     "name": "stdout",
     "output_type": "stream",
     "text": [
      "Epoch [213/500]: Train loss: 0.0022, Test loss: 0.0025\n"
     ]
    },
    {
     "name": "stderr",
     "output_type": "stream",
     "text": [
      "Epoch [214/500]: 100%|████████████████████████████████████████████████| 168/168 [00:01<00:00, 139.09it/s, loss=0.00135]\n"
     ]
    },
    {
     "name": "stdout",
     "output_type": "stream",
     "text": [
      "Epoch [214/500]: Train loss: 0.0021, Test loss: 0.0026\n"
     ]
    },
    {
     "name": "stderr",
     "output_type": "stream",
     "text": [
      "Epoch [215/500]: 100%|████████████████████████████████████████████████| 168/168 [00:01<00:00, 139.27it/s, loss=0.00132]\n"
     ]
    },
    {
     "name": "stdout",
     "output_type": "stream",
     "text": [
      "Epoch [215/500]: Train loss: 0.0021, Test loss: 0.0023\n",
      "Saving model with loss 0.002...\n"
     ]
    },
    {
     "name": "stderr",
     "output_type": "stream",
     "text": [
      "Epoch [216/500]: 100%|████████████████████████████████████████████████| 168/168 [00:01<00:00, 142.74it/s, loss=0.00186]\n"
     ]
    },
    {
     "name": "stdout",
     "output_type": "stream",
     "text": [
      "Epoch [216/500]: Train loss: 0.0020, Test loss: 0.0025\n"
     ]
    },
    {
     "name": "stderr",
     "output_type": "stream",
     "text": [
      "Epoch [217/500]: 100%|██████████████████████████████████████████████████| 168/168 [00:01<00:00, 137.56it/s, loss=0.002]\n"
     ]
    },
    {
     "name": "stdout",
     "output_type": "stream",
     "text": [
      "Epoch [217/500]: Train loss: 0.0021, Test loss: 0.0025\n"
     ]
    },
    {
     "name": "stderr",
     "output_type": "stream",
     "text": [
      "Epoch [218/500]: 100%|████████████████████████████████████████████████| 168/168 [00:01<00:00, 126.28it/s, loss=0.00255]\n"
     ]
    },
    {
     "name": "stdout",
     "output_type": "stream",
     "text": [
      "Epoch [218/500]: Train loss: 0.0020, Test loss: 0.0024\n"
     ]
    },
    {
     "name": "stderr",
     "output_type": "stream",
     "text": [
      "Epoch [219/500]: 100%|████████████████████████████████████████████████| 168/168 [00:01<00:00, 145.26it/s, loss=0.00255]\n"
     ]
    },
    {
     "name": "stdout",
     "output_type": "stream",
     "text": [
      "Epoch [219/500]: Train loss: 0.0020, Test loss: 0.0022\n",
      "Saving model with loss 0.002...\n"
     ]
    },
    {
     "name": "stderr",
     "output_type": "stream",
     "text": [
      "Epoch [220/500]: 100%|████████████████████████████████████████████████| 168/168 [00:01<00:00, 138.51it/s, loss=0.00334]\n"
     ]
    },
    {
     "name": "stdout",
     "output_type": "stream",
     "text": [
      "Epoch [220/500]: Train loss: 0.0020, Test loss: 0.0025\n"
     ]
    },
    {
     "name": "stderr",
     "output_type": "stream",
     "text": [
      "Epoch [221/500]: 100%|████████████████████████████████████████████████| 168/168 [00:01<00:00, 125.30it/s, loss=0.00338]\n"
     ]
    },
    {
     "name": "stdout",
     "output_type": "stream",
     "text": [
      "Epoch [221/500]: Train loss: 0.0020, Test loss: 0.0024\n"
     ]
    },
    {
     "name": "stderr",
     "output_type": "stream",
     "text": [
      "Epoch [222/500]: 100%|████████████████████████████████████████████████| 168/168 [00:01<00:00, 145.48it/s, loss=0.00157]\n"
     ]
    },
    {
     "name": "stdout",
     "output_type": "stream",
     "text": [
      "Epoch [222/500]: Train loss: 0.0019, Test loss: 0.0023\n"
     ]
    },
    {
     "name": "stderr",
     "output_type": "stream",
     "text": [
      "Epoch [223/500]: 100%|████████████████████████████████████████████████| 168/168 [00:01<00:00, 143.06it/s, loss=0.00289]\n"
     ]
    },
    {
     "name": "stdout",
     "output_type": "stream",
     "text": [
      "Epoch [223/500]: Train loss: 0.0020, Test loss: 0.0021\n",
      "Saving model with loss 0.002...\n"
     ]
    },
    {
     "name": "stderr",
     "output_type": "stream",
     "text": [
      "Epoch [224/500]: 100%|████████████████████████████████████████████████| 168/168 [00:01<00:00, 126.82it/s, loss=0.00279]\n"
     ]
    },
    {
     "name": "stdout",
     "output_type": "stream",
     "text": [
      "Epoch [224/500]: Train loss: 0.0021, Test loss: 0.0024\n"
     ]
    },
    {
     "name": "stderr",
     "output_type": "stream",
     "text": [
      "Epoch [225/500]: 100%|████████████████████████████████████████████████| 168/168 [00:01<00:00, 134.53it/s, loss=0.00166]\n"
     ]
    },
    {
     "name": "stdout",
     "output_type": "stream",
     "text": [
      "Epoch [225/500]: Train loss: 0.0019, Test loss: 0.0024\n"
     ]
    },
    {
     "name": "stderr",
     "output_type": "stream",
     "text": [
      "Epoch [226/500]: 100%|████████████████████████████████████████████████| 168/168 [00:01<00:00, 137.77it/s, loss=0.00167]\n"
     ]
    },
    {
     "name": "stdout",
     "output_type": "stream",
     "text": [
      "Epoch [226/500]: Train loss: 0.0019, Test loss: 0.0022\n"
     ]
    },
    {
     "name": "stderr",
     "output_type": "stream",
     "text": [
      "Epoch [227/500]: 100%|████████████████████████████████████████████████| 168/168 [00:01<00:00, 143.35it/s, loss=0.00124]\n"
     ]
    },
    {
     "name": "stdout",
     "output_type": "stream",
     "text": [
      "Epoch [227/500]: Train loss: 0.0019, Test loss: 0.0021\n"
     ]
    },
    {
     "name": "stderr",
     "output_type": "stream",
     "text": [
      "Epoch [228/500]: 100%|████████████████████████████████████████████████| 168/168 [00:01<00:00, 138.18it/s, loss=0.00233]\n"
     ]
    },
    {
     "name": "stdout",
     "output_type": "stream",
     "text": [
      "Epoch [228/500]: Train loss: 0.0019, Test loss: 0.0022\n"
     ]
    },
    {
     "name": "stderr",
     "output_type": "stream",
     "text": [
      "Epoch [229/500]: 100%|████████████████████████████████████████████████| 168/168 [00:01<00:00, 128.44it/s, loss=0.00128]\n"
     ]
    },
    {
     "name": "stdout",
     "output_type": "stream",
     "text": [
      "Epoch [229/500]: Train loss: 0.0018, Test loss: 0.0023\n"
     ]
    },
    {
     "name": "stderr",
     "output_type": "stream",
     "text": [
      "Epoch [230/500]: 100%|████████████████████████████████████████████████| 168/168 [00:01<00:00, 144.94it/s, loss=0.00201]\n"
     ]
    },
    {
     "name": "stdout",
     "output_type": "stream",
     "text": [
      "Epoch [230/500]: Train loss: 0.0017, Test loss: 0.0023\n"
     ]
    },
    {
     "name": "stderr",
     "output_type": "stream",
     "text": [
      "Epoch [231/500]: 100%|████████████████████████████████████████████████| 168/168 [00:01<00:00, 131.66it/s, loss=0.00119]\n"
     ]
    },
    {
     "name": "stdout",
     "output_type": "stream",
     "text": [
      "Epoch [231/500]: Train loss: 0.0018, Test loss: 0.0021\n"
     ]
    },
    {
     "name": "stderr",
     "output_type": "stream",
     "text": [
      "Epoch [232/500]: 100%|████████████████████████████████████████████████| 168/168 [00:01<00:00, 137.23it/s, loss=0.00193]\n"
     ]
    },
    {
     "name": "stdout",
     "output_type": "stream",
     "text": [
      "Epoch [232/500]: Train loss: 0.0018, Test loss: 0.0022\n"
     ]
    },
    {
     "name": "stderr",
     "output_type": "stream",
     "text": [
      "Epoch [233/500]: 100%|████████████████████████████████████████████████| 168/168 [00:01<00:00, 137.90it/s, loss=0.00292]\n"
     ]
    },
    {
     "name": "stdout",
     "output_type": "stream",
     "text": [
      "Epoch [233/500]: Train loss: 0.0023, Test loss: 0.0029\n"
     ]
    },
    {
     "name": "stderr",
     "output_type": "stream",
     "text": [
      "Epoch [234/500]: 100%|████████████████████████████████████████████████| 168/168 [00:01<00:00, 134.00it/s, loss=0.00198]\n"
     ]
    },
    {
     "name": "stdout",
     "output_type": "stream",
     "text": [
      "Epoch [234/500]: Train loss: 0.0019, Test loss: 0.0020\n",
      "Saving model with loss 0.002...\n"
     ]
    },
    {
     "name": "stderr",
     "output_type": "stream",
     "text": [
      "Epoch [235/500]: 100%|████████████████████████████████████████████████| 168/168 [00:01<00:00, 140.00it/s, loss=0.00098]\n"
     ]
    },
    {
     "name": "stdout",
     "output_type": "stream",
     "text": [
      "Epoch [235/500]: Train loss: 0.0017, Test loss: 0.0020\n",
      "Saving model with loss 0.002...\n"
     ]
    },
    {
     "name": "stderr",
     "output_type": "stream",
     "text": [
      "Epoch [236/500]: 100%|████████████████████████████████████████████████| 168/168 [00:01<00:00, 129.19it/s, loss=0.00163]\n"
     ]
    },
    {
     "name": "stdout",
     "output_type": "stream",
     "text": [
      "Epoch [236/500]: Train loss: 0.0016, Test loss: 0.0020\n",
      "Saving model with loss 0.002...\n"
     ]
    },
    {
     "name": "stderr",
     "output_type": "stream",
     "text": [
      "Epoch [237/500]: 100%|████████████████████████████████████████████████| 168/168 [00:01<00:00, 143.46it/s, loss=0.00109]\n"
     ]
    },
    {
     "name": "stdout",
     "output_type": "stream",
     "text": [
      "Epoch [237/500]: Train loss: 0.0017, Test loss: 0.0020\n",
      "Saving model with loss 0.002...\n"
     ]
    },
    {
     "name": "stderr",
     "output_type": "stream",
     "text": [
      "Epoch [238/500]: 100%|████████████████████████████████████████████████| 168/168 [00:01<00:00, 128.15it/s, loss=0.00132]\n"
     ]
    },
    {
     "name": "stdout",
     "output_type": "stream",
     "text": [
      "Epoch [238/500]: Train loss: 0.0016, Test loss: 0.0020\n"
     ]
    },
    {
     "name": "stderr",
     "output_type": "stream",
     "text": [
      "Epoch [239/500]: 100%|████████████████████████████████████████████████| 168/168 [00:01<00:00, 141.42it/s, loss=0.00187]\n"
     ]
    },
    {
     "name": "stdout",
     "output_type": "stream",
     "text": [
      "Epoch [239/500]: Train loss: 0.0018, Test loss: 0.0021\n"
     ]
    },
    {
     "name": "stderr",
     "output_type": "stream",
     "text": [
      "Epoch [240/500]: 100%|████████████████████████████████████████████████| 168/168 [00:01<00:00, 135.06it/s, loss=0.00096]\n"
     ]
    },
    {
     "name": "stdout",
     "output_type": "stream",
     "text": [
      "Epoch [240/500]: Train loss: 0.0016, Test loss: 0.0019\n",
      "Saving model with loss 0.002...\n"
     ]
    },
    {
     "name": "stderr",
     "output_type": "stream",
     "text": [
      "Epoch [241/500]: 100%|████████████████████████████████████████████████| 168/168 [00:01<00:00, 144.11it/s, loss=0.00149]\n"
     ]
    },
    {
     "name": "stdout",
     "output_type": "stream",
     "text": [
      "Epoch [241/500]: Train loss: 0.0016, Test loss: 0.0019\n",
      "Saving model with loss 0.002...\n"
     ]
    },
    {
     "name": "stderr",
     "output_type": "stream",
     "text": [
      "Epoch [242/500]: 100%|████████████████████████████████████████████████| 168/168 [00:01<00:00, 140.59it/s, loss=0.00151]\n"
     ]
    },
    {
     "name": "stdout",
     "output_type": "stream",
     "text": [
      "Epoch [242/500]: Train loss: 0.0016, Test loss: 0.0020\n"
     ]
    },
    {
     "name": "stderr",
     "output_type": "stream",
     "text": [
      "Epoch [243/500]: 100%|████████████████████████████████████████████████| 168/168 [00:01<00:00, 141.18it/s, loss=0.00125]\n"
     ]
    },
    {
     "name": "stdout",
     "output_type": "stream",
     "text": [
      "Epoch [243/500]: Train loss: 0.0016, Test loss: 0.0020\n"
     ]
    },
    {
     "name": "stderr",
     "output_type": "stream",
     "text": [
      "Epoch [244/500]: 100%|████████████████████████████████████████████████| 168/168 [00:01<00:00, 128.49it/s, loss=0.00236]\n"
     ]
    },
    {
     "name": "stdout",
     "output_type": "stream",
     "text": [
      "Epoch [244/500]: Train loss: 0.0015, Test loss: 0.0019\n",
      "Saving model with loss 0.002...\n"
     ]
    },
    {
     "name": "stderr",
     "output_type": "stream",
     "text": [
      "Epoch [245/500]: 100%|████████████████████████████████████████████████| 168/168 [00:01<00:00, 124.92it/s, loss=0.00144]\n"
     ]
    },
    {
     "name": "stdout",
     "output_type": "stream",
     "text": [
      "Epoch [245/500]: Train loss: 0.0016, Test loss: 0.0020\n"
     ]
    },
    {
     "name": "stderr",
     "output_type": "stream",
     "text": [
      "Epoch [246/500]: 100%|████████████████████████████████████████████████| 168/168 [00:01<00:00, 136.86it/s, loss=0.00241]\n"
     ]
    },
    {
     "name": "stdout",
     "output_type": "stream",
     "text": [
      "Epoch [246/500]: Train loss: 0.0016, Test loss: 0.0018\n",
      "Saving model with loss 0.002...\n"
     ]
    },
    {
     "name": "stderr",
     "output_type": "stream",
     "text": [
      "Epoch [247/500]: 100%|████████████████████████████████████████████████| 168/168 [00:01<00:00, 119.61it/s, loss=0.00114]\n"
     ]
    },
    {
     "name": "stdout",
     "output_type": "stream",
     "text": [
      "Epoch [247/500]: Train loss: 0.0016, Test loss: 0.0020\n"
     ]
    },
    {
     "name": "stderr",
     "output_type": "stream",
     "text": [
      "Epoch [248/500]: 100%|███████████████████████████████████████████████| 168/168 [00:01<00:00, 142.42it/s, loss=0.000695]\n"
     ]
    },
    {
     "name": "stdout",
     "output_type": "stream",
     "text": [
      "Epoch [248/500]: Train loss: 0.0015, Test loss: 0.0020\n"
     ]
    },
    {
     "name": "stderr",
     "output_type": "stream",
     "text": [
      "Epoch [249/500]: 100%|████████████████████████████████████████████████| 168/168 [00:01<00:00, 142.36it/s, loss=0.00157]\n"
     ]
    },
    {
     "name": "stdout",
     "output_type": "stream",
     "text": [
      "Epoch [249/500]: Train loss: 0.0015, Test loss: 0.0018\n",
      "Saving model with loss 0.002...\n"
     ]
    },
    {
     "name": "stderr",
     "output_type": "stream",
     "text": [
      "Epoch [250/500]: 100%|████████████████████████████████████████████████| 168/168 [00:01<00:00, 129.68it/s, loss=0.00103]\n"
     ]
    },
    {
     "name": "stdout",
     "output_type": "stream",
     "text": [
      "Epoch [250/500]: Train loss: 0.0015, Test loss: 0.0019\n"
     ]
    },
    {
     "name": "stderr",
     "output_type": "stream",
     "text": [
      "Epoch [251/500]: 100%|████████████████████████████████████████████████| 168/168 [00:01<00:00, 123.86it/s, loss=0.00159]\n"
     ]
    },
    {
     "name": "stdout",
     "output_type": "stream",
     "text": [
      "Epoch [251/500]: Train loss: 0.0015, Test loss: 0.0019\n"
     ]
    },
    {
     "name": "stderr",
     "output_type": "stream",
     "text": [
      "Epoch [252/500]: 100%|████████████████████████████████████████████████| 168/168 [00:01<00:00, 133.77it/s, loss=0.00163]\n"
     ]
    },
    {
     "name": "stdout",
     "output_type": "stream",
     "text": [
      "Epoch [252/500]: Train loss: 0.0018, Test loss: 0.0023\n"
     ]
    },
    {
     "name": "stderr",
     "output_type": "stream",
     "text": [
      "Epoch [253/500]: 100%|████████████████████████████████████████████████| 168/168 [00:01<00:00, 135.71it/s, loss=0.00135]\n"
     ]
    },
    {
     "name": "stdout",
     "output_type": "stream",
     "text": [
      "Epoch [253/500]: Train loss: 0.0015, Test loss: 0.0018\n"
     ]
    },
    {
     "name": "stderr",
     "output_type": "stream",
     "text": [
      "Epoch [254/500]: 100%|████████████████████████████████████████████████| 168/168 [00:01<00:00, 131.71it/s, loss=0.00104]\n"
     ]
    },
    {
     "name": "stdout",
     "output_type": "stream",
     "text": [
      "Epoch [254/500]: Train loss: 0.0014, Test loss: 0.0018\n",
      "Saving model with loss 0.002...\n"
     ]
    },
    {
     "name": "stderr",
     "output_type": "stream",
     "text": [
      "Epoch [255/500]: 100%|█████████████████████████████████████████████████| 168/168 [00:01<00:00, 126.31it/s, loss=0.0016]\n"
     ]
    },
    {
     "name": "stdout",
     "output_type": "stream",
     "text": [
      "Epoch [255/500]: Train loss: 0.0014, Test loss: 0.0017\n",
      "Saving model with loss 0.002...\n"
     ]
    },
    {
     "name": "stderr",
     "output_type": "stream",
     "text": [
      "Epoch [256/500]: 100%|███████████████████████████████████████████████| 168/168 [00:01<00:00, 130.17it/s, loss=0.000571]\n"
     ]
    },
    {
     "name": "stdout",
     "output_type": "stream",
     "text": [
      "Epoch [256/500]: Train loss: 0.0014, Test loss: 0.0017\n",
      "Saving model with loss 0.002...\n"
     ]
    },
    {
     "name": "stderr",
     "output_type": "stream",
     "text": [
      "Epoch [257/500]: 100%|███████████████████████████████████████████████| 168/168 [00:01<00:00, 139.82it/s, loss=0.000827]\n"
     ]
    },
    {
     "name": "stdout",
     "output_type": "stream",
     "text": [
      "Epoch [257/500]: Train loss: 0.0014, Test loss: 0.0017\n",
      "Saving model with loss 0.002...\n"
     ]
    },
    {
     "name": "stderr",
     "output_type": "stream",
     "text": [
      "Epoch [258/500]: 100%|████████████████████████████████████████████████| 168/168 [00:01<00:00, 127.03it/s, loss=0.00114]\n"
     ]
    },
    {
     "name": "stdout",
     "output_type": "stream",
     "text": [
      "Epoch [258/500]: Train loss: 0.0014, Test loss: 0.0017\n"
     ]
    },
    {
     "name": "stderr",
     "output_type": "stream",
     "text": [
      "Epoch [259/500]: 100%|████████████████████████████████████████████████| 168/168 [00:01<00:00, 142.60it/s, loss=0.00093]\n"
     ]
    },
    {
     "name": "stdout",
     "output_type": "stream",
     "text": [
      "Epoch [259/500]: Train loss: 0.0014, Test loss: 0.0016\n",
      "Saving model with loss 0.002...\n"
     ]
    },
    {
     "name": "stderr",
     "output_type": "stream",
     "text": [
      "Epoch [260/500]: 100%|████████████████████████████████████████████████| 168/168 [00:01<00:00, 132.33it/s, loss=0.00131]\n"
     ]
    },
    {
     "name": "stdout",
     "output_type": "stream",
     "text": [
      "Epoch [260/500]: Train loss: 0.0014, Test loss: 0.0018\n"
     ]
    },
    {
     "name": "stderr",
     "output_type": "stream",
     "text": [
      "Epoch [261/500]: 100%|█████████████████████████████████████████████████| 168/168 [00:01<00:00, 139.49it/s, loss=0.0011]\n"
     ]
    },
    {
     "name": "stdout",
     "output_type": "stream",
     "text": [
      "Epoch [261/500]: Train loss: 0.0014, Test loss: 0.0018\n"
     ]
    },
    {
     "name": "stderr",
     "output_type": "stream",
     "text": [
      "Epoch [262/500]: 100%|███████████████████████████████████████████████| 168/168 [00:01<00:00, 137.06it/s, loss=0.000908]\n"
     ]
    },
    {
     "name": "stdout",
     "output_type": "stream",
     "text": [
      "Epoch [262/500]: Train loss: 0.0014, Test loss: 0.0017\n"
     ]
    },
    {
     "name": "stderr",
     "output_type": "stream",
     "text": [
      "Epoch [263/500]: 100%|████████████████████████████████████████████████| 168/168 [00:01<00:00, 133.22it/s, loss=0.00142]\n"
     ]
    },
    {
     "name": "stdout",
     "output_type": "stream",
     "text": [
      "Epoch [263/500]: Train loss: 0.0013, Test loss: 0.0018\n"
     ]
    },
    {
     "name": "stderr",
     "output_type": "stream",
     "text": [
      "Epoch [264/500]: 100%|████████████████████████████████████████████████| 168/168 [00:01<00:00, 137.91it/s, loss=0.00141]\n"
     ]
    },
    {
     "name": "stdout",
     "output_type": "stream",
     "text": [
      "Epoch [264/500]: Train loss: 0.0013, Test loss: 0.0017\n"
     ]
    },
    {
     "name": "stderr",
     "output_type": "stream",
     "text": [
      "Epoch [265/500]: 100%|███████████████████████████████████████████████| 168/168 [00:01<00:00, 128.89it/s, loss=0.000661]\n"
     ]
    },
    {
     "name": "stdout",
     "output_type": "stream",
     "text": [
      "Epoch [265/500]: Train loss: 0.0013, Test loss: 0.0017\n"
     ]
    },
    {
     "name": "stderr",
     "output_type": "stream",
     "text": [
      "Epoch [266/500]: 100%|███████████████████████████████████████████████| 168/168 [00:01<00:00, 142.64it/s, loss=0.000709]\n"
     ]
    },
    {
     "name": "stdout",
     "output_type": "stream",
     "text": [
      "Epoch [266/500]: Train loss: 0.0013, Test loss: 0.0016\n",
      "Saving model with loss 0.002...\n"
     ]
    },
    {
     "name": "stderr",
     "output_type": "stream",
     "text": [
      "Epoch [267/500]: 100%|████████████████████████████████████████████████| 168/168 [00:01<00:00, 118.02it/s, loss=0.00173]\n"
     ]
    },
    {
     "name": "stdout",
     "output_type": "stream",
     "text": [
      "Epoch [267/500]: Train loss: 0.0019, Test loss: 0.0022\n"
     ]
    },
    {
     "name": "stderr",
     "output_type": "stream",
     "text": [
      "Epoch [268/500]: 100%|████████████████████████████████████████████████| 168/168 [00:01<00:00, 144.08it/s, loss=0.00115]\n"
     ]
    },
    {
     "name": "stdout",
     "output_type": "stream",
     "text": [
      "Epoch [268/500]: Train loss: 0.0014, Test loss: 0.0017\n"
     ]
    },
    {
     "name": "stderr",
     "output_type": "stream",
     "text": [
      "Epoch [269/500]: 100%|████████████████████████████████████████████████| 168/168 [00:01<00:00, 139.16it/s, loss=0.00129]\n"
     ]
    },
    {
     "name": "stdout",
     "output_type": "stream",
     "text": [
      "Epoch [269/500]: Train loss: 0.0013, Test loss: 0.0018\n"
     ]
    },
    {
     "name": "stderr",
     "output_type": "stream",
     "text": [
      "Epoch [270/500]: 100%|████████████████████████████████████████████████| 168/168 [00:01<00:00, 140.90it/s, loss=0.00108]\n"
     ]
    },
    {
     "name": "stdout",
     "output_type": "stream",
     "text": [
      "Epoch [270/500]: Train loss: 0.0013, Test loss: 0.0017\n"
     ]
    },
    {
     "name": "stderr",
     "output_type": "stream",
     "text": [
      "Epoch [271/500]: 100%|███████████████████████████████████████████████| 168/168 [00:01<00:00, 131.31it/s, loss=0.000523]\n"
     ]
    },
    {
     "name": "stdout",
     "output_type": "stream",
     "text": [
      "Epoch [271/500]: Train loss: 0.0012, Test loss: 0.0016\n"
     ]
    },
    {
     "name": "stderr",
     "output_type": "stream",
     "text": [
      "Epoch [272/500]: 100%|████████████████████████████████████████████████| 168/168 [00:01<00:00, 141.31it/s, loss=0.00227]\n"
     ]
    },
    {
     "name": "stdout",
     "output_type": "stream",
     "text": [
      "Epoch [272/500]: Train loss: 0.0012, Test loss: 0.0017\n"
     ]
    },
    {
     "name": "stderr",
     "output_type": "stream",
     "text": [
      "Epoch [273/500]: 100%|███████████████████████████████████████████████| 168/168 [00:01<00:00, 137.27it/s, loss=0.000811]\n"
     ]
    },
    {
     "name": "stdout",
     "output_type": "stream",
     "text": [
      "Epoch [273/500]: Train loss: 0.0012, Test loss: 0.0016\n",
      "Saving model with loss 0.002...\n"
     ]
    },
    {
     "name": "stderr",
     "output_type": "stream",
     "text": [
      "Epoch [274/500]: 100%|█████████████████████████████████████████████████| 168/168 [00:01<00:00, 141.00it/s, loss=0.0014]\n"
     ]
    },
    {
     "name": "stdout",
     "output_type": "stream",
     "text": [
      "Epoch [274/500]: Train loss: 0.0012, Test loss: 0.0016\n"
     ]
    },
    {
     "name": "stderr",
     "output_type": "stream",
     "text": [
      "Epoch [275/500]: 100%|████████████████████████████████████████████████| 168/168 [00:01<00:00, 141.30it/s, loss=0.00122]\n"
     ]
    },
    {
     "name": "stdout",
     "output_type": "stream",
     "text": [
      "Epoch [275/500]: Train loss: 0.0012, Test loss: 0.0016\n",
      "Saving model with loss 0.002...\n"
     ]
    },
    {
     "name": "stderr",
     "output_type": "stream",
     "text": [
      "Epoch [276/500]: 100%|███████████████████████████████████████████████| 168/168 [00:01<00:00, 141.70it/s, loss=0.000923]\n"
     ]
    },
    {
     "name": "stdout",
     "output_type": "stream",
     "text": [
      "Epoch [276/500]: Train loss: 0.0012, Test loss: 0.0017\n"
     ]
    },
    {
     "name": "stderr",
     "output_type": "stream",
     "text": [
      "Epoch [277/500]: 100%|███████████████████████████████████████████████| 168/168 [00:01<00:00, 132.09it/s, loss=0.000926]\n"
     ]
    },
    {
     "name": "stdout",
     "output_type": "stream",
     "text": [
      "Epoch [277/500]: Train loss: 0.0012, Test loss: 0.0019\n"
     ]
    },
    {
     "name": "stderr",
     "output_type": "stream",
     "text": [
      "Epoch [278/500]: 100%|████████████████████████████████████████████████| 168/168 [00:01<00:00, 122.37it/s, loss=0.00139]\n"
     ]
    },
    {
     "name": "stdout",
     "output_type": "stream",
     "text": [
      "Epoch [278/500]: Train loss: 0.0012, Test loss: 0.0015\n",
      "Saving model with loss 0.002...\n"
     ]
    },
    {
     "name": "stderr",
     "output_type": "stream",
     "text": [
      "Epoch [279/500]: 100%|███████████████████████████████████████████████| 168/168 [00:01<00:00, 140.59it/s, loss=0.000976]\n"
     ]
    },
    {
     "name": "stdout",
     "output_type": "stream",
     "text": [
      "Epoch [279/500]: Train loss: 0.0012, Test loss: 0.0016\n"
     ]
    },
    {
     "name": "stderr",
     "output_type": "stream",
     "text": [
      "Epoch [280/500]: 100%|███████████████████████████████████████████████| 168/168 [00:01<00:00, 141.58it/s, loss=0.000724]\n"
     ]
    },
    {
     "name": "stdout",
     "output_type": "stream",
     "text": [
      "Epoch [280/500]: Train loss: 0.0012, Test loss: 0.0015\n"
     ]
    },
    {
     "name": "stderr",
     "output_type": "stream",
     "text": [
      "Epoch [281/500]: 100%|████████████████████████████████████████████████| 168/168 [00:01<00:00, 130.40it/s, loss=0.00156]\n"
     ]
    },
    {
     "name": "stdout",
     "output_type": "stream",
     "text": [
      "Epoch [281/500]: Train loss: 0.0011, Test loss: 0.0015\n",
      "Saving model with loss 0.002...\n"
     ]
    },
    {
     "name": "stderr",
     "output_type": "stream",
     "text": [
      "Epoch [282/500]: 100%|████████████████████████████████████████████████| 168/168 [00:01<00:00, 142.37it/s, loss=0.00151]\n"
     ]
    },
    {
     "name": "stdout",
     "output_type": "stream",
     "text": [
      "Epoch [282/500]: Train loss: 0.0011, Test loss: 0.0015\n",
      "Saving model with loss 0.001...\n"
     ]
    },
    {
     "name": "stderr",
     "output_type": "stream",
     "text": [
      "Epoch [283/500]: 100%|████████████████████████████████████████████████| 168/168 [00:01<00:00, 135.24it/s, loss=0.00106]\n"
     ]
    },
    {
     "name": "stdout",
     "output_type": "stream",
     "text": [
      "Epoch [283/500]: Train loss: 0.0011, Test loss: 0.0017\n"
     ]
    },
    {
     "name": "stderr",
     "output_type": "stream",
     "text": [
      "Epoch [284/500]: 100%|████████████████████████████████████████████████| 168/168 [00:01<00:00, 125.34it/s, loss=0.00249]\n"
     ]
    },
    {
     "name": "stdout",
     "output_type": "stream",
     "text": [
      "Epoch [284/500]: Train loss: 0.0012, Test loss: 0.0016\n"
     ]
    },
    {
     "name": "stderr",
     "output_type": "stream",
     "text": [
      "Epoch [285/500]: 100%|███████████████████████████████████████████████| 168/168 [00:01<00:00, 142.22it/s, loss=0.000631]\n"
     ]
    },
    {
     "name": "stdout",
     "output_type": "stream",
     "text": [
      "Epoch [285/500]: Train loss: 0.0011, Test loss: 0.0014\n",
      "Saving model with loss 0.001...\n"
     ]
    },
    {
     "name": "stderr",
     "output_type": "stream",
     "text": [
      "Epoch [286/500]: 100%|███████████████████████████████████████████████| 168/168 [00:01<00:00, 135.61it/s, loss=0.000894]\n"
     ]
    },
    {
     "name": "stdout",
     "output_type": "stream",
     "text": [
      "Epoch [286/500]: Train loss: 0.0011, Test loss: 0.0014\n",
      "Saving model with loss 0.001...\n"
     ]
    },
    {
     "name": "stderr",
     "output_type": "stream",
     "text": [
      "Epoch [287/500]: 100%|███████████████████████████████████████████████| 168/168 [00:01<00:00, 142.31it/s, loss=0.000776]\n"
     ]
    },
    {
     "name": "stdout",
     "output_type": "stream",
     "text": [
      "Epoch [287/500]: Train loss: 0.0011, Test loss: 0.0015\n"
     ]
    },
    {
     "name": "stderr",
     "output_type": "stream",
     "text": [
      "Epoch [288/500]: 100%|████████████████████████████████████████████████| 168/168 [00:01<00:00, 138.12it/s, loss=0.00121]\n"
     ]
    },
    {
     "name": "stdout",
     "output_type": "stream",
     "text": [
      "Epoch [288/500]: Train loss: 0.0011, Test loss: 0.0015\n"
     ]
    },
    {
     "name": "stderr",
     "output_type": "stream",
     "text": [
      "Epoch [289/500]: 100%|███████████████████████████████████████████████| 168/168 [00:01<00:00, 140.60it/s, loss=0.000515]\n"
     ]
    },
    {
     "name": "stdout",
     "output_type": "stream",
     "text": [
      "Epoch [289/500]: Train loss: 0.0011, Test loss: 0.0014\n",
      "Saving model with loss 0.001...\n"
     ]
    },
    {
     "name": "stderr",
     "output_type": "stream",
     "text": [
      "Epoch [290/500]: 100%|███████████████████████████████████████████████| 168/168 [00:01<00:00, 133.84it/s, loss=0.000521]\n"
     ]
    },
    {
     "name": "stdout",
     "output_type": "stream",
     "text": [
      "Epoch [290/500]: Train loss: 0.0011, Test loss: 0.0014\n"
     ]
    },
    {
     "name": "stderr",
     "output_type": "stream",
     "text": [
      "Epoch [291/500]: 100%|███████████████████████████████████████████████| 168/168 [00:01<00:00, 144.84it/s, loss=0.000597]\n"
     ]
    },
    {
     "name": "stdout",
     "output_type": "stream",
     "text": [
      "Epoch [291/500]: Train loss: 0.0011, Test loss: 0.0014\n",
      "Saving model with loss 0.001...\n"
     ]
    },
    {
     "name": "stderr",
     "output_type": "stream",
     "text": [
      "Epoch [292/500]: 100%|████████████████████████████████████████████████| 168/168 [00:01<00:00, 125.55it/s, loss=0.00122]\n"
     ]
    },
    {
     "name": "stdout",
     "output_type": "stream",
     "text": [
      "Epoch [292/500]: Train loss: 0.0011, Test loss: 0.0015\n"
     ]
    },
    {
     "name": "stderr",
     "output_type": "stream",
     "text": [
      "Epoch [293/500]: 100%|█████████████████████████████████████████████████| 168/168 [00:01<00:00, 143.65it/s, loss=0.0015]\n"
     ]
    },
    {
     "name": "stdout",
     "output_type": "stream",
     "text": [
      "Epoch [293/500]: Train loss: 0.0010, Test loss: 0.0015\n"
     ]
    },
    {
     "name": "stderr",
     "output_type": "stream",
     "text": [
      "Epoch [294/500]: 100%|███████████████████████████████████████████████| 168/168 [00:01<00:00, 138.74it/s, loss=0.000985]\n"
     ]
    },
    {
     "name": "stdout",
     "output_type": "stream",
     "text": [
      "Epoch [294/500]: Train loss: 0.0011, Test loss: 0.0014\n"
     ]
    },
    {
     "name": "stderr",
     "output_type": "stream",
     "text": [
      "Epoch [295/500]: 100%|███████████████████████████████████████████████| 168/168 [00:01<00:00, 127.18it/s, loss=0.000951]\n"
     ]
    },
    {
     "name": "stdout",
     "output_type": "stream",
     "text": [
      "Epoch [295/500]: Train loss: 0.0010, Test loss: 0.0014\n"
     ]
    },
    {
     "name": "stderr",
     "output_type": "stream",
     "text": [
      "Epoch [296/500]: 100%|███████████████████████████████████████████████| 168/168 [00:01<00:00, 118.92it/s, loss=0.000805]\n"
     ]
    },
    {
     "name": "stdout",
     "output_type": "stream",
     "text": [
      "Epoch [296/500]: Train loss: 0.0010, Test loss: 0.0014\n"
     ]
    },
    {
     "name": "stderr",
     "output_type": "stream",
     "text": [
      "Epoch [297/500]: 100%|███████████████████████████████████████████████| 168/168 [00:01<00:00, 130.48it/s, loss=0.000946]\n"
     ]
    },
    {
     "name": "stdout",
     "output_type": "stream",
     "text": [
      "Epoch [297/500]: Train loss: 0.0010, Test loss: 0.0015\n"
     ]
    },
    {
     "name": "stderr",
     "output_type": "stream",
     "text": [
      "Epoch [298/500]: 100%|███████████████████████████████████████████████| 168/168 [00:01<00:00, 141.77it/s, loss=0.000884]\n"
     ]
    },
    {
     "name": "stdout",
     "output_type": "stream",
     "text": [
      "Epoch [298/500]: Train loss: 0.0010, Test loss: 0.0014\n",
      "Saving model with loss 0.001...\n"
     ]
    },
    {
     "name": "stderr",
     "output_type": "stream",
     "text": [
      "Epoch [299/500]: 100%|████████████████████████████████████████████████| 168/168 [00:01<00:00, 144.58it/s, loss=0.00146]\n"
     ]
    },
    {
     "name": "stdout",
     "output_type": "stream",
     "text": [
      "Epoch [299/500]: Train loss: 0.0010, Test loss: 0.0014\n"
     ]
    },
    {
     "name": "stderr",
     "output_type": "stream",
     "text": [
      "Epoch [300/500]: 100%|████████████████████████████████████████████████| 168/168 [00:01<00:00, 121.14it/s, loss=0.00107]\n"
     ]
    },
    {
     "name": "stdout",
     "output_type": "stream",
     "text": [
      "Epoch [300/500]: Train loss: 0.0010, Test loss: 0.0014\n"
     ]
    },
    {
     "name": "stderr",
     "output_type": "stream",
     "text": [
      "Epoch [301/500]: 100%|███████████████████████████████████████████████| 168/168 [00:01<00:00, 117.90it/s, loss=0.000764]\n"
     ]
    },
    {
     "name": "stdout",
     "output_type": "stream",
     "text": [
      "Epoch [301/500]: Train loss: 0.0010, Test loss: 0.0014\n",
      "Saving model with loss 0.001...\n"
     ]
    },
    {
     "name": "stderr",
     "output_type": "stream",
     "text": [
      "Epoch [302/500]: 100%|███████████████████████████████████████████████| 168/168 [00:01<00:00, 137.40it/s, loss=0.000556]\n"
     ]
    },
    {
     "name": "stdout",
     "output_type": "stream",
     "text": [
      "Epoch [302/500]: Train loss: 0.0010, Test loss: 0.0014\n"
     ]
    },
    {
     "name": "stderr",
     "output_type": "stream",
     "text": [
      "Epoch [303/500]: 100%|████████████████████████████████████████████████| 168/168 [00:01<00:00, 134.09it/s, loss=0.00048]\n"
     ]
    },
    {
     "name": "stdout",
     "output_type": "stream",
     "text": [
      "Epoch [303/500]: Train loss: 0.0010, Test loss: 0.0014\n"
     ]
    },
    {
     "name": "stderr",
     "output_type": "stream",
     "text": [
      "Epoch [304/500]: 100%|████████████████████████████████████████████████| 168/168 [00:01<00:00, 121.90it/s, loss=0.00061]\n"
     ]
    },
    {
     "name": "stdout",
     "output_type": "stream",
     "text": [
      "Epoch [304/500]: Train loss: 0.0010, Test loss: 0.0013\n",
      "Saving model with loss 0.001...\n"
     ]
    },
    {
     "name": "stderr",
     "output_type": "stream",
     "text": [
      "Epoch [305/500]: 100%|████████████████████████████████████████████████| 168/168 [00:01<00:00, 116.14it/s, loss=0.00067]\n"
     ]
    },
    {
     "name": "stdout",
     "output_type": "stream",
     "text": [
      "Epoch [305/500]: Train loss: 0.0010, Test loss: 0.0015\n"
     ]
    },
    {
     "name": "stderr",
     "output_type": "stream",
     "text": [
      "Epoch [306/500]: 100%|████████████████████████████████████████████████| 168/168 [00:01<00:00, 141.21it/s, loss=0.00115]\n"
     ]
    },
    {
     "name": "stdout",
     "output_type": "stream",
     "text": [
      "Epoch [306/500]: Train loss: 0.0010, Test loss: 0.0014\n"
     ]
    },
    {
     "name": "stderr",
     "output_type": "stream",
     "text": [
      "Epoch [307/500]: 100%|████████████████████████████████████████████████| 168/168 [00:01<00:00, 142.48it/s, loss=0.00181]\n"
     ]
    },
    {
     "name": "stdout",
     "output_type": "stream",
     "text": [
      "Epoch [307/500]: Train loss: 0.0009, Test loss: 0.0015\n"
     ]
    },
    {
     "name": "stderr",
     "output_type": "stream",
     "text": [
      "Epoch [308/500]: 100%|████████████████████████████████████████████████| 168/168 [00:01<00:00, 131.67it/s, loss=0.00192]\n"
     ]
    },
    {
     "name": "stdout",
     "output_type": "stream",
     "text": [
      "Epoch [308/500]: Train loss: 0.0009, Test loss: 0.0014\n"
     ]
    },
    {
     "name": "stderr",
     "output_type": "stream",
     "text": [
      "Epoch [309/500]: 100%|█████████████████████████████████████████████████| 168/168 [00:01<00:00, 133.59it/s, loss=0.0013]\n"
     ]
    },
    {
     "name": "stdout",
     "output_type": "stream",
     "text": [
      "Epoch [309/500]: Train loss: 0.0009, Test loss: 0.0013\n",
      "Saving model with loss 0.001...\n"
     ]
    },
    {
     "name": "stderr",
     "output_type": "stream",
     "text": [
      "Epoch [310/500]: 100%|████████████████████████████████████████████████| 168/168 [00:01<00:00, 142.94it/s, loss=0.00105]\n"
     ]
    },
    {
     "name": "stdout",
     "output_type": "stream",
     "text": [
      "Epoch [310/500]: Train loss: 0.0009, Test loss: 0.0014\n"
     ]
    },
    {
     "name": "stderr",
     "output_type": "stream",
     "text": [
      "Epoch [311/500]: 100%|████████████████████████████████████████████████| 168/168 [00:01<00:00, 135.87it/s, loss=0.00115]\n"
     ]
    },
    {
     "name": "stdout",
     "output_type": "stream",
     "text": [
      "Epoch [311/500]: Train loss: 0.0009, Test loss: 0.0017\n"
     ]
    },
    {
     "name": "stderr",
     "output_type": "stream",
     "text": [
      "Epoch [312/500]: 100%|████████████████████████████████████████████████| 168/168 [00:01<00:00, 143.25it/s, loss=0.00108]\n"
     ]
    },
    {
     "name": "stdout",
     "output_type": "stream",
     "text": [
      "Epoch [312/500]: Train loss: 0.0012, Test loss: 0.0013\n"
     ]
    },
    {
     "name": "stderr",
     "output_type": "stream",
     "text": [
      "Epoch [313/500]: 100%|███████████████████████████████████████████████| 168/168 [00:01<00:00, 139.30it/s, loss=0.000954]\n"
     ]
    },
    {
     "name": "stdout",
     "output_type": "stream",
     "text": [
      "Epoch [313/500]: Train loss: 0.0009, Test loss: 0.0013\n",
      "Saving model with loss 0.001...\n"
     ]
    },
    {
     "name": "stderr",
     "output_type": "stream",
     "text": [
      "Epoch [314/500]: 100%|███████████████████████████████████████████████| 168/168 [00:01<00:00, 144.55it/s, loss=0.000526]\n"
     ]
    },
    {
     "name": "stdout",
     "output_type": "stream",
     "text": [
      "Epoch [314/500]: Train loss: 0.0009, Test loss: 0.0013\n"
     ]
    },
    {
     "name": "stderr",
     "output_type": "stream",
     "text": [
      "Epoch [315/500]: 100%|███████████████████████████████████████████████| 168/168 [00:01<00:00, 134.81it/s, loss=0.000797]\n"
     ]
    },
    {
     "name": "stdout",
     "output_type": "stream",
     "text": [
      "Epoch [315/500]: Train loss: 0.0009, Test loss: 0.0013\n"
     ]
    },
    {
     "name": "stderr",
     "output_type": "stream",
     "text": [
      "Epoch [316/500]: 100%|████████████████████████████████████████████████| 168/168 [00:01<00:00, 141.98it/s, loss=0.00122]\n"
     ]
    },
    {
     "name": "stdout",
     "output_type": "stream",
     "text": [
      "Epoch [316/500]: Train loss: 0.0009, Test loss: 0.0013\n"
     ]
    },
    {
     "name": "stderr",
     "output_type": "stream",
     "text": [
      "Epoch [317/500]: 100%|████████████████████████████████████████████████| 168/168 [00:01<00:00, 136.44it/s, loss=0.00111]\n"
     ]
    },
    {
     "name": "stdout",
     "output_type": "stream",
     "text": [
      "Epoch [317/500]: Train loss: 0.0009, Test loss: 0.0013\n"
     ]
    },
    {
     "name": "stderr",
     "output_type": "stream",
     "text": [
      "Epoch [318/500]: 100%|███████████████████████████████████████████████| 168/168 [00:01<00:00, 143.93it/s, loss=0.000784]\n"
     ]
    },
    {
     "name": "stdout",
     "output_type": "stream",
     "text": [
      "Epoch [318/500]: Train loss: 0.0009, Test loss: 0.0013\n"
     ]
    },
    {
     "name": "stderr",
     "output_type": "stream",
     "text": [
      "Epoch [319/500]: 100%|█████████████████████████████████████████████████| 168/168 [00:01<00:00, 132.23it/s, loss=0.0006]\n"
     ]
    },
    {
     "name": "stdout",
     "output_type": "stream",
     "text": [
      "Epoch [319/500]: Train loss: 0.0009, Test loss: 0.0013\n"
     ]
    },
    {
     "name": "stderr",
     "output_type": "stream",
     "text": [
      "Epoch [320/500]: 100%|███████████████████████████████████████████████| 168/168 [00:01<00:00, 143.78it/s, loss=0.000842]\n"
     ]
    },
    {
     "name": "stdout",
     "output_type": "stream",
     "text": [
      "Epoch [320/500]: Train loss: 0.0010, Test loss: 0.0013\n"
     ]
    },
    {
     "name": "stderr",
     "output_type": "stream",
     "text": [
      "Epoch [321/500]: 100%|████████████████████████████████████████████████| 168/168 [00:01<00:00, 140.87it/s, loss=0.00104]\n"
     ]
    },
    {
     "name": "stdout",
     "output_type": "stream",
     "text": [
      "Epoch [321/500]: Train loss: 0.0008, Test loss: 0.0013\n"
     ]
    },
    {
     "name": "stderr",
     "output_type": "stream",
     "text": [
      "Epoch [322/500]: 100%|███████████████████████████████████████████████| 168/168 [00:01<00:00, 129.50it/s, loss=0.000618]\n"
     ]
    },
    {
     "name": "stdout",
     "output_type": "stream",
     "text": [
      "Epoch [322/500]: Train loss: 0.0008, Test loss: 0.0012\n",
      "Saving model with loss 0.001...\n"
     ]
    },
    {
     "name": "stderr",
     "output_type": "stream",
     "text": [
      "Epoch [323/500]: 100%|███████████████████████████████████████████████| 168/168 [00:01<00:00, 135.77it/s, loss=0.000566]\n"
     ]
    },
    {
     "name": "stdout",
     "output_type": "stream",
     "text": [
      "Epoch [323/500]: Train loss: 0.0008, Test loss: 0.0012\n",
      "Saving model with loss 0.001...\n"
     ]
    },
    {
     "name": "stderr",
     "output_type": "stream",
     "text": [
      "Epoch [324/500]: 100%|███████████████████████████████████████████████| 168/168 [00:01<00:00, 141.53it/s, loss=0.000841]\n"
     ]
    },
    {
     "name": "stdout",
     "output_type": "stream",
     "text": [
      "Epoch [324/500]: Train loss: 0.0008, Test loss: 0.0014\n"
     ]
    },
    {
     "name": "stderr",
     "output_type": "stream",
     "text": [
      "Epoch [325/500]: 100%|███████████████████████████████████████████████| 168/168 [00:01<00:00, 141.46it/s, loss=0.000674]\n"
     ]
    },
    {
     "name": "stdout",
     "output_type": "stream",
     "text": [
      "Epoch [325/500]: Train loss: 0.0008, Test loss: 0.0013\n"
     ]
    },
    {
     "name": "stderr",
     "output_type": "stream",
     "text": [
      "Epoch [326/500]: 100%|███████████████████████████████████████████████| 168/168 [00:01<00:00, 119.30it/s, loss=0.000801]\n"
     ]
    },
    {
     "name": "stdout",
     "output_type": "stream",
     "text": [
      "Epoch [326/500]: Train loss: 0.0010, Test loss: 0.0014\n"
     ]
    },
    {
     "name": "stderr",
     "output_type": "stream",
     "text": [
      "Epoch [327/500]: 100%|████████████████████████████████████████████████| 168/168 [00:01<00:00, 120.73it/s, loss=0.00134]\n"
     ]
    },
    {
     "name": "stdout",
     "output_type": "stream",
     "text": [
      "Epoch [327/500]: Train loss: 0.0008, Test loss: 0.0015\n"
     ]
    },
    {
     "name": "stderr",
     "output_type": "stream",
     "text": [
      "Epoch [328/500]: 100%|███████████████████████████████████████████████| 168/168 [00:01<00:00, 142.83it/s, loss=0.000688]\n"
     ]
    },
    {
     "name": "stdout",
     "output_type": "stream",
     "text": [
      "Epoch [328/500]: Train loss: 0.0008, Test loss: 0.0012\n"
     ]
    },
    {
     "name": "stderr",
     "output_type": "stream",
     "text": [
      "Epoch [329/500]: 100%|███████████████████████████████████████████████| 168/168 [00:01<00:00, 139.46it/s, loss=0.000341]\n"
     ]
    },
    {
     "name": "stdout",
     "output_type": "stream",
     "text": [
      "Epoch [329/500]: Train loss: 0.0008, Test loss: 0.0013\n"
     ]
    },
    {
     "name": "stderr",
     "output_type": "stream",
     "text": [
      "Epoch [330/500]: 100%|████████████████████████████████████████████████| 168/168 [00:01<00:00, 139.53it/s, loss=0.00106]\n"
     ]
    },
    {
     "name": "stdout",
     "output_type": "stream",
     "text": [
      "Epoch [330/500]: Train loss: 0.0008, Test loss: 0.0012\n",
      "Saving model with loss 0.001...\n"
     ]
    },
    {
     "name": "stderr",
     "output_type": "stream",
     "text": [
      "Epoch [331/500]: 100%|███████████████████████████████████████████████| 168/168 [00:01<00:00, 134.29it/s, loss=0.000457]\n"
     ]
    },
    {
     "name": "stdout",
     "output_type": "stream",
     "text": [
      "Epoch [331/500]: Train loss: 0.0008, Test loss: 0.0012\n"
     ]
    },
    {
     "name": "stderr",
     "output_type": "stream",
     "text": [
      "Epoch [332/500]: 100%|███████████████████████████████████████████████| 168/168 [00:01<00:00, 140.34it/s, loss=0.000576]\n"
     ]
    },
    {
     "name": "stdout",
     "output_type": "stream",
     "text": [
      "Epoch [332/500]: Train loss: 0.0008, Test loss: 0.0012\n"
     ]
    },
    {
     "name": "stderr",
     "output_type": "stream",
     "text": [
      "Epoch [333/500]: 100%|███████████████████████████████████████████████| 168/168 [00:01<00:00, 133.06it/s, loss=0.000613]\n"
     ]
    },
    {
     "name": "stdout",
     "output_type": "stream",
     "text": [
      "Epoch [333/500]: Train loss: 0.0008, Test loss: 0.0013\n"
     ]
    },
    {
     "name": "stderr",
     "output_type": "stream",
     "text": [
      "Epoch [334/500]: 100%|███████████████████████████████████████████████| 168/168 [00:01<00:00, 141.74it/s, loss=0.000577]\n"
     ]
    },
    {
     "name": "stdout",
     "output_type": "stream",
     "text": [
      "Epoch [334/500]: Train loss: 0.0008, Test loss: 0.0012\n"
     ]
    },
    {
     "name": "stderr",
     "output_type": "stream",
     "text": [
      "Epoch [335/500]: 100%|███████████████████████████████████████████████| 168/168 [00:01<00:00, 139.19it/s, loss=0.000611]\n"
     ]
    },
    {
     "name": "stdout",
     "output_type": "stream",
     "text": [
      "Epoch [335/500]: Train loss: 0.0008, Test loss: 0.0013\n"
     ]
    },
    {
     "name": "stderr",
     "output_type": "stream",
     "text": [
      "Epoch [336/500]: 100%|███████████████████████████████████████████████| 168/168 [00:01<00:00, 141.21it/s, loss=0.000563]\n"
     ]
    },
    {
     "name": "stdout",
     "output_type": "stream",
     "text": [
      "Epoch [336/500]: Train loss: 0.0007, Test loss: 0.0013\n"
     ]
    },
    {
     "name": "stderr",
     "output_type": "stream",
     "text": [
      "Epoch [337/500]: 100%|███████████████████████████████████████████████| 168/168 [00:01<00:00, 142.15it/s, loss=0.000565]\n"
     ]
    },
    {
     "name": "stdout",
     "output_type": "stream",
     "text": [
      "Epoch [337/500]: Train loss: 0.0007, Test loss: 0.0013\n"
     ]
    },
    {
     "name": "stderr",
     "output_type": "stream",
     "text": [
      "Epoch [338/500]: 100%|████████████████████████████████████████████████| 168/168 [00:01<00:00, 133.79it/s, loss=0.00123]\n"
     ]
    },
    {
     "name": "stdout",
     "output_type": "stream",
     "text": [
      "Epoch [338/500]: Train loss: 0.0008, Test loss: 0.0018\n"
     ]
    },
    {
     "name": "stderr",
     "output_type": "stream",
     "text": [
      "Epoch [339/500]: 100%|███████████████████████████████████████████████| 168/168 [00:01<00:00, 136.87it/s, loss=0.000676]\n"
     ]
    },
    {
     "name": "stdout",
     "output_type": "stream",
     "text": [
      "Epoch [339/500]: Train loss: 0.0008, Test loss: 0.0012\n"
     ]
    },
    {
     "name": "stderr",
     "output_type": "stream",
     "text": [
      "Epoch [340/500]: 100%|████████████████████████████████████████████████| 168/168 [00:01<00:00, 138.86it/s, loss=0.00106]\n"
     ]
    },
    {
     "name": "stdout",
     "output_type": "stream",
     "text": [
      "Epoch [340/500]: Train loss: 0.0008, Test loss: 0.0015\n"
     ]
    },
    {
     "name": "stderr",
     "output_type": "stream",
     "text": [
      "Epoch [341/500]: 100%|███████████████████████████████████████████████| 168/168 [00:01<00:00, 142.09it/s, loss=0.000645]\n"
     ]
    },
    {
     "name": "stdout",
     "output_type": "stream",
     "text": [
      "Epoch [341/500]: Train loss: 0.0007, Test loss: 0.0012\n",
      "Saving model with loss 0.001...\n"
     ]
    },
    {
     "name": "stderr",
     "output_type": "stream",
     "text": [
      "Epoch [342/500]: 100%|████████████████████████████████████████████████| 168/168 [00:01<00:00, 133.34it/s, loss=0.00084]\n"
     ]
    },
    {
     "name": "stdout",
     "output_type": "stream",
     "text": [
      "Epoch [342/500]: Train loss: 0.0007, Test loss: 0.0013\n"
     ]
    },
    {
     "name": "stderr",
     "output_type": "stream",
     "text": [
      "Epoch [343/500]: 100%|████████████████████████████████████████████████| 168/168 [00:01<00:00, 139.89it/s, loss=0.00111]\n"
     ]
    },
    {
     "name": "stdout",
     "output_type": "stream",
     "text": [
      "Epoch [343/500]: Train loss: 0.0007, Test loss: 0.0012\n"
     ]
    },
    {
     "name": "stderr",
     "output_type": "stream",
     "text": [
      "Epoch [344/500]: 100%|████████████████████████████████████████████████| 168/168 [00:01<00:00, 128.26it/s, loss=0.00124]\n"
     ]
    },
    {
     "name": "stdout",
     "output_type": "stream",
     "text": [
      "Epoch [344/500]: Train loss: 0.0007, Test loss: 0.0012\n",
      "Saving model with loss 0.001...\n"
     ]
    },
    {
     "name": "stderr",
     "output_type": "stream",
     "text": [
      "Epoch [345/500]: 100%|███████████████████████████████████████████████| 168/168 [00:01<00:00, 138.50it/s, loss=0.000305]\n"
     ]
    },
    {
     "name": "stdout",
     "output_type": "stream",
     "text": [
      "Epoch [345/500]: Train loss: 0.0007, Test loss: 0.0012\n"
     ]
    },
    {
     "name": "stderr",
     "output_type": "stream",
     "text": [
      "Epoch [346/500]: 100%|████████████████████████████████████████████████| 168/168 [00:01<00:00, 135.07it/s, loss=0.00183]\n"
     ]
    },
    {
     "name": "stdout",
     "output_type": "stream",
     "text": [
      "Epoch [346/500]: Train loss: 0.0007, Test loss: 0.0019\n"
     ]
    },
    {
     "name": "stderr",
     "output_type": "stream",
     "text": [
      "Epoch [347/500]: 100%|███████████████████████████████████████████████| 168/168 [00:01<00:00, 124.11it/s, loss=0.000604]\n"
     ]
    },
    {
     "name": "stdout",
     "output_type": "stream",
     "text": [
      "Epoch [347/500]: Train loss: 0.0009, Test loss: 0.0012\n"
     ]
    },
    {
     "name": "stderr",
     "output_type": "stream",
     "text": [
      "Epoch [348/500]: 100%|███████████████████████████████████████████████| 168/168 [00:01<00:00, 143.60it/s, loss=0.000542]\n"
     ]
    },
    {
     "name": "stdout",
     "output_type": "stream",
     "text": [
      "Epoch [348/500]: Train loss: 0.0007, Test loss: 0.0013\n"
     ]
    },
    {
     "name": "stderr",
     "output_type": "stream",
     "text": [
      "Epoch [349/500]: 100%|███████████████████████████████████████████████| 168/168 [00:01<00:00, 138.74it/s, loss=0.000819]\n"
     ]
    },
    {
     "name": "stdout",
     "output_type": "stream",
     "text": [
      "Epoch [349/500]: Train loss: 0.0007, Test loss: 0.0012\n",
      "Saving model with loss 0.001...\n"
     ]
    },
    {
     "name": "stderr",
     "output_type": "stream",
     "text": [
      "Epoch [350/500]: 100%|███████████████████████████████████████████████| 168/168 [00:01<00:00, 130.72it/s, loss=0.000476]\n"
     ]
    },
    {
     "name": "stdout",
     "output_type": "stream",
     "text": [
      "Epoch [350/500]: Train loss: 0.0007, Test loss: 0.0012\n"
     ]
    },
    {
     "name": "stderr",
     "output_type": "stream",
     "text": [
      "Epoch [351/500]: 100%|███████████████████████████████████████████████| 168/168 [00:01<00:00, 138.67it/s, loss=0.000485]\n"
     ]
    },
    {
     "name": "stdout",
     "output_type": "stream",
     "text": [
      "Epoch [351/500]: Train loss: 0.0007, Test loss: 0.0012\n"
     ]
    },
    {
     "name": "stderr",
     "output_type": "stream",
     "text": [
      "Epoch [352/500]: 100%|███████████████████████████████████████████████| 168/168 [00:01<00:00, 124.44it/s, loss=0.000553]\n"
     ]
    },
    {
     "name": "stdout",
     "output_type": "stream",
     "text": [
      "Epoch [352/500]: Train loss: 0.0007, Test loss: 0.0012\n"
     ]
    },
    {
     "name": "stderr",
     "output_type": "stream",
     "text": [
      "Epoch [353/500]: 100%|███████████████████████████████████████████████| 168/168 [00:01<00:00, 134.20it/s, loss=0.000696]\n"
     ]
    },
    {
     "name": "stdout",
     "output_type": "stream",
     "text": [
      "Epoch [353/500]: Train loss: 0.0007, Test loss: 0.0012\n",
      "Saving model with loss 0.001...\n"
     ]
    },
    {
     "name": "stderr",
     "output_type": "stream",
     "text": [
      "Epoch [354/500]: 100%|███████████████████████████████████████████████| 168/168 [00:01<00:00, 126.01it/s, loss=0.000641]\n"
     ]
    },
    {
     "name": "stdout",
     "output_type": "stream",
     "text": [
      "Epoch [354/500]: Train loss: 0.0007, Test loss: 0.0011\n",
      "Saving model with loss 0.001...\n"
     ]
    },
    {
     "name": "stderr",
     "output_type": "stream",
     "text": [
      "Epoch [355/500]: 100%|███████████████████████████████████████████████| 168/168 [00:01<00:00, 128.54it/s, loss=0.000452]\n"
     ]
    },
    {
     "name": "stdout",
     "output_type": "stream",
     "text": [
      "Epoch [355/500]: Train loss: 0.0007, Test loss: 0.0012\n"
     ]
    },
    {
     "name": "stderr",
     "output_type": "stream",
     "text": [
      "Epoch [356/500]: 100%|███████████████████████████████████████████████| 168/168 [00:01<00:00, 138.91it/s, loss=0.000809]\n"
     ]
    },
    {
     "name": "stdout",
     "output_type": "stream",
     "text": [
      "Epoch [356/500]: Train loss: 0.0010, Test loss: 0.0013\n"
     ]
    },
    {
     "name": "stderr",
     "output_type": "stream",
     "text": [
      "Epoch [357/500]: 100%|███████████████████████████████████████████████| 168/168 [00:01<00:00, 128.22it/s, loss=0.000482]\n"
     ]
    },
    {
     "name": "stdout",
     "output_type": "stream",
     "text": [
      "Epoch [357/500]: Train loss: 0.0006, Test loss: 0.0011\n"
     ]
    },
    {
     "name": "stderr",
     "output_type": "stream",
     "text": [
      "Epoch [358/500]: 100%|███████████████████████████████████████████████| 168/168 [00:01<00:00, 141.85it/s, loss=0.000871]\n"
     ]
    },
    {
     "name": "stdout",
     "output_type": "stream",
     "text": [
      "Epoch [358/500]: Train loss: 0.0006, Test loss: 0.0012\n"
     ]
    },
    {
     "name": "stderr",
     "output_type": "stream",
     "text": [
      "Epoch [359/500]: 100%|███████████████████████████████████████████████| 168/168 [00:01<00:00, 132.73it/s, loss=0.000429]\n"
     ]
    },
    {
     "name": "stdout",
     "output_type": "stream",
     "text": [
      "Epoch [359/500]: Train loss: 0.0006, Test loss: 0.0011\n"
     ]
    },
    {
     "name": "stderr",
     "output_type": "stream",
     "text": [
      "Epoch [360/500]: 100%|███████████████████████████████████████████████| 168/168 [00:01<00:00, 137.02it/s, loss=0.000216]\n"
     ]
    },
    {
     "name": "stdout",
     "output_type": "stream",
     "text": [
      "Epoch [360/500]: Train loss: 0.0006, Test loss: 0.0012\n"
     ]
    },
    {
     "name": "stderr",
     "output_type": "stream",
     "text": [
      "Epoch [361/500]: 100%|███████████████████████████████████████████████| 168/168 [00:01<00:00, 140.59it/s, loss=0.000843]\n"
     ]
    },
    {
     "name": "stdout",
     "output_type": "stream",
     "text": [
      "Epoch [361/500]: Train loss: 0.0006, Test loss: 0.0015\n"
     ]
    },
    {
     "name": "stderr",
     "output_type": "stream",
     "text": [
      "Epoch [362/500]: 100%|███████████████████████████████████████████████| 168/168 [00:01<00:00, 131.44it/s, loss=0.000629]\n"
     ]
    },
    {
     "name": "stdout",
     "output_type": "stream",
     "text": [
      "Epoch [362/500]: Train loss: 0.0006, Test loss: 0.0012\n"
     ]
    },
    {
     "name": "stderr",
     "output_type": "stream",
     "text": [
      "Epoch [363/500]: 100%|███████████████████████████████████████████████| 168/168 [00:01<00:00, 143.91it/s, loss=0.000372]\n"
     ]
    },
    {
     "name": "stdout",
     "output_type": "stream",
     "text": [
      "Epoch [363/500]: Train loss: 0.0006, Test loss: 0.0011\n",
      "Saving model with loss 0.001...\n"
     ]
    },
    {
     "name": "stderr",
     "output_type": "stream",
     "text": [
      "Epoch [364/500]: 100%|█████████████████████████████████████████████████| 168/168 [00:01<00:00, 124.43it/s, loss=0.0006]\n"
     ]
    },
    {
     "name": "stdout",
     "output_type": "stream",
     "text": [
      "Epoch [364/500]: Train loss: 0.0006, Test loss: 0.0012\n"
     ]
    },
    {
     "name": "stderr",
     "output_type": "stream",
     "text": [
      "Epoch [365/500]: 100%|███████████████████████████████████████████████| 168/168 [00:01<00:00, 141.26it/s, loss=0.000241]\n"
     ]
    },
    {
     "name": "stdout",
     "output_type": "stream",
     "text": [
      "Epoch [365/500]: Train loss: 0.0006, Test loss: 0.0014\n"
     ]
    },
    {
     "name": "stderr",
     "output_type": "stream",
     "text": [
      "Epoch [366/500]: 100%|███████████████████████████████████████████████| 168/168 [00:01<00:00, 132.31it/s, loss=0.000664]\n"
     ]
    },
    {
     "name": "stdout",
     "output_type": "stream",
     "text": [
      "Epoch [366/500]: Train loss: 0.0006, Test loss: 0.0011\n"
     ]
    },
    {
     "name": "stderr",
     "output_type": "stream",
     "text": [
      "Epoch [367/500]: 100%|████████████████████████████████████████████████| 168/168 [00:01<00:00, 149.16it/s, loss=0.00057]\n"
     ]
    },
    {
     "name": "stdout",
     "output_type": "stream",
     "text": [
      "Epoch [367/500]: Train loss: 0.0006, Test loss: 0.0011\n"
     ]
    },
    {
     "name": "stderr",
     "output_type": "stream",
     "text": [
      "Epoch [368/500]: 100%|███████████████████████████████████████████████| 168/168 [00:01<00:00, 154.32it/s, loss=0.000414]\n"
     ]
    },
    {
     "name": "stdout",
     "output_type": "stream",
     "text": [
      "Epoch [368/500]: Train loss: 0.0007, Test loss: 0.0012\n"
     ]
    },
    {
     "name": "stderr",
     "output_type": "stream",
     "text": [
      "Epoch [369/500]: 100%|███████████████████████████████████████████████| 168/168 [00:01<00:00, 150.88it/s, loss=0.000483]\n"
     ]
    },
    {
     "name": "stdout",
     "output_type": "stream",
     "text": [
      "Epoch [369/500]: Train loss: 0.0006, Test loss: 0.0011\n"
     ]
    },
    {
     "name": "stderr",
     "output_type": "stream",
     "text": [
      "Epoch [370/500]: 100%|████████████████████████████████████████████████| 168/168 [00:01<00:00, 148.94it/s, loss=0.00107]\n"
     ]
    },
    {
     "name": "stdout",
     "output_type": "stream",
     "text": [
      "Epoch [370/500]: Train loss: 0.0006, Test loss: 0.0012\n"
     ]
    },
    {
     "name": "stderr",
     "output_type": "stream",
     "text": [
      "Epoch [371/500]: 100%|███████████████████████████████████████████████| 168/168 [00:01<00:00, 140.35it/s, loss=0.000591]\n"
     ]
    },
    {
     "name": "stdout",
     "output_type": "stream",
     "text": [
      "Epoch [371/500]: Train loss: 0.0006, Test loss: 0.0012\n"
     ]
    },
    {
     "name": "stderr",
     "output_type": "stream",
     "text": [
      "Epoch [372/500]: 100%|███████████████████████████████████████████████| 168/168 [00:01<00:00, 135.40it/s, loss=0.000545]\n"
     ]
    },
    {
     "name": "stdout",
     "output_type": "stream",
     "text": [
      "Epoch [372/500]: Train loss: 0.0007, Test loss: 0.0012\n"
     ]
    },
    {
     "name": "stderr",
     "output_type": "stream",
     "text": [
      "Epoch [373/500]: 100%|███████████████████████████████████████████████| 168/168 [00:01<00:00, 144.89it/s, loss=0.000925]\n"
     ]
    },
    {
     "name": "stdout",
     "output_type": "stream",
     "text": [
      "Epoch [373/500]: Train loss: 0.0006, Test loss: 0.0012\n"
     ]
    },
    {
     "name": "stderr",
     "output_type": "stream",
     "text": [
      "Epoch [374/500]: 100%|███████████████████████████████████████████████| 168/168 [00:01<00:00, 145.59it/s, loss=0.000553]\n"
     ]
    },
    {
     "name": "stdout",
     "output_type": "stream",
     "text": [
      "Epoch [374/500]: Train loss: 0.0006, Test loss: 0.0012\n"
     ]
    },
    {
     "name": "stderr",
     "output_type": "stream",
     "text": [
      "Epoch [375/500]: 100%|███████████████████████████████████████████████| 168/168 [00:01<00:00, 147.99it/s, loss=0.000555]\n"
     ]
    },
    {
     "name": "stdout",
     "output_type": "stream",
     "text": [
      "Epoch [375/500]: Train loss: 0.0006, Test loss: 0.0013\n"
     ]
    },
    {
     "name": "stderr",
     "output_type": "stream",
     "text": [
      "Epoch [376/500]: 100%|███████████████████████████████████████████████| 168/168 [00:01<00:00, 139.82it/s, loss=0.000419]\n"
     ]
    },
    {
     "name": "stdout",
     "output_type": "stream",
     "text": [
      "Epoch [376/500]: Train loss: 0.0006, Test loss: 0.0012\n"
     ]
    },
    {
     "name": "stderr",
     "output_type": "stream",
     "text": [
      "Epoch [377/500]: 100%|███████████████████████████████████████████████| 168/168 [00:01<00:00, 136.21it/s, loss=0.000421]\n"
     ]
    },
    {
     "name": "stdout",
     "output_type": "stream",
     "text": [
      "Epoch [377/500]: Train loss: 0.0006, Test loss: 0.0011\n"
     ]
    },
    {
     "name": "stderr",
     "output_type": "stream",
     "text": [
      "Epoch [378/500]: 100%|███████████████████████████████████████████████| 168/168 [00:01<00:00, 145.54it/s, loss=0.000286]\n"
     ]
    },
    {
     "name": "stdout",
     "output_type": "stream",
     "text": [
      "Epoch [378/500]: Train loss: 0.0006, Test loss: 0.0013\n"
     ]
    },
    {
     "name": "stderr",
     "output_type": "stream",
     "text": [
      "Epoch [379/500]: 100%|███████████████████████████████████████████████| 168/168 [00:01<00:00, 148.36it/s, loss=0.000676]\n"
     ]
    },
    {
     "name": "stdout",
     "output_type": "stream",
     "text": [
      "Epoch [379/500]: Train loss: 0.0006, Test loss: 0.0011\n"
     ]
    },
    {
     "name": "stderr",
     "output_type": "stream",
     "text": [
      "Epoch [380/500]: 100%|███████████████████████████████████████████████| 168/168 [00:01<00:00, 142.06it/s, loss=0.000556]\n"
     ]
    },
    {
     "name": "stdout",
     "output_type": "stream",
     "text": [
      "Epoch [380/500]: Train loss: 0.0006, Test loss: 0.0011\n"
     ]
    },
    {
     "name": "stderr",
     "output_type": "stream",
     "text": [
      "Epoch [381/500]: 100%|███████████████████████████████████████████████| 168/168 [00:01<00:00, 146.33it/s, loss=0.000755]\n"
     ]
    },
    {
     "name": "stdout",
     "output_type": "stream",
     "text": [
      "Epoch [381/500]: Train loss: 0.0006, Test loss: 0.0011\n"
     ]
    },
    {
     "name": "stderr",
     "output_type": "stream",
     "text": [
      "Epoch [382/500]: 100%|███████████████████████████████████████████████| 168/168 [00:01<00:00, 143.38it/s, loss=0.000523]\n"
     ]
    },
    {
     "name": "stdout",
     "output_type": "stream",
     "text": [
      "Epoch [382/500]: Train loss: 0.0006, Test loss: 0.0011\n"
     ]
    },
    {
     "name": "stderr",
     "output_type": "stream",
     "text": [
      "Epoch [383/500]: 100%|███████████████████████████████████████████████| 168/168 [00:01<00:00, 146.96it/s, loss=0.000628]\n"
     ]
    },
    {
     "name": "stdout",
     "output_type": "stream",
     "text": [
      "Epoch [383/500]: Train loss: 0.0006, Test loss: 0.0011\n"
     ]
    },
    {
     "name": "stderr",
     "output_type": "stream",
     "text": [
      "Epoch [384/500]: 100%|███████████████████████████████████████████████| 168/168 [00:01<00:00, 140.17it/s, loss=0.000612]\n"
     ]
    },
    {
     "name": "stdout",
     "output_type": "stream",
     "text": [
      "Epoch [384/500]: Train loss: 0.0006, Test loss: 0.0011\n"
     ]
    },
    {
     "name": "stderr",
     "output_type": "stream",
     "text": [
      "Epoch [385/500]: 100%|████████████████████████████████████████████████| 168/168 [00:01<00:00, 143.04it/s, loss=0.00043]\n"
     ]
    },
    {
     "name": "stdout",
     "output_type": "stream",
     "text": [
      "Epoch [385/500]: Train loss: 0.0005, Test loss: 0.0011\n"
     ]
    },
    {
     "name": "stderr",
     "output_type": "stream",
     "text": [
      "Epoch [386/500]: 100%|███████████████████████████████████████████████| 168/168 [00:01<00:00, 138.46it/s, loss=0.000674]\n"
     ]
    },
    {
     "name": "stdout",
     "output_type": "stream",
     "text": [
      "Epoch [386/500]: Train loss: 0.0005, Test loss: 0.0012\n"
     ]
    },
    {
     "name": "stderr",
     "output_type": "stream",
     "text": [
      "Epoch [387/500]: 100%|███████████████████████████████████████████████| 168/168 [00:01<00:00, 155.25it/s, loss=0.000404]\n"
     ]
    },
    {
     "name": "stdout",
     "output_type": "stream",
     "text": [
      "Epoch [387/500]: Train loss: 0.0006, Test loss: 0.0011\n",
      "Saving model with loss 0.001...\n"
     ]
    },
    {
     "name": "stderr",
     "output_type": "stream",
     "text": [
      "Epoch [388/500]: 100%|███████████████████████████████████████████████| 168/168 [00:01<00:00, 143.48it/s, loss=0.000461]\n"
     ]
    },
    {
     "name": "stdout",
     "output_type": "stream",
     "text": [
      "Epoch [388/500]: Train loss: 0.0005, Test loss: 0.0011\n",
      "Saving model with loss 0.001...\n"
     ]
    },
    {
     "name": "stderr",
     "output_type": "stream",
     "text": [
      "Epoch [389/500]: 100%|███████████████████████████████████████████████| 168/168 [00:01<00:00, 134.74it/s, loss=0.000746]\n"
     ]
    },
    {
     "name": "stdout",
     "output_type": "stream",
     "text": [
      "Epoch [389/500]: Train loss: 0.0005, Test loss: 0.0011\n"
     ]
    },
    {
     "name": "stderr",
     "output_type": "stream",
     "text": [
      "Epoch [390/500]: 100%|███████████████████████████████████████████████| 168/168 [00:01<00:00, 151.64it/s, loss=0.000593]\n"
     ]
    },
    {
     "name": "stdout",
     "output_type": "stream",
     "text": [
      "Epoch [390/500]: Train loss: 0.0005, Test loss: 0.0011\n"
     ]
    },
    {
     "name": "stderr",
     "output_type": "stream",
     "text": [
      "Epoch [391/500]: 100%|████████████████████████████████████████████████| 168/168 [00:01<00:00, 145.79it/s, loss=0.00074]\n"
     ]
    },
    {
     "name": "stdout",
     "output_type": "stream",
     "text": [
      "Epoch [391/500]: Train loss: 0.0005, Test loss: 0.0011\n",
      "Saving model with loss 0.001...\n"
     ]
    },
    {
     "name": "stderr",
     "output_type": "stream",
     "text": [
      "Epoch [392/500]: 100%|███████████████████████████████████████████████| 168/168 [00:01<00:00, 148.82it/s, loss=0.000312]\n"
     ]
    },
    {
     "name": "stdout",
     "output_type": "stream",
     "text": [
      "Epoch [392/500]: Train loss: 0.0005, Test loss: 0.0011\n"
     ]
    },
    {
     "name": "stderr",
     "output_type": "stream",
     "text": [
      "Epoch [393/500]: 100%|███████████████████████████████████████████████| 168/168 [00:01<00:00, 143.84it/s, loss=0.000474]\n"
     ]
    },
    {
     "name": "stdout",
     "output_type": "stream",
     "text": [
      "Epoch [393/500]: Train loss: 0.0005, Test loss: 0.0011\n",
      "Saving model with loss 0.001...\n"
     ]
    },
    {
     "name": "stderr",
     "output_type": "stream",
     "text": [
      "Epoch [394/500]: 100%|███████████████████████████████████████████████| 168/168 [00:01<00:00, 125.28it/s, loss=0.000435]\n"
     ]
    },
    {
     "name": "stdout",
     "output_type": "stream",
     "text": [
      "Epoch [394/500]: Train loss: 0.0006, Test loss: 0.0011\n"
     ]
    },
    {
     "name": "stderr",
     "output_type": "stream",
     "text": [
      "Epoch [395/500]: 100%|███████████████████████████████████████████████| 168/168 [00:01<00:00, 139.62it/s, loss=0.000433]\n"
     ]
    },
    {
     "name": "stdout",
     "output_type": "stream",
     "text": [
      "Epoch [395/500]: Train loss: 0.0006, Test loss: 0.0011\n",
      "Saving model with loss 0.001...\n"
     ]
    },
    {
     "name": "stderr",
     "output_type": "stream",
     "text": [
      "Epoch [396/500]: 100%|███████████████████████████████████████████████| 168/168 [00:01<00:00, 139.92it/s, loss=0.000425]\n"
     ]
    },
    {
     "name": "stdout",
     "output_type": "stream",
     "text": [
      "Epoch [396/500]: Train loss: 0.0005, Test loss: 0.0011\n"
     ]
    },
    {
     "name": "stderr",
     "output_type": "stream",
     "text": [
      "Epoch [397/500]: 100%|███████████████████████████████████████████████| 168/168 [00:01<00:00, 141.61it/s, loss=0.000309]\n"
     ]
    },
    {
     "name": "stdout",
     "output_type": "stream",
     "text": [
      "Epoch [397/500]: Train loss: 0.0005, Test loss: 0.0011\n"
     ]
    },
    {
     "name": "stderr",
     "output_type": "stream",
     "text": [
      "Epoch [398/500]: 100%|███████████████████████████████████████████████| 168/168 [00:01<00:00, 131.76it/s, loss=0.000449]\n"
     ]
    },
    {
     "name": "stdout",
     "output_type": "stream",
     "text": [
      "Epoch [398/500]: Train loss: 0.0006, Test loss: 0.0011\n"
     ]
    },
    {
     "name": "stderr",
     "output_type": "stream",
     "text": [
      "Epoch [399/500]: 100%|███████████████████████████████████████████████| 168/168 [00:01<00:00, 142.48it/s, loss=0.000684]\n"
     ]
    },
    {
     "name": "stdout",
     "output_type": "stream",
     "text": [
      "Epoch [399/500]: Train loss: 0.0005, Test loss: 0.0012\n"
     ]
    },
    {
     "name": "stderr",
     "output_type": "stream",
     "text": [
      "Epoch [400/500]: 100%|███████████████████████████████████████████████| 168/168 [00:01<00:00, 146.51it/s, loss=0.000239]\n"
     ]
    },
    {
     "name": "stdout",
     "output_type": "stream",
     "text": [
      "Epoch [400/500]: Train loss: 0.0005, Test loss: 0.0012\n"
     ]
    },
    {
     "name": "stderr",
     "output_type": "stream",
     "text": [
      "Epoch [401/500]: 100%|███████████████████████████████████████████████| 168/168 [00:01<00:00, 138.24it/s, loss=0.000808]\n"
     ]
    },
    {
     "name": "stdout",
     "output_type": "stream",
     "text": [
      "Epoch [401/500]: Train loss: 0.0005, Test loss: 0.0011\n"
     ]
    },
    {
     "name": "stderr",
     "output_type": "stream",
     "text": [
      "Epoch [402/500]: 100%|████████████████████████████████████████████████| 168/168 [00:01<00:00, 134.71it/s, loss=0.00034]\n"
     ]
    },
    {
     "name": "stdout",
     "output_type": "stream",
     "text": [
      "Epoch [402/500]: Train loss: 0.0005, Test loss: 0.0011\n"
     ]
    },
    {
     "name": "stderr",
     "output_type": "stream",
     "text": [
      "Epoch [403/500]: 100%|███████████████████████████████████████████████| 168/168 [00:01<00:00, 146.69it/s, loss=0.000502]\n"
     ]
    },
    {
     "name": "stdout",
     "output_type": "stream",
     "text": [
      "Epoch [403/500]: Train loss: 0.0005, Test loss: 0.0011\n"
     ]
    },
    {
     "name": "stderr",
     "output_type": "stream",
     "text": [
      "Epoch [404/500]: 100%|███████████████████████████████████████████████| 168/168 [00:01<00:00, 144.09it/s, loss=0.000452]\n"
     ]
    },
    {
     "name": "stdout",
     "output_type": "stream",
     "text": [
      "Epoch [404/500]: Train loss: 0.0005, Test loss: 0.0013\n"
     ]
    },
    {
     "name": "stderr",
     "output_type": "stream",
     "text": [
      "Epoch [405/500]: 100%|███████████████████████████████████████████████| 168/168 [00:01<00:00, 134.67it/s, loss=0.000355]\n"
     ]
    },
    {
     "name": "stdout",
     "output_type": "stream",
     "text": [
      "Epoch [405/500]: Train loss: 0.0005, Test loss: 0.0012\n"
     ]
    },
    {
     "name": "stderr",
     "output_type": "stream",
     "text": [
      "Epoch [406/500]: 100%|███████████████████████████████████████████████| 168/168 [00:01<00:00, 138.88it/s, loss=0.000424]\n"
     ]
    },
    {
     "name": "stdout",
     "output_type": "stream",
     "text": [
      "Epoch [406/500]: Train loss: 0.0005, Test loss: 0.0011\n"
     ]
    },
    {
     "name": "stderr",
     "output_type": "stream",
     "text": [
      "Epoch [407/500]: 100%|███████████████████████████████████████████████| 168/168 [00:01<00:00, 143.76it/s, loss=0.000582]\n"
     ]
    },
    {
     "name": "stdout",
     "output_type": "stream",
     "text": [
      "Epoch [407/500]: Train loss: 0.0005, Test loss: 0.0011\n"
     ]
    },
    {
     "name": "stderr",
     "output_type": "stream",
     "text": [
      "Epoch [408/500]: 100%|████████████████████████████████████████████████| 168/168 [00:01<00:00, 150.40it/s, loss=0.00027]\n"
     ]
    },
    {
     "name": "stdout",
     "output_type": "stream",
     "text": [
      "Epoch [408/500]: Train loss: 0.0005, Test loss: 0.0011\n"
     ]
    },
    {
     "name": "stderr",
     "output_type": "stream",
     "text": [
      "Epoch [409/500]: 100%|███████████████████████████████████████████████| 168/168 [00:01<00:00, 137.26it/s, loss=0.000649]\n"
     ]
    },
    {
     "name": "stdout",
     "output_type": "stream",
     "text": [
      "Epoch [409/500]: Train loss: 0.0005, Test loss: 0.0012\n"
     ]
    },
    {
     "name": "stderr",
     "output_type": "stream",
     "text": [
      "Epoch [410/500]: 100%|███████████████████████████████████████████████| 168/168 [00:01<00:00, 142.02it/s, loss=0.000638]\n"
     ]
    },
    {
     "name": "stdout",
     "output_type": "stream",
     "text": [
      "Epoch [410/500]: Train loss: 0.0005, Test loss: 0.0011\n"
     ]
    },
    {
     "name": "stderr",
     "output_type": "stream",
     "text": [
      "Epoch [411/500]: 100%|████████████████████████████████████████████████| 168/168 [00:01<00:00, 147.44it/s, loss=0.00192]\n"
     ]
    },
    {
     "name": "stdout",
     "output_type": "stream",
     "text": [
      "Epoch [411/500]: Train loss: 0.0005, Test loss: 0.0024\n"
     ]
    },
    {
     "name": "stderr",
     "output_type": "stream",
     "text": [
      "Epoch [412/500]: 100%|███████████████████████████████████████████████| 168/168 [00:01<00:00, 129.19it/s, loss=0.000284]\n"
     ]
    },
    {
     "name": "stdout",
     "output_type": "stream",
     "text": [
      "Epoch [412/500]: Train loss: 0.0006, Test loss: 0.0012\n"
     ]
    },
    {
     "name": "stderr",
     "output_type": "stream",
     "text": [
      "Epoch [413/500]: 100%|███████████████████████████████████████████████| 168/168 [00:01<00:00, 147.54it/s, loss=0.000363]\n"
     ]
    },
    {
     "name": "stdout",
     "output_type": "stream",
     "text": [
      "Epoch [413/500]: Train loss: 0.0005, Test loss: 0.0011\n"
     ]
    },
    {
     "name": "stderr",
     "output_type": "stream",
     "text": [
      "Epoch [414/500]: 100%|███████████████████████████████████████████████| 168/168 [00:01<00:00, 140.47it/s, loss=0.000268]\n"
     ]
    },
    {
     "name": "stdout",
     "output_type": "stream",
     "text": [
      "Epoch [414/500]: Train loss: 0.0005, Test loss: 0.0011\n"
     ]
    },
    {
     "name": "stderr",
     "output_type": "stream",
     "text": [
      "Epoch [415/500]: 100%|███████████████████████████████████████████████| 168/168 [00:01<00:00, 152.82it/s, loss=0.000446]\n"
     ]
    },
    {
     "name": "stdout",
     "output_type": "stream",
     "text": [
      "Epoch [415/500]: Train loss: 0.0005, Test loss: 0.0012\n"
     ]
    },
    {
     "name": "stderr",
     "output_type": "stream",
     "text": [
      "Epoch [416/500]: 100%|███████████████████████████████████████████████| 168/168 [00:01<00:00, 147.09it/s, loss=0.000397]\n"
     ]
    },
    {
     "name": "stdout",
     "output_type": "stream",
     "text": [
      "Epoch [416/500]: Train loss: 0.0005, Test loss: 0.0010\n",
      "Saving model with loss 0.001...\n"
     ]
    },
    {
     "name": "stderr",
     "output_type": "stream",
     "text": [
      "Epoch [417/500]: 100%|███████████████████████████████████████████████| 168/168 [00:01<00:00, 138.84it/s, loss=0.000185]\n"
     ]
    },
    {
     "name": "stdout",
     "output_type": "stream",
     "text": [
      "Epoch [417/500]: Train loss: 0.0005, Test loss: 0.0010\n",
      "Saving model with loss 0.001...\n"
     ]
    },
    {
     "name": "stderr",
     "output_type": "stream",
     "text": [
      "Epoch [418/500]: 100%|███████████████████████████████████████████████| 168/168 [00:01<00:00, 142.83it/s, loss=0.000409]\n"
     ]
    },
    {
     "name": "stdout",
     "output_type": "stream",
     "text": [
      "Epoch [418/500]: Train loss: 0.0005, Test loss: 0.0012\n"
     ]
    },
    {
     "name": "stderr",
     "output_type": "stream",
     "text": [
      "Epoch [419/500]: 100%|███████████████████████████████████████████████| 168/168 [00:01<00:00, 142.16it/s, loss=0.000548]\n"
     ]
    },
    {
     "name": "stdout",
     "output_type": "stream",
     "text": [
      "Epoch [419/500]: Train loss: 0.0004, Test loss: 0.0011\n"
     ]
    },
    {
     "name": "stderr",
     "output_type": "stream",
     "text": [
      "Epoch [420/500]: 100%|███████████████████████████████████████████████| 168/168 [00:01<00:00, 137.11it/s, loss=0.000579]\n"
     ]
    },
    {
     "name": "stdout",
     "output_type": "stream",
     "text": [
      "Epoch [420/500]: Train loss: 0.0004, Test loss: 0.0011\n"
     ]
    },
    {
     "name": "stderr",
     "output_type": "stream",
     "text": [
      "Epoch [421/500]: 100%|███████████████████████████████████████████████| 168/168 [00:01<00:00, 146.44it/s, loss=0.000586]\n"
     ]
    },
    {
     "name": "stdout",
     "output_type": "stream",
     "text": [
      "Epoch [421/500]: Train loss: 0.0005, Test loss: 0.0011\n"
     ]
    },
    {
     "name": "stderr",
     "output_type": "stream",
     "text": [
      "Epoch [422/500]: 100%|███████████████████████████████████████████████| 168/168 [00:01<00:00, 143.33it/s, loss=0.000413]\n"
     ]
    },
    {
     "name": "stdout",
     "output_type": "stream",
     "text": [
      "Epoch [422/500]: Train loss: 0.0005, Test loss: 0.0011\n"
     ]
    },
    {
     "name": "stderr",
     "output_type": "stream",
     "text": [
      "Epoch [423/500]: 100%|███████████████████████████████████████████████| 168/168 [00:01<00:00, 146.81it/s, loss=0.000265]\n"
     ]
    },
    {
     "name": "stdout",
     "output_type": "stream",
     "text": [
      "Epoch [423/500]: Train loss: 0.0004, Test loss: 0.0010\n"
     ]
    },
    {
     "name": "stderr",
     "output_type": "stream",
     "text": [
      "Epoch [424/500]: 100%|███████████████████████████████████████████████| 168/168 [00:01<00:00, 139.20it/s, loss=0.000773]\n"
     ]
    },
    {
     "name": "stdout",
     "output_type": "stream",
     "text": [
      "Epoch [424/500]: Train loss: 0.0004, Test loss: 0.0011\n"
     ]
    },
    {
     "name": "stderr",
     "output_type": "stream",
     "text": [
      "Epoch [425/500]: 100%|████████████████████████████████████████████████| 168/168 [00:01<00:00, 145.26it/s, loss=0.00025]\n"
     ]
    },
    {
     "name": "stdout",
     "output_type": "stream",
     "text": [
      "Epoch [425/500]: Train loss: 0.0004, Test loss: 0.0011\n"
     ]
    },
    {
     "name": "stderr",
     "output_type": "stream",
     "text": [
      "Epoch [426/500]: 100%|███████████████████████████████████████████████| 168/168 [00:01<00:00, 140.42it/s, loss=0.000484]\n"
     ]
    },
    {
     "name": "stdout",
     "output_type": "stream",
     "text": [
      "Epoch [426/500]: Train loss: 0.0005, Test loss: 0.0011\n"
     ]
    },
    {
     "name": "stderr",
     "output_type": "stream",
     "text": [
      "Epoch [427/500]: 100%|███████████████████████████████████████████████| 168/168 [00:01<00:00, 142.25it/s, loss=0.000603]\n"
     ]
    },
    {
     "name": "stdout",
     "output_type": "stream",
     "text": [
      "Epoch [427/500]: Train loss: 0.0004, Test loss: 0.0011\n"
     ]
    },
    {
     "name": "stderr",
     "output_type": "stream",
     "text": [
      "Epoch [428/500]: 100%|███████████████████████████████████████████████| 168/168 [00:01<00:00, 148.01it/s, loss=0.000598]\n"
     ]
    },
    {
     "name": "stdout",
     "output_type": "stream",
     "text": [
      "Epoch [428/500]: Train loss: 0.0004, Test loss: 0.0011\n"
     ]
    },
    {
     "name": "stderr",
     "output_type": "stream",
     "text": [
      "Epoch [429/500]: 100%|███████████████████████████████████████████████| 168/168 [00:01<00:00, 129.74it/s, loss=0.000623]\n"
     ]
    },
    {
     "name": "stdout",
     "output_type": "stream",
     "text": [
      "Epoch [429/500]: Train loss: 0.0005, Test loss: 0.0011\n"
     ]
    },
    {
     "name": "stderr",
     "output_type": "stream",
     "text": [
      "Epoch [430/500]: 100%|███████████████████████████████████████████████| 168/168 [00:01<00:00, 149.59it/s, loss=0.000683]\n"
     ]
    },
    {
     "name": "stdout",
     "output_type": "stream",
     "text": [
      "Epoch [430/500]: Train loss: 0.0004, Test loss: 0.0012\n"
     ]
    },
    {
     "name": "stderr",
     "output_type": "stream",
     "text": [
      "Epoch [431/500]: 100%|███████████████████████████████████████████████| 168/168 [00:01<00:00, 144.34it/s, loss=0.000347]\n"
     ]
    },
    {
     "name": "stdout",
     "output_type": "stream",
     "text": [
      "Epoch [431/500]: Train loss: 0.0004, Test loss: 0.0011\n"
     ]
    },
    {
     "name": "stderr",
     "output_type": "stream",
     "text": [
      "Epoch [432/500]: 100%|███████████████████████████████████████████████| 168/168 [00:01<00:00, 141.48it/s, loss=0.000444]\n"
     ]
    },
    {
     "name": "stdout",
     "output_type": "stream",
     "text": [
      "Epoch [432/500]: Train loss: 0.0004, Test loss: 0.0011\n"
     ]
    },
    {
     "name": "stderr",
     "output_type": "stream",
     "text": [
      "Epoch [433/500]: 100%|███████████████████████████████████████████████| 168/168 [00:01<00:00, 124.22it/s, loss=0.000364]\n"
     ]
    },
    {
     "name": "stdout",
     "output_type": "stream",
     "text": [
      "Epoch [433/500]: Train loss: 0.0004, Test loss: 0.0011\n"
     ]
    },
    {
     "name": "stderr",
     "output_type": "stream",
     "text": [
      "Epoch [434/500]: 100%|████████████████████████████████████████████████| 168/168 [00:01<00:00, 145.74it/s, loss=0.00041]\n"
     ]
    },
    {
     "name": "stdout",
     "output_type": "stream",
     "text": [
      "Epoch [434/500]: Train loss: 0.0004, Test loss: 0.0010\n",
      "Saving model with loss 0.001...\n"
     ]
    },
    {
     "name": "stderr",
     "output_type": "stream",
     "text": [
      "Epoch [435/500]: 100%|███████████████████████████████████████████████| 168/168 [00:01<00:00, 143.31it/s, loss=0.000306]\n"
     ]
    },
    {
     "name": "stdout",
     "output_type": "stream",
     "text": [
      "Epoch [435/500]: Train loss: 0.0004, Test loss: 0.0011\n"
     ]
    },
    {
     "name": "stderr",
     "output_type": "stream",
     "text": [
      "Epoch [436/500]: 100%|█████████████████████████████████████████████████| 168/168 [00:01<00:00, 148.30it/s, loss=0.0004]\n"
     ]
    },
    {
     "name": "stdout",
     "output_type": "stream",
     "text": [
      "Epoch [436/500]: Train loss: 0.0005, Test loss: 0.0013\n"
     ]
    },
    {
     "name": "stderr",
     "output_type": "stream",
     "text": [
      "Epoch [437/500]: 100%|███████████████████████████████████████████████| 168/168 [00:01<00:00, 142.90it/s, loss=0.000433]\n"
     ]
    },
    {
     "name": "stdout",
     "output_type": "stream",
     "text": [
      "Epoch [437/500]: Train loss: 0.0004, Test loss: 0.0010\n",
      "Saving model with loss 0.001...\n"
     ]
    },
    {
     "name": "stderr",
     "output_type": "stream",
     "text": [
      "Epoch [438/500]: 100%|███████████████████████████████████████████████| 168/168 [00:01<00:00, 130.07it/s, loss=0.000704]\n"
     ]
    },
    {
     "name": "stdout",
     "output_type": "stream",
     "text": [
      "Epoch [438/500]: Train loss: 0.0004, Test loss: 0.0011\n"
     ]
    },
    {
     "name": "stderr",
     "output_type": "stream",
     "text": [
      "Epoch [439/500]: 100%|███████████████████████████████████████████████| 168/168 [00:01<00:00, 136.42it/s, loss=0.000253]\n"
     ]
    },
    {
     "name": "stdout",
     "output_type": "stream",
     "text": [
      "Epoch [439/500]: Train loss: 0.0005, Test loss: 0.0010\n"
     ]
    },
    {
     "name": "stderr",
     "output_type": "stream",
     "text": [
      "Epoch [440/500]: 100%|███████████████████████████████████████████████| 168/168 [00:01<00:00, 148.12it/s, loss=0.000498]\n"
     ]
    },
    {
     "name": "stdout",
     "output_type": "stream",
     "text": [
      "Epoch [440/500]: Train loss: 0.0004, Test loss: 0.0010\n"
     ]
    },
    {
     "name": "stderr",
     "output_type": "stream",
     "text": [
      "Epoch [441/500]: 100%|███████████████████████████████████████████████| 168/168 [00:01<00:00, 135.32it/s, loss=0.000244]\n"
     ]
    },
    {
     "name": "stdout",
     "output_type": "stream",
     "text": [
      "Epoch [441/500]: Train loss: 0.0004, Test loss: 0.0010\n"
     ]
    },
    {
     "name": "stderr",
     "output_type": "stream",
     "text": [
      "Epoch [442/500]: 100%|████████████████████████████████████████████████| 168/168 [00:01<00:00, 145.08it/s, loss=0.00028]\n"
     ]
    },
    {
     "name": "stdout",
     "output_type": "stream",
     "text": [
      "Epoch [442/500]: Train loss: 0.0004, Test loss: 0.0011\n"
     ]
    },
    {
     "name": "stderr",
     "output_type": "stream",
     "text": [
      "Epoch [443/500]: 100%|████████████████████████████████████████████████| 168/168 [00:01<00:00, 147.00it/s, loss=0.00048]\n"
     ]
    },
    {
     "name": "stdout",
     "output_type": "stream",
     "text": [
      "Epoch [443/500]: Train loss: 0.0004, Test loss: 0.0011\n"
     ]
    },
    {
     "name": "stderr",
     "output_type": "stream",
     "text": [
      "Epoch [444/500]: 100%|███████████████████████████████████████████████| 168/168 [00:01<00:00, 144.95it/s, loss=0.000475]\n"
     ]
    },
    {
     "name": "stdout",
     "output_type": "stream",
     "text": [
      "Epoch [444/500]: Train loss: 0.0004, Test loss: 0.0010\n"
     ]
    },
    {
     "name": "stderr",
     "output_type": "stream",
     "text": [
      "Epoch [445/500]: 100%|███████████████████████████████████████████████| 168/168 [00:01<00:00, 139.94it/s, loss=0.000321]\n"
     ]
    },
    {
     "name": "stdout",
     "output_type": "stream",
     "text": [
      "Epoch [445/500]: Train loss: 0.0004, Test loss: 0.0010\n"
     ]
    },
    {
     "name": "stderr",
     "output_type": "stream",
     "text": [
      "Epoch [446/500]: 100%|███████████████████████████████████████████████| 168/168 [00:01<00:00, 132.96it/s, loss=0.000478]\n"
     ]
    },
    {
     "name": "stdout",
     "output_type": "stream",
     "text": [
      "Epoch [446/500]: Train loss: 0.0004, Test loss: 0.0012\n"
     ]
    },
    {
     "name": "stderr",
     "output_type": "stream",
     "text": [
      "Epoch [447/500]: 100%|███████████████████████████████████████████████| 168/168 [00:01<00:00, 138.83it/s, loss=0.000311]\n"
     ]
    },
    {
     "name": "stdout",
     "output_type": "stream",
     "text": [
      "Epoch [447/500]: Train loss: 0.0004, Test loss: 0.0010\n"
     ]
    },
    {
     "name": "stderr",
     "output_type": "stream",
     "text": [
      "Epoch [448/500]: 100%|███████████████████████████████████████████████| 168/168 [00:01<00:00, 136.28it/s, loss=0.000297]\n"
     ]
    },
    {
     "name": "stdout",
     "output_type": "stream",
     "text": [
      "Epoch [448/500]: Train loss: 0.0004, Test loss: 0.0010\n"
     ]
    },
    {
     "name": "stderr",
     "output_type": "stream",
     "text": [
      "Epoch [449/500]: 100%|███████████████████████████████████████████████| 168/168 [00:01<00:00, 128.91it/s, loss=0.000375]\n"
     ]
    },
    {
     "name": "stdout",
     "output_type": "stream",
     "text": [
      "Epoch [449/500]: Train loss: 0.0004, Test loss: 0.0010\n"
     ]
    },
    {
     "name": "stderr",
     "output_type": "stream",
     "text": [
      "Epoch [450/500]: 100%|███████████████████████████████████████████████| 168/168 [00:01<00:00, 142.72it/s, loss=0.000251]\n"
     ]
    },
    {
     "name": "stdout",
     "output_type": "stream",
     "text": [
      "Epoch [450/500]: Train loss: 0.0004, Test loss: 0.0011\n"
     ]
    },
    {
     "name": "stderr",
     "output_type": "stream",
     "text": [
      "Epoch [451/500]: 100%|███████████████████████████████████████████████| 168/168 [00:01<00:00, 144.44it/s, loss=0.000391]\n"
     ]
    },
    {
     "name": "stdout",
     "output_type": "stream",
     "text": [
      "Epoch [451/500]: Train loss: 0.0004, Test loss: 0.0010\n"
     ]
    },
    {
     "name": "stderr",
     "output_type": "stream",
     "text": [
      "Epoch [452/500]: 100%|███████████████████████████████████████████████| 168/168 [00:01<00:00, 140.07it/s, loss=0.000517]\n"
     ]
    },
    {
     "name": "stdout",
     "output_type": "stream",
     "text": [
      "Epoch [452/500]: Train loss: 0.0004, Test loss: 0.0012\n"
     ]
    },
    {
     "name": "stderr",
     "output_type": "stream",
     "text": [
      "Epoch [453/500]: 100%|███████████████████████████████████████████████| 168/168 [00:01<00:00, 135.39it/s, loss=0.000514]\n"
     ]
    },
    {
     "name": "stdout",
     "output_type": "stream",
     "text": [
      "Epoch [453/500]: Train loss: 0.0004, Test loss: 0.0010\n"
     ]
    },
    {
     "name": "stderr",
     "output_type": "stream",
     "text": [
      "Epoch [454/500]: 100%|███████████████████████████████████████████████| 168/168 [00:01<00:00, 125.12it/s, loss=0.000279]\n"
     ]
    },
    {
     "name": "stdout",
     "output_type": "stream",
     "text": [
      "Epoch [454/500]: Train loss: 0.0004, Test loss: 0.0010\n"
     ]
    },
    {
     "name": "stderr",
     "output_type": "stream",
     "text": [
      "Epoch [455/500]: 100%|███████████████████████████████████████████████| 168/168 [00:01<00:00, 140.66it/s, loss=0.000315]\n"
     ]
    },
    {
     "name": "stdout",
     "output_type": "stream",
     "text": [
      "Epoch [455/500]: Train loss: 0.0004, Test loss: 0.0010\n"
     ]
    },
    {
     "name": "stderr",
     "output_type": "stream",
     "text": [
      "Epoch [456/500]: 100%|███████████████████████████████████████████████| 168/168 [00:01<00:00, 131.59it/s, loss=0.000323]\n"
     ]
    },
    {
     "name": "stdout",
     "output_type": "stream",
     "text": [
      "Epoch [456/500]: Train loss: 0.0004, Test loss: 0.0010\n"
     ]
    },
    {
     "name": "stderr",
     "output_type": "stream",
     "text": [
      "Epoch [457/500]: 100%|███████████████████████████████████████████████| 168/168 [00:01<00:00, 124.60it/s, loss=0.000371]\n"
     ]
    },
    {
     "name": "stdout",
     "output_type": "stream",
     "text": [
      "Epoch [457/500]: Train loss: 0.0004, Test loss: 0.0010\n"
     ]
    },
    {
     "name": "stderr",
     "output_type": "stream",
     "text": [
      "Epoch [458/500]: 100%|███████████████████████████████████████████████| 168/168 [00:01<00:00, 140.57it/s, loss=0.000596]\n"
     ]
    },
    {
     "name": "stdout",
     "output_type": "stream",
     "text": [
      "Epoch [458/500]: Train loss: 0.0004, Test loss: 0.0013\n"
     ]
    },
    {
     "name": "stderr",
     "output_type": "stream",
     "text": [
      "Epoch [459/500]: 100%|███████████████████████████████████████████████| 168/168 [00:01<00:00, 144.80it/s, loss=0.000521]\n"
     ]
    },
    {
     "name": "stdout",
     "output_type": "stream",
     "text": [
      "Epoch [459/500]: Train loss: 0.0004, Test loss: 0.0011\n"
     ]
    },
    {
     "name": "stderr",
     "output_type": "stream",
     "text": [
      "Epoch [460/500]: 100%|███████████████████████████████████████████████| 168/168 [00:01<00:00, 145.56it/s, loss=0.000222]\n"
     ]
    },
    {
     "name": "stdout",
     "output_type": "stream",
     "text": [
      "Epoch [460/500]: Train loss: 0.0004, Test loss: 0.0010\n"
     ]
    },
    {
     "name": "stderr",
     "output_type": "stream",
     "text": [
      "Epoch [461/500]: 100%|███████████████████████████████████████████████| 168/168 [00:01<00:00, 133.71it/s, loss=0.000248]\n"
     ]
    },
    {
     "name": "stdout",
     "output_type": "stream",
     "text": [
      "Epoch [461/500]: Train loss: 0.0004, Test loss: 0.0011\n"
     ]
    },
    {
     "name": "stderr",
     "output_type": "stream",
     "text": [
      "Epoch [462/500]: 100%|███████████████████████████████████████████████| 168/168 [00:01<00:00, 137.25it/s, loss=0.000354]\n"
     ]
    },
    {
     "name": "stdout",
     "output_type": "stream",
     "text": [
      "Epoch [462/500]: Train loss: 0.0004, Test loss: 0.0011\n"
     ]
    },
    {
     "name": "stderr",
     "output_type": "stream",
     "text": [
      "Epoch [463/500]: 100%|███████████████████████████████████████████████| 168/168 [00:01<00:00, 144.45it/s, loss=0.000321]\n"
     ]
    },
    {
     "name": "stdout",
     "output_type": "stream",
     "text": [
      "Epoch [463/500]: Train loss: 0.0004, Test loss: 0.0011\n"
     ]
    },
    {
     "name": "stderr",
     "output_type": "stream",
     "text": [
      "Epoch [464/500]: 100%|███████████████████████████████████████████████| 168/168 [00:01<00:00, 141.20it/s, loss=0.000315]\n"
     ]
    },
    {
     "name": "stdout",
     "output_type": "stream",
     "text": [
      "Epoch [464/500]: Train loss: 0.0004, Test loss: 0.0010\n"
     ]
    },
    {
     "name": "stderr",
     "output_type": "stream",
     "text": [
      "Epoch [465/500]: 100%|███████████████████████████████████████████████| 168/168 [00:01<00:00, 131.69it/s, loss=0.000367]\n"
     ]
    },
    {
     "name": "stdout",
     "output_type": "stream",
     "text": [
      "Epoch [465/500]: Train loss: 0.0004, Test loss: 0.0011\n"
     ]
    },
    {
     "name": "stderr",
     "output_type": "stream",
     "text": [
      "Epoch [466/500]: 100%|███████████████████████████████████████████████| 168/168 [00:01<00:00, 135.16it/s, loss=0.000315]\n"
     ]
    },
    {
     "name": "stdout",
     "output_type": "stream",
     "text": [
      "Epoch [466/500]: Train loss: 0.0004, Test loss: 0.0010\n"
     ]
    },
    {
     "name": "stderr",
     "output_type": "stream",
     "text": [
      "Epoch [467/500]: 100%|████████████████████████████████████████████████| 168/168 [00:01<00:00, 151.85it/s, loss=0.00044]\n"
     ]
    },
    {
     "name": "stdout",
     "output_type": "stream",
     "text": [
      "Epoch [467/500]: Train loss: 0.0004, Test loss: 0.0011\n"
     ]
    },
    {
     "name": "stderr",
     "output_type": "stream",
     "text": [
      "Epoch [468/500]: 100%|███████████████████████████████████████████████| 168/168 [00:01<00:00, 150.85it/s, loss=0.000303]\n"
     ]
    },
    {
     "name": "stdout",
     "output_type": "stream",
     "text": [
      "Epoch [468/500]: Train loss: 0.0004, Test loss: 0.0011\n"
     ]
    },
    {
     "name": "stderr",
     "output_type": "stream",
     "text": [
      "Epoch [469/500]: 100%|███████████████████████████████████████████████| 168/168 [00:01<00:00, 138.32it/s, loss=0.000451]\n"
     ]
    },
    {
     "name": "stdout",
     "output_type": "stream",
     "text": [
      "Epoch [469/500]: Train loss: 0.0004, Test loss: 0.0010\n"
     ]
    },
    {
     "name": "stderr",
     "output_type": "stream",
     "text": [
      "Epoch [470/500]: 100%|███████████████████████████████████████████████| 168/168 [00:01<00:00, 145.30it/s, loss=0.000543]\n"
     ]
    },
    {
     "name": "stdout",
     "output_type": "stream",
     "text": [
      "Epoch [470/500]: Train loss: 0.0004, Test loss: 0.0012\n"
     ]
    },
    {
     "name": "stderr",
     "output_type": "stream",
     "text": [
      "Epoch [471/500]: 100%|███████████████████████████████████████████████| 168/168 [00:01<00:00, 138.11it/s, loss=0.000364]\n"
     ]
    },
    {
     "name": "stdout",
     "output_type": "stream",
     "text": [
      "Epoch [471/500]: Train loss: 0.0004, Test loss: 0.0011\n"
     ]
    },
    {
     "name": "stderr",
     "output_type": "stream",
     "text": [
      "Epoch [472/500]: 100%|███████████████████████████████████████████████| 168/168 [00:01<00:00, 134.19it/s, loss=0.000258]\n"
     ]
    },
    {
     "name": "stdout",
     "output_type": "stream",
     "text": [
      "Epoch [472/500]: Train loss: 0.0004, Test loss: 0.0010\n"
     ]
    },
    {
     "name": "stderr",
     "output_type": "stream",
     "text": [
      "Epoch [473/500]: 100%|███████████████████████████████████████████████| 168/168 [00:01<00:00, 139.19it/s, loss=0.000402]\n"
     ]
    },
    {
     "name": "stdout",
     "output_type": "stream",
     "text": [
      "Epoch [473/500]: Train loss: 0.0003, Test loss: 0.0011\n"
     ]
    },
    {
     "name": "stderr",
     "output_type": "stream",
     "text": [
      "Epoch [474/500]: 100%|████████████████████████████████████████████████| 168/168 [00:01<00:00, 147.89it/s, loss=0.00021]\n"
     ]
    },
    {
     "name": "stdout",
     "output_type": "stream",
     "text": [
      "Epoch [474/500]: Train loss: 0.0004, Test loss: 0.0011\n"
     ]
    },
    {
     "name": "stderr",
     "output_type": "stream",
     "text": [
      "Epoch [475/500]: 100%|███████████████████████████████████████████████| 168/168 [00:01<00:00, 143.95it/s, loss=0.000384]\n"
     ]
    },
    {
     "name": "stdout",
     "output_type": "stream",
     "text": [
      "Epoch [475/500]: Train loss: 0.0004, Test loss: 0.0011\n"
     ]
    },
    {
     "name": "stderr",
     "output_type": "stream",
     "text": [
      "Epoch [476/500]: 100%|███████████████████████████████████████████████| 168/168 [00:01<00:00, 137.36it/s, loss=0.000713]\n"
     ]
    },
    {
     "name": "stdout",
     "output_type": "stream",
     "text": [
      "Epoch [476/500]: Train loss: 0.0004, Test loss: 0.0011\n"
     ]
    },
    {
     "name": "stderr",
     "output_type": "stream",
     "text": [
      "Epoch [477/500]: 100%|███████████████████████████████████████████████| 168/168 [00:01<00:00, 141.41it/s, loss=0.000491]\n"
     ]
    },
    {
     "name": "stdout",
     "output_type": "stream",
     "text": [
      "Epoch [477/500]: Train loss: 0.0004, Test loss: 0.0012\n"
     ]
    },
    {
     "name": "stderr",
     "output_type": "stream",
     "text": [
      "Epoch [478/500]: 100%|███████████████████████████████████████████████| 168/168 [00:01<00:00, 134.15it/s, loss=0.000736]\n"
     ]
    },
    {
     "name": "stdout",
     "output_type": "stream",
     "text": [
      "Epoch [478/500]: Train loss: 0.0003, Test loss: 0.0014\n"
     ]
    },
    {
     "name": "stderr",
     "output_type": "stream",
     "text": [
      "Epoch [479/500]: 100%|███████████████████████████████████████████████| 168/168 [00:01<00:00, 143.80it/s, loss=0.000285]\n"
     ]
    },
    {
     "name": "stdout",
     "output_type": "stream",
     "text": [
      "Epoch [479/500]: Train loss: 0.0004, Test loss: 0.0011\n"
     ]
    },
    {
     "name": "stderr",
     "output_type": "stream",
     "text": [
      "Epoch [480/500]: 100%|███████████████████████████████████████████████| 168/168 [00:01<00:00, 143.16it/s, loss=0.000303]\n"
     ]
    },
    {
     "name": "stdout",
     "output_type": "stream",
     "text": [
      "Epoch [480/500]: Train loss: 0.0003, Test loss: 0.0010\n"
     ]
    },
    {
     "name": "stderr",
     "output_type": "stream",
     "text": [
      "Epoch [481/500]: 100%|███████████████████████████████████████████████| 168/168 [00:01<00:00, 132.86it/s, loss=0.000213]\n"
     ]
    },
    {
     "name": "stdout",
     "output_type": "stream",
     "text": [
      "Epoch [481/500]: Train loss: 0.0003, Test loss: 0.0010\n"
     ]
    },
    {
     "name": "stderr",
     "output_type": "stream",
     "text": [
      "Epoch [482/500]: 100%|███████████████████████████████████████████████| 168/168 [00:01<00:00, 144.29it/s, loss=0.000519]\n"
     ]
    },
    {
     "name": "stdout",
     "output_type": "stream",
     "text": [
      "Epoch [482/500]: Train loss: 0.0004, Test loss: 0.0012\n"
     ]
    },
    {
     "name": "stderr",
     "output_type": "stream",
     "text": [
      "Epoch [483/500]: 100%|███████████████████████████████████████████████| 168/168 [00:01<00:00, 137.44it/s, loss=0.000314]\n"
     ]
    },
    {
     "name": "stdout",
     "output_type": "stream",
     "text": [
      "Epoch [483/500]: Train loss: 0.0004, Test loss: 0.0011\n"
     ]
    },
    {
     "name": "stderr",
     "output_type": "stream",
     "text": [
      "Epoch [484/500]: 100%|████████████████████████████████████████████████| 168/168 [00:01<00:00, 131.48it/s, loss=0.00035]\n"
     ]
    },
    {
     "name": "stdout",
     "output_type": "stream",
     "text": [
      "Epoch [484/500]: Train loss: 0.0003, Test loss: 0.0010\n"
     ]
    },
    {
     "name": "stderr",
     "output_type": "stream",
     "text": [
      "Epoch [485/500]: 100%|███████████████████████████████████████████████| 168/168 [00:01<00:00, 140.49it/s, loss=0.000339]\n"
     ]
    },
    {
     "name": "stdout",
     "output_type": "stream",
     "text": [
      "Epoch [485/500]: Train loss: 0.0003, Test loss: 0.0010\n"
     ]
    },
    {
     "name": "stderr",
     "output_type": "stream",
     "text": [
      "Epoch [486/500]: 100%|███████████████████████████████████████████████| 168/168 [00:01<00:00, 155.38it/s, loss=0.000339]\n"
     ]
    },
    {
     "name": "stdout",
     "output_type": "stream",
     "text": [
      "Epoch [486/500]: Train loss: 0.0003, Test loss: 0.0010\n"
     ]
    },
    {
     "name": "stderr",
     "output_type": "stream",
     "text": [
      "Epoch [487/500]: 100%|█████████████████████████████████████████████████| 168/168 [00:01<00:00, 130.95it/s, loss=0.0003]\n"
     ]
    },
    {
     "name": "stdout",
     "output_type": "stream",
     "text": [
      "Epoch [487/500]: Train loss: 0.0003, Test loss: 0.0010\n"
     ]
    },
    {
     "name": "stderr",
     "output_type": "stream",
     "text": [
      "Epoch [488/500]: 100%|████████████████████████████████████████████████| 168/168 [00:01<00:00, 141.63it/s, loss=0.00024]\n"
     ]
    },
    {
     "name": "stdout",
     "output_type": "stream",
     "text": [
      "Epoch [488/500]: Train loss: 0.0003, Test loss: 0.0011\n"
     ]
    },
    {
     "name": "stderr",
     "output_type": "stream",
     "text": [
      "Epoch [489/500]: 100%|███████████████████████████████████████████████| 168/168 [00:01<00:00, 134.96it/s, loss=0.000203]\n"
     ]
    },
    {
     "name": "stdout",
     "output_type": "stream",
     "text": [
      "Epoch [489/500]: Train loss: 0.0003, Test loss: 0.0010\n"
     ]
    },
    {
     "name": "stderr",
     "output_type": "stream",
     "text": [
      "Epoch [490/500]: 100%|███████████████████████████████████████████████| 168/168 [00:01<00:00, 140.57it/s, loss=0.000328]\n"
     ]
    },
    {
     "name": "stdout",
     "output_type": "stream",
     "text": [
      "Epoch [490/500]: Train loss: 0.0003, Test loss: 0.0010\n"
     ]
    },
    {
     "name": "stderr",
     "output_type": "stream",
     "text": [
      "Epoch [491/500]: 100%|███████████████████████████████████████████████| 168/168 [00:01<00:00, 142.33it/s, loss=0.000255]\n"
     ]
    },
    {
     "name": "stdout",
     "output_type": "stream",
     "text": [
      "Epoch [491/500]: Train loss: 0.0003, Test loss: 0.0010\n"
     ]
    },
    {
     "name": "stderr",
     "output_type": "stream",
     "text": [
      "Epoch [492/500]: 100%|███████████████████████████████████████████████| 168/168 [00:01<00:00, 145.60it/s, loss=0.000459]\n"
     ]
    },
    {
     "name": "stdout",
     "output_type": "stream",
     "text": [
      "Epoch [492/500]: Train loss: 0.0003, Test loss: 0.0011\n"
     ]
    },
    {
     "name": "stderr",
     "output_type": "stream",
     "text": [
      "Epoch [493/500]: 100%|███████████████████████████████████████████████| 168/168 [00:01<00:00, 146.76it/s, loss=0.000366]\n"
     ]
    },
    {
     "name": "stdout",
     "output_type": "stream",
     "text": [
      "Epoch [493/500]: Train loss: 0.0003, Test loss: 0.0011\n"
     ]
    },
    {
     "name": "stderr",
     "output_type": "stream",
     "text": [
      "Epoch [494/500]: 100%|███████████████████████████████████████████████| 168/168 [00:01<00:00, 132.48it/s, loss=0.000836]\n"
     ]
    },
    {
     "name": "stdout",
     "output_type": "stream",
     "text": [
      "Epoch [494/500]: Train loss: 0.0003, Test loss: 0.0011\n"
     ]
    },
    {
     "name": "stderr",
     "output_type": "stream",
     "text": [
      "Epoch [495/500]: 100%|████████████████████████████████████████████████| 168/168 [00:01<00:00, 138.80it/s, loss=0.00057]\n"
     ]
    },
    {
     "name": "stdout",
     "output_type": "stream",
     "text": [
      "Epoch [495/500]: Train loss: 0.0003, Test loss: 0.0011\n"
     ]
    },
    {
     "name": "stderr",
     "output_type": "stream",
     "text": [
      "Epoch [496/500]: 100%|███████████████████████████████████████████████| 168/168 [00:01<00:00, 145.79it/s, loss=0.000426]\n"
     ]
    },
    {
     "name": "stdout",
     "output_type": "stream",
     "text": [
      "Epoch [496/500]: Train loss: 0.0003, Test loss: 0.0011\n"
     ]
    },
    {
     "name": "stderr",
     "output_type": "stream",
     "text": [
      "Epoch [497/500]: 100%|███████████████████████████████████████████████| 168/168 [00:01<00:00, 136.10it/s, loss=0.000173]\n"
     ]
    },
    {
     "name": "stdout",
     "output_type": "stream",
     "text": [
      "Epoch [497/500]: Train loss: 0.0003, Test loss: 0.0010\n",
      "Saving model with loss 0.001...\n"
     ]
    },
    {
     "name": "stderr",
     "output_type": "stream",
     "text": [
      "Epoch [498/500]: 100%|███████████████████████████████████████████████| 168/168 [00:01<00:00, 136.65it/s, loss=0.000342]\n"
     ]
    },
    {
     "name": "stdout",
     "output_type": "stream",
     "text": [
      "Epoch [498/500]: Train loss: 0.0003, Test loss: 0.0010\n"
     ]
    },
    {
     "name": "stderr",
     "output_type": "stream",
     "text": [
      "Epoch [499/500]: 100%|███████████████████████████████████████████████| 168/168 [00:01<00:00, 136.68it/s, loss=0.000372]\n"
     ]
    },
    {
     "name": "stdout",
     "output_type": "stream",
     "text": [
      "Epoch [499/500]: Train loss: 0.0003, Test loss: 0.0011\n"
     ]
    },
    {
     "name": "stderr",
     "output_type": "stream",
     "text": [
      "Epoch [500/500]: 100%|███████████████████████████████████████████████| 168/168 [00:01<00:00, 127.83it/s, loss=0.000218]\n"
     ]
    },
    {
     "name": "stdout",
     "output_type": "stream",
     "text": [
      "Epoch [500/500]: Train loss: 0.0003, Test loss: 0.0010\n"
     ]
    }
   ],
   "source": [
    "model = LSTM_model(input_size, hidden_size, num_layers, output_size).to(device) # put your model and data on the same computation device.\n",
    "trainer(train_loader, valid_loader, model, config, device)"
   ]
  },
  {
   "cell_type": "code",
   "execution_count": 21,
   "id": "225ca92b",
   "metadata": {},
   "outputs": [
    {
     "data": {
      "text/plain": [
       "<All keys matched successfully>"
      ]
     },
     "execution_count": 21,
     "metadata": {},
     "output_type": "execute_result"
    }
   ],
   "source": [
    "model = LSTM_model(input_size, hidden_size, num_layers, output_size).to(device)\n",
    "model.load_state_dict(torch.load(config['save_path']))"
   ]
  },
  {
   "cell_type": "code",
   "execution_count": 22,
   "id": "d919cf3c",
   "metadata": {},
   "outputs": [],
   "source": [
    "valid_dataset =  TripData(valid_data)"
   ]
  },
  {
   "cell_type": "code",
   "execution_count": 23,
   "id": "89492466",
   "metadata": {},
   "outputs": [],
   "source": [
    "y_valid=valid_data[:,-1]"
   ]
  },
  {
   "cell_type": "code",
   "execution_count": 24,
   "id": "cdc9dac7",
   "metadata": {},
   "outputs": [],
   "source": [
    "pred_loader = DataLoader(valid_dataset, batch_size=1, shuffle=False, pin_memory=True)"
   ]
  },
  {
   "cell_type": "code",
   "execution_count": 25,
   "id": "d30fe02c",
   "metadata": {},
   "outputs": [
    {
     "name": "stderr",
     "output_type": "stream",
     "text": [
      "100%|████████████████████████████████████████████████████████████████████████████| 1341/1341 [00:01<00:00, 1137.17it/s]\n"
     ]
    }
   ],
   "source": [
    "preds = predict(pred_loader, model, device)"
   ]
  },
  {
   "cell_type": "code",
   "execution_count": 26,
   "id": "6959d22d",
   "metadata": {},
   "outputs": [
    {
     "data": {
      "text/plain": [
       "array([394.0539  , 134.37866 ,  44.137527, ...,  57.116276,  69.47488 ,\n",
       "       104.61727 ], dtype=float32)"
      ]
     },
     "execution_count": 26,
     "metadata": {},
     "output_type": "execute_result"
    }
   ],
   "source": [
    "preds=scaler.inverse_transform(preds).T[0]\n",
    "preds"
   ]
  },
  {
   "cell_type": "code",
   "execution_count": 27,
   "id": "a967c599",
   "metadata": {},
   "outputs": [
    {
     "data": {
      "text/plain": [
       "array([434., 145.,  16., ...,  51.,  51., 106.])"
      ]
     },
     "execution_count": 27,
     "metadata": {},
     "output_type": "execute_result"
    }
   ],
   "source": [
    "y_valid=scaler.inverse_transform(y_valid).T[0]\n",
    "y_valid"
   ]
  },
  {
   "cell_type": "code",
   "execution_count": 28,
   "id": "ca8310f9",
   "metadata": {},
   "outputs": [
    {
     "data": {
      "image/png": "[encoded data removed]",
      "text/plain": [
       "<Figure size 640x480 with 1 Axes>"
      ]
     },
     "metadata": {},
     "output_type": "display_data"
    }
   ],
   "source": [
    "plt.title(\"LSTM model\")\n",
    "x=[i for i in range(len(y_valid))]\n",
    "plt.plot(x,y_valid,marker=\"x\",markersize=1,label=\"true_y\")\n",
    "plt.plot(x,preds,marker=\"o\",markersize=1,label=\"pred_y\")\n",
    "plt.legend()\n",
    "plt.show()"
   ]
  },
  {
   "cell_type": "code",
   "execution_count": 31,
   "id": "74b52159",
   "metadata": {},
   "outputs": [
    {
     "name": "stdout",
     "output_type": "stream",
     "text": [
      "总误差是55521.17622578144\n"
     ]
    }
   ],
   "source": [
    "loss = 0\n",
    "for i in range(len(y_valid)):\n",
    "    loss += ((preds[i]-y_valid[i])**2)**0.5\n",
    "    \n",
    "print(\"总误差是{}\".format(loss))"
   ]
  }
 ],
 "metadata": {
  "kernelspec": {
   "display_name": "Python 3 (ipykernel)",
   "language": "python",
   "name": "python3"
  },
  "language_info": {
   "codemirror_mode": {
    "name": "ipython",
    "version": 3
   },
   "file_extension": ".py",
   "mimetype": "text/x-python",
   "name": "python",
   "nbconvert_exporter": "python",
   "pygments_lexer": "ipython3",
   "version": "3.10.9"
  }
 },
 "nbformat": 4,
 "nbformat_minor": 5
}
